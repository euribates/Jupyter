{
 "cells": [
  {
   "cell_type": "code",
   "execution_count": 5,
   "metadata": {},
   "outputs": [],
   "source": [
    "with open('data/espanol.txt', 'r', encoding='iso-8859-1') as f:\n",
    "    words = [w.strip() for w in f.readlines() if w.strip()]"
   ]
  },
  {
   "cell_type": "code",
   "execution_count": 6,
   "metadata": {},
   "outputs": [
    {
     "data": {
      "text/plain": [
       "'abacá'"
      ]
     },
     "execution_count": 6,
     "metadata": {},
     "output_type": "execute_result"
    }
   ],
   "source": [
    "words[1]"
   ]
  },
  {
   "cell_type": "code",
   "execution_count": 9,
   "metadata": {},
   "outputs": [
    {
     "name": "stdout",
     "output_type": "stream",
     "text": [
      "['ajena', 'berenjena', 'enajena']\n"
     ]
    }
   ],
   "source": [
    "def rimas(term):\n",
    "    return [w for w in words if w.endswith(term)]\n",
    "\n",
    "print(rimas('jena'))"
   ]
  },
  {
   "cell_type": "code",
   "execution_count": 10,
   "metadata": {},
   "outputs": [
    {
     "name": "stdout",
     "output_type": "stream",
     "text": [
      "['franja', 'granja', 'naranja', 'zanja']\n"
     ]
    }
   ],
   "source": [
    "print(rimas('anja'))"
   ]
  },
  {
   "cell_type": "code",
   "execution_count": 11,
   "metadata": {},
   "outputs": [
    {
     "name": "stdout",
     "output_type": "stream",
     "text": [
      "['abastecedora', 'abrasadora', 'abrazadora', 'abrumadora', 'acabadora', 'acalora', 'acaparadora', 'acariciadora', 'acarreadora', 'aceptadora', 'aclamadodora', 'acogedora', 'acomodadora', 'acreedora', 'actora', 'acumuladora', 'acusadora', 'adaptadora', 'adjudicadora', 'administradora', 'admiradora', 'adoptadora', 'adora', 'adoradora', 'adornadora', 'adquiridora', 'adquisidora', 'aduladora', 'afiladora', 'agarradora', 'agitadora', 'agotadora', 'agresora', 'agricultora', 'ahora', 'ahorradora', 'aisladora', 'ajustadora', 'alabadora', 'alborotadora', 'alentadora', 'alimentadora', 'alisadora', 'aliviadora', 'alquiladora', 'amadora', 'amenazadora', 'ametralladora', 'amparadora', 'ampliadora', 'amplificadora', 'angora', 'animadora', 'anotadora', 'antecesora', 'anunciadora', 'apartadora', 'apicultora', 'apisonadora', 'apostadora', 'aprehensora', 'aprendedora', 'apuradora', 'arrebatadora', 'arrendadora', 'arrolladora', 'aseguradora', 'asesora', 'aspiradora', 'atadora', 'atormentadora', 'aulladora', 'aurora', 'autoculpablizadora', 'autora', 'auxiliadora', 'aviadora', 'bailadora', 'barnizadora', 'batalladora', 'bebedora', 'bienhechora', 'bisectora', 'bobinadora', 'bordadora', 'burladora', 'buscadora', 'calculadora', 'calificadora', 'cambiadora', 'caminadora', 'cantadora', 'cantora', 'castigadora', 'catadora', 'causadora', 'cautivadora', 'cazadora', 'cebadora', 'cegadora', 'celadora', 'cenadora', 'centrifugadora', 'cerradora', 'chilladora', 'cinceladora', 'citadora', 'clasificadora', 'coadjutora', 'colabora', 'colaboradora', 'colonizadora', 'colora', 'comedora', 'compensadora', 'competidora', 'compiladora', 'componedora', 'compositora', 'comprometedora', 'conciliadora', 'condensadora', 'conductora', 'confortadora', 'confutadora', 'congraciadora', 'conmemora', 'conmovedora', 'conocedora', 'conquistadora', 'consentidora', 'conservadora', 'consoladora', 'conspiradora', 'constrictora', 'constructora', 'consultora', 'consumidora', 'contadora', 'contaminadora', 'contenedora', 'contradictora', 'contraventora', 'controladora', 'conversadora', 'convertidora', 'cooperadora', 'copiadora', 'correctora', 'corredora', 'corregidora', 'corrobora', 'corrompedora', 'corruptora', 'cortadora', 'cortejadora', 'cosechadora', 'creadora', 'criadora', 'criticadora', 'cuidadora', 'cultivadora', 'cumplidora', 'cunicultora', 'curadora', 'dadora', 'danzadora', 'decidora', 'decora', 'decoradora', 'defendedora', 'defensora', 'defraudadora', 'demoledora', 'demora', 'demostradora', 'denominadora', 'denostadora', 'deplora', 'depresora', 'desafiadora', 'desalentadora', 'desbastadora', 'descolora', 'descubridora', 'desdeñadora', 'desdora', 'desfalcadora', 'desgarradora', 'deshonradora', 'deshora', 'deslumbradora', 'desmoralizadora', 'desoladora', 'desorientadora', 'despertadora', 'despilfarradora', 'destiladora', 'destructora', 'deteriora', 'deudora', 'devastadora', 'devora', 'diáspora', 'difusora', 'dilapidadora', 'directora', 'discutidora', 'disipadora', 'disparadora', 'dispensadora', 'distribuidora', 'divisora', 'doctora', 'dominadora', 'donadora', 'dora', 'duplicadora', 'economizadora', 'ejecutora', 'elabora', 'electora', 'electromotora', 'elevadora', 'embadurnadora', 'embajadora', 'embalsamadora', 'embriagadora', 'embrutecedora', 'emisora', 'empeora', 'emprendedora', 'enamora', 'encantadora', 'encubridora', 'engañadora', 'engordadora', 'engrasadora', 'enloquecedora', 'enredadora', 'enriquecedora', 'ensordecedora', 'entendedora', 'enternecedora', 'entorpecedora', 'entrenadora', 'entristecedora', 'envasadora', 'envenenadora', 'escaladora', 'escamoteadora', 'escandalizadora', 'escritora', 'escrutadora', 'escultora', 'esgrimidora', 'eslora', 'espectadora', 'especuladora', 'esquiadora', 'estabilizadora', 'estafadora', 'estampadora', 'estremecedora', 'evapora', 'exageradora', 'examinadora', 'excavadora', 'excitadora', 'expedidora', 'expendedora', 'explora', 'exportadora', 'expositora', 'exterminadora', 'extractora', 'falsificadora', 'fascinadora', 'favorecedora', 'fiadora', 'fijadora', 'filtradora', 'fingidora', 'flora', 'floricultora', 'fortalecedora', 'fumadora', 'fundadora', 'ganadora', 'gastadora', 'generadora', 'giradora', 'gobernadora', 'grabadora', 'gritadora', 'gruñidora', 'guardadora', 'guerreadora', 'habladora', 'herbivora', 'hiladora', 'hipnotizadora', 'historiadora', 'hora', 'horticultora', 'hospedadora', 'husmeadora', 'ignora', 'iluminadora', 'imitadora', 'implora', 'importadora', 'impostora', 'impresora', 'imprevisora', 'improvisadora', 'impulsora', 'incitadora', 'incolora', 'incorpora', 'incubadora', 'indecora', 'indicadora', 'indolora', 'inductora', 'infamadora', 'informadora', 'infractora', 'iniciadora', 'innovadora', 'inodora', 'inquisidora', 'insectivora', 'inspectora', 'inspiradora', 'instigadora', 'instructora', 'intercesora', 'interlocutora', 'interruptora', 'interventora', 'introductora', 'invasora', 'inventora', 'inversora', 'investigadora', 'jugadora', 'juzgadora', 'labora', 'labradora', 'ladradora', 'lambedora', 'lavadora', 'legisladora', 'leñadora', 'libertadora', 'libradora', 'licitadora', 'lidiadora', 'limitadora', 'limpiadora', 'liquidadora', 'llamadora', 'llora', 'locomotora', 'locutora', 'luchadora', 'machacadora', 'madrugadora', 'magnificadora', 'maleadora', 'malgastadora', 'malhechora', 'malversadora', 'manifestadora', 'manipuladora', 'marcadora', 'martirizadora', 'matadora', 'mediadora', 'medidora', 'mejora', 'memora', 'merecedora', 'merodeadora', 'metáfora', 'minadora', 'ministradora', 'miradora', 'mitigadora', 'moderadora', 'modificadora', 'moduladora', 'monopolizadora', 'montadora', 'mora', 'moralizadora', 'mortificadora', 'motora', 'multiplicadora', 'murmuradora', 'nadadora', 'narradora', 'navegadora', 'negociadora', 'niveladora', 'normalizadora', 'novadora', 'noveladora', 'numeradora', 'obradora', 'obsequiadora', 'observadora', 'ofensora', 'ofrecedora', 'oledora', 'omnivora', 'operadora', 'opresora', 'ora', 'oradora', 'ordenadora', 'organizadora', 'ostentadora', 'otorgadora', 'otrora', 'pacificadora', 'pagadora', 'paralizadora', 'pasadora', 'pastora', 'patinadora', 'patrocinadora', 'pecadora', 'peinadora', 'peleadora', 'pensadora', 'perceptora', 'perdedora', 'perdonadora', 'perfora', 'perforadora', 'perfumadora', 'perseguidora', 'persuasora', 'pesadora', 'pescadora', 'pildora', 'pintora', 'pisadora', 'piscicultora', 'plantadora', 'plegadora', 'pleiteadora', 'plétora', 'pobladora', 'podadora', 'ponderadora', 'portadora', 'poseedora', 'posesora', 'pólvora', 'preceptora', 'precursora', 'predecesora', 'predicadora', 'preguntadora', 'premiadora', 'prendadora', 'prensadora', 'preparadora', 'presentadora', 'prestadora', 'prestidigitadora', 'prevaricadora', 'previsora', 'priora', 'probadora', 'procreadora', 'procuradora', 'productora', 'profesora', 'profetizadora', 'prometedora', 'promotora', 'promovedora', 'propagadora', 'propulsora', 'protectora', 'proveedora', 'provisora', 'provocadora', 'pujadora', 'pulidora', 'pulsadora', 'pulverizadora', 'purgadora', 'purificadora', 'quebrantadora', 'quemadora', 'radiodifusora', 'raptora', 'rascadora', 'razonadora', 'realizadora', 'receptora', 'recibidora', 'recogedora', 'reconciliadora', 'reconocedora', 'rectificadora', 'rectora', 'redactadora', 'redactora', 'redentora', 'reductora', 'reflectora', 'reformadora', 'reforzadora', 'refrigeradora', 'regidora', 'registradora', 'reguladora', 'reidora', 'relatora', 'remadora', 'rememora', 'remordedora', 'reñidora', 'reparadora', 'repartidora', 'repetidora', 'reprobadora', 'reproductora', 'respetadora', 'resucitadora', 'retadora', 'retardadora', 'reveladora', 'revendedora', 'revisora', 'revocadora', 'robadora', 'roedora', 'rogadora', 'roncadora', 'sabedora', 'saboteadora', 'sacrificadora', 'sacudidora', 'saludadora', 'salvadora', 'sanadora', 'santificadora', 'sazonadora', 'secadora', 'sectadora', 'seductora', 'segadora', 'seguidora', 'seleccionadora', 'sembradora', 'senadora', 'señora', 'serradora', 'servidora', 'simuladora', 'socorredora', 'sonora', 'soñadora', 'sopladora', 'sosegadora', 'sostenedora', 'suavizadora', 'subarrendadora', 'subastadora', 'subdirectora', 'subscriptora', 'sucesora', 'sufridora', 'sujetadora', 'sumadora', 'suministradora', 'superiora', 'supervisora', 'suponedora', 'surtidora', 'tajadora', 'taladradora', 'talladora', 'tanteadora', 'tañedora', 'tardadora', 'tasadora', 'tejedora', 'telecopiadora', 'televisora', 'tembladora', 'templadora', 'temporizadora', 'tensora', 'tentadora', 'testadora', 'timadora', 'tiradora', 'tocadora', 'tomadora', 'torcedora', 'torturadora', 'tostadora', 'trabajadora', 'traductora', 'tragadora', 'traidora', 'tranquilizadora', 'transbordadora', 'transformadora', 'transgresora', 'transmisora', 'transportadora', 'trasnochadora', 'trepadora', 'trilladora', 'triunfadora', 'trotadora', 'turbadora', 'unificadora', 'urdidora', 'usurpadora', 'valedora', 'valora', 'vapora', 'veedora', 'veladora', 'vencedora', 'vengadora', 'ventiladora', 'ventora', 'vibora', 'vigorizadora', 'visitadora', 'vividora', 'vivificadora', 'voceadora', 'voladora', 'volteadora', 'zaheridora', 'zumbadora', 'zurcidora', 'ágora', 'ánfora']\n"
     ]
    }
   ],
   "source": [
    "print(rimas('ora'))"
   ]
  },
  {
   "cell_type": "code",
   "execution_count": null,
   "metadata": {},
   "outputs": [],
   "source": []
  }
 ],
 "metadata": {
  "kernelspec": {
   "display_name": "Python 3",
   "language": "python",
   "name": "python3"
  },
  "language_info": {
   "codemirror_mode": {
    "name": "ipython",
    "version": 3
   },
   "file_extension": ".py",
   "mimetype": "text/x-python",
   "name": "python",
   "nbconvert_exporter": "python",
   "pygments_lexer": "ipython3",
   "version": "3.5.2"
  }
 },
 "nbformat": 4,
 "nbformat_minor": 2
}
