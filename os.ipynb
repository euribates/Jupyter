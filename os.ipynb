{
 "cells": [
  {
   "cell_type": "markdown",
   "metadata": {},
   "source": [
    "## El módulo os: acceso al sistema operativo"
   ]
  },
  {
   "cell_type": "markdown",
   "metadata": {},
   "source": [
    "### El módulo os.path\n",
    "\n",
    "Este submódulo está pensado para realizar operaciones con el sistema de archivos\n",
    "que sean multiplataforma. Por ejemplo, define la variable `os.path.sep` que será el caracter usado a nivel del sistema operativo para separar las rutas o `paths`. Según la plataforma sobre la que estemos ejecutando Python, valdra un caracter yu otro; en windows esrá la barra imnvertida '\\', en linux/unix/mac se usa la barra normañ: `/`.\n",
    "    \n",
    "    "
   ]
  },
  {
   "cell_type": "code",
   "execution_count": 1,
   "metadata": {},
   "outputs": [
    {
     "data": {
      "text/plain": [
       "'/'"
      ]
     },
     "execution_count": 1,
     "metadata": {},
     "output_type": "execute_result"
    }
   ],
   "source": [
    "import os \n",
    "os.path.sep"
   ]
  },
  {
   "cell_type": "markdown",
   "metadata": {},
   "source": [
    "Podemos crear una ruta de directorio a partir de los nombres de las carpetas y el fichero final, usando la función `os.path.join`:"
   ]
  },
  {
   "cell_type": "code",
   "execution_count": 2,
   "metadata": {},
   "outputs": [
    {
     "data": {
      "text/plain": [
       "'one/two/three.txt'"
      ]
     },
     "execution_count": 2,
     "metadata": {},
     "output_type": "execute_result"
    }
   ],
   "source": [
    "os.path.join('one', 'two', 'three.txt')"
   ]
  },
  {
   "cell_type": "markdown",
   "metadata": {},
   "source": [
    "la  función `os.path.split` divide una ruta en dos partes; la segunda es el último comoponente de la ruta, y la primnera es todo lo que viene antes:"
   ]
  },
  {
   "cell_type": "code",
   "execution_count": 3,
   "metadata": {},
   "outputs": [
    {
     "data": {
      "text/plain": [
       "('one/two', 'trhee.txt')"
      ]
     },
     "execution_count": 3,
     "metadata": {},
     "output_type": "execute_result"
    }
   ],
   "source": [
    "os.path.split('one/two/trhee.txt')"
   ]
  },
  {
   "cell_type": "markdown",
   "metadata": {},
   "source": [
    "Si solo nos interesa la segunda parte, podemos usar `os.path.basename`:"
   ]
  },
  {
   "cell_type": "code",
   "execution_count": 4,
   "metadata": {},
   "outputs": [
    {
     "data": {
      "text/plain": [
       "'trhee.txt'"
      ]
     },
     "execution_count": 4,
     "metadata": {},
     "output_type": "execute_result"
    }
   ],
   "source": [
    "os.path.basename('one/two/trhee.txt')"
   ]
  },
  {
   "cell_type": "markdown",
   "metadata": {},
   "source": [
    "Y si solo nos interesa la primera, usamos `os.path.dirname`:\n"
   ]
  },
  {
   "cell_type": "code",
   "execution_count": 5,
   "metadata": {},
   "outputs": [
    {
     "data": {
      "text/plain": [
       "'one/two'"
      ]
     },
     "execution_count": 5,
     "metadata": {},
     "output_type": "execute_result"
    }
   ],
   "source": [
    "os.path.dirname('one/two/trhee.txt')"
   ]
  },
  {
   "cell_type": "markdown",
   "metadata": {},
   "source": [
    "Si lo que nos interesa es la extensión de nombre del archivo, existe `os.path.splitext`:\n",
    "    "
   ]
  },
  {
   "cell_type": "code",
   "execution_count": 6,
   "metadata": {},
   "outputs": [
    {
     "data": {
      "text/plain": [
       "('one/two/trhee', '.txt')"
      ]
     },
     "execution_count": 6,
     "metadata": {},
     "output_type": "execute_result"
    }
   ],
   "source": [
    "os.path.splitext('one/two/trhee.txt')"
   ]
  },
  {
   "cell_type": "markdown",
   "metadata": {},
   "source": [
    "### Marcas temporales y otros datos asociadas a los ficheros\n",
    "\n",
    "La función `os.path.getsize()` nos devuelve el tamaño, en bytes, que ocupa un archivo.\n",
    "\n",
    "Hay funciones que nos permiten saber cuando se creó un \n",
    "archivo (`os.path.getctime`), cuando fue leido por última vez (`os.path.getatime`)\n",
    "y cuando fue modificado por última vez (`os.path.getctime`).\n",
    "\n",
    "Todas estas funciones devuelve este tiempo en un formato conocido como [**Tiempo Unix**, **Unix epoch** o **Tiempo POSIX**](https://es.wikipedia.org/wiki/Tiempo_Unix), que es el número de segundos que han pasado desde la medianoche UTC del 1 de enero de 1970. Podemos pasar de este dato, un tanto incómodo, en un tipo de datos llamado `datetime`, mucho más cómodo:\n",
    "\n",
    "podemos definir una función para realizar esta conversión, que le pasemos un enoch y nos devuelva una cadena de texto más agradable para nosotros:"
   ]
  },
  {
   "cell_type": "code",
   "execution_count": 7,
   "metadata": {},
   "outputs": [],
   "source": [
    "def to_date(f):\n",
    "    dt = datetime.datetime.fromtimestamp(f)\n",
    "    return dt.strftime('%A, %d de %m de %Y, a las %H:%M:%S')"
   ]
  },
  {
   "cell_type": "markdown",
   "metadata": {},
   "source": [
    "Este fichero se llama `os.ipynb`, vamos a obtener toda la información anterior:"
   ]
  },
  {
   "cell_type": "code",
   "execution_count": 8,
   "metadata": {},
   "outputs": [
    {
     "name": "stdout",
     "output_type": "stream",
     "text": [
      "Tamaño (bytes): 151283\n",
      "Creado el: Friday, 13 de 04 de 2018, a las 14:30:34\n",
      "Accedido por última vez el: Friday, 13 de 04 de 2018, a las 14:30:34\n",
      "Modificado por última ve el: Friday, 13 de 04 de 2018, a las 14:30:34\n"
     ]
    }
   ],
   "source": [
    "import os\n",
    "import datetime\n",
    "\n",
    "filename = 'os.ipynb'\n",
    "print('Tamaño (bytes):', os.path.getsize(filename))\n",
    "print('Creado el:', to_date(os.path.getctime(filename)))\n",
    "print('Accedido por última vez el:', to_date(os.path.getatime(filename)))\n",
    "print('Modificado por última ve el:', to_date(os.path.getmtime(filename)))\n"
   ]
  },
  {
   "cell_type": "markdown",
   "metadata": {},
   "source": [
    "También podemos comprobar si un fichero existe (o no) con las llamada\n",
    "`os.path.exists`, y también podemos determinar si una ruta determinada\n",
    "es un archivo o un directorio con `isfile` e `isdir`.\n",
    "\n",
    "La función `os.listdir` nos devuelve una lista de ficheros dentro de un \n",
    "directorio. Podemos especificar ell directorio actual con el caracter `.`. Vamos a hacer un programa que liste los archivos. indicando con una D si son directorios, y ademas pondremos el tamaño en el caso de que sean archivos:"
   ]
  },
  {
   "cell_type": "code",
   "execution_count": 9,
   "metadata": {},
   "outputs": [
    {
     "name": "stdout",
     "output_type": "stream",
     "text": [
      "D  .cache \n",
      "D  .git \n",
      "   .gitignore 178 bytes\n",
      "D  .ipynb_checkpoints \n",
      "   .travis.yml 80 bytes\n",
      "   001_numeros.ipynb 5 Kb\n",
      "   002_variables.ipynb 5 Kb\n",
      "   003_listas.ipynb 10 Kb\n",
      "   004_matplot.ipynb 73 Kb\n",
      "   005_bucles.ipynb 12 Kb\n",
      "   006_strings.ipynb 21 Kb\n",
      "   007_if.ipynb 9 Kb\n",
      "   008_booleans.ipynb 6 Kb\n",
      "   009_while.ipynb 22 Kb\n",
      "   010_ficheros.ipynb 19 Kb\n",
      "   012_matplotlib.ipynb 242 Kb\n",
      "   013_pandas.ipynb 190 Kb\n",
      "   50_mymagic.py 1 Kb\n",
      "   CONTRIBUTING.md 1 Kb\n",
      "   Ejemplos.ipynb 3 Kb\n",
      "   Gruntfile.js 3 Kb\n",
      "   Intro.ipynb 1 Kb\n",
      "   Introduccion-a-jupyter.ipynb 13 Kb\n",
      "   LICENSE 1 Kb\n",
      "   Primeros-pasos.ipynb 23 Kb\n",
      "   README.md 46 Kb\n",
      "   Sorteo.ipynb 3 Kb\n",
      "   Untitled.ipynb 567 bytes\n",
      "   Untitled1.ipynb 2 Kb\n",
      "   Untitled2.ipynb 1 Kb\n",
      "   Voronoi.ipynb 3 Kb\n",
      "D  __pycache__ \n",
      "D  art \n",
      "   beatbox.py 101 bytes\n",
      "   bower.json 523 bytes\n",
      "   cesar.py 985 bytes\n",
      "   coords.py 3 Kb\n",
      "   cortinilla-v.py 1 Kb\n",
      "   count_words.ipynb 1 Kb\n",
      "D  css \n",
      "   custom_magics.md 3 Kb\n",
      "D  data \n",
      "   demo.html 15 Kb\n",
      "   estatutos.py 995 bytes\n",
      "   hide_message.py 593 bytes\n",
      "   hilbert_curve.py 641 bytes\n",
      "   imagenes.ipynb 4955 Kb\n",
      "D  img \n",
      "   index.html 22 Kb\n",
      "D  js \n",
      "   lab_markovify.ipynb 24511 Kb\n",
      "D  lib \n",
      "   lindenmayer.py 1 Kb\n",
      "   listado-general-spanish.txt 774 Kb\n",
      "   listas_y_numeros.ipynb 97 Kb\n",
      "   lyndenmayer.md 2 Kb\n",
      "   make-trans.py 1 Kb\n",
      "   markov.py 1 Kb\n",
      "D  movie \n",
      "   notas.md 446 bytes\n",
      "   os.ipynb 147 Kb\n",
      "   package.json 1 Kb\n",
      "D  plugin \n",
      "   poesia.ipynb 10 Kb\n",
      "   pseudorandom.py 636 bytes\n",
      "   pygments.ipynb 7 Kb\n",
      "   pylab.md 534 bytes\n",
      "   recursos.md 2 Kb\n",
      "   scrapping.ipynb 9 Kb\n",
      "   show_message.py 585 bytes\n",
      "   sistemas-de-lindenmayer.ipynb 40 Kb\n",
      "   t02.md 2 Kb\n",
      "D  test \n",
      "   test_tortuga.py 1 Kb\n",
      "   textos_y_tuplas.ipynb 1 Kb\n",
      "   titanic.csv 10 Kb\n",
      "   tortuga.py 2 Kb\n",
      "   tortuga.pyc 4 Kb\n",
      "   viernes_6_abril_2018.ipynb 2537 Kb\n",
      "   voronoi.py 1 Kb\n"
     ]
    }
   ],
   "source": [
    "for fn in sorted(os.listdir('.')):\n",
    "    if os.path.isdir(fn):\n",
    "        print('D  ', end='')\n",
    "    else:\n",
    "        print('   ', end='')\n",
    "    print(fn, end=' ')\n",
    "    if os.path.isfile(fn):\n",
    "        tam = os.path.getsize(fn)\n",
    "        if tam < 1024:\n",
    "            print(tam, 'bytes', end='')\n",
    "        else:\n",
    "            print(tam//1024, 'Kb', end='')\n",
    "    print()"
   ]
  },
  {
   "cell_type": "markdown",
   "metadata": {},
   "source": [
    "### Recorrer un arbol de directorio con os.path.walk"
   ]
  },
  {
   "cell_type": "markdown",
   "metadata": {},
   "source": [
    "Existe una función en el módulo `os` que nos permite recorrer muy facilmente todo en arbol de directorios. La función se llama `os.walk`, acepta como parámetro \n",
    "de entrada un directorio y funciona devolviendo, por cada carpeta que encuentre, una tupla de tres elementos:\n",
    "\n",
    "1) La ruta de la carpeta\n",
    "\n",
    "2) La lista de las subcapretas que contienen\n",
    "\n",
    "3) La lista de ficheros que contien"
   ]
  },
  {
   "cell_type": "markdown",
   "metadata": {},
   "source": [
    "Por ejemplo, el siguiente listado recorre todas las carpetas buscando ficheros con la extensión '.pdf' y nos informa de cuantos ha encontrado:"
   ]
  },
  {
   "cell_type": "code",
   "execution_count": 10,
   "metadata": {},
   "outputs": [
    {
     "name": "stdout",
     "output_type": "stream",
     "text": [
      "Tienes 5692 fiehcos de tipo PDF en tu disco duro\n"
     ]
    }
   ],
   "source": [
    "count = 0\n",
    "for (dir_name, dirs, filenames) in os.walk('../..'):\n",
    "    for fn in filenames:\n",
    "        if fn.lower().endswith('.pdf'):\n",
    "            count = count + 1\n",
    "print('Tienes {} fiehcos de tipo PDF en tu disco duro'.format(count))"
   ]
  },
  {
   "cell_type": "markdown",
   "metadata": {},
   "source": [
    "## Como usar los diccionarios tipo Counter"
   ]
  },
  {
   "cell_type": "code",
   "execution_count": 11,
   "metadata": {},
   "outputs": [
    {
     "name": "stdout",
     "output_type": "stream",
     "text": [
      "Counter({'u': 2, 'a': 2, 'r': 2, 'i': 2, 'o': 2, 'c': 2, 'M': 2, ' ': 1, 'l': 1, 'n': 1, 'g': 1, 'e': 1})\n"
     ]
    }
   ],
   "source": [
    "from collections import Counter\n",
    "\n",
    "c = Counter('Murcielago Murciano')\n",
    "print(c)"
   ]
  },
  {
   "cell_type": "code",
   "execution_count": 12,
   "metadata": {},
   "outputs": [
    {
     "name": "stdout",
     "output_type": "stream",
     "text": [
      "Counter({'gif': 2, 'pdf': 1, 'jpg': 1, 'txt': 1})\n"
     ]
    }
   ],
   "source": [
    "c = Counter(['pdf', 'gif', 'gif', 'jpg', 'txt'])\n",
    "print(c)"
   ]
  },
  {
   "cell_type": "code",
   "execution_count": 13,
   "metadata": {},
   "outputs": [
    {
     "name": "stdout",
     "output_type": "stream",
     "text": [
      "Counter({'pdf': 4, 'gif': 2, 'jpg': 1, 'txt': 1})\n"
     ]
    }
   ],
   "source": [
    "c.update(['pdf', 'pdf', 'pdf'])\n",
    "print(c)"
   ]
  },
  {
   "cell_type": "code",
   "execution_count": 14,
   "metadata": {},
   "outputs": [],
   "source": [
    "## Buscar tipos de archivos por extension"
   ]
  },
  {
   "cell_type": "code",
   "execution_count": 15,
   "metadata": {},
   "outputs": [
    {
     "name": "stdout",
     "output_type": "stream",
     "text": [
      "dict_items([('', 1655), ('.mk', 42), ('.status', 2), ('.font', 1), ('.debugsymbols', 1), ('.desktop', 3), ('.tscn~', 1), ('.aidl', 3), ('.cl', 26), ('.py', 1956), ('.sublime-workspace', 1), ('.scn', 14), ('.gif', 759), ('.flv', 5), ('.psp', 5), ('.phaseroots', 11), ('.sln', 3), ('.blend1', 1), ('.out', 4), ('.whl', 18), ('.pc', 1), ('.po', 176), ('.dat', 2), ('.ini', 13), ('.lib', 5), ('.lis', 1), ('.xcscheme', 1), ('.zip', 37), ('.bib', 1), ('.hx', 1), ('.php', 2), ('.a', 19), ('.vs', 7), ('.rst', 696), ('.h', 2420), ('.internal', 27), ('.pyc', 1300), ('.doc', 13), ('.jpg', 5248), ('.odt', 2), ('.js', 369), ('.cc', 7), ('.xcf', 48), ('.fncache', 3), ('.dae', 4), ('.readme', 1), ('.bmp', 16), ('.jar', 1), ('.graffle', 1), ('.sublime-project', 1), ('.wsgi', 3), ('.cmake', 94), ('.sfd', 1), ('.xls', 1), ('.swf', 16), ('.mp3', 37), ('.csv', 18), ('.dox', 14), ('.material', 18), ('.strings', 1), ('.hdr', 5), ('.pbxproj', 1), ('.icns', 2), ('.mar', 1), ('.sqlite', 1), ('.idx', 32), ('.bin', 6), ('.tpl', 1), ('.properties', 2), ('.htc', 1), ('.7z', 2), ('.d', 155), ('.s', 26), ('.check_cache', 2), ('.txt', 968), ('.pem', 10), ('.java', 62), ('.mtxt', 1), ('.sub', 2), ('.love', 1), ('.entitlements', 1), ('.sh', 37), ('.m', 7), ('.edbkup', 4), ('.xml', 556), ('.conf', 1), ('.wav', 26), ('.lua', 1), ('.rtf', 2), ('.in', 16), ('.5', 3), ('.email', 3), ('.woff2', 6), ('.toc', 1), ('.nsi', 1), ('.rb', 19), ('.wxg', 17), ('.guess', 2), ('.template', 2), ('.make', 110), ('.6', 1), ('.cin', 1), ('.iml', 1), ('.bak', 1), ('.pickle', 1), ('.bookmarks', 7), ('.cache', 1), ('.marks', 6), ('.map', 10), ('.blend', 1), ('.so', 1), ('.inc', 6), ('.md', 1314), ('.hin', 1), ('.cda', 3), ('.seg', 6), ('.db', 4), ('.bat', 3), ('.lock', 3), ('.pck', 1), ('.import', 289), ('.docx', 8), ('.userprefs', 1), ('.pack', 33), ('.doctree', 651), ('.branch', 7), ('.asm', 31), ('.csproj', 2), ('.tex', 33), ('.hpp', 18), ('.ui', 7), ('.cs', 36), ('.crt', 1), ('.res', 3), ('.yml', 16), ('.yaml', 1), ('.mul', 1), ('.otf', 31), ('.pl', 3), ('.i', 4343), ('.backupfiles', 7), ('.godot', 50), ('.html', 1079), ('.gemspec', 3), ('.pdf', 386), ('.m4', 2), ('.inv', 1), ('.tgz', 1), ('.cube', 1), ('.cbp', 1), ('.odp', 3), ('.eot', 14), ('.fnt', 1), ('.filters', 1), ('.num', 1), ('.psd', 6), ('.sla', 2), ('.tiff', 9), ('.mdown', 7), ('.translation', 3), ('.dirstate', 10), ('.cpp', 1089), ('.woff', 20), ('.tscn', 101), ('.vcxproj', 1), ('.tmpl', 2), ('.c', 1751), ('.xcworkspacedata', 1), ('.stex', 22), ('.dot', 4), ('.rc', 3), ('.cmd', 5), ('.jpeg', 17), ('.sketch', 1), ('.dyn_hi', 12), ('.fish', 1), ('.tres', 25), ('.o', 1608), ('.eps', 7), ('.oggstr', 1), ('.sql', 67), ('.ico', 12), ('.ipynb', 198), ('.cxx', 2), ('.1', 6), ('.less', 15), ('.dyn_o', 12), ('.urls', 1), ('.kdbx', 1), ('.hs', 2), ('.htm', 1), ('.glsl', 26), ('.pm', 1), ('.css', 431), ('.log', 10), ('.xpm', 2), ('.sqlite3', 2), ('.dblite', 1), ('.includecache', 27), ('.png', 4348), ('.sample', 298), ('.gd', 103), ('.ditaa', 1), ('.64', 1), ('.gz', 3), ('.mesh', 1), ('.inl', 7), ('.desc', 7), ('.backup', 1), ('.rdef', 1), ('.xs', 1), ('.version', 1), ('.pot', 1), ('.ogg', 4), ('.anm', 9), ('.ac', 3), ('.ttf', 65), ('.am', 6), ('.hi', 22), ('.exe', 10), ('.swp', 4), ('.cfg', 12), ('.plist', 5), ('.patch', 6), ('.0', 4), ('.libvpx', 2), ('.tplx', 12), ('.vim', 1), ('.svg', 914), ('.scss', 32), ('.tif', 30), ('.csh', 1), ('.mm', 11), ('.json', 561)])\n"
     ]
    }
   ],
   "source": [
    "from collections import Counter\n",
    "\n",
    "def get_ext(fn):\n",
    "    _, ext = os.path.splitext(fn)\n",
    "    return ext.lower()\n",
    "\n",
    "count = Counter()\n",
    "for (dir_name, dirs, filenames) in os.walk('..'):\n",
    "    count.update([get_ext(f) for f in filenames])\n",
    "print(count.items())"
   ]
  },
  {
   "cell_type": "code",
   "execution_count": 37,
   "metadata": {},
   "outputs": [
    {
     "data": {
      "text/plain": [
       "<Container object of 30 artists>"
      ]
     },
     "execution_count": 37,
     "metadata": {},
     "output_type": "execute_result"
    },
    {
     "data": {
      "image/png": "[encoded data removed]",
      "text/plain": [
       "<matplotlib.figure.Figure at 0x7f81f63e6208>"
      ]
     },
     "metadata": {},
     "output_type": "display_data"
    }
   ],
   "source": [
    "%matplotlib inline\n",
    "import matplotlib.pyplot as plt\n",
    "\n",
    "data = {k: count[k] for k in count if count[k] > 100}\n",
    "plt.figure(figsize=(15, 12))\n",
    "plt.barh(list(data.keys()), list(data.values()))"
   ]
  }
 ],
 "metadata": {
  "kernelspec": {
   "display_name": "Python 3",
   "language": "python",
   "name": "python3"
  },
  "language_info": {
   "codemirror_mode": {
    "name": "ipython",
    "version": 3
   },
   "file_extension": ".py",
   "mimetype": "text/x-python",
   "name": "python",
   "nbconvert_exporter": "python",
   "pygments_lexer": "ipython3",
   "version": "3.5.2"
  }
 },
 "nbformat": 4,
 "nbformat_minor": 2
}
