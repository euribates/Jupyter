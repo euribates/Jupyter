{
 "cells": [
  {
   "cell_type": "code",
   "execution_count": 10,
   "metadata": {},
   "outputs": [],
   "source": [
    "import pygame\n",
    "import random\n",
    "import math\n",
    "\n",
    "SIZE = WIDTH, HEIGHT = 800, 640\n",
    "\n",
    "# Colores\n",
    "BLACK = (0, 0, 0)\n",
    "WHITE = (255, 255, 255)\n",
    "RED = (255, 0, 0)\n",
    "GREEN = (0, 255, 0)\n",
    "BLUE = (0, 0, 255)\n",
    "CYAN = (0, 255, 255)\n",
    "MAGENTA = (255, 0, 255)\n",
    "YELLOW = (255, 255, 0)\n",
    "\n",
    "FPS = 18\n",
    "\n",
    "def random_color():\n",
    "    r = random.randrange(255)\n",
    "    g = random.randrange(255)\n",
    "    b = random.randrange(255)\n",
    "    return (r, g, b)\n",
    "\n",
    "def limp_color(c1, c2, f):\n",
    "    r = c1[0] + ((c2[0] - c1[0]) * f / 100)\n",
    "    g = c1[1] + ((c2[1] - c1[1]) * f / 100)\n",
    "    b = c1[2] + ((c2[2] - c1[2]) * f / 100)\n",
    "    return (r, g, b)\n",
    "\n",
    "pygame.init()\n",
    "try:\n",
    "    pygame.display.set_caption(\"Colors\")\n",
    "    screen = pygame.display.set_mode(SIZE, 0, 24)\n",
    "    reloj = pygame.time.Clock()\n",
    "    in_game = True  # Indicador lógico para saber cuando debemos terminar el juego\n",
    "    count = 0\n",
    "    while in_game:\n",
    "        # Obtener datos de entrada\n",
    "        for event in pygame.event.get():\n",
    "            if event.type == pygame.QUIT:\n",
    "                in_game = False\n",
    "        \n",
    "        # Representamos el nuevo estado\n",
    "        if count == 0:\n",
    "            color = random_color()\n",
    "            target = random_color()\n",
    "        elif count == 100:\n",
    "            color = target\n",
    "            target = random_color()\n",
    "            count = 0\n",
    "        else:\n",
    "            color = limp_color(color, target, count)\n",
    "        count += 1\n",
    "        screen.fill(color)\n",
    "        pygame.display.update()\n",
    "        reloj.tick(FPS)\n",
    "finally:\n",
    "    pygame.quit()"
   ]
  },
  {
   "cell_type": "code",
   "execution_count": null,
   "metadata": {},
   "outputs": [],
   "source": []
  }
 ],
 "metadata": {
  "kernelspec": {
   "display_name": "Python 3",
   "language": "python",
   "name": "python3"
  },
  "language_info": {
   "codemirror_mode": {
    "name": "ipython",
    "version": 3
   },
   "file_extension": ".py",
   "mimetype": "text/x-python",
   "name": "python",
   "nbconvert_exporter": "python",
   "pygments_lexer": "ipython3",
   "version": "3.6.5"
  }
 },
 "nbformat": 4,
 "nbformat_minor": 2
}
