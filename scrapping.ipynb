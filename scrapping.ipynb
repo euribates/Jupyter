{
 "cells": [
  {
   "cell_type": "markdown",
   "metadata": {},
   "source": [
    "## Obteniendo fotos de una página web\n",
    "\n",
    "### Vamos a trabajar a partir de un ejemplo:\n",
    "\n",
    "La url de la página que vamos a examinar es: <http://www.oldpicsarchive.com/giant-computers-of-the-past-photos/>"
   ]
  },
  {
   "cell_type": "markdown",
   "metadata": {},
   "source": [
    "Si vemos la página, vemos que cada una de las fotos tiene una url, por ejemplo, la primera\n",
    "es <http://www.oldpicsarchive.com/wp-content/uploads/2016/09/1.png>, \n",
    "la segunda es <http://www.oldpicsarchive.com/wp-content/uploads/2016/09/2.png>, ... etc\n",
    "La  última es <http://www.oldpicsarchive.com/wp-content/uploads/2016/09/10.jpg>.\n",
    "\n",
    "http://www.oldpicsarchive.com/wp-content/uploads/2016/09/2.png"
   ]
  },
  {
   "cell_type": "markdown",
   "metadata": {},
   "source": [
    "### Vamos a generar cada una de esas direcciones"
   ]
  },
  {
   "cell_type": "code",
   "execution_count": 1,
   "metadata": {},
   "outputs": [
    {
     "name": "stdout",
     "output_type": "stream",
     "text": [
      "http://www.oldpicsarchive.com/wp-content/uploads/2016/09/1.jpg\n",
      "http://www.oldpicsarchive.com/wp-content/uploads/2016/09/2.jpg\n",
      "http://www.oldpicsarchive.com/wp-content/uploads/2016/09/3.jpg\n",
      "http://www.oldpicsarchive.com/wp-content/uploads/2016/09/4.jpg\n",
      "http://www.oldpicsarchive.com/wp-content/uploads/2016/09/5.jpg\n",
      "http://www.oldpicsarchive.com/wp-content/uploads/2016/09/6.jpg\n",
      "http://www.oldpicsarchive.com/wp-content/uploads/2016/09/7.jpg\n",
      "http://www.oldpicsarchive.com/wp-content/uploads/2016/09/8.jpg\n",
      "http://www.oldpicsarchive.com/wp-content/uploads/2016/09/9.jpg\n",
      "http://www.oldpicsarchive.com/wp-content/uploads/2016/09/10.jpg\n"
     ]
    }
   ],
   "source": [
    "for i in range(1, 11):\n",
    "    print('http://www.oldpicsarchive.com/wp-content/uploads/2016/09/{}.jpg'.format(i))"
   ]
  },
  {
   "cell_type": "markdown",
   "metadata": {},
   "source": [
    "Ahora, dada una url, ¿como podemos descargar dicha imagen a nuestro ordenador? En python una opción muy buena es el módulo [requests](http://docs.python-requests.org/en/master/). \n",
    "\n",
    "Podemos comprobar si requests está instalado simplemente intentado importar el módulo:"
   ]
  },
  {
   "cell_type": "code",
   "execution_count": 2,
   "metadata": {},
   "outputs": [],
   "source": [
    "import requests"
   ]
  },
  {
   "cell_type": "markdown",
   "metadata": {},
   "source": [
    "Si la línea anterior no da problemas, es que está instalado. Si mo, podemos instalarlo rápidamente desde la línea de comandos con **pip**:"
   ]
  },
  {
   "cell_type": "code",
   "execution_count": 3,
   "metadata": {},
   "outputs": [
    {
     "name": "stdout",
     "output_type": "stream",
     "text": [
      "Requirement already satisfied: requests in /usr/local/lib/python3.5/dist-packages\r\n",
      "Requirement already satisfied: idna<2.7,>=2.5 in /usr/local/lib/python3.5/dist-packages (from requests)\r\n",
      "Requirement already satisfied: chardet<3.1.0,>=3.0.2 in /usr/local/lib/python3.5/dist-packages (from requests)\r\n",
      "Requirement already satisfied: certifi>=2017.4.17 in /home/jileon/.local/lib/python3.5/site-packages (from requests)\r\n",
      "Requirement already satisfied: urllib3<1.23,>=1.21.1 in /usr/local/lib/python3.5/dist-packages (from requests)\r\n"
     ]
    }
   ],
   "source": [
    "!pip install requests"
   ]
  },
  {
   "cell_type": "markdown",
   "metadata": {},
   "source": [
    "el módulo requests nos proporciona la forma de leer ficheros de internet como si fueran simples archivos normales. Para leer una página web, por ejemplo, podemos usar la funcion `get`. Está función des devuelve un objeto de tipo respuesta. este objeto se puede usar para muchas cosas, como por ejemplo ver el codigo del resultado de la petición, la codificación usada, si es texto, el tipo de respuesta, etc... El resultado de la petición está en el atributo `text` si estamos solicitando un archivo de texto o en el atributo `content` si estamos pidiendo un fichero binario (imágenes, películes, etc):\n",
    "\n",
    "El siguiente ejemplo muestra los primeros 512 caracteres de la página <http://www.oldpicsarchive.com/giant-computers-of-the-past-photos/>:"
   ]
  },
  {
   "cell_type": "code",
   "execution_count": 4,
   "metadata": {},
   "outputs": [
    {
     "name": "stdout",
     "output_type": "stream",
     "text": [
      "<!DOCTYPE html>\r\n",
      "<html class=\"no-js\" lang=\"en\">\r\n",
      "<head>\r\n",
      "\t<meta charset=\"UTF-8\">\r\n",
      "\t<!-- Always force latest IE rendering engine (even in intranet) & Chrome Frame -->\r\n",
      "\t<!--[if IE ]>\r\n",
      "\t<meta http-equiv=\"X-UA-Compatible\" content=\"IE=edge,chrome=1\">\r\n",
      "\t<![endif]-->\r\n",
      "\t<link rel=\"profile\" href=\"http://gmpg.org/xfn/11\" />\r\n",
      "\t<title>Giant Computers of the Past (11 photos) | Old Pics Archive</title>\r\n",
      "\t<!--iOS/android/handheld specific -->\n",
      "<link rel=\"apple-touch-icon\" href=\"http://www.oldpicsarchive.com/wp-content/the\n"
     ]
    }
   ],
   "source": [
    "import requests\n",
    "\n",
    "url = 'http://www.oldpicsarchive.com/giant-computers-of-the-past-photos/'\n",
    "resp = requests.get(url)\n",
    "print(resp.text[0:512])"
   ]
  },
  {
   "cell_type": "markdown",
   "metadata": {},
   "source": [
    "Para guardar un recurso de Interent en nuestro disco duro, lo que hacemos es obtener el contenido del mismo apartir de su dirección o URL, abrir un fichero en modo escritura y almacenar en él el contenido: Por ejemplo, para la primera imagen, cuya url era `http://www.oldpicsarchive.com/wp-content/uploads/2016/09/1.jpg`, seria:\n"
   ]
  },
  {
   "cell_type": "code",
   "execution_count": 5,
   "metadata": {},
   "outputs": [
    {
     "data": {
      "text/plain": [
       "'http://www.oldpicsarchive.com/giant-computers-of-the-past-photos/'"
      ]
     },
     "execution_count": 5,
     "metadata": {},
     "output_type": "execute_result"
    }
   ],
   "source": [
    "url"
   ]
  },
  {
   "cell_type": "code",
   "execution_count": 6,
   "metadata": {},
   "outputs": [],
   "source": [
    "url = 'http://www.oldpicsarchive.com/wp-content/uploads/2016/09/2.png'\n",
    "resp = requests.get(url)\n",
    "with open('ejemplo.png', 'wb') as f:\n",
    "    f.write(resp.content)\n",
    "    "
   ]
  },
  {
   "cell_type": "markdown",
   "metadata": {},
   "source": [
    "![imagen descargada de Internet](./ejemplo.png)"
   ]
  },
  {
   "cell_type": "code",
   "execution_count": 7,
   "metadata": {},
   "outputs": [
    {
     "name": "stdout",
     "output_type": "stream",
     "text": [
      "-rw-rw-r-- 1 jileon jileon 322468 mar 16 14:54 ejemplo.png\r\n"
     ]
    }
   ],
   "source": [
    "!ls -la ejemplo.png"
   ]
  },
  {
   "cell_type": "markdown",
   "metadata": {},
   "source": [
    "## Ejercicio: Hagamos un pequeño script que descargue las 10 imagenes de la página \n",
    "\n",
    "Recordemos que la url de la página original era http://www.oldpicsarchive.com/giant-computers-of-the-past-photos/\n",
    "\n",
    "Podemos usar un bucle for para generar todas las urls de las imágenes, usando el método `format` de las cadenas de texto:"
   ]
  },
  {
   "cell_type": "code",
   "execution_count": 8,
   "metadata": {},
   "outputs": [
    {
     "name": "stdout",
     "output_type": "stream",
     "text": [
      "http://www.oldpicsarchive.com/wp-content/uploads/2016/09/1.png\n",
      "http://www.oldpicsarchive.com/wp-content/uploads/2016/09/2.png\n",
      "http://www.oldpicsarchive.com/wp-content/uploads/2016/09/3.png\n",
      "http://www.oldpicsarchive.com/wp-content/uploads/2016/09/4.png\n",
      "http://www.oldpicsarchive.com/wp-content/uploads/2016/09/5.png\n",
      "http://www.oldpicsarchive.com/wp-content/uploads/2016/09/6.png\n",
      "http://www.oldpicsarchive.com/wp-content/uploads/2016/09/7.png\n",
      "http://www.oldpicsarchive.com/wp-content/uploads/2016/09/8.png\n",
      "http://www.oldpicsarchive.com/wp-content/uploads/2016/09/9.png\n",
      "http://www.oldpicsarchive.com/wp-content/uploads/2016/09/10.png\n"
     ]
    }
   ],
   "source": [
    "patron = 'http://www.oldpicsarchive.com/wp-content/uploads/2016/09/{}.png'\n",
    "for i in range(1, 11):  # Recordemos que range omite el ultimo valor, ira de 1 a 10\n",
    "    url = patron.format(i)\n",
    "    print(url)"
   ]
  },
  {
   "cell_type": "markdown",
   "metadata": {},
   "source": [
    "Añadimos el código para guardar las imagenes. Necesitamos un nombre distinto\n",
    "para cada imagen. ¿De dónde podemos sacar una variable para que todas las\n",
    "imágenes se almacenen en archivos diferentes?\n"
   ]
  },
  {
   "cell_type": "code",
   "execution_count": 9,
   "metadata": {},
   "outputs": [],
   "source": [
    "patron = 'http://www.oldpicsarchive.com/wp-content/uploads/2016/09/{}.png'\n",
    "for i in range(1, 11):  # Recordemos que range omite el ultimo valor, ira de 1 a 10\n",
    "    url = patron.format(i)\n",
    "    resp = requests.get(url)\n",
    "    local_name = 'ejemplo_{}.png'.format(i)\n",
    "    with open(local_name, 'wb') as f:\n",
    "        f.write(resp.content)"
   ]
  },
  {
   "cell_type": "markdown",
   "metadata": {},
   "source": [
    "![ejemplo 3](./ejemplo_3.png)"
   ]
  },
  {
   "cell_type": "code",
   "execution_count": null,
   "metadata": {},
   "outputs": [],
   "source": []
  }
 ],
 "metadata": {
  "kernelspec": {
   "display_name": "Python 3",
   "language": "python",
   "name": "python3"
  },
  "language_info": {
   "codemirror_mode": {
    "name": "ipython",
    "version": 3
   },
   "file_extension": ".py",
   "mimetype": "text/x-python",
   "name": "python",
   "nbconvert_exporter": "python",
   "pygments_lexer": "ipython3",
   "version": "3.5.2"
  }
 },
 "nbformat": 4,
 "nbformat_minor": 2
}
