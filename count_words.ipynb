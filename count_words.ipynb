{
 "cells": [
  {
   "cell_type": "code",
   "execution_count": 2,
   "metadata": {},
   "outputs": [],
   "source": [
    "## Trabajando con ficheros\n"
   ]
  },
  {
   "cell_type": "markdown",
   "metadata": {},
   "source": [
    "Vamos a buscar cual es la palabra más usada en el preambulo del quijota, cuyo texto está en el fichero \n",
    "\n"
   ]
  },
  {
   "cell_type": "code",
   "execution_count": 6,
   "metadata": {},
   "outputs": [
    {
     "name": "stdout",
     "output_type": "stream",
     "text": [
      "['desocupado', 'lector:', 'sin', 'juramento', 'me', 'podrás', 'creer', 'que', 'quisiera', 'que', 'este', 'libro,', 'como', 'hijo', 'del', 'entendimiento,', 'fuera', 'el', 'más', 'hermoso,', 'el', 'más']\n"
     ]
    }
   ],
   "source": [
    "all_words = []\n",
    "with open('data/prologo.md', 'r') as f:\n",
    "    for line in f:\n",
    "        words = [w.lower() for w in line.split()]\n",
    "        if words:\n",
    "            all_words.extend(words)\n",
    "        \n",
    "print(all_words[0:22])"
   ]
  },
  {
   "cell_type": "code",
   "execution_count": null,
   "metadata": {},
   "outputs": [],
   "source": [
    "stop_words = '''\n",
    "el la los las por de del que se y que\n",
    "a ante bajo con contra de desde en entre hacia hasta para por segun\n",
    "sin sobre tras durante mediante\n",
    "'''.split()\n"
   ]
  }
 ],
 "metadata": {
  "kernelspec": {
   "display_name": "Python 3",
   "language": "python",
   "name": "python3"
  },
  "language_info": {
   "codemirror_mode": {
    "name": "ipython",
    "version": 3
   },
   "file_extension": ".py",
   "mimetype": "text/x-python",
   "name": "python",
   "nbconvert_exporter": "python",
   "pygments_lexer": "ipython3",
   "version": "3.5.2"
  }
 },
 "nbformat": 4,
 "nbformat_minor": 2
}
