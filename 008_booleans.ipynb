{
 "cells": [
  {
   "cell_type": "markdown",
   "metadata": {},
   "source": [
    "## Valores booleanos o lógicos\n",
    "\n",
    "Python tiene un tipo de dato especial para almacenar aquellos datos que solo puede ser verdaderos o falsos. Estos tips de datos se llaman lóficos o booleanos por el matemático y lógico [George Bool](https://es.wikipedia.org/wiki/George_Boole), que creó una rama entera de las matemáticas, el [algebra de bool](https://es.wikipedia.org/wiki/%C3%81lgebra_de_Boole).\n",
    "\n",
    "Las variables booleanas solo pueden tener dos valores: verdadero o falso, representadas en Python con las palabras reservadas `True` y `False`. Como en cualquier algebra, hay una serie de operaciones, que trabajan con boolenos y cuyo rsultado es otro valor booleano. eastas operaciones son el And Lógico (`and`), el Or lógico  (`or`) y el inverso o negacion lógica (`not`).\n",
    "\n",
    "Además de eso, las operaciones de comparacion producen resultados lógicos que se podría esperar, por ejemplo, la expresión `2 > 45` al evaluarse produce un resultado que, es este caso, sera falso.\n",
    "\n",
    "En las expresions de control de flujo como `if` o `while` utilizamos sin definirlos demasiado estos valores lógicos. Los veremos ahora con algo más de profundidad."
   ]
  },
  {
   "cell_type": "markdown",
   "metadata": {},
   "source": [
    "### Comparaciones\n",
    "\n",
    "Todas las operaciones de comparación producen como resultado un valor booleano. Las operaciones de camparación son las  mismas que se definen en matematicas, pero por limitaciones técnicas, a veces el símbolo no es el mismo, opor ejemplo, para la comparacion \"Es menor o igual que\", cuyo símbolo es ≤, usamos la combinación de símbolos `<=`. También hay que hacer notar que el operador para comprobaar si dos valores son iguales es `==`, es decir, dos veces el simbolo igual (Esto es así porque el ya usamos el símbolo `=` para la asignación de valores a variables)\n",
    "\n",
    "| operador | Significado |\n",
    "|----------|-------------|\n",
    "| ==       | `True` si ambos valores son iguales |\n",
    "| <=       | `True` si el operando izquierdo es menor o igual (≤) que el derecho |\n",
    "| <        | `True` si el operando izquierdo es estríctamente menor (<) que el derecho |\n",
    "| >=       | `True` si el operando izquierdo es mayor o igual (⩾) que el derecho |\n",
    "| <        | `True` si el operando izquierdo es estríctamente mayor (<) que el derecho |\n",
    "| !=       | `True` si ambos valores son diferentes (≠) |\n",
    "\n",
    "Estas operaciones funcionan sobre todos los tipos de datos, no sólo los numéricos. Por ejemplo, podemos comparar dos\n",
    "cadenas de texto igual que lo hariamos con números:"
   ]
  },
  {
   "cell_type": "code",
   "execution_count": 1,
   "metadata": {},
   "outputs": [
    {
     "name": "stdout",
     "output_type": "stream",
     "text": [
      "True\n"
     ]
    }
   ],
   "source": [
    "s = 'hola'\n",
    "print(s == 'hola')"
   ]
  },
  {
   "cell_type": "markdown",
   "metadata": {},
   "source": [
    "### Operadores lógicos\n",
    "\n",
    "Los operadores lógicos nos permiten evaluar condiciones más complejas. Los operadores `and`, `or` nos permiten realizar las operaciones _y lógico_ y _o lógico_, cuyos resultados se muestran en la siguiente tabla (Abreviamos `true` y `False` como T y F respectivamente):\n",
    "\n",
    "| a | b | a and b | a or b |\n",
    "|---|---|---------|--------|\n",
    "| F | F |    F    |   F    |\n",
    "| F | T |    F    |   T    |\n",
    "| T | F |    F    |   T    |\n",
    "| T | T |    T    |   T    |"
   ]
  },
  {
   "cell_type": "markdown",
   "metadata": {},
   "source": [
    "El resultado de la operación **xor** o _o exclusivo_ se puede obtener, si ambos valores son booleanos, con el operador !=\n",
    "\n",
    "| a | b | a != b |\n",
    "|---|---|--------|\n",
    "| F | F |    T   |\n",
    "| F | T |    F   |\n",
    "| T | F |    F   |\n",
    "| T | T |    T   |"
   ]
  },
  {
   "cell_type": "markdown",
   "metadata": {},
   "source": [
    "Por último, el operador lógico `not` espera un único valor, que es invertido; si es verdadero pasa a ser falso y si es falso pasa a ser verdadero:"
   ]
  },
  {
   "cell_type": "code",
   "execution_count": 4,
   "metadata": {},
   "outputs": [
    {
     "name": "stdout",
     "output_type": "stream",
     "text": [
      "3 no es igual a cuatro\n"
     ]
    }
   ],
   "source": [
    "if not 3 == 4:\n",
    "    print('3 no es igual a cuatro')"
   ]
  },
  {
   "cell_type": "markdown",
   "metadata": {},
   "source": [
    "**Ejercicio:** Tenemos la siguiente lista de notas:\n",
    "        \n",
    "    notas = [3, 4.5, 7, 6.2, 8.4, 3.2, 0.5, 5, 5.5, 6.5, 9, 10, 8, 7.3]\n",
    "    \n",
    "Y queremos imprimirla,pero queremos que si la nota es inferior a 5, en vez de la nota se imprima la frase 'No apto'.\n",
    "\n",
    "Pista: tendremos que usar un bucle `for` para recorrer la lista, y _dentro del bucle_ usaremos un `if`."
   ]
  },
  {
   "cell_type": "code",
   "execution_count": 6,
   "metadata": {},
   "outputs": [],
   "source": [
    "notas = [3, 4.5, 7, 6.2, 8.4, 3.2, 0.5, 5, 5.5, 6.5, 9, 10, 8, 7.3]\n",
    "..."
   ]
  },
  {
   "cell_type": "code",
   "execution_count": null,
   "metadata": {},
   "outputs": [],
   "source": []
  }
 ],
 "metadata": {
  "kernelspec": {
   "display_name": "Python 3",
   "language": "python",
   "name": "python3"
  },
  "language_info": {
   "codemirror_mode": {
    "name": "ipython",
    "version": 3
   },
   "file_extension": ".py",
   "mimetype": "text/x-python",
   "name": "python",
   "nbconvert_exporter": "python",
   "pygments_lexer": "ipython3",
   "version": "3.5.2"
  }
 },
 "nbformat": 4,
 "nbformat_minor": 2
}
