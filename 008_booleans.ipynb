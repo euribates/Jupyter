{
 "cells": [
  {
   "cell_type": "markdown",
   "metadata": {},
   "source": [
    "## Valores booleanos o lógicos\n",
    "\n",
    "Python tiene un tipo de dato especial para almacenar aquellos datos que solo puede ser verdaderos o falsos. Estos tips de datos se llaman lóficos o booleanos por el matemático y lógico [George Bool](https://es.wikipedia.org/wiki/George_Boole), que creó una rama entera de las matemáticas, el [algebra de bool](https://es.wikipedia.org/wiki/%C3%81lgebra_de_Boole).\n",
    "\n",
    "Las variables booleanas solo pueden tener dos valores: verdadero o falso, representadas en Python con las palabras reservadas `True` y `False`. Como en cualquier algebra, hay una serie de operaciones, que trabajan con boolenos y cuyo rsultado es otro valor booleano. eastas operaciones son el And Lógico (`and`), el Or lógico  (`or`) y el inverso o negacion lógica (`not`).\n",
    "\n",
    "Además de eso, las operaciones de comparacion producen resultados lógicos que se podría esperar, por ejemplo, la expresión `2 > 45` al evaluarse produce un resultado que, es este caso, sera falso.\n",
    "\n",
    "En las expresions de control de flujo como `if` o `while` utilizamos sin definirlos demasiado estos valores lógicos. "
   ]
  }
 ],
 "metadata": {
  "kernelspec": {
   "display_name": "Python 3",
   "language": "python",
   "name": "python3"
  },
  "language_info": {
   "codemirror_mode": {
    "name": "ipython",
    "version": 3
   },
   "file_extension": ".py",
   "mimetype": "text/x-python",
   "name": "python",
   "nbconvert_exporter": "python",
   "pygments_lexer": "ipython3",
   "version": "3.5.2"
  }
 },
 "nbformat": 4,
 "nbformat_minor": 2
}
