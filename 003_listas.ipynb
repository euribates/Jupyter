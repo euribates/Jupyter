{
 "cells": [
  {
   "cell_type": "markdown",
   "metadata": {},
   "source": [
    "## Listas"
   ]
  },
  {
   "cell_type": "markdown",
   "metadata": {},
   "source": [
    "## Estructuras de datos\n",
    "\n",
    "Hemos visto por ahora un solo tipo de datos, los números. Hay más tipos de datos que veremos más adelante, pero Python, como todos los lenguajes, tiene también formas de organizar o agrupar varios datos en una estructura mayor, son las llamadas **estructuras de datos**. \n",
    "\n",
    "Una de las más simples en Python son las **listas**. Una lista de números es simplemente una secuencia de datos (en nestro caso, números), donde se almacena un valor distinto en cada posicion, siendo la primera posición el 0. "
   ]
  },
  {
   "cell_type": "markdown",
   "metadata": {},
   "source": [
    "## Creación de listas (por enumeración)\n",
    "\n",
    "¿Cómo creamos una lista? Una forma es por enumeración, la sintaxis es: abrimos corchetes (`[`), a continuacion escribimos cada valor en el orden que deseamos, seprandolosp or comas, y acabmos la lista con otro corchete (`]`):"
   ]
  },
  {
   "cell_type": "code",
   "execution_count": 11,
   "metadata": {},
   "outputs": [
    {
     "data": {
      "text/plain": [
       "[32, 44, 59, 62]"
      ]
     },
     "execution_count": 11,
     "metadata": {},
     "output_type": "execute_result"
    }
   ],
   "source": [
    "l = [32, 44, 59, 62]\n",
    "l"
   ]
  },
  {
   "cell_type": "markdown",
   "metadata": {},
   "source": [
    "## Creación de listas (por comprensión)\n",
    "\n",
    "Otra forma de crear una lista es a partir de los valores de otra. Python tiene una sintaxis muy cómoda para esto llamada **comprensión de listas** que nos permite obtener una lista a partir de los valores, filtrados y/o modificaodos de otra. La sintaxis general es como sigue:\n",
    "\n",
    "  [ _expresion_ **for** _variable_ **in** _lista-original_ ]\n",
    "    \n",
    "o\n",
    "\n",
    "  [ _expresion_ **for** _variable_ in _lista-original_ **if** _condicion_ ]\n",
    "\n",
    "Veámoslo con un ejemplo. Supongamos que tenemos una lista con los diez primeros números naturales:"
   ]
  },
  {
   "cell_type": "code",
   "execution_count": 30,
   "metadata": {},
   "outputs": [],
   "source": [
    "naturales = [1, 2, 3, 4, 5, 6, 7, 8, 9, 10]"
   ]
  },
  {
   "cell_type": "markdown",
   "metadata": {},
   "source": [
    "Si quisieramos obtener una lista con los cuadrados de los numeros naturáles, podemos hacer:"
   ]
  },
  {
   "cell_type": "code",
   "execution_count": 32,
   "metadata": {},
   "outputs": [
    {
     "data": {
      "text/plain": [
       "[1, 4, 9, 16, 25, 36, 49, 64, 81, 100]"
      ]
     },
     "execution_count": 32,
     "metadata": {},
     "output_type": "execute_result"
    }
   ],
   "source": [
    "cuadrados = [x**2 for x in naturales]\n",
    "cuadrados"
   ]
  },
  {
   "cell_type": "markdown",
   "metadata": {},
   "source": [
    "Por otro lado, si quisieramos obtener una lista solo con los numeros pares (es decir, aquellos cuyo resto de dividir por 2 sea cero), podriamos hacerlo de la siguiente manera:"
   ]
  },
  {
   "cell_type": "code",
   "execution_count": 36,
   "metadata": {},
   "outputs": [
    {
     "data": {
      "text/plain": [
       "[2, 4, 6, 8, 10]"
      ]
     },
     "execution_count": 36,
     "metadata": {},
     "output_type": "execute_result"
    }
   ],
   "source": [
    "pares = [x for x in naturales if x % 2 == 0]\n",
    "pares"
   ]
  },
  {
   "cell_type": "markdown",
   "metadata": {},
   "source": [
    "**Ejercicio:** Obtener la lista de los cuadrados de los numeros pares del 1 al 10"
   ]
  },
  {
   "cell_type": "code",
   "execution_count": 39,
   "metadata": {},
   "outputs": [
    {
     "data": {
      "text/plain": [
       "Ellipsis"
      ]
     },
     "execution_count": 39,
     "metadata": {},
     "output_type": "execute_result"
    }
   ],
   "source": [
    "pares_cuadrados = ...\n",
    "pares_cuadrados"
   ]
  },
  {
   "cell_type": "markdown",
   "metadata": {},
   "source": [
    "## Uso de las listas\n",
    "\n",
    "Hay muchas cosas más que se pueden hacer con las listas, como por ejemplo añádir nuevos valores, ordenar, etc... Iremos viendo más posibilidades más adelante"
   ]
  },
  {
   "cell_type": "markdown",
   "metadata": {},
   "source": [
    "Lo bueno de las listas es que podemos tratar varios datos como una sola variable. En el ejemplo que veiamos antes, con el nombre de `l` podemos acceder a cuatro datos. Podemos acceder al primer valor de la lista mediante la posición o el **índice** cero, para ello usamos el nombre de la variable, abrimos corchete, el índice o posicion del dato y cerramos corchetes:"
   ]
  },
  {
   "cell_type": "code",
   "execution_count": 3,
   "metadata": {},
   "outputs": [
    {
     "data": {
      "text/plain": [
       "32"
      ]
     },
     "execution_count": 3,
     "metadata": {},
     "output_type": "execute_result"
    }
   ],
   "source": [
    "l = [32, 44, 59, 62]\n",
    "l[0]"
   ]
  },
  {
   "cell_type": "markdown",
   "metadata": {},
   "source": [
    "**Ejercicio:** ¿Cuál es el valor del segundo elemento? ¿Y del último?"
   ]
  },
  {
   "cell_type": "code",
   "execution_count": null,
   "metadata": {},
   "outputs": [],
   "source": []
  },
  {
   "cell_type": "markdown",
   "metadata": {},
   "source": [
    "## Índices\n",
    "\n",
    "En las listas, así como en otras secuencias que veremos más adelante, su usan\n",
    "índices para indicar las posiciones, no el orden natural, de forma que el elemento en \n",
    "la primera posición no es el uno, sino el cero. Para entender esto, es bueno pensar que el índice **no** indica la posición, sino **el número de elementos que estan antes del que estamos considerando**. Según está definición, se ve claro porqué el primero elemento es el cero: no hay ninguno antes que él.\n",
    "\n",
    "Otra forma de considerarlo es pensar que los índices no apuntan a los elementos de la secuencia en si, sino a los espacios que hay entre ellos. El siguiente diagrama intenta mostrar esto:\n",
    "\n",
    "![Slides](art/slices.svg)"
   ]
  },
  {
   "cell_type": "markdown",
   "metadata": {},
   "source": [
    "### Índices negativos\n",
    "\n",
    "Podemos usar índices negativos, en ese caso, empezamos a contar por el final de la lista y contamos hacia atras. Así que el último valor de la lista l tambien se puede obtener con `l[-1]`."
   ]
  },
  {
   "cell_type": "code",
   "execution_count": 16,
   "metadata": {},
   "outputs": [
    {
     "data": {
      "text/plain": [
       "62"
      ]
     },
     "execution_count": 16,
     "metadata": {},
     "output_type": "execute_result"
    }
   ],
   "source": [
    "l[-1]"
   ]
  },
  {
   "cell_type": "markdown",
   "metadata": {},
   "source": [
    "El penúltimo con `l[-2]`, al entepenúltimo con `l[-3] etc..."
   ]
  },
  {
   "cell_type": "code",
   "execution_count": 22,
   "metadata": {},
   "outputs": [
    {
     "data": {
      "text/plain": [
       "59"
      ]
     },
     "execution_count": 22,
     "metadata": {},
     "output_type": "execute_result"
    }
   ],
   "source": [
    "l[-2]"
   ]
  },
  {
   "cell_type": "markdown",
   "metadata": {},
   "source": [
    "### Operaciones de slicing o rebanado sobre listas\n",
    "\n",
    "También podemos usar una sintaxis particular, conocidad como **slicing** o **rebanado** para obtener una sublista, usando la sintaxis:\n",
    "    \n",
    "    [<primer indice>:<segundo índice>]\n",
    "    \n",
    "Es decir, podemos obtener a partir de la lista `l` anterior una sublista que contiene sólo el segundo y tercer elemento (recordemos que los índices empiezan por cero):"
   ]
  },
  {
   "cell_type": "code",
   "execution_count": 23,
   "metadata": {},
   "outputs": [
    {
     "data": {
      "text/plain": [
       "[44, 59]"
      ]
     },
     "execution_count": 23,
     "metadata": {},
     "output_type": "execute_result"
    }
   ],
   "source": [
    "l[1:3]"
   ]
  },
  {
   "cell_type": "markdown",
   "metadata": {},
   "source": [
    "Con las rodajas tambien podemos usar números negativos. Además, si no ponemos uno de los índices, estos toman unos valores por omisión que son lógicos: si omitimos el primer índice, se considera _desde el principio_, si se omite el segundo, se entiende como _hasta el final_. Se entiende mejor con estos ejemplos:"
   ]
  },
  {
   "cell_type": "code",
   "execution_count": 24,
   "metadata": {},
   "outputs": [
    {
     "data": {
      "text/plain": [
       "[32, 44, 59]"
      ]
     },
     "execution_count": 24,
     "metadata": {},
     "output_type": "execute_result"
    }
   ],
   "source": [
    "l[:3]  # Desde el principio hasta el tercer elemento"
   ]
  },
  {
   "cell_type": "code",
   "execution_count": 20,
   "metadata": {},
   "outputs": [
    {
     "data": {
      "text/plain": [
       "[62]"
      ]
     },
     "execution_count": 20,
     "metadata": {},
     "output_type": "execute_result"
    }
   ],
   "source": [
    "l[3:]  # Desde el tercer elemento hasta el final"
   ]
  },
  {
   "cell_type": "markdown",
   "metadata": {},
   "source": [
    "### Operaciones con listas\n",
    "\n",
    "Podemos saber cuantos elementos hay en una lista usando la función `len`"
   ]
  },
  {
   "cell_type": "code",
   "execution_count": 6,
   "metadata": {},
   "outputs": [
    {
     "data": {
      "text/plain": [
       "4"
      ]
     },
     "execution_count": 6,
     "metadata": {},
     "output_type": "execute_result"
    }
   ],
   "source": [
    "l = [32, 44, 59, 62]\n",
    "len(l)"
   ]
  },
  {
   "cell_type": "markdown",
   "metadata": {},
   "source": [
    "Podemos añadir elementos a una lista con el método `append`, que los añade al final, o con el método `insert`, que los añade con el índice adecuado (todos los elementos que vienen despues ven incrementado su índice, lógicamente)."
   ]
  },
  {
   "cell_type": "code",
   "execution_count": 7,
   "metadata": {},
   "outputs": [
    {
     "name": "stdout",
     "output_type": "stream",
     "text": [
      "[32, 44, 59, 62, 834]\n"
     ]
    }
   ],
   "source": [
    "l = [32, 44, 59, 62]\n",
    "l.append(834)\n",
    "print(l)"
   ]
  },
  {
   "cell_type": "code",
   "execution_count": 9,
   "metadata": {},
   "outputs": [
    {
     "name": "stdout",
     "output_type": "stream",
     "text": [
      "[12, 32, 44, 59, 62]\n"
     ]
    }
   ],
   "source": [
    "l = [32, 44, 59, 62]\n",
    "l.insert(0, 12)\n",
    "print(l)"
   ]
  },
  {
   "cell_type": "code",
   "execution_count": null,
   "metadata": {},
   "outputs": [],
   "source": []
  }
 ],
 "metadata": {
  "kernelspec": {
   "display_name": "Python 3",
   "language": "python",
   "name": "python3"
  },
  "language_info": {
   "codemirror_mode": {
    "name": "ipython",
    "version": 3
   },
   "file_extension": ".py",
   "mimetype": "text/x-python",
   "name": "python",
   "nbconvert_exporter": "python",
   "pygments_lexer": "ipython3",
   "version": "3.5.2"
  }
 },
 "nbformat": 4,
 "nbformat_minor": 2
}
