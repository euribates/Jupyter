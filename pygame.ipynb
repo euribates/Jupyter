{
 "cells": [
  {
   "cell_type": "markdown",
   "metadata": {
    "slideshow": {
     "slide_type": "slide"
    }
   },
   "source": [
    "## Introducción a PyGame"
   ]
  },
  {
   "cell_type": "markdown",
   "metadata": {
    "slideshow": {
     "slide_type": "slide"
    }
   },
   "source": [
    "PyGame es una interfaz Python a una librería escrita en C llamada [SDL](https://www.libsdl.org/), de _Simple DirectMedia Layer_ \n",
    "\n",
    "![SDL Logo](art/SDL_logo.png)\n",
    "\n",
    "SDL está escrito en C, pero puede ser accedido desde varios lenguajes, entre ellos Python, con PyGame, entroe otros _bindings_."
   ]
  },
  {
   "cell_type": "markdown",
   "metadata": {},
   "source": [
    "Lo primero que necesitamos es importar la librería pygame:"
   ]
  },
  {
   "cell_type": "code",
   "execution_count": 12,
   "metadata": {
    "slideshow": {
     "slide_type": "slide"
    }
   },
   "outputs": [
    {
     "name": "stdout",
     "output_type": "stream",
     "text": [
      "Versión de PyGame: 1.9.3\n",
      "Versión de SDL: (1, 2, 15)\n"
     ]
    }
   ],
   "source": [
    "import pygame\n",
    "print('Versión de PyGame:', pygame.ver)\n",
    "print('Versión de SDL:', pygame.get_sdl_version())"
   ]
  },
  {
   "cell_type": "markdown",
   "metadata": {},
   "source": [
    "Lo primero que hay que hacer siempre con PyGame es inicializar todas las librerías internas que usa. es muy fácil, solo hay que llamar a `pygame.init`:"
   ]
  },
  {
   "cell_type": "code",
   "execution_count": 13,
   "metadata": {},
   "outputs": [
    {
     "data": {
      "text/plain": [
       "(6, 0)"
      ]
     },
     "execution_count": 13,
     "metadata": {},
     "output_type": "execute_result"
    }
   ],
   "source": [
    "pygame.init()"
   ]
  },
  {
   "cell_type": "markdown",
   "metadata": {},
   "source": [
    "La librería PyGame se suddivide a su vez un varios módulos, cada uno de ellos \n",
    "especializado en los diferentes aspectos de un videojuego. Por ejemplo `pygame.joystick` que se ocupa de todas las cosas relacionadas con _joysticks_ y similares. Algunos de los submódulos en los que se organiza pygame son los siguientes:\n",
    "\n",
    "\n",
    "- `pygame` En este nivel se define funciones comunes o de uso habitual\n",
    "\n",
    "- `pygame.cdrom` Acceso y control de los dispositivos de CD/DVD\n",
    "\n",
    "- `pygame.cursors` Imágenes de cursores\n",
    "\n",
    "- `pygame.display` Acceso a la pantalla\n",
    "\n",
    "- `pygame.draw` Dibujar lineas, formas y puntos\n",
    "\n",
    "- `pygame.event` Gestión de eventos\n",
    "\n",
    "- `pygame.font` Tipografías\n",
    "\n",
    "- `pygame.image` Cargar y/o salvar imágenes\n",
    "\n",
    "- `pygame.joystick` Gestiona _joystick_ y dispositivos similares, como _trackballs_\n",
    "\n",
    "- `pygame.key` Leer el teclado\n",
    "\n",
    "- `pygame.mixer` Cargar y reproducir sonidos o música\n",
    "\n",
    "- `pygame.mouse` Gestionar el ratón\n",
    "\n",
    "- `pygame.movie` Reproducir peliculas\n",
    "\n",
    "- `pygame.music` Trabajar con música y audio en vivo\n",
    "\n",
    "- `pygame.rect` Geestionar áreas rectangulares\n",
    "\n",
    "- `pygame.sprite` Imágenes con movimiento\n",
    "\n",
    "- `pygame.surface` Gestiona superficies (como la pantalla)\n",
    "\n",
    "- `pygame.time` Gestión de tiempo y de _frames per second_\n",
    "\n",
    "- `pygame.transform` Cambiar el tamaño y orientación de imágenes"
   ]
  },
  {
   "cell_type": "markdown",
   "metadata": {},
   "source": [
    "El siguiente paso es crear una ventana (o superficie, _surface_, en terminología pygame) en la que pueda representarse nuestro juego. Para ello, debemos indicarle:\n",
    "\n",
    "1.- Las dimensiones, es decir, el ancho y el alto, en _pixels_\n",
    "\n",
    "2.- _Flags_ o indicadores para usar en la creación de la pantalla. Por ahora no nos\n",
    "  preocuparemos de eso y dejaremos el valor por defecto, $0$.\n",
    "  \n",
    "3.- La profundidad de color\n",
    "\n",
    "La profundidad podria ser alguno de los siguentes valores:\n",
    "\n",
    "- 8 bits: tonos de gris o 256 colores, seleccionados de una paleta preconfigurada\n",
    "- 15 bits: 32,768 colores, con un bit de trasparencia\n",
    "- 16 bits: 65,536 colores\n",
    "- 24 bits: 16.7 millones de colores\n",
    "- 32 bits 16.7 millones de colores, con 8 bits de trasnparencia\n",
    "\n",
    "Normalmente usaremos una profundida de 32 bits, que nos dará tres canales de color RGB y un canal adicional _alpha_ para transparencia. Para crear la ventana haremos:"
   ]
  },
  {
   "cell_type": "code",
   "execution_count": 76,
   "metadata": {},
   "outputs": [],
   "source": [
    "screen = pygame.display.set_mode((640, 480), 0, 32)"
   ]
  },
  {
   "cell_type": "markdown",
   "metadata": {},
   "source": [
    "Podemos cambiar el título de la ventana con `pygame.display.set_caption`."
   ]
  },
  {
   "cell_type": "code",
   "execution_count": 77,
   "metadata": {},
   "outputs": [],
   "source": [
    "pygame.display.set_caption('Primera pantall de pygame')"
   ]
  },
  {
   "cell_type": "markdown",
   "metadata": {},
   "source": [
    "La ventana no responde a los intentos de cerrarla, hay que forzar el cierre usando `pygame.quit()`"
   ]
  },
  {
   "cell_type": "code",
   "execution_count": 78,
   "metadata": {},
   "outputs": [],
   "source": [
    "pygame.quit()"
   ]
  },
  {
   "cell_type": "markdown",
   "metadata": {},
   "source": [
    "### Nuestro primer programa"
   ]
  },
  {
   "cell_type": "markdown",
   "metadata": {},
   "source": [
    "Vamos a cargar simplemente una imagen, mostrarla en la ventana del juego, esperar **5** segundos y cerrar la ventana. Para cargar las imágenes necesitamos la función `load` en el módulo `pygame.image`."
   ]
  },
  {
   "cell_type": "markdown",
   "metadata": {},
   "source": [
    "Para esperar 5 segundos, podemos usar la líbrería estándar de Python, `time`, y su método `sleep`, que acepta como parámetro el número de segundos durante los cuales no hace nada, tras lo cual el control vuelve a nuestro programa."
   ]
  },
  {
   "cell_type": "code",
   "execution_count": 79,
   "metadata": {},
   "outputs": [],
   "source": [
    "import time\n",
    "\n",
    "image_filename = 'superman-logo.png'\n",
    "\n",
    "pygame.init()\n",
    "screen = pygame.display.set_mode((640, 480), 0, 32)\n",
    "pygame.display.set_caption(\"Hola, Mundo!\")\n",
    "\n",
    "img = pygame.image.load(image_filename).convert_alpha()\n",
    "screen.blit(img, (320, 240))\n",
    "pygame.display.update()\n",
    "time.sleep(5)\n",
    "pygame.quit()"
   ]
  },
  {
   "cell_type": "markdown",
   "metadata": {},
   "source": [
    "Varias cosas a tener en cuenta:\n",
    "    \n",
    "**La llamada a `convert_alpha`**: Nada más cargar la imagen, llamamos a una función `convert_alpha`. Esta función y su prima, `convert`, lo que hacen es convertir la imagen cargada al mismo formato que la pantalla del juego. De esta forma, la copia de la imagen a la pantalla es más rápida. Si no, tendriamos que hacer esa conversión cada vez. La llamada a `convert_alpha` respeta el canal alpha de la imagen, si la tuviera. Si sabemos que la imagen no tiene transparencia, (La imagen de fondo o _background_, por ejemplo), usariamos `convert`. El resultado, que se almacena en la variable `img`, es una `surface` del mismo tipo que la pantalla.\n",
    "\n",
    "**Ejercicio**: Cambiar el código anterior para usar `convert`, em vez de `convert_alpha`, a ver si se nota alguna diferencia."
   ]
  },
  {
   "cell_type": "markdown",
   "metadata": {},
   "source": [
    "**La llamada a `screen.blit`**: Lo que hace este método es copiar la _surface_ que se le pasa como primer parámetro, sobre la superficie que llama a `blit` (En este caso, la pantalla), en la posición x e y indicada por el segundo parámetro, una tupla. Esta posición indica donde se pondrá la esquina superior izquierda da la imagen. Por eso el logo no aparece centrado, a pesar de que indicamos el centro de la pantalla.\n",
    "\n",
    "**Ejercicio**: Sabiendo que el método `get_size` nos devuelve el tamaño en pixels de una\n",
    "superficie, modificar el programa siguiente para que el escudo aparezca centrado:\n",
    "    "
   ]
  },
  {
   "cell_type": "code",
   "execution_count": 81,
   "metadata": {},
   "outputs": [],
   "source": [
    "import time\n",
    "\n",
    "image_filename = 'superman-logo.png'\n",
    "\n",
    "pygame.init()\n",
    "screen = pygame.display.set_mode((640, 480), 0, 24)\n",
    "pygame.display.set_caption(\"Hola, Mundo!\")\n",
    "\n",
    "img = pygame.image.load(image_filename).convert_alpha()\n",
    "width, height = img.get_size()\n",
    "screen.blit(img, (320, 240))  # Esta es la línea a modificar\n",
    "pygame.display.update()\n",
    "time.sleep(5)\n",
    "pygame.quit()"
   ]
  },
  {
   "cell_type": "markdown",
   "metadata": {},
   "source": [
    "**Solución**"
   ]
  },
  {
   "cell_type": "code",
   "execution_count": 4,
   "metadata": {},
   "outputs": [],
   "source": [
    "import pygame\n",
    "import time\n",
    "\n",
    "image_filename = 'superman-logo.png'\n",
    "\n",
    "pygame.init()\n",
    "screen = pygame.display.set_mode((640, 480), 0, 24)\n",
    "pygame.display.set_caption(\"Hola, Mundo!\")\n",
    "\n",
    "img = pygame.image.load(image_filename).convert_alpha()\n",
    "width, height = img.get_size()\n",
    "screen.blit(img, (320 - width//2, 240 - height//2))  # Esta es la línea modificada\n",
    "pygame.display.update()\n",
    "time.sleep(5)\n",
    "pygame.quit()"
   ]
  },
  {
   "cell_type": "markdown",
   "metadata": {},
   "source": [
    "**La llamada a pygame.display.update:** PyGAme usa, como casi todas las librerías de juegos, una técnica llamada de [doble buffer o _double buffering_](https://es.wikipedia.org/wiki/Buffer_m%C3%BAltiple). \n",
    "\n",
    "Usando esta tecnica, las modificaciones que se hacen a la pantalla, no se aplican de forma inmediata, sino que se aplican en un buffer, algo así como una pantalla virtual, o fantasma. De esa forma se puede realizar varias transpformaciones a la imagen sin que estas aparezcan en la pantalla final. Solo cuando estemos satizsfechos con todas las transformaciones realizadas se llama a la función `update` para que actualiza la pantalla al contenido de la pantalla cirtual. \n",
    "\n",
    "De esta forma no se representan en pantalla resultados imcompletos, que podrían ser confusos para el jugador.\n"
   ]
  },
  {
   "cell_type": "markdown",
   "metadata": {},
   "source": [
    "### Campo de estrellas"
   ]
  },
  {
   "cell_type": "markdown",
   "metadata": {},
   "source": [
    "Vamos a realizar un pequeño programa que simule un campo de estrellas. Partiremos del siguiente código, que solo pinta una estrella en la posicion 50, 50:"
   ]
  },
  {
   "cell_type": "code",
   "execution_count": 5,
   "metadata": {},
   "outputs": [],
   "source": [
    "pygame.init()\n",
    "pygame.display.set_caption(\"Campo de estrellas\")\n",
    "screen = pygame.display.set_mode((640, 480), 0, 24)\n",
    "\n",
    "WHITE = (255, 255, 255)\n",
    "                \n",
    "pygame.draw.circle(screen, WHITE, (50, 50), 2)  \n",
    "pygame.display.update()\n",
    "time.sleep(5)    \n",
    "pygame.quit()"
   ]
  },
  {
   "cell_type": "markdown",
   "metadata": {},
   "source": [
    "Llamamos a la función `pygame.draw.circle` para pintar la estrella. Esta función tiene como primer parámetro la superficie donde queremos pintar, y tiene un segundo parámetro, el color; en nuestro caso se ha definido antes con la variable `WHITE`. Estos dos parámetros son los mismos en todas las llamadas a las funciones de dibujo, el resto de los parámetros variará en función de la llamada realizada. Por ejemplo, para `circle`, el tercer parámetro son las coordenadas, el cuarto es el radio."
   ]
  },
  {
   "cell_type": "markdown",
   "metadata": {},
   "source": [
    "**Ejercicio:** Modificar el siguiente programa para que muestre 50 estrellas, en posiciones al azar dentro de la pantalla, en vez de una\n",
    "sola en la posición $50,50$. Recordar que el módulo `random` tiene una funcion `random.randrange`, que funciona de forma parecida a `range`, pero en vez de devolvernos el rango de numeros, devuelve un valor al azar dentro de dicho \n",
    "rango. `random.randrange(100)`, por ejemplo, devuelve un número entre 0 y 99. `random.randrange(1, 11)` devuelve un número entero al azar entre $1$ y $10$."
   ]
  },
  {
   "cell_type": "code",
   "execution_count": 83,
   "metadata": {},
   "outputs": [],
   "source": [
    "import pygame\n",
    "import time\n",
    "import random# Vamos a necesitar números aleatorios\n",
    "\n",
    "pygame.init()\n",
    "pygame.display.set_caption(\"Campo de estrellas 2\")\n",
    "screen = pygame.display.set_mode((640, 480), 0, 24)\n",
    "\n",
    "WHITE = (255, 255, 255)\n",
    "                \n",
    "pygame.draw.circle(screen, WHITE, (50, 50), 2)  \n",
    "pygame.display.update()\n",
    "time.sleep(5)    \n",
    "pygame.quit()"
   ]
  },
  {
   "cell_type": "markdown",
   "metadata": {},
   "source": [
    "**Solución**"
   ]
  },
  {
   "cell_type": "code",
   "execution_count": 6,
   "metadata": {},
   "outputs": [],
   "source": [
    "import pygame\n",
    "import time\n",
    "import random# Vamos a necesitar números aleatorios\n",
    "\n",
    "pygame.init()\n",
    "pygame.display.set_caption(\"Campo de estrellas 2\")\n",
    "screen = pygame.display.set_mode((640, 480), 0, 24)\n",
    "\n",
    "WHITE = (255, 255, 255)\n",
    "                \n",
    "for _ in range(50):  # El nombre _ suele indicar que no me interesa su valor, solo que se repita 50 veces\n",
    "    x = random.randrange(640)\n",
    "    y = random.randrange(480)\n",
    "    pygame.draw.circle(screen, WHITE, (x, y), 2)  \n",
    "pygame.display.update()\n",
    "time.sleep(5)    \n",
    "pygame.quit()"
   ]
  },
  {
   "cell_type": "markdown",
   "metadata": {},
   "source": [
    "**Problema:** Modificar el programa anterior para que varíe el color de la estrella (Puedes usar `randrange` para calcular \n",
    "los valores de rojo, verde y azul al azar y obtenter\n",
    "así un color aleatorio), el radio, es decir, el tamaño de la estrella, o las dos cosas."
   ]
  },
  {
   "cell_type": "markdown",
   "metadata": {},
   "source": [
    "**Solución**"
   ]
  },
  {
   "cell_type": "code",
   "execution_count": 11,
   "metadata": {},
   "outputs": [],
   "source": [
    "import pygame\n",
    "import time\n",
    "import random# Vamos a necesitar números aleatorios\n",
    "\n",
    "pygame.init()\n",
    "pygame.display.set_caption(\"Campo de estrellas 2\")\n",
    "screen = pygame.display.set_mode((640, 480), 0, 24)\n",
    "\n",
    "def random_color():\n",
    "    rojo = random.randrange(255)  # Componente roja\n",
    "    verde = random.randrange(255)  # Componente verde\n",
    "    azul = random.randrange(255)  # Componente azul\n",
    "    return (rojo, verde, azul)\n",
    "    \n",
    "def random_size():\n",
    "    return random.randrange(1, 5)\n",
    "        \n",
    "for _ in range(50):  # El nombre _ suele indicar que no me interesa su valor, solo que se repita 50 veces\n",
    "    x = random.randrange(640)\n",
    "    y = random.randrange(480)\n",
    "    color = random_color()\n",
    "    r = random_size()\n",
    "    pygame.draw.circle(screen, color, (x, y), r)  \n",
    "pygame.display.update()\n",
    "time.sleep(5)    \n",
    "pygame.quit()"
   ]
  },
  {
   "cell_type": "markdown",
   "metadata": {},
   "source": [
    "### El movimiento"
   ]
  },
  {
   "cell_type": "markdown",
   "metadata": {},
   "source": [
    "El movimiento en los videojuegos, igual que en las películas o en la televisión, se consigue en realidad mediante la emisión de diferentes imagenes estáticas, a altas velocidades, de forma que el ojo humano no es capaz de distinguir las diferentes imágenes y lo que percibe, por el contrario, es un movimiento o transformación. \n",
    "\n",
    "En el cine se usan normalmente 24 imágenes por cada segundo, en la televisión 25 y en los juegos normalmente se alcanzan aún más imágenes por segundo, normalmente de 60 o 70 imágenes por segundo e incluso superiores. Cuantas más imágenes por segundo, más fluida en la percepción del movimiento, aunque los experimentos han demostrado que por encima de 60 o 70 imágenes por segundo el ser humano no es capaz ya de apreciar la diferencia. El número de fotos o imagenes que se proyectan cada segundo recibe el nombre de [**FPS**](https://es.wikipedia.org/wiki/Fotogramas_por_segundo), del inglés _Frames per second_."
   ]
  },
  {
   "cell_type": "markdown",
   "metadata": {},
   "source": [
    "![Primeras imágenes del galope](art/Muybridge_race_horse_animated.gif)"
   ]
  },
  {
   "cell_type": "markdown",
   "metadata": {},
   "source": [
    "![Los fotograma](art/Muybridge_race_horse_gallop.jpg)"
   ]
  },
  {
   "cell_type": "markdown",
   "metadata": {},
   "source": [
    "Vamos a hacer que las estrellas se muevan. Para eso vamos a partir del ejemplo con una sola estrella. Lo que tenemos que hacer es cambiar la posición en la que pintamos la estrella cada 1/25 segundo. En vez de esperar 5 segundos, vamos a pintar la estrella, esperamos 1/25 de segundo y la pintamos un poco más a la derecha.\n",
    "\n",
    "Como queremos que la animación dure 5 segundos, y cada segundo queremos 25 imágenes diferentes, podemos hacer variar $x$ unas $5\\times25=125$ veces. Por ejemplo, podemos hacer que el\n",
    "valor de $x$ empiece por $50$ y mover un pixel a la derecha el circulo, esperar $\\frac{1}{25}$ segundos y repetir 125 veces. Al final, $x$ debería valer $175$ (El valor inicial de 50 más un pixel sumado 125 veces) y la animación total debería durar 5 segundos.\n",
    "\n",
    "El siguiente código debería funcionar:"
   ]
  },
  {
   "cell_type": "code",
   "execution_count": 84,
   "metadata": {},
   "outputs": [],
   "source": [
    "import pygame\n",
    "import time\n",
    "import random\n",
    "\n",
    "pygame.init()\n",
    "pygame.display.set_caption(\"Campo de estrellas\")\n",
    "screen = pygame.display.set_mode((640, 480), 0, 24)\n",
    "\n",
    "WHITE = (255, 255, 255)\n",
    "\n",
    "for x in range(50, 175):\n",
    "    pygame.draw.circle(screen, WHITE, (x, 50), 2)  \n",
    "    pygame.display.update()\n",
    "    time.sleep(1/25)\n",
    "pygame.quit()"
   ]
  },
  {
   "cell_type": "markdown",
   "metadata": {},
   "source": [
    "Pero... El resultado no es exactamente el que queriamos; el pixel se mueve a la derecha, pero no como esperabamos, los circulos que pintamos antes siguen apareciendo. Eso es porque pygame ha hecho exactamente lo que le hemos pedido, y nunca le pedimos que borrara lo anterior. La forma más sencilla de solucionarlo es borrar la pantalla al principio de cada fotograma o _frame_ y volver a pintar la estrella. Podemos borrar toda la pantalla con el método `fill` que rellena con el color indicado una superficie:"
   ]
  },
  {
   "cell_type": "code",
   "execution_count": 12,
   "metadata": {},
   "outputs": [],
   "source": [
    "import pygame\n",
    "import time\n",
    "import random\n",
    "\n",
    "pygame.init()\n",
    "pygame.display.set_caption(\"Campo de estrellas\")\n",
    "screen = pygame.display.set_mode((640, 480), 0, 24)\n",
    "\n",
    "WHITE = (255, 255, 255)\n",
    "BLACK = (0, 0, 0)\n",
    "\n",
    "for x in range(50, 175):\n",
    "    screen.fill(BLACK)\n",
    "    pygame.draw.circle(screen, WHITE, (x, 50), 2)  \n",
    "    pygame.display.update()\n",
    "    time.sleep(1/25)\n",
    "pygame.quit()"
   ]
  },
  {
   "cell_type": "markdown",
   "metadata": {},
   "source": [
    "**Ejercicio**: Convertir el siguiente ejemplo para que sean 50 estrellas, distribuidas al azar por la pantalla, las qie se muevan hacia la derecha.\n",
    "\n",
    "Pistas: tendremos que calcular y almacenar las posiciones de las 50 estrellas en alguna estructura de datos, porque vamos a usarla varias veces. Se sugiere una lista de listas, donde cada elemento de la lista es una lista de dos elementos, que tomaremos como coordenadas x e y de la estralla."
   ]
  },
  {
   "cell_type": "code",
   "execution_count": 13,
   "metadata": {},
   "outputs": [],
   "source": [
    "import pygame\n",
    "import time\n",
    "import random\n",
    "\n",
    "pygame.init()\n",
    "pygame.display.set_caption(\"Campo de estrellas\")\n",
    "screen = pygame.display.set_mode((640, 480), 0, 24)\n",
    "\n",
    "WHITE = (255, 255, 255)\n",
    "BLACK = (0, 0, 0)\n",
    "\n",
    "stars = []\n",
    "for _ in range(50):\n",
    "    x = random.randrange(640)\n",
    "    y = random.randrange(480)\n",
    "    star = [x, y]\n",
    "    stars.append(star)\n",
    "\n",
    "for x in range(50, 175):\n",
    "    screen.fill(BLACK)\n",
    "    for star in stars:\n",
    "        x = star[0]\n",
    "        y = star[1]\n",
    "        pygame.draw.circle(screen, WHITE, (x, y), 2)  \n",
    "        star[0] = x + 1\n",
    "    pygame.display.update()\n",
    "    time.sleep(1/25)\n",
    "pygame.quit()"
   ]
  },
  {
   "cell_type": "markdown",
   "metadata": {},
   "source": [
    "## El bucle del juego\n",
    "\n",
    "Vamos ahora a conseguir que nuestros juegos no duren 5 segundos. Para eso vamos a \n",
    "implementar lo que se conoce como el bucle del juego. El bucle del juego es un\n",
    "código que se repite continuamente hasta que el juego termina. En este bucle, \n",
    "siempre se ralizan los siguientes pasos, y siempre en el mismo orden:\n",
    "\n",
    "1) Se leen las **entradas al juego**: pulsaciones de teclas, movimientos del ratón, etc...\n",
    "\n",
    "2) Se calcula, en base a esas entradas y al estado del juego, el nuevo **estado del juego**\n",
    "\n",
    "3) Se **actualizan la pantalla** para mostrar el nuevo estado\n",
    "\n",
    "4) **Repetir** hasta que el juego termine\n",
    "\n",
    "El esquema básico ahora para nuestros juegos será el siguiente:"
   ]
  },
  {
   "cell_type": "code",
   "execution_count": 15,
   "metadata": {},
   "outputs": [],
   "source": [
    "import pygame\n",
    "import time\n",
    "import random\n",
    "\n",
    "pygame.init()\n",
    "pygame.display.set_caption(\"Campo de estrellas\")\n",
    "screen = pygame.display.set_mode((640, 480), 0, 24)\n",
    "\n",
    "# Parte de inicializacion del juego\n",
    "stars = []\n",
    "for _ in range(50):\n",
    "    x = random.randrange(640)\n",
    "    y = random.randrange(480)\n",
    "    star = [x, y]\n",
    "    stars.append(star)\n",
    "\n",
    "in_game = True  # Indicador lógico para saber cuando debemos terminar el juego\n",
    "while in_game:\n",
    "    # Obtener datos de entrada\n",
    "    for event in pygame.event.get():\n",
    "        if event.type == pygame.QUIT:\n",
    "            in_game = False\n",
    "    # Recalcular el estado del juego, en base al estado actual y a las entradas\n",
    "    for star in stars:\n",
    "        x = star[0]\n",
    "        y = star[1]\n",
    "        star[0] = x + 1\n",
    "    # Representamos el nuevo estado\n",
    "    screen.fill(BLACK)\n",
    "    for star in stars:\n",
    "        x = star[0]\n",
    "        y = star[1]\n",
    "        pygame.draw.circle(screen, WHITE, (x, y), 2)  \n",
    "    pygame.display.update()\n",
    "\n",
    "pygame.quit()"
   ]
  },
  {
   "cell_type": "markdown",
   "metadata": {},
   "source": [
    "Esté código tiene algunos cambios importantes respecto al anterior:\n",
    "    \n",
    "1) Ya no esperamos 5 segundos y salimos. Por el contrario, nos metemos en un bucle\n",
    "   hasta que la variable `in_game` se vuelva `False`.\n",
    "    \n",
    "2) Usamos el módulo `event` para leer los eventos que llegan al programa, es decir, sus entradas. Solo prestamos atención  a un evento, el que indica que el programa debe terminar (representado cpor la constante `pygame.QUIT`), por ejemplo porque el usuario ha pulsado sobre el icono de cerrar la ventana. Eso significa que ahora el programa estará activo hasta que lo cerremos desde el sistema operativo, en cuyo momento salimos del programa.\n",
    "\n",
    "3) Ahora podemos cerrar la ventana con el icono de la barra de título del sistema operativo; nuestro programa detecta ese evento y obedientemente cierra la aplicación.\n"
   ]
  },
  {
   "cell_type": "markdown",
   "metadata": {},
   "source": [
    "Con este esquema, el campo de estrellas quedaría así:"
   ]
  },
  {
   "cell_type": "code",
   "execution_count": 97,
   "metadata": {},
   "outputs": [],
   "source": [
    "import pygame\n",
    "import time\n",
    "import random\n",
    "\n",
    "SIZE = WIDTH, HEIGHT = (640, 480)\n",
    "\n",
    "pygame.init()\n",
    "pygame.display.set_caption(\"Campo de estrellas\")\n",
    "screen = pygame.display.set_mode(SIZE, 0, 24)\n",
    "\n",
    "# Parte de inicialización del juego\n",
    "stars = []\n",
    "for _ in range(50):\n",
    "    x = random.randrange(WIDTH)\n",
    "    y = random.randrange(HEIGHT)\n",
    "    star = [x, y]\n",
    "    stars.append(star)\n",
    "    \n",
    "\n",
    "in_game = True  # Indicador lógico para saber cuando debemos terminar el juego\n",
    "while in_game:\n",
    "    # Obtener datos de entrada\n",
    "    for event in pygame.event.get():\n",
    "        if event.type == pygame.QUIT:\n",
    "            in_game = False\n",
    "    # Recalcular el estado del juego, en base al estado actual y a las entradas\n",
    "    for star in stars:\n",
    "        x = star[0]\n",
    "        x = x + 1\n",
    "        star[0] = x\n",
    "    # Representamos el nuevo estado\n",
    "    screen.fill(BLACK)\n",
    "    for star in stars:\n",
    "        x = star[0]\n",
    "        y = star[1]\n",
    "        pygame.draw.circle(screen, WHITE, (x, y), 2)\n",
    "    pygame.display.update()\n",
    "\n",
    "pygame.quit()"
   ]
  },
  {
   "cell_type": "markdown",
   "metadata": {},
   "source": [
    "### Uso de clock\n",
    "\n",
    "Para conseguir un FPS constante, independientemente de la máquina, sistema operativo, etc, se puede usar\n",
    "el modulo pygame.time y concretamente la clase Clock. Par usarla, en la parte de inicializacion del juego creamos un objeto de tipo Clock, con una línea similar a:\n",
    "\n",
    "    clock = pygame.time.Clock()\n",
    "    \n",
    "y luego, dentro del bucle del juego, llamamos a clock.tick pasandole los frames por segundo que queremos, y la función esperará el tiempo necesario para que el paso de los\n",
    "frames sea siempre constante. El código con este auste queda así:\n"
   ]
  },
  {
   "cell_type": "code",
   "execution_count": 103,
   "metadata": {},
   "outputs": [],
   "source": [
    "SIZE = WIDTH, HEIGHT = (640, 480)\n",
    "FPS = 30  # Definimos los frames por segundo \n",
    "\n",
    "pygame.init()\n",
    "pygame.display.set_caption(\"Campo de estrellas\")\n",
    "screen = pygame.display.set_mode(SIZE, 0, 24)\n",
    "\n",
    "# Parte de inicialización del juego\n",
    "stars = []\n",
    "for _ in range(50):\n",
    "    x = random.randrange(WIDTH)\n",
    "    y = random.randrange(HEIGHT)\n",
    "    star = [x, y]\n",
    "    stars.append(star)\n",
    "clock = pygame.time.Clock()    \n",
    "\n",
    "in_game = True  # Indicador lógico para saber cuando debemos terminar el juego\n",
    "while in_game:\n",
    "    # Obtener datos de entrada\n",
    "    for event in pygame.event.get():\n",
    "        if event.type == pygame.QUIT:\n",
    "            in_game = False\n",
    "    # Recalcular el estado del juego, en base al estado actual y a las entradas\n",
    "    for star in stars:\n",
    "        x = star[0]\n",
    "        x = x + 1\n",
    "        star[0] = x\n",
    "    # Representamos el nuevo estado\n",
    "    screen.fill(BLACK)\n",
    "    for star in stars:\n",
    "        x = star[0]\n",
    "        y = star[1]\n",
    "        pygame.draw.circle(screen, WHITE, (x, y), 2)\n",
    "    pygame.display.update()\n",
    "    clock.tick(FPS)\n",
    "\n",
    "pygame.quit()"
   ]
  },
  {
   "cell_type": "markdown",
   "metadata": {},
   "source": [
    "- Hacer que las estrellas que salen por la derecha aparezcan por la izquierda\n",
    "- Que las estrellas tengan velocidades diferentes\n",
    "- Que podemos usar el teclado para mover las estrellas en diferentes direcciones\n"
   ]
  },
  {
   "cell_type": "code",
   "execution_count": null,
   "metadata": {},
   "outputs": [],
   "source": [
    "### Dibujar lineas y formas\n",
    "\n",
    "rect Draws a rectangle\n",
    "polygon Draws a polygon (shape with three or more sides)\n",
    "circle Draws a circle\n",
    "ellipse Draws an ellipse\n",
    "arc Draws an arc\n",
    "line Draws a line\n",
    "lines Draws several lines\n",
    "aaline Draws an antialiased (smooth) line\n",
    "aalines Draws several antialiased lines\n"
   ]
  }
 ],
 "metadata": {
  "kernelspec": {
   "display_name": "Python 3",
   "language": "python",
   "name": "python3"
  },
  "language_info": {
   "codemirror_mode": {
    "name": "ipython",
    "version": 3
   },
   "file_extension": ".py",
   "mimetype": "text/x-python",
   "name": "python",
   "nbconvert_exporter": "python",
   "pygments_lexer": "ipython3",
   "version": "3.5.2"
  }
 },
 "nbformat": 4,
 "nbformat_minor": 2
}
