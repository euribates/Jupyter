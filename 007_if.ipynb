{
 "cells": [
  {
   "cell_type": "markdown",
   "metadata": {},
   "source": [
    "## La sentencia IF (condicional)\n",
    "\n",
    "La sentencia if o condicional es la forma más sencilla de control de flujo. Hasta ahora, nuestros programas han consistido en una secuencia de intrucciones, que se van ejecutando una después de otra. Una sentencia if nos permite qe una o más líneas de nuestro programa se ejecuten o no, dependiendo de una condición. Veamos un sencillo ejemplo:"
   ]
  },
  {
   "cell_type": "code",
   "execution_count": 1,
   "metadata": {},
   "outputs": [
    {
     "name": "stdout",
     "output_type": "stream",
     "text": [
      "Mayor que 7\n"
     ]
    }
   ],
   "source": [
    "a = 8\n",
    "if a > 7:\n",
    "    print('Mayor que 7')"
   ]
  },
  {
   "cell_type": "markdown",
   "metadata": {},
   "source": [
    "Como la condición que evaluamos en la sentencia `if` es verdadera, la sentencia con el `print` se ejecuta. Si la condición tuviera un valor falso, no se ejecutaría."
   ]
  },
  {
   "cell_type": "markdown",
   "metadata": {},
   "source": [
    "**Ejercicio:** Modificar el ejemplo siguiente para que no se imprima nada:"
   ]
  },
  {
   "cell_type": "code",
   "execution_count": 2,
   "metadata": {},
   "outputs": [
    {
     "name": "stdout",
     "output_type": "stream",
     "text": [
      "Mayor que 7\n"
     ]
    }
   ],
   "source": [
    "a = 8\n",
    "if a > 7:\n",
    "    print('Mayor que 7')"
   ]
  },
  {
   "cell_type": "markdown",
   "metadata": {},
   "source": [
    "**Pregunta**: ¿De cuantas maneras diferentes podríamos resolver el ejercicio anterior?"
   ]
  },
  {
   "cell_type": "markdown",
   "metadata": {},
   "source": [
    "### Diagramas de flujo\n",
    "\n",
    "Se puede representar gráficamente el flujo de ejecución con unos gráficos llamados [**Organigramas** o **Diagramas de flujo**](https://es.wikipedia.org/wiki/Diagrama_de_flujo), que representan los posibles caminos de ejecución. Utilizan flechas y símbolos con significados predeterminados que representan los pasos que da el programa o proceso, desde el inicio hasta el fin del mismo. En diagrama de flujo para el programa anterior sería el siguiente:\n",
    "\n",
    "![diagram de flujo del condicional simple](./art/conditional.svg)"
   ]
  },
  {
   "cell_type": "markdown",
   "metadata": {},
   "source": [
    "Los significados de los elementos gráficos en este diagrama son:\n",
    "\n",
    "| Simbolo | Desc. | Significado |\n",
    "| --------|-------|-------------|\n",
    "| ⏺ |  Círculo sólido | Inicio del programa / estado inicial |\n",
    "| ▬ | Rectángulo | Instrucciones |\n",
    "| ⯁ | Rombo | Condicional |\n",
    "| 🞊 | Circulo dentro de circunferencia | Fin del programa / Estado final |"
   ]
  },
  {
   "cell_type": "markdown",
   "metadata": {},
   "source": [
    "Igual que con los bucles for y while que vimos anteriormente, la indentación marca el bloque de código que se ejecutará o no dependiendo de la condición. En el ejemplo anterior, todas las líneas que estuvieran indentadas al mismo nivel que el `print` forman un solo bloque que se ejecutara en su totalidad o no se ejecutará en absoluto, segun coresponda. "
   ]
  },
  {
   "cell_type": "markdown",
   "metadata": {},
   "source": [
    "### La clausula else (Si no)\n",
    "\n",
    "Si queremos ejecutar un código en el caso de que la condición sea verdadera y otro en el caso de que sea falsa, podemos usar la sentencia `else`. Se añade a continuacion del `if` e incluye el código a ejecutar en el caso de que la condición no sea cierta. Veámoslo con un ejemplo:\n"
   ]
  },
  {
   "cell_type": "code",
   "execution_count": 3,
   "metadata": {},
   "outputs": [
    {
     "name": "stdout",
     "output_type": "stream",
     "text": [
      "A es Par\n"
     ]
    }
   ],
   "source": [
    "a = 8\n",
    "if a % 2 == 0:\n",
    "    print('A es Par')\n",
    "else:\n",
    "    print('A es impar')"
   ]
  },
  {
   "cell_type": "markdown",
   "metadata": {},
   "source": [
    "El organigrama sería, este caso, así:\n",
    "\n",
    "![diagram de flujo del condicional con alternativa](./art/else.svg)"
   ]
  },
  {
   "cell_type": "markdown",
   "metadata": {},
   "source": [
    "**Ejercicio**: Usando un bucle `for`, imprimir los 25 primeros números naturales junto con un texto que indique si son pares o impares:"
   ]
  },
  {
   "cell_type": "code",
   "execution_count": 10,
   "metadata": {},
   "outputs": [],
   "source": [
    "for n in range(1, 26):\n",
    "    ..."
   ]
  },
  {
   "cell_type": "markdown",
   "metadata": {},
   "source": [
    "Observese que las sentencias de flujo de control, `if`, `for`, `while` pueden anidarse unas dentro de otras sin problemas, lo qe nos permite construir algoritmos y programas muy complejos y potentes."
   ]
  },
  {
   "cell_type": "markdown",
   "metadata": {},
   "source": [
    "### Nuestro primer juego: Piedra, papel, tijera\n",
    "\n",
    "Con las sentencias `if`  y lo que ya sabemos de las listas y un poco del uso del módulo `random`, ya podemos hacer nuestro primer juego: Vamos a hacer que el ordenador juege contra nosotros al [Piedra, papel, tijera]](https://es.wikipedia.org/wiki/Piedra,_papel_o_tijera).\n",
    "\n",
    "    Para ello, necesitamos inicialmente que el ordenador elija una de las tres opciones posibles, y para eso tenemos que definir previamente dichas opciones. Usemos una lista y codifiquemos cada opción como una cedena de texto:"
   ]
  },
  {
   "cell_type": "code",
   "execution_count": 13,
   "metadata": {},
   "outputs": [],
   "source": [
    "opciones = [...]"
   ]
  },
  {
   "cell_type": "markdown",
   "metadata": {},
   "source": [
    "Ahora, podemos hace que el ordenador selecione una de las tres posibilidades usando la funcion `choice` dentro del módulo `random`. Esta funciones acepta como parametro una secuencia, y devuelve uno de los elementos de la secuencia al azar. Cada vez que ejecutemos la siguiente celda imprimirá un número difenrente entre 0 y 9:"
   ]
  },
  {
   "cell_type": "code",
   "execution_count": 18,
   "metadata": {},
   "outputs": [
    {
     "name": "stdout",
     "output_type": "stream",
     "text": [
      "3\n"
     ]
    }
   ],
   "source": [
    "from random import choice\n",
    "\n",
    "print(choice(range(10)))"
   ]
  },
  {
   "cell_type": "code",
   "execution_count": 6,
   "metadata": {},
   "outputs": [
    {
     "name": "stdout",
     "output_type": "stream",
     "text": [
      "Juega piedra|papel|tijera:piedra\n",
      "Tu has jugado: piedra Yo he jugado: papel\n",
      "Perdiste\n"
     ]
    }
   ],
   "source": [
    "from random import choice\n",
    "\n",
    "opciones = ['piedra', 'papel', 'tijera']\n",
    "computer = choice(opciones)\n",
    "\n",
    "human = input('Juega piedra|papel|tijera:')\n",
    "print ('Tu has jugado:', human, 'Yo he jugado:', computer)\n",
    "if human == computer:\n",
    "    print('Empate')\n",
    "else:\n",
    "    if computer == 'piedra':\n",
    "        if human == 'papel':\n",
    "            print('Ganaste')\n",
    "        else:\n",
    "            print('Perdiste')\n",
    "        print('Pediste')\n",
    "    if computer == 'papel':\n",
    "        if human == 'tijera':\n",
    "            print('Ganaste')\n",
    "        else:\n",
    "            print('Perdiste')\n",
    "    if computer == 'tijera':\n",
    "        if human == 'piedra':\n",
    "            print('Ganaste')\n",
    "        else:\n",
    "            print('Perdiste')\n",
    "                "
   ]
  },
  {
   "cell_type": "markdown",
   "metadata": {},
   "source": [
    "## La sentencia break\n",
    "\n",
    "La sentencia `break` es una orden para salir inmediatemente del bucle, pasando a continuación a ejecutar la primera línea despues del bloque de código, es decir, la siguiente línea que este indentada al mismo nivel que la sentencia `while` o `for`. Se usa habitualmente cuando estamos recorriendo una estructura en busca de algo; una vez que lo hemos encontrado, no tiene sentido sequir ejecutnado el bucle.\n",
    "\n",
    "Combinando la sentencia `break` con la sentencia `if`, podemos determinar en que condiciones debemos salir del bucle.\n",
    "\n",
    "Por ejemplo, supongamos que queremos buscar el primer número par dentro de la lista [5, 27, 7, 189, 14, 21, 2]:"
   ]
  },
  {
   "cell_type": "code",
   "execution_count": 11,
   "metadata": {},
   "outputs": [
    {
     "name": "stdout",
     "output_type": "stream",
     "text": [
      "14\n"
     ]
    }
   ],
   "source": [
    "lista_numeros = [5, 27, 7, 189, 14, 21, 2]\n",
    "for num in lista_numeros:\n",
    "    if num % 2 == 0:\n",
    "        print(num)\n",
    "        break\n",
    "    "
   ]
  },
  {
   "cell_type": "markdown",
   "metadata": {},
   "source": [
    "Otro ejemplo, con un bucle aparentemente infinito pero del que podemos salir con la sentencia `break`: Encontrar el primer numero entero que, elevado a si mismo, sea mayor que un millón:\n"
   ]
  },
  {
   "cell_type": "code",
   "execution_count": 5,
   "metadata": {},
   "outputs": [
    {
     "name": "stdout",
     "output_type": "stream",
     "text": [
      "8 16777216\n"
     ]
    }
   ],
   "source": [
    "i = 1\n",
    "while True:\n",
    "    if i**i > 1000000:\n",
    "        break\n",
    "    i += 1\n",
    "print(i, i**i)"
   ]
  },
  {
   "cell_type": "code",
   "execution_count": null,
   "metadata": {},
   "outputs": [],
   "source": []
  }
 ],
 "metadata": {
  "kernelspec": {
   "display_name": "Python 3",
   "language": "python",
   "name": "python3"
  },
  "language_info": {
   "codemirror_mode": {
    "name": "ipython",
    "version": 3
   },
   "file_extension": ".py",
   "mimetype": "text/x-python",
   "name": "python",
   "nbconvert_exporter": "python",
   "pygments_lexer": "ipython3",
   "version": "3.5.2"
  }
 },
 "nbformat": 4,
 "nbformat_minor": 2
}
