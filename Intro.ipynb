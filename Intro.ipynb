{
 "cells": [
  {
   "cell_type": "markdown",
   "metadata": {},
   "source": [
    "# Introducción"
   ]
  },
  {
   "cell_type": "markdown",
   "metadata": {},
   "source": [
    "## Estructura de un documento Jupyer Notebook\n",
    "\n",
    "Un documentos de Jupyter notebook está compuesto de una serie de celdas. Hay celdas de diferentes tipos:\n",
    "    \n",
    "- celdas de código ejecutable\n",
    "\n",
    "- celdas de resultado\n",
    "\n",
    "- celdas de texto"
   ]
  },
  {
   "cell_type": "markdown",
   "metadata": {},
   "source": [
    "Las **celdas de código** puden ser de distintos tipos, segun los _nucleos_ que haya instalados en jupyter. El nucleo de Python siempre está instalado, porque Jupyter está escrito en Python, pero hay muchos otros lenguajes/kernels disponibles, por ejemplo [Julia](https://julialang.org/) y [R](https://www.r-project.org/).\n",
    "\n",
    "Las celdas de codigo se ejecutan y, si muestras algun resultado, este se mostrará como una **celda de resultado**. Las celdas de resultado tambien pueden ser de diferentes tipos, normalmente contenidos que el navegador es capaz de interpretar sin problema: Tablas, código Html, vídeo, tablas, fuguras, fotos, etc...\n",
    "\n",
    "Por último, las **celdas de texto** son textos formateados con una sintaxis muy sencilla llamada [Markdown](https://daringfireball.net/projects/markdown/syntax). Esta celda que estás leyendo ahora es una celda de texto"
   ]
  },
  {
   "cell_type": "code",
   "execution_count": null,
   "metadata": {},
   "outputs": [],
   "source": []
  }
 ],
 "metadata": {
  "kernelspec": {
   "display_name": "Python 3",
   "language": "python",
   "name": "python3"
  },
  "language_info": {
   "codemirror_mode": {
    "name": "ipython",
    "version": 3
   },
   "file_extension": ".py",
   "mimetype": "text/x-python",
   "name": "python",
   "nbconvert_exporter": "python",
   "pygments_lexer": "ipython3",
   "version": "3.5.2"
  }
 },
 "nbformat": 4,
 "nbformat_minor": 2
}
