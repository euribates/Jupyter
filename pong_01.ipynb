{
 "cells": [
  {
   "cell_type": "markdown",
   "metadata": {},
   "source": [
    "## Pong 01"
   ]
  },
  {
   "cell_type": "markdown",
   "metadata": {},
   "source": [
    "El siguiente programa muestra la primera versión de pong: \n",
    "Hemos definido una clae para la bola (`Ball`). La clase implementa los\n",
    "métodos `update` (Por ahora solo se mueve hacia la derecha) y\n",
    "`draw`, de forma que la responsabilidad de actualizar su posición\n",
    "y la de pintarse en pantalla son asumidas por la propia bola:"
   ]
  },
  {
   "cell_type": "code",
   "execution_count": 5,
   "metadata": {},
   "outputs": [],
   "source": [
    "# Version 1.1\n",
    "\n",
    "import math\n",
    "import pygame\n",
    "import random\n",
    "import time\n",
    "\n",
    "SIZE = WIDTH, HEIGHT = 800, 640  # Tamaño de pantalla\n",
    "\n",
    "BLACK = (0, 0, 0)                # Colores\n",
    "WHITE = (255, 255, 255)\n",
    "RED = (255, 0, 0)\n",
    "GREEN = (0, 255, 0)\n",
    "BLUE = (0, 0, 255)\n",
    "CYAN = (0, 255, 255)\n",
    "MAGENTA = (255, 0, 255)\n",
    "YELLOW = (255, 255, 0)\n",
    "\n",
    "FPS = 30                         # Velocidad del juego\n",
    "\n",
    "class Ball:\n",
    "    \n",
    "    def __init__(self, x=0, y=0):\n",
    "        self.x = x\n",
    "        self.y = y\n",
    "        self.speed = 10\n",
    "        \n",
    "    def update(self):\n",
    "        self.x += self.speed\n",
    "    \n",
    "    def draw(self, canvas):\n",
    "        rect = pygame.Rect((self.x-5, self.y-5), (11, 11))\n",
    "        pygame.draw.rect(canvas, WHITE, rect)\n",
    "        \n",
    "pygame.init()\n",
    "try:\n",
    "    pygame.display.set_caption(\"Pong 01\")\n",
    "    screen = pygame.display.set_mode(SIZE, 0, 24)\n",
    "    limits = screen.get_rect()\n",
    "    \n",
    "    # Parte de inicialización del juego\n",
    "    ball = Ball(limits.centerx, limits.centery)\n",
    "    clock = pygame.time.Clock()    \n",
    "    in_game = True\n",
    "    while in_game:\n",
    "        # Obtener datos de entrada\n",
    "        for event in pygame.event.get():\n",
    "            if event.type == pygame.QUIT:\n",
    "                in_game = False\n",
    "        # Recalcular el estado del juego, en base al estado actual y a las entradas\n",
    "        ball.update()\n",
    "        # Representamos el nuevo estado\n",
    "        screen.fill(BLACK)\n",
    "        ball.draw(screen)\n",
    "        pygame.display.update()\n",
    "        clock.tick(FPS)\n",
    "finally:\n",
    "    pygame.quit()"
   ]
  },
  {
   "cell_type": "markdown",
   "metadata": {},
   "source": [
    "### Vamos a cambiar el código para que se mueva en diagonal"
   ]
  },
  {
   "cell_type": "markdown",
   "metadata": {},
   "source": [
    "El problema es que si cambiamos el código del update, por ejemplo, a:\n",
    "    \n",
    "```Python\n",
    "    class Ball:\n",
    "        ...\n",
    "        def update(self):\n",
    "            self.x += self.speed\n",
    "            self.y += self.speed\n",
    "        ...\n",
    "```"
   ]
  },
  {
   "cell_type": "markdown",
   "metadata": {},
   "source": [
    "La velocidad de la bola no será la misma que cuando se movia en linea recta, porque \n",
    "ahora la bola no se desplaza 10 pixels cada frame; se desplaza más. Podemos calcular cuanto más por el [Teorema de Pitagoras](https://es.wikipedia.org/wiki/Teorema_de_Pit%C3%A1goras):\n",
    "    \n",
    "> Teorema de Pitágoras.- En un triángulo rectángulo, el cuadrado de la hipotenusa es igual a la suma de los cuadrados de los catetos."
   ]
  },
  {
   "cell_type": "markdown",
   "metadata": {},
   "source": [
    "Es decir, la distacia que viaja la pelota cada frame es igual a:"
   ]
  },
  {
   "cell_type": "markdown",
   "metadata": {},
   "source": [
    "$$ d = \\sqrt{10^2 + 10^2} = \\sqrt{200} = 10\\sqrt{2} \\approx 14.142135623730951$$"
   ]
  },
  {
   "cell_type": "markdown",
   "metadata": {},
   "source": [
    "Como podemos calcular facilmente usando la funcion `sqrt` (raíz cuadrada) del módulo `math`."
   ]
  },
  {
   "cell_type": "code",
   "execution_count": 15,
   "metadata": {},
   "outputs": [
    {
     "data": {
      "text/plain": [
       "14.142135623730951"
      ]
     },
     "execution_count": 15,
     "metadata": {},
     "output_type": "execute_result"
    }
   ],
   "source": [
    "10 * math.sqrt(2)"
   ]
  },
  {
   "cell_type": "markdown",
   "metadata": {},
   "source": [
    "![velocidad](velocidad.png)"
   ]
  },
  {
   "cell_type": "markdown",
   "metadata": {},
   "source": [
    "Estos problemas y otros los resolvemos usando vectores. Básicamente, un vector\n",
    "es simplemente un serie de números. Un vector de 2 dimensiones, por tanto, es una tupla\n",
    "de dos numeros. Un vector de tres dimensione, una tripleta.\n",
    "\n",
    "Con vectores podemos representar muchas cosas: La posición de un objeto, su velocidad, las fuerzas que actuan sobre el, etc... En el módulo [vectores.py](vectores.py) hemos definido una clase para trabajar con vectores de 2 dimensiones, llamada `Vector2`."
   ]
  },
  {
   "cell_type": "code",
   "execution_count": 2,
   "metadata": {},
   "outputs": [
    {
     "name": "stdout",
     "output_type": "stream",
     "text": [
      "Vector2(3.0, 4.0)\n"
     ]
    }
   ],
   "source": [
    "from vectores import Vector2\n",
    "\n",
    "v = Vector2(3, 4)\n",
    "print(v)"
   ]
  },
  {
   "cell_type": "markdown",
   "metadata": {},
   "source": [
    "Por convenio, y dado que los vectores se usan principalmente para trabajar \n",
    "en el espacio, se usan las letras $x$ e $y$ para representar el primer número\n",
    "y el segundo, respectivamente, para el caso de los vectores de dos dimensiones. La clase `Vector2` también tiene esta capacidad:"
   ]
  },
  {
   "cell_type": "code",
   "execution_count": 6,
   "metadata": {},
   "outputs": [
    {
     "name": "stdout",
     "output_type": "stream",
     "text": [
      "x: 3.0\n",
      "y: 4.0\n"
     ]
    }
   ],
   "source": [
    "v = Vector2(3, 4)\n",
    "print('x:', v.x)\n",
    "print('y:', v.y)"
   ]
  },
  {
   "cell_type": "markdown",
   "metadata": {},
   "source": [
    "Una ventaja de usar vectores en vez de las tuplas de Python es que podemos definir\n",
    "como queremos que se hagan las operaciones, por ejemplo, de suma. Si intentamos sumar\n",
    "dos tuplas de dos elementos, el resultado es una tupla de 4 elementos:"
   ]
  },
  {
   "cell_type": "code",
   "execution_count": 4,
   "metadata": {},
   "outputs": [
    {
     "data": {
      "text/plain": [
       "(1, 2, 3, 4)"
      ]
     },
     "execution_count": 4,
     "metadata": {},
     "output_type": "execute_result"
    }
   ],
   "source": [
    "t1 = (1, 2)\n",
    "t2 = (3, 4)\n",
    "t1 + t2"
   ]
  },
  {
   "cell_type": "markdown",
   "metadata": {},
   "source": [
    "En el espacio vectorial, la suma de vectores se define de otra manera, la suma\n",
    "de ls vectores <1, 2> y <3, 4> debería dar como resultado un nuevo vector\n",
    "bidimensional <4, 6>. Pyton tiene una característica de la programación\n",
    "orientada a objetos llamada **sobrecarga de operadores**, que no es mas que una forma\n",
    "abreviada de decir que podemos definir como se comportan determinados operadores\n",
    "en nuestras clases.m\n",
    "\n",
    "En el caso de Vectmor2, se ha **redefinido** o **sobrecargado** el operador `+`, de forma que ahora nuestros vectores se pueden sumar y el resultado es el que queremos:"
   ]
  },
  {
   "cell_type": "code",
   "execution_count": 10,
   "metadata": {},
   "outputs": [
    {
     "name": "stdout",
     "output_type": "stream",
     "text": [
      "Vector2(4.0, 6.0)\n"
     ]
    }
   ],
   "source": [
    "t1 = Vector2(1, 2)\n",
    "t2 = Vector2(3, 4)\n",
    "print(t1 + t2)"
   ]
  },
  {
   "cell_type": "markdown",
   "metadata": {},
   "source": [
    "Una característica importante de los vectores es el concepto de **módulo**, que es\n",
    "la distancia euclidea desde el cero de las coordenadas del vector. Es decir, si consideramos\n",
    "el vector como una flecha que apunta desde el origen de coordenadas hasta un determinado\n",
    "punto, el módulo sería la distancia de la flecha. La clase `Vector2` puede acceder (pero no modificar) al valor del móduo usando elcampo `mod`."
   ]
  },
  {
   "cell_type": "code",
   "execution_count": 14,
   "metadata": {},
   "outputs": [
    {
     "name": "stdout",
     "output_type": "stream",
     "text": [
      "5.0\n"
     ]
    }
   ],
   "source": [
    "t = Vector2(3, 4)\n",
    "print(t.mod)"
   ]
  },
  {
   "cell_type": "markdown",
   "metadata": {},
   "source": [
    "El resultado es 5 porque, como vimos por el Teorema de Pitágoras:\n",
    "\n",
    "$$ \\sqrt{3^2+4^2} = \\sqrt{9+15} = \\sqrt{25} = 5 $$"
   ]
  },
  {
   "cell_type": "markdown",
   "metadata": {},
   "source": [
    "Otro concepto importante, pero sencillo, es el de **vector unitario**: Un vector unitario\n",
    "es cualquier vector cuyo módulo sea $1$.\n",
    "\n",
    "Los vectores unitarios se suelen usar cuando nos interesa solo indicar una dirección, sin\n",
    "que el módulo o la _longitud_ del vector sea relevante."
   ]
  },
  {
   "cell_type": "markdown",
   "metadata": {},
   "source": [
    "## Cambiamos la reprsentación de la posición de la pelota por un vector\n",
    "\n",
    "En el siguiente código, cambiamos las propiedades `x` e `y` por un solo valor\n",
    "de tipo `Vector2`, que llamaremos `pos`, y un vector unitario para representar\n",
    "la dirección en la que tiene que moverse la pelota, que llamaremos `orientation`.\n",
    "Usaremos un vector unitario porque solo nos interesa la dirección general en la\n",
    "que se debe mover la pelota, la velocidad seguirá estando en el campo `speed`:"
   ]
  },
  {
   "cell_type": "code",
   "execution_count": 8,
   "metadata": {},
   "outputs": [],
   "source": [
    "# Version 1.2\n",
    "\n",
    "import math\n",
    "import pygame\n",
    "import random\n",
    "import time\n",
    "\n",
    "from vectores import Vector2\n",
    "\n",
    "SIZE = WIDTH, HEIGHT = 800, 640  # Tamaño de pantalla\n",
    "\n",
    "BLACK = (0, 0, 0)                # Colores\n",
    "WHITE = (255, 255, 255)\n",
    "RED = (255, 0, 0)\n",
    "GREEN = (0, 255, 0)\n",
    "BLUE = (0, 0, 255)\n",
    "CYAN = (0, 255, 255)\n",
    "MAGENTA = (255, 0, 255)\n",
    "YELLOW = (255, 255, 0)\n",
    "\n",
    "FPS = 30                         # Velocidad del juego\n",
    "\n",
    "class Ball:\n",
    "    \n",
    "    def __init__(self, x=0, y=0):\n",
    "        self.pos = Vector2(x, y)\n",
    "        self.speed = 10\n",
    "        self.orientation = Vector2(1, 0)\n",
    "        \n",
    "    def update(self):\n",
    "        self.pos += self.orientation * self.speed\n",
    "    \n",
    "    def draw(self, canvas):\n",
    "        rect = pygame.Rect((self.pos.x-5, self.pos.y-5), (11, 11))\n",
    "        pygame.draw.rect(canvas, WHITE, rect)\n",
    "        \n",
    "pygame.init()\n",
    "try:\n",
    "    pygame.display.set_caption(\"Pong 01\")\n",
    "    screen = pygame.display.set_mode(SIZE, 0, 24)\n",
    "    ball = Ball(WIDTH//2, HEIGHT//2)\n",
    "    clock = pygame.time.Clock()    \n",
    "    in_game = True\n",
    "    while in_game:\n",
    "        for event in pygame.event.get():  # Obtener entradas\n",
    "            if event.type == pygame.QUIT:\n",
    "                in_game = False\n",
    "        ball.update() # Recalcular el estado del juego\n",
    "        screen.fill(BLACK) # Representamos el nuevo estado\n",
    "        ball.draw(screen)\n",
    "        pygame.display.update()\n",
    "        clock.tick(FPS)\n",
    "finally:\n",
    "    pygame.quit()"
   ]
  },
  {
   "cell_type": "markdown",
   "metadata": {},
   "source": [
    "Si ejecutamos el código anterior, veremos que se comporta igual. ¿Que hemos\n",
    "ganado al representar la velocidad y la dirección con vectores? Pues\n",
    "en primer lugar, hemos conseguido que el movimiento de la pelota\n",
    "sea consistente, es decir, qe sea siempre de 10 pixels por frame (o el\n",
    "valor que tenga el campo `speed`).\n",
    "\n",
    "Para comprobarlo, veamos primero otra característica de los vectores. Si consideramos\n",
    "el vector como una flecha en el espacio, con origen en el centro de coordenadas\n",
    "y con la punta situada en las coordenadas del vector, esta flecha forma un ángulo\n",
    "con los ejes de coordenadas. en concreto, el ángulo formado por el vector y el eje\n",
    "positivo x se suele reprsentar con el símbolo $\\theta$ o _theta_.\n",
    "\n",
    "La clase `Vector2` tiene un atributo `theta` que es precisamente este ángulo, \n",
    "pero expresado en [**radianes**](https://es.wikipedia.org/wiki/Radi%C3%A1n)."
   ]
  },
  {
   "cell_type": "code",
   "execution_count": 20,
   "metadata": {},
   "outputs": [
    {
     "name": "stdout",
     "output_type": "stream",
     "text": [
      "0.4636476090008061\n"
     ]
    }
   ],
   "source": [
    "v = Vector2(6, 3)\n",
    "print(v.theta)"
   ]
  },
  {
   "cell_type": "markdown",
   "metadata": {},
   "source": [
    "Para pasar de radianes a grados, se usa la formula:\n",
    "    $$ 2 \\times \\pi \\times rad = 360º $$"
   ]
  },
  {
   "cell_type": "markdown",
   "metadata": {},
   "source": [
    "O sea, que un radián equivale a $180/\\pi$ grados. Si, por ejemplo, creamos un vector\n",
    "unitario <1, 0>, el ángulo $\\theta$ será cero, porque coincide con la horizontal y además\n",
    "apunta hacia el lado positivo."
   ]
  },
  {
   "cell_type": "code",
   "execution_count": 3,
   "metadata": {},
   "outputs": [
    {
     "name": "stdout",
     "output_type": "stream",
     "text": [
      "0.0\n"
     ]
    }
   ],
   "source": [
    "v = Vector2(1,0)\n",
    "print(v.theta)"
   ]
  },
  {
   "cell_type": "markdown",
   "metadata": {},
   "source": [
    "pero si ahora lo giramos ese vector, modificando $\\theta$ para que equivalga a\n",
    "45 grados (es decir, $\\frac{\\pi}{4}$), veremos que las componentes $x$ e $y$ del vector valen cada una $\\sqrt{\\frac12}$ para que su modulo pueda seguir valiendo uno, es decir, que\n",
    "siga siendo un vector unitario:"
   ]
  },
  {
   "cell_type": "code",
   "execution_count": 4,
   "metadata": {},
   "outputs": [
    {
     "name": "stdout",
     "output_type": "stream",
     "text": [
      "0.707106781 0.707106781 1.0\n"
     ]
    }
   ],
   "source": [
    "v = Vector2(1,0)\n",
    "v.theta = math.pi / 4\n",
    "print(v.x, v.y, v.mod)"
   ]
  },
  {
   "cell_type": "markdown",
   "metadata": {},
   "source": [
    "Asi que ahora podemos hacer que la pelota salga con el ángulo\n",
    "que queramos de forma fácil, solo hay que modificar el campo\n",
    "`orientation`, de forma que, justo despues de haberlo inicializado\n",
    "al vector <1, 0>, modificar el valor de $\\theta$ en un rango arbitrario.\n",
    "El siguiente programa solo añade una línea a la versión 1.2:"
   ]
  },
  {
   "cell_type": "code",
   "execution_count": 11,
   "metadata": {},
   "outputs": [],
   "source": [
    "# Version 1.3\n",
    "\n",
    "import math\n",
    "import pygame\n",
    "import random\n",
    "import time\n",
    "\n",
    "from vectores import Vector2\n",
    "\n",
    "SIZE = WIDTH, HEIGHT = 800, 640  # Tamaño de pantalla\n",
    "\n",
    "BLACK = (0, 0, 0)                # Colores\n",
    "WHITE = (255, 255, 255)\n",
    "RED = (255, 0, 0)\n",
    "GREEN = (0, 255, 0)\n",
    "BLUE = (0, 0, 255)\n",
    "CYAN = (0, 255, 255)\n",
    "MAGENTA = (255, 0, 255)\n",
    "YELLOW = (255, 255, 0)\n",
    "\n",
    "FPS = 30                         # Velocidad del juego\n",
    "\n",
    "class Ball:\n",
    "    \n",
    "    def __init__(self, x=0, y=0):\n",
    "        self.pos = Vector2(x, y)\n",
    "        self.speed = 10\n",
    "        self.orientation = Vector2(1, 0)\n",
    "        self.orientation.theta += random.uniform(-math.pi/4, math.pi/4)\n",
    "        \n",
    "    def update(self):\n",
    "        self.pos += self.orientation * self.speed\n",
    "    \n",
    "    def draw(self, canvas):\n",
    "        rect = pygame.Rect((self.pos.x-5, self.pos.y-5), (11, 11))\n",
    "        pygame.draw.rect(canvas, WHITE, rect)\n",
    "        \n",
    "pygame.init()\n",
    "try:\n",
    "    pygame.display.set_caption(\"Pong 01\")\n",
    "    screen = pygame.display.set_mode(SIZE, 0, 24)\n",
    "    ball = Ball(WIDTH//2, HEIGHT//2)\n",
    "    clock = pygame.time.Clock()    \n",
    "    in_game = True\n",
    "    while in_game: \n",
    "        for event in pygame.event.get(): # Obtener entradas\n",
    "            if event.type == pygame.QUIT:\n",
    "                in_game = False\n",
    "        \n",
    "        ball.update()       # Recalcular estado del juego\n",
    "        screen.fill(BLACK)  # Representamos el nuevo estado\n",
    "        ball.draw(screen)\n",
    "        pygame.display.update()\n",
    "        clock.tick(FPS)\n",
    "finally:\n",
    "    pygame.quit()"
   ]
  },
  {
   "cell_type": "code",
   "execution_count": null,
   "metadata": {},
   "outputs": [],
   "source": []
  }
 ],
 "metadata": {
  "kernelspec": {
   "display_name": "Python 3",
   "language": "python",
   "name": "python3"
  },
  "language_info": {
   "codemirror_mode": {
    "name": "ipython",
    "version": 3
   },
   "file_extension": ".py",
   "mimetype": "text/x-python",
   "name": "python",
   "nbconvert_exporter": "python",
   "pygments_lexer": "ipython3",
   "version": "3.5.2"
  }
 },
 "nbformat": 4,
 "nbformat_minor": 2
}
