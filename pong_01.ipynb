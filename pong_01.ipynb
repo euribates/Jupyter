{
 "cells": [
  {
   "cell_type": "markdown",
   "metadata": {},
   "source": [
    "## Pong 01"
   ]
  },
  {
   "cell_type": "markdown",
   "metadata": {},
   "source": [
    "El siguiente programa muestra la primera versión de pong: \n",
    "Hemos definido una clae para la bola (`Ball`). La clase implementa los\n",
    "mñetodos update (Por ahora solo se mueve hacia la derecha) y\n",
    "`draw`, de forma que la responsabilidad de actualizar su posición\n",
    "y la de pintarse en pantalla son asumidas por la propia bola:"
   ]
  },
  {
   "cell_type": "code",
   "execution_count": 11,
   "metadata": {},
   "outputs": [],
   "source": [
    "import math\n",
    "import pygame\n",
    "import random\n",
    "import time\n",
    "\n",
    "SIZE = WIDTH, HEIGHT = 800, 640  # Tamaño de pantalla\n",
    "\n",
    "BLACK = (0, 0, 0)                # Colores\n",
    "WHITE = (255, 255, 255)\n",
    "RED = (255, 0, 0)\n",
    "GREEN = (0, 255, 0)\n",
    "BLUE = (0, 0, 255)\n",
    "CYAN = (0, 255, 255)\n",
    "MAGENTA = (255, 0, 255)\n",
    "YELLOW = (255, 255, 0)\n",
    "\n",
    "FPS = 30                         # Velocidad del juego\n",
    "\n",
    "class Ball:\n",
    "    \n",
    "    def __init__(self, x=0, y=0):\n",
    "        self.x = x\n",
    "        self.y = y\n",
    "        self.speed = 10\n",
    "        \n",
    "    def update(self):\n",
    "        self.x += self.speed\n",
    "    \n",
    "    def draw(self, canvas):\n",
    "        rect = pygame.Rect((self.x-5, self.y-5), (11, 11))\n",
    "        pygame.draw.rect(canvas, WHITE, rect)\n",
    "        \n",
    "pygame.init()\n",
    "try:\n",
    "    pygame.display.set_caption(\"Pong 01\")\n",
    "    screen = pygame.display.set_mode(SIZE, 0, 24)\n",
    "    limits = screen.get_rect()\n",
    "    \n",
    "    # Parte de inicialización del juego\n",
    "    ball = Ball(limits.centerx, limits.centery)\n",
    "    clock = pygame.time.Clock()    \n",
    "    in_game = True\n",
    "    while in_game:\n",
    "        # Obtener datos de entrada\n",
    "        for event in pygame.event.get():\n",
    "            if event.type == pygame.QUIT:\n",
    "                in_game = False\n",
    "        # Recalcular el estado del juego, en base al estado actual y a las entradas\n",
    "        ball.update()\n",
    "        # Representamos el nuevo estado\n",
    "        screen.fill(BLACK)\n",
    "        ball.draw(screen)\n",
    "        pygame.display.update()\n",
    "        clock.tick(FPS)\n",
    "finally:\n",
    "    pygame.quit()"
   ]
  },
  {
   "cell_type": "markdown",
   "metadata": {},
   "source": [
    "### Vamos a cambiar el código para que se mueva en diagonal"
   ]
  },
  {
   "cell_type": "markdown",
   "metadata": {},
   "source": [
    "El porblema es que si cambiamos el codigo del update, por ejemplo, a:\n",
    "    \n",
    "```Python\n",
    "    class Ball:\n",
    "        ...\n",
    "        def update(self):\n",
    "            self.x += self.speed\n",
    "            self.y += self.speed\n",
    "        ...\n",
    "```"
   ]
  },
  {
   "cell_type": "markdown",
   "metadata": {},
   "source": [
    "La velocidad de la bola no será la misma que cuando se movia en linea recta, porque \n",
    "ahora la bola no se desplaza 10 pixels cada frame, sino más. Podemos calcular cuanto más por\n",
    "el teorema de pitagoras:\n",
    "    \n",
    "> Teorema de Pitágoras.- En un triángulo rectángulo, el cuadrado de la hipotenusa es igual a la suma de los cuadrados de los catetos."
   ]
  },
  {
   "cell_type": "markdown",
   "metadata": {},
   "source": [
    "Es decir, la distacia que viaja la pelota cada frame es igual a:"
   ]
  },
  {
   "cell_type": "markdown",
   "metadata": {},
   "source": [
    "$$ d = \\sqrt{10^2 + 10^2} = \\sqrt{200} = 10\\sqrt{2} \\approx 14.142135623730951$$"
   ]
  },
  {
   "cell_type": "markdown",
   "metadata": {},
   "source": [
    "Como podemos calcular facilmente usando la funcion `sqrt` (raíz cuadrada) del módulo `math`."
   ]
  },
  {
   "cell_type": "code",
   "execution_count": 15,
   "metadata": {},
   "outputs": [
    {
     "data": {
      "text/plain": [
       "14.142135623730951"
      ]
     },
     "execution_count": 15,
     "metadata": {},
     "output_type": "execute_result"
    }
   ],
   "source": [
    "10 * math.sqrt(2)"
   ]
  },
  {
   "cell_type": "markdown",
   "metadata": {},
   "source": [
    "![velocidad](velocidad.png)"
   ]
  },
  {
   "cell_type": "code",
   "execution_count": null,
   "metadata": {},
   "outputs": [],
   "source": []
  }
 ],
 "metadata": {
  "kernelspec": {
   "display_name": "Python 3",
   "language": "python",
   "name": "python3"
  },
  "language_info": {
   "codemirror_mode": {
    "name": "ipython",
    "version": 3
   },
   "file_extension": ".py",
   "mimetype": "text/x-python",
   "name": "python",
   "nbconvert_exporter": "python",
   "pygments_lexer": "ipython3",
   "version": "3.5.2"
  }
 },
 "nbformat": 4,
 "nbformat_minor": 2
}
