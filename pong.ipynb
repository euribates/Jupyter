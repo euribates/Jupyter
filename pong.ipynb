{
 "cells": [
  {
   "cell_type": "markdown",
   "metadata": {},
   "source": [
    "### Pong"
   ]
  },
  {
   "cell_type": "markdown",
   "metadata": {},
   "source": [
    "Vamos a empezar a hacer un juego completo, empezaremos con un juego muy\n",
    "sencillo e histórico: El **Pong**.\n",
    "\n",
    "> Nota:Aunque existieron con anterioridad otros videojuegos de las dos décadas anteriores como [OXO](https://es.wikipedia.org/wiki/OXO) (ejecutado en una computadora única en el mundo) y posterior a éste [Spacewar!](https://es.wikipedia.org/wiki/Spacewar!) bajo la PDP-1 de DEC, eran, en su mayoría, proyectos experimentales: Pong está considerado por muchos como el más importante de entre la primera generación de videojuegos modernos, debido a que fue el primero en comercializarse a nivel masivo y no ejecutarse en máquinas únicas. Más información sobre el [Pong en la wikipedia](https://es.wikipedia.org/wiki/Pong)"
   ]
  },
  {
   "cell_type": "code",
   "execution_count": 7,
   "metadata": {},
   "outputs": [
    {
     "data": {
      "text/html": [
       "\n",
       "<iframe width=\"560\" height=\"315\" src=\"https://www.youtube.com/embed/e4VRgY3tkh0\" frameborder=\"0\" allow=\"autoplay; encrypted-media\" allowfullscreen></iframe>\n"
      ],
      "text/plain": [
       "<IPython.core.display.HTML object>"
      ]
     },
     "execution_count": 7,
     "metadata": {},
     "output_type": "execute_result"
    }
   ],
   "source": [
    "from IPython.display import HTML\n",
    "\n",
    "HTML('''\n",
    "<iframe width=\"560\" height=\"315\" src=\"https://www.youtube.com/embed/e4VRgY3tkh0\" frameborder=\"0\" allow=\"autoplay; encrypted-media\" allowfullscreen></iframe>\n",
    "''')"
   ]
  },
  {
   "cell_type": "code",
   "execution_count": 8,
   "metadata": {},
   "outputs": [],
   "source": [
    "### Primeros pasos"
   ]
  },
  {
   "cell_type": "markdown",
   "metadata": {},
   "source": [
    "Empezamos con los `imports` habituales:"
   ]
  },
  {
   "cell_type": "code",
   "execution_count": 2,
   "metadata": {},
   "outputs": [],
   "source": [
    "import pygame\n",
    "import random\n",
    "import time"
   ]
  },
  {
   "cell_type": "markdown",
   "metadata": {},
   "source": [
    "Y algunas constantes también habituales: El tamaño de la pantalla y algunos colores básicos:"
   ]
  },
  {
   "cell_type": "code",
   "execution_count": 4,
   "metadata": {},
   "outputs": [],
   "source": [
    "# Tamaño de pantalla\n",
    "\n",
    "SIZE = WIDTH, HEIGHT = 800, 640\n",
    "\n",
    "# Colores\n",
    "\n",
    "BLACK = (0, 0, 0)\n",
    "WHITE = (255, 255, 255)\n",
    "RED = (255, 0, 0)\n",
    "GREEN = (0, 255, 0)\n",
    "BLUE = (0, 0, 255)\n",
    "CYAN = (0, 255, 255)\n",
    "MAGENTA = (255, 0, 255)\n",
    "YELLOW = (255, 255, 0)\n",
    "\n",
    "# Velocidad del juego\n",
    "FPS = 30"
   ]
  },
  {
   "cell_type": "markdown",
   "metadata": {},
   "source": [
    "Vamos a empezar programando la pelota, de forma parecida a como hicimos con las estrellas en\n",
    "el ejercicio anterior. Aunque solo necesitamos una pelota, en la mayoría de los lenguajes orientados\n",
    "a objetos se usa el concepto de clase, lo que significa que tenemos que escribir una clase pelota\n",
    "y luego instanciar un objeto de tipo pelota:\n"
   ]
  },
  {
   "cell_type": "code",
   "execution_count": 43,
   "metadata": {},
   "outputs": [],
   "source": [
    "class Ball:\n",
    "    \n",
    "    def __init__(self, x=0, y=0):\n",
    "        self.x = x\n",
    "        self.y = y\n",
    "        \n",
    "    def update(self):\n",
    "        self.x += 1\n",
    "    \n",
    "    def draw(self, canvas):\n",
    "        rect = pygame.Rect((self.x-5, self.y-5), (11, 11))\n",
    "        pygame.draw.rect(canvas, WHITE, rect)\n",
    "        "
   ]
  },
  {
   "cell_type": "markdown",
   "metadata": {},
   "source": [
    "Nuestra clase `Ball` tiene dos atributos, `x` e `y`, para saber su posición en la pantalla,\n",
    "y dos métodos, uno llamado `update` que servira para actualizar el estado de la \n",
    "pelota (Por el momento no hace nada). y otro llamada `draw` que dibuja la pelota, que en\n",
    "nuestro caso es simplemente un cuadrado blanco.\n",
    "\n",
    "El método `draw` utiliza una clase que no hemos usado antes, `Rect`. Resulta \n",
    "que los rectángulos son muy útiles a la hora de desarrollar un videojuego. Podemos\n",
    "especificar un rectángulo usando una tupla de cuatro elementos, pero\n",
    "pygame define su propia clase para rectángulos porque eso le permite \n",
    "añadir determinados atributos y métodos muy útiles, como por ejemplo, \n",
    "saber si dos rectángulos se solapan, modificar al ancho y el alto, detectar\n",
    "si un punto está dentro o fuera del rectángulo, etc...\n",
    "\n",
    "Para crear un rectángulo, podemos hacerlo de dos maneras:\n",
    "\n",
    "1) La primera es pasándole cuatro parámetros: La posición x de la esquina superior derecha, la\n",
    "posición y de la misma esquina, el ancho del rectangulo y el alto del rectangulo.\n",
    "\n",
    "2) La segunda es pasarle dos parametros, cada uno de los cuales es una dupla (una tupla\n",
    "de dos elementos). La primera dupla son las coordenadas x e y, y la segunda el ancho y el alto.\n",
    "\n",
    "Es decir, las siguientes dos lineas crean dos rectángulos exactamente iguales:"
   ]
  },
  {
   "cell_type": "code",
   "execution_count": 41,
   "metadata": {},
   "outputs": [
    {
     "data": {
      "text/plain": [
       "(100, 125)"
      ]
     },
     "execution_count": 41,
     "metadata": {},
     "output_type": "execute_result"
    }
   ],
   "source": [
    "r1 = pygame.Rect(50, 50, 100, 150)\n",
    "r2 = pygame.Rect((50, 50), (100, 150))\n",
    "assert r1 == r2\n",
    "r1.center"
   ]
  },
  {
   "cell_type": "markdown",
   "metadata": {},
   "source": [
    "Según el caso puede ser mñas conveniente usar un sistema o el otro. \n",
    "Para el caso de la palota, dibujamos un rectángulo con la esquina superior izquierda deplazada\n",
    "5 pixels a la derecha y hacia arriba, y luego indicamos un ancho y alto de 11 pixels, lo que\n",
    "nos da un rectangulo de 11x11 pixels, donde la coordenadas x y y apuntan justo al centro del mismo."
   ]
  },
  {
   "cell_type": "code",
   "execution_count": 42,
   "metadata": {},
   "outputs": [],
   "source": [
    "pygame.init()\n",
    "try:\n",
    "    pygame.display.set_caption(\"Starfield\")\n",
    "    screen = pygame.display.set_mode(SIZE, 0, 24)\n",
    "\n",
    "    # Parte de inicialización del juego\n",
    "    ball = Ball(WIDTH//2, HEIGHT//2)\n",
    "    clock = pygame.time.Clock()    \n",
    "    in_game = True\n",
    "\n",
    "    while in_game:\n",
    "        # Obtener datos de entrada\n",
    "        for event in pygame.event.get():\n",
    "            if event.type == pygame.QUIT:\n",
    "                in_game = False\n",
    "        # Recalcular el estado del juego, en base al estado actual y a las entradas\n",
    "        ball.update()\n",
    "        # Representamos el nuevo estado\n",
    "        screen.fill(BLACK)\n",
    "        ball.draw(screen)\n",
    "        pygame.display.update()\n",
    "        clock.tick(FPS)\n",
    "finally:\n",
    "    pygame.quit()"
   ]
  },
  {
   "cell_type": "markdown",
   "metadata": {},
   "source": [
    "Si ejecutamos el código anterior, vemos que la pelota está inmovil en el centro. \n",
    "\n",
    "**Ejercicio**: Hacer que la pelota se desplace. Lo único que hay que hacer\n",
    "es tocar el método `update` de la clase Ball.\n",
    "\n",
    "**Ejercicio**: La pelota va muy lenta. ¿Cómo podemos hacer para que vaya más rápida?\n",
    "\n",
    "**Ejercicio**: La pelota se sale por los bordes de la pantalla. ¿Cómo podemos hace para \n",
    "que, en vez de desaparecer, aparezca por el borde contrario? ¿Y, si en vez de eso, queremos que rebote?"
   ]
  },
  {
   "cell_type": "markdown",
   "metadata": {},
   "source": [
    "### Vectores y álgebra lineal"
   ]
  },
  {
   "cell_type": "markdown",
   "metadata": {},
   "source": [
    "Si hemos resuelto el problema anterior, habremos usado dos valores para indicar la velocidad en el \n",
    "eje x y en el eje y. De la misma manera, hemos usado dos valores conbinados para indicar la\n",
    "posicion de la pelota: la coordenada x y la y.\n",
    "    \n",
    "los matemáticos tienen un nombre para eestos casos en que combinamos dos o más números, se\n",
    "llaman **vectores**. Y es uno de esos conceptos matemáticos que se usan muchísimo\n",
    "en el desarrollo de juegos. El área de las matemáticas que estudia los vectores y otros\n",
    "conceptos relacionados se llama [Álgebra lineal](https://es.wikipedia.org/wiki/%C3%81lgebra_lineal)."
   ]
  },
  {
   "cell_type": "markdown",
   "metadata": {},
   "source": [
    "Los vectores se pueden usar, como en el caso anterio, para representar distintos\n",
    "tipos de datos. Por ejemplo, podemos usar un vector para representar un punto o una\n",
    "posicion en el espacio (En cuyo caso se habla normalmente de punto, para\n",
    "hacer entender que estamos interesados sobre todo en una posición física). Pero\n",
    "también se pueden usar para otras cosas, como por ejemplo, para indicar la velocidad\n",
    "de un objeto, un cuyo caso es habitual hablar de vectores (vector de movimiento, vector\n",
    "de acceleración, etc...\n",
    "\n"
   ]
  },
  {
   "cell_type": "markdown",
   "metadata": {},
   "source": [
    "pygame no define su propia clase de vectores, pero es muy fácil crear nuestra propia \n",
    "clase. Vamos a crear una clase `Vector2` (El $2$ indica que en este caso\n",
    "son vectores de dos dimensiones, más adelante definiremos una clase `Vector3` para \n",
    "trabajar en tres dimensiones, añadiendo una tercera coordenada $z$). Esta clase nos permite\n",
    "referirnos a las coordenadas de forma cómoda con los atributos `x``e `y`:"
   ]
  },
  {
   "cell_type": "code",
   "execution_count": 71,
   "metadata": {},
   "outputs": [],
   "source": [
    "class Vector2:\n",
    "    \n",
    "    def __init__(self, x=0, y=0):\n",
    "        self.x = x\n",
    "        self.y = y\n",
    "        \n",
    "    def __str__(self):\n",
    "        return 'Vector2({:.3f}, {:3f})'.format(self.x,self.y)\n",
    "        \n",
    "v = Vector2(3, 4)\n",
    "assert v.x == 3\n",
    "assert v.y == 4"
   ]
  },
  {
   "cell_type": "markdown",
   "metadata": {},
   "source": [
    "Además dmel constructor, con su nombre _mágico_ especial, `__init__`, hemos definido un \n",
    "nuevo método `magico`, en este caso llamado `__str__`. Este mñétodo será llamada cada\n",
    "vez que sea necesario convertir un objeto de la clase `Vector2` a una string, por ejemplo, \n",
    "para imprimirlo con la función `print`:"
   ]
  },
  {
   "cell_type": "code",
   "execution_count": 64,
   "metadata": {},
   "outputs": [
    {
     "name": "stdout",
     "output_type": "stream",
     "text": [
      "Vector2(3, 4)\n"
     ]
    }
   ],
   "source": [
    "v = Vector2(3, 4)\n",
    "print(v)"
   ]
  },
  {
   "cell_type": "markdown",
   "metadata": {},
   "source": [
    "**Ejercicio**: Comentar el método `__str__` y, luego de ejecutar la celda para que\n",
    "se compile la nueva versión, llamar a print otra vez a ver que sale."
   ]
  },
  {
   "cell_type": "markdown",
   "metadata": {},
   "source": [
    "Una de las formas más habituales de crear un vector es a partir de dos puntos (es decir, a\n",
    "partir de otros dos puntos o vectores). Por ejemplo, si tenemos la posición del personaje\n",
    "de nuestro jugador, y tambien tenemos la posicion de un tesoro, puede que nos interes obtener el vector que apunta, partiendo del personaje, hacia el tesoro, como se ve en el siguiente diagrama:"
   ]
  },
  {
   "cell_type": "markdown",
   "metadata": {},
   "source": [
    "![Mapa del tesoro](./art/mapa-del-tesoro.svg)"
   ]
  },
  {
   "cell_type": "code",
   "execution_count": 72,
   "metadata": {},
   "outputs": [],
   "source": [
    "def vector_from_points(v1, v2):\n",
    "    return Vector2( v2.x - v1.x, v2.y - v1.y)"
   ]
  },
  {
   "cell_type": "code",
   "execution_count": 73,
   "metadata": {},
   "outputs": [
    {
     "name": "stdout",
     "output_type": "stream",
     "text": [
      "Vector2(2.400, -1.800000)\n"
     ]
    }
   ],
   "source": [
    "v = vector_from_points(Vector2(1.2, 3.1), Vector2(3.6, 1.3))\n",
    "print(v)"
   ]
  },
  {
   "cell_type": "markdown",
   "metadata": {},
   "source": [
    "Este vector representa la distancia y la orientacion del movimiento que\n",
    "tendría que hacer el jugador para llegar al tesoro."
   ]
  },
  {
   "cell_type": "markdown",
   "metadata": {},
   "source": [
    "## Módulo o magnitud de un vector\n",
    "\n",
    "Un concepto importante asociado a los vectores es el de **magnitud** o **módulo** del vector, que\n",
    "es simplemente la distancia entre dos puntos. En el caso anterior, si quisieramos\n",
    "saber cuantos kilómetros (o pixels) tiene que moverse nuestro personaje, esa información\n",
    "nos la da el módulo. \n",
    "\n",
    "Podemos definir nuestro propio método para poder calcular el módulo de\n",
    "un vector, se trata solo de implementar la función de la [distancia euclidea](https://es.wikipedia.org/wiki/Distancia_euclidiana), es decir\n",
    "la raiz cuadrada de la suma de los cuadrados de las coordenadas $x$ e $y$:"
   ]
  },
  {
   "cell_type": "code",
   "execution_count": 74,
   "metadata": {},
   "outputs": [
    {
     "name": "stdout",
     "output_type": "stream",
     "text": [
      "5.0\n"
     ]
    }
   ],
   "source": [
    "import math\n",
    "\n",
    "class Vector2:\n",
    "    \n",
    "    def __init__(self, x=0, y=0):\n",
    "        self.x = x\n",
    "        self.y = y\n",
    "        \n",
    "    def __str__(self):\n",
    "        return 'Vector2({:.3f}, {:3f})'.format(self.x,self.y)\n",
    "    \n",
    "    def mod(self):\n",
    "        return math.sqrt(self.x**2 + self.y**2)\n",
    "        \n",
    "v = Vector2(3, 4)\n",
    "print(v.mod())"
   ]
  },
  {
   "cell_type": "code",
   "execution_count": 76,
   "metadata": {},
   "outputs": [],
   "source": [
    "### Vectores unitarios"
   ]
  },
  {
   "cell_type": "markdown",
   "metadata": {},
   "source": [
    "Los vectores definen dos cosas: una distancia (módulo o magnitudd) y una dirección. Normalmente\n",
    "esta información están implicitas en el propio vector, pero en determinados casos podemos querer\n",
    "trabajar con esos dos conceptos por separado. Para la magnitud o modulo solo necesitamos\n",
    "un número, pero para indicar la direccion usaremos lo que se llama un **vector unitario** que\n",
    "apunte en la misma direccion que el vector original. Un vector unitario es, simplemente, un vector cuyo módulo es $1$.\n",
    "\n",
    "La operación de obtener un vector unitario a partir de un vector cualquiera se denomina **normalización**.\n",
    "\n",
    "Podemos obtener un vector unitario a partir de un vector normal dividiendo cada una de las coordenadas del vector por su módulo. Implementemos un método `normalize` que haga exactamente esto:"
   ]
  },
  {
   "cell_type": "code",
   "execution_count": 79,
   "metadata": {},
   "outputs": [],
   "source": [
    "import math\n",
    "\n",
    "class Vector2:\n",
    "    \n",
    "    def __init__(self, x=0, y=0):\n",
    "        self.x = x\n",
    "        self.y = y\n",
    "        \n",
    "    def __str__(self):\n",
    "        return 'Vector2({:.3f}, {:3f})'.format(self.x,self.y)\n",
    "    \n",
    "    def mod(self):\n",
    "        return math.sqrt(self.x**2 + self.y**2)\n",
    "    \n",
    "    def normalize(self):\n",
    "        d = self.mod()\n",
    "        return Vector2(self.x / d, self.y / d)"
   ]
  },
  {
   "cell_type": "code",
   "execution_count": 81,
   "metadata": {},
   "outputs": [
    {
     "name": "stdout",
     "output_type": "stream",
     "text": [
      "Vector2(0.707, 0.707107)\n"
     ]
    }
   ],
   "source": [
    "v = Vector2(90, 90)\n",
    "print(v.normalize())"
   ]
  },
  {
   "cell_type": "markdown",
   "metadata": {},
   "source": [
    "Todo vector unitario tiene módulo $1$"
   ]
  },
  {
   "cell_type": "code",
   "execution_count": 84,
   "metadata": {},
   "outputs": [],
   "source": [
    "v = Vector2(90, 90).normalize().mod() == 1"
   ]
  },
  {
   "cell_type": "markdown",
   "metadata": {},
   "source": [
    "## Suma de vectores\n",
    "\n",
    "La suma de vectores toma dos argumentos de tipo Vector y produce un nuevo\n",
    "vector resultante, que viene a ser el resultado de combinar los dos. Por ejemplo,\n",
    "si me quiero mover 5 pixels a la derecha y 4 pixel arriba (Vector2(5, -4)) y luego\n",
    "me quiero mover 2 pixeles a la izquierda y 2 pixeles arriba (Vector2(-2, -2)), mis coordenadas\n",
    "finales serán 3, -6, es cedir que:\n",
    "    \n",
    "    Vector2(5, -4) + Vector2(-2, -2)\n",
    "    \n",
    "    \n",
    "Debería ser igual a:\n",
    "    \n",
    "    Vector2(3, -6)\n",
    "    \n",
    "Podemos hacer un método o una función `add` para sumar vectores:"
   ]
  },
  {
   "cell_type": "code",
   "execution_count": 87,
   "metadata": {},
   "outputs": [
    {
     "name": "stdout",
     "output_type": "stream",
     "text": [
      "Vector2(3.000, -6.000000)\n"
     ]
    }
   ],
   "source": [
    "def  add(v1, v2):\n",
    "    return Vector2(v1.x + v2.x, v1.y + v2.y)\n",
    "\n",
    "v1 = Vector2(5, -4)\n",
    "v2 = Vector2(-2, -2)\n",
    "v3 = add(v1, v2)\n",
    "print(v3)"
   ]
  },
  {
   "cell_type": "markdown",
   "metadata": {},
   "source": [
    "pero Python nos proporciona un sistema mucho mejor, llamado _sobrecarga de operadores_, por el cual podemos definir como se comportan nuestro objetos ante determinadas operaciones, como por ejemplo, la suma. Para ello, usa una serie de nombres mágicos (como `__init__` y `__str__`,ya vistos). En el\n",
    "caso de la suma, debemos implemenar un ḿetodo que se debe llamar `__add__`.\n",
    "\n",
    "Veamos como implementar esto en nuestra clase Vector2:"
   ]
  },
  {
   "cell_type": "code",
   "execution_count": 89,
   "metadata": {},
   "outputs": [],
   "source": [
    "import math\n",
    "\n",
    "class Vector2:\n",
    "    \n",
    "    def __init__(self, x=0, y=0):\n",
    "        self.x = x\n",
    "        self.y = y\n",
    "        \n",
    "    def __str__(self):\n",
    "        return 'Vector2({:.3f}, {:3f})'.format(self.x,self.y)\n",
    "    \n",
    "    def mod(self):\n",
    "        return math.sqrt(self.x**2 + self.y**2)\n",
    "    \n",
    "    def normalize(self):\n",
    "        d = self.mod()\n",
    "        return Vector2(self.x / d, self.y / d)\n",
    "    \n",
    "    def __add__(self, other):\n",
    "        return Vector2(self.x+other.x, self.y+other.y)"
   ]
  },
  {
   "cell_type": "markdown",
   "metadata": {},
   "source": [
    "Y ahora podemos sumar vectores de una forma mucho más legible y cómoda:"
   ]
  },
  {
   "cell_type": "code",
   "execution_count": 90,
   "metadata": {},
   "outputs": [
    {
     "name": "stdout",
     "output_type": "stream",
     "text": [
      "Vector2(3.000, -6.000000)\n"
     ]
    }
   ],
   "source": [
    "v1 = Vector2(5, -4)\n",
    "v2 = Vector2(-2, -2)\n",
    "v3 = v1 + v2\n",
    "print(v3)"
   ]
  },
  {
   "cell_type": "code",
   "execution_count": null,
   "metadata": {},
   "outputs": [],
   "source": []
  }
 ],
 "metadata": {
  "kernelspec": {
   "display_name": "Python 3",
   "language": "python",
   "name": "python3"
  },
  "language_info": {
   "codemirror_mode": {
    "name": "ipython",
    "version": 3
   },
   "file_extension": ".py",
   "mimetype": "text/x-python",
   "name": "python",
   "nbconvert_exporter": "python",
   "pygments_lexer": "ipython3",
   "version": "3.5.2"
  }
 },
 "nbformat": 4,
 "nbformat_minor": 2
}
