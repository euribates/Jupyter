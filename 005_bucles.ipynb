{
 "cells": [
  {
   "cell_type": "markdown",
   "metadata": {},
   "source": [
    "## Estructuras de control: bucles\n",
    "\n"
   ]
  },
  {
   "cell_type": "markdown",
   "metadata": {},
   "source": [
    "Por ahora nuestros programas han sido todos lineales: Una serie de instrucciones que se ejecutan una detras de la otra. Las estructuras de control nos permiten cambiar esto de varias formas, por ejemplo, podemos hacer que una serie de instrucciones se repita varias veces, o podemos hacer que distintas partes del código se ejecute en diferentes condiciones. \n",
    "\n",
    "Los bucles son la estructura de control que nos permite repetir algo muchas veces. En Python hay de dos tipos, los bucles _for_ y los bucles _While_. Las dos formas son igual de potentes, pero un algunos casos es más legible y sencillo usar uno que otro. En esta sección veremos solo el bucle `for`, y dejaremos la [explicación del while](./009_while.ipynb) para un poco más adelante."
   ]
  },
  {
   "cell_type": "markdown",
   "metadata": {},
   "source": [
    "## El bucle for\n",
    "\n",
    "La primera estructura de control que veremos es el **bucle for**, que nos permite realizar una serie de instrucciones varias veces. Los bucles for están muy vinculados a las secuecias como las listas, porque funcionan repitiendo unas determinadas instrucciones _para cada elemento de la secuencia_. Su forma general es:\n",
    "\n",
    "<code>\n",
    "**for** _variable_ **in** _secuencia_:\n",
    "    _instruccion 1_\n",
    "    _instruccion 2_\n",
    "    _etc..._\n",
    "</code>\n",
    "    \n",
    "Observese que todas las instrucciones que se repiten están sangradas o **indentadas**, es decir, están más a la derecha que la línea for que empieza el bucle. En otrs lenguajes este sangrado o indentación es voluntario, porque se usan determinadas marcas para indicar el comienzo y el final de un bloque de código (símbolos como { y } en el caso de C y derivados, C++, C#, Java, JavaScript, etc... o con palabras reservadas como en Pascal `BEGIN` y `END`).\n",
    "\n",
    "En Python, por el contrario, como en otros lenguajes (Haskell, Occam, ...) **el sangrado tiene significado y es, por tanto, obligatorio**. La forma que tiene el lenguaje de saber, en este caso, que líneas de programa tiene que ejecutar de forma repetida es ver que líneas están indentadas a un nivel superior.\n",
    "\n",
    "> Nota: _Indentación_ es un anglicismo (de la palabra inglesa indentation) de uso común en  informática; no es un término reconocido por la Real Academia Española, por ahora. La Real Academia recomienda utilizar \"sangrado\". Este término significa mover un bloque\n",
    "\n",
    "Veamos un ejemplo, si queremos calcular  la suma de los números en una lista dada:"
   ]
  },
  {
   "cell_type": "code",
   "execution_count": 5,
   "metadata": {},
   "outputs": [
    {
     "name": "stdout",
     "output_type": "stream",
     "text": [
      "21\n"
     ]
    }
   ],
   "source": [
    "lista_de_numeros = [1, 2, 3, 4, 5, 6]\n",
    "acc = 0\n",
    "for num in lista_de_numeros:\n",
    "    acc = acc + num\n",
    "print(acc)"
   ]
  },
  {
   "cell_type": "markdown",
   "metadata": {},
   "source": [
    "Veamos varias cosas nuevas en este codigo:\n",
    "\n",
    " - Usamos la función `print` para imprimir un resultado. Hasta ahora hemos puesto simplrmente la variable o expresión a representar al final de la celda, que Jupyter notebook la pinta por nosotros. Usando la función `print` podemos imprimir en cualquier parte del programa.\n",
    "    \n",
    " - Usamos un acumulador (la variable `acc`) para ir sumando poco a poco los valores de la lista\n",
    "    \n",
    " - El bucle for solo ejecuta una línea, porque solo hay una línea indentada a un mayor nivel que el propio for"
   ]
  },
  {
   "cell_type": "markdown",
   "metadata": {},
   "source": [
    "**Ejercicio:** ¿Qué pasaría si el bucle for repitiera las dos líneas siguientes, no solo una? Es decir, si la línea `print(acc)` estuviera indentada"
   ]
  },
  {
   "cell_type": "code",
   "execution_count": 6,
   "metadata": {},
   "outputs": [
    {
     "name": "stdout",
     "output_type": "stream",
     "text": [
      "1\n",
      "3\n",
      "6\n",
      "10\n",
      "15\n",
      "21\n"
     ]
    }
   ],
   "source": [
    "lista_de_numeros = [1, 2, 3, 4, 5, 6]\n",
    "acc = 0\n",
    "for num in lista_de_numeros:\n",
    "    acc = acc + num\n",
    "    print(acc)"
   ]
  },
  {
   "cell_type": "markdown",
   "metadata": {},
   "source": [
    "**Otro ejercicio:** Calcular la media de los números de una lista\n",
    "    \n",
    "Para este ejercicio, hay que usar una función llamada `len`. Esta función acepta como parámetro una secuencia (como por ejemplo, una lista) y nos devuelve el número de elementos particilares en la misma. Por ejemplo:"
   ]
  },
  {
   "cell_type": "code",
   "execution_count": 8,
   "metadata": {},
   "outputs": [
    {
     "name": "stdout",
     "output_type": "stream",
     "text": [
      "5\n"
     ]
    }
   ],
   "source": [
    "l = [0, 1, 2, 3, 4]\n",
    "print(len(l))  # Debería ser 5"
   ]
  },
  {
   "cell_type": "code",
   "execution_count": 10,
   "metadata": {},
   "outputs": [
    {
     "name": "stdout",
     "output_type": "stream",
     "text": [
      "21 6 Ellipsis\n"
     ]
    }
   ],
   "source": [
    "lista_de_numeros = [1, 2, 3, 4, 5, 6]\n",
    "acc = 0\n",
    "for num in lista_de_numeros:\n",
    "    acc = acc + num\n",
    "    \n",
    "media = ...  # Tu código aquí\n",
    "\n",
    "print(acc, len(lista_de_numeros), media)\n"
   ]
  },
  {
   "cell_type": "markdown",
   "metadata": {},
   "source": [
    "Observese que la función `print` admite un **número variable de parámetros**. En este caso se le estan dado tres parámetros, y el simplemente los representa en pantalla uno después de otro."
   ]
  },
  {
   "cell_type": "markdown",
   "metadata": {},
   "source": [
    "¿Qué pasa si quiero ejecutar algo 1000 veces? Como hemos visto hasta ahora, el `for` depende de una secuencia para ejecutarse. Para ello recurrimos al ya conocido `range`. Esta función devuelve una secuencia de valores perfectamente recorribles por un `for`. Por ejemplo, vamos a imprimir los cuadrados de los 10 primeros números naturales:"
   ]
  },
  {
   "cell_type": "code",
   "execution_count": 11,
   "metadata": {},
   "outputs": [
    {
     "name": "stdout",
     "output_type": "stream",
     "text": [
      "1 1\n",
      "2 4\n",
      "3 9\n",
      "4 16\n",
      "5 25\n",
      "6 36\n",
      "7 49\n",
      "8 64\n",
      "9 81\n",
      "10 100\n"
     ]
    }
   ],
   "source": [
    "for i in range(1, 11):\n",
    "    print(i, i**2)"
   ]
  },
  {
   "cell_type": "markdown",
   "metadata": {},
   "source": [
    "### Cómo NO recorrer una lista\n",
    "\n",
    "A veces, la gente que viene de otros lenguajes de programación está acostumbrada\n",
    "a una forma del bucle `for` en el que el valor que cambia en cada iteración no es el valor del elemento correspondiente de la secuencia, sino un índice númerico de la posición del elemento en la secuencia. Los programadores acostumbrados a ese tipo de bucles a veces hacen código de esta forma:"
   ]
  },
  {
   "cell_type": "code",
   "execution_count": 2,
   "metadata": {},
   "outputs": [
    {
     "name": "stdout",
     "output_type": "stream",
     "text": [
      "lunes\n",
      "martes\n",
      "miércoles\n",
      "jueves\n",
      "viernes\n",
      "sábado\n",
      "domingo\n"
     ]
    }
   ],
   "source": [
    "l = ['lunes', 'martes', 'miércoles', 'jueves', 'viernes', 'sábado', 'domingo']\n",
    "for i in range(len(l)):\n",
    "    dia = l[i]\n",
    "    print(dia)"
   ]
  },
  {
   "cell_type": "markdown",
   "metadata": {},
   "source": [
    "Hay que cambiar ese hábito, porque los bucles son así más lentos y el código, encima, más difícil de leer; comparen el código anterior con esta forma más _pythónica_:"
   ]
  },
  {
   "cell_type": "code",
   "execution_count": 4,
   "metadata": {},
   "outputs": [
    {
     "name": "stdout",
     "output_type": "stream",
     "text": [
      "lunes\n",
      "martes\n",
      "miércoles\n",
      "jueves\n",
      "viernes\n",
      "sábado\n",
      "domingo\n"
     ]
    }
   ],
   "source": [
    "l = ['lunes', 'martes', 'miércoles', 'jueves', 'viernes', 'sábado', 'domingo']\n",
    "for dia in l:\n",
    "    print(dia)"
   ]
  },
  {
   "cell_type": "code",
   "execution_count": null,
   "metadata": {},
   "outputs": [],
   "source": [
    "La excusa que dan a veces es ¿Y si mañana necesito el índice? por ejemplo, para mostrar el índice y el nombre del día:\n"
   ]
  },
  {
   "cell_type": "code",
   "execution_count": 5,
   "metadata": {},
   "outputs": [
    {
     "name": "stdout",
     "output_type": "stream",
     "text": [
      "0 lunes\n",
      "1 martes\n",
      "2 miércoles\n",
      "3 jueves\n",
      "4 viernes\n",
      "5 sábado\n",
      "6 domingo\n"
     ]
    }
   ],
   "source": [
    "l = ['lunes', 'martes', 'miércoles', 'jueves', 'viernes', 'sábado', 'domingo']\n",
    "for i in range(len(l)):\n",
    "    dia = l[i]\n",
    "    print(i, dia)"
   ]
  },
  {
   "cell_type": "markdown",
   "metadata": {},
   "source": [
    "Para resolver esto se usa una función llamada `enumerate`, que por cada elemento de la secuencia que le pasamos como entrada, nos devuelve una pareja de valores, siendo el primero  de ellos el índice y el segundo el elemento en si, de forma que la solución _pythónica_ del caso anterior sería:"
   ]
  },
  {
   "cell_type": "code",
   "execution_count": 6,
   "metadata": {},
   "outputs": [
    {
     "name": "stdout",
     "output_type": "stream",
     "text": [
      "0 lunes\n",
      "1 martes\n",
      "2 miércoles\n",
      "3 jueves\n",
      "4 viernes\n",
      "5 sábado\n",
      "6 domingo\n"
     ]
    }
   ],
   "source": [
    "l = ['lunes', 'martes', 'miércoles', 'jueves', 'viernes', 'sábado', 'domingo']\n",
    "for i, dia in enumerate(l):\n",
    "    print(i, dia)"
   ]
  },
  {
   "cell_type": "markdown",
   "metadata": {},
   "source": [
    "Que sigue siendo más rápida y legible que la alternativa no _pythónica_."
   ]
  },
  {
   "cell_type": "markdown",
   "metadata": {},
   "source": [
    "## Resumen y comentario\n",
    "\n",
    "- Los bucles nos permiten ejecutar un bloque de ĺíneas de código muchas veces\n",
    "\n",
    "- El bucle `for` es una forma especializada de bucle que está especialmente indicada\n",
    "  para recorrer secuencias.\n",
    "  \n",
    "- Si venimos de otros lenguajes de programación, podemos sentirnos tentados de hacer \n",
    "  los bucles con for usando siempre el `range`. Esto no es recomendable porque el código \n",
    "  resulta menos legible y es más lento"
   ]
  },
  {
   "cell_type": "code",
   "execution_count": 1,
   "metadata": {},
   "outputs": [
    {
     "data": {
      "text/plain": [
       "['el',\n",
       " 'la',\n",
       " 'los',\n",
       " 'las',\n",
       " 'por',\n",
       " 'de',\n",
       " 'del',\n",
       " 'que',\n",
       " 'se',\n",
       " 'y',\n",
       " 'que',\n",
       " 'a',\n",
       " 'ante',\n",
       " 'bajo',\n",
       " 'con',\n",
       " 'contra',\n",
       " 'de',\n",
       " 'desde',\n",
       " 'en',\n",
       " 'entre',\n",
       " 'hacia',\n",
       " 'hasta',\n",
       " 'para',\n",
       " 'por',\n",
       " 'segun',\n",
       " 'sin',\n",
       " 'sobre',\n",
       " 'tras',\n",
       " 'durante',\n",
       " 'mediante']"
      ]
     },
     "execution_count": 1,
     "metadata": {},
     "output_type": "execute_result"
    }
   ],
   "source": [
    "stop_words = '''\n",
    "el la los las por de del que se y que\n",
    "a ante bajo con contra de desde en entre hacia hasta para por segun\n",
    "sin sobre tras durante mediante\n",
    "'''.split()\n",
    "\n",
    "stop_words"
   ]
  },
  {
   "cell_type": "code",
   "execution_count": null,
   "metadata": {},
   "outputs": [],
   "source": []
  }
 ],
 "metadata": {
  "kernelspec": {
   "display_name": "Python 3",
   "language": "python",
   "name": "python3"
  },
  "language_info": {
   "codemirror_mode": {
    "name": "ipython",
    "version": 3
   },
   "file_extension": ".py",
   "mimetype": "text/x-python",
   "name": "python",
   "nbconvert_exporter": "python",
   "pygments_lexer": "ipython3",
   "version": "3.5.2"
  }
 },
 "nbformat": 4,
 "nbformat_minor": 2
}
