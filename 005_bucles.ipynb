{
 "cells": [
  {
   "cell_type": "markdown",
   "metadata": {},
   "source": [
    "## Estructuras de control: bucles\n",
    "\n"
   ]
  },
  {
   "cell_type": "markdown",
   "metadata": {},
   "source": [
    "Por ahora nuestros programas han sido todos lineales: Una serie de instrucciones que se ejecutan una detras de la otra. Las estructuras de control nos permiten cambiar esto de varias formas, por ejemplo, podemos hacer que una serie de instrucciones se repita varias veces, o podemos hacer que distintas partes del código se ejecute en diferentes condiciones. \n",
    "\n",
    "Los bucles son la estructura de control que nos permite repetir algo muchas veces. En Python hay de dos tipos, los bucles _for_ y los bucles _While_. Las dos formas son igual de potentes, pero un algunos casos es más legible y sencillo usar uno que otro."
   ]
  },
  {
   "cell_type": "markdown",
   "metadata": {},
   "source": [
    "## El bucle for\n",
    "\n",
    "La primera estructura de control que veremos es el **bucle for**, que nos permite realizar una serie de instrucciones varias veces. Los bucles for están muy vinculados a las secuecias como las listas, porque funcionan repitiendo unas determinadas instrucciones _para cada elemento de la secuencia_. Su forma general es:\n",
    "\n",
    "<code>\n",
    "**for** _variable_ **in** _secuencia_:\n",
    "    _instruccion 1_\n",
    "    _instruccion 2_\n",
    "    _etc..._\n",
    "</code>\n",
    "    \n",
    "Observese que todas las instrucciones que se repiten están sangradas o **indentadas**, es decir, están más a la derecha que la línea for que empieza el bucle. En otrs lenguajes este sangrado o indentación es voluntario, porque se usan determinadas marcas para indicar el comienzo y el final de un bloque de código (símbolos como { y } en el caso de C y derivados, C++, C#, Java, JavaScript, etc... o con palabras reservadas como en Pascal `BEGIN` y `END`).\n",
    "\n",
    "En Python, por el contrario, como en otros lenguajes (Haskell, Occam, ...) **el sangrado tiene significado y es, por tanto, obligatorio**. La forma que tiene el lenguaje de saber, en este caso, que líneas de programa tiene que ejecutar de forma repetida es ver que líneas están indentadas a un nivel superior.\n",
    "\n",
    "> Nota: _Indentación_ es un anglicismo (de la palabra inglesa indentation) de uso común en  informática; no es un término reconocido por la Real Academia Española, por ahora. La Real Academia recomienda utilizar \"sangrado\". Este término significa mover un bloque\n",
    "\n",
    "Veamos un ejemplo, si queremos calcular  la suma de los números en una lista dada:"
   ]
  },
  {
   "cell_type": "code",
   "execution_count": 5,
   "metadata": {},
   "outputs": [
    {
     "name": "stdout",
     "output_type": "stream",
     "text": [
      "21\n"
     ]
    }
   ],
   "source": [
    "lista_de_numeros = [1, 2, 3, 4, 5, 6]\n",
    "acc = 0\n",
    "for num in lista_de_numeros:\n",
    "    acc = acc + num\n",
    "print(acc)"
   ]
  },
  {
   "cell_type": "markdown",
   "metadata": {},
   "source": [
    "Veamos varias cosas nuevas en este codigo:\n",
    "\n",
    " - Usamos la función `print` para imprimir un resultado. Hasta ahora hemos puesto simplrmente la variable o expresión a representar al final de la celda, que Jupyter notebook la pinta por nosotros. Usando la función `print` podemos imprimir en cualquier parte del programa.\n",
    "    \n",
    " - Usamos un acumulador (la variable `acc`) para ir sumando poco a poco los valores de la lista\n",
    "    \n",
    " - El bucle for solo ejecuta una línea, porque solo hay una línea indentada a un mayor nivel que el propio for"
   ]
  },
  {
   "cell_type": "markdown",
   "metadata": {},
   "source": [
    "**Ejercicio:** ¿Qué pasaría si el bucle for repitiera las dos líneas siguientes, no solo una? Es decir, si la línea `print(acc)` estuviera indentada"
   ]
  },
  {
   "cell_type": "code",
   "execution_count": 6,
   "metadata": {},
   "outputs": [
    {
     "name": "stdout",
     "output_type": "stream",
     "text": [
      "1\n",
      "3\n",
      "6\n",
      "10\n",
      "15\n",
      "21\n"
     ]
    }
   ],
   "source": [
    "lista_de_numeros = [1, 2, 3, 4, 5, 6]\n",
    "acc = 0\n",
    "for num in lista_de_numeros:\n",
    "    acc = acc + num\n",
    "    print(acc)"
   ]
  },
  {
   "cell_type": "markdown",
   "metadata": {},
   "source": [
    "**Otro ejercicio:** Calcular la media de los números de una lista\n",
    "    \n",
    "Para este ejercicio, hay que usar una función llamada `len`. Esta función acepta como parámetro una secuencia (como por ejemplo, una lista) y nos devuelve el número de elementos particilares en la misma. Por ejemplo:"
   ]
  },
  {
   "cell_type": "code",
   "execution_count": 8,
   "metadata": {},
   "outputs": [
    {
     "name": "stdout",
     "output_type": "stream",
     "text": [
      "5\n"
     ]
    }
   ],
   "source": [
    "l = [0, 1, 2, 3, 4]\n",
    "print(len(l))  # Debería ser 5"
   ]
  },
  {
   "cell_type": "code",
   "execution_count": 10,
   "metadata": {},
   "outputs": [
    {
     "name": "stdout",
     "output_type": "stream",
     "text": [
      "21 6 Ellipsis\n"
     ]
    }
   ],
   "source": [
    "lista_de_numeros = [1, 2, 3, 4, 5, 6]\n",
    "acc = 0\n",
    "for num in lista_de_numeros:\n",
    "    acc = acc + num\n",
    "    \n",
    "media = ...  # Tu código aquí\n",
    "\n",
    "print(acc, len(lista_de_numeros), media)\n"
   ]
  },
  {
   "cell_type": "markdown",
   "metadata": {},
   "source": [
    "Observese que la función `print` admite un **número variable de parámetros**. En este caso se le estan dado tres parámetros, y el simplemente los representa en pantalla uno después de otro."
   ]
  },
  {
   "cell_type": "markdown",
   "metadata": {},
   "source": [
    "¿Qué pasa si quiero ejecutar algo 1000 veces? Como hemos visto hasta ahora, el `for` depende de una secuencia para ejecutarse. Para ello recurrimos al ya conocido `range`. Esta función devuelve una secuencia de valores perfectamente recorribles por un `for`. Por ejemplo, vamos a imprimir los cuadrados de los 10 primeros números naturales:"
   ]
  },
  {
   "cell_type": "code",
   "execution_count": 11,
   "metadata": {},
   "outputs": [
    {
     "name": "stdout",
     "output_type": "stream",
     "text": [
      "1 1\n",
      "2 4\n",
      "3 9\n",
      "4 16\n",
      "5 25\n",
      "6 36\n",
      "7 49\n",
      "8 64\n",
      "9 81\n",
      "10 100\n"
     ]
    }
   ],
   "source": [
    "for i in range(1, 11):\n",
    "    print(i, i**2)"
   ]
  },
  {
   "cell_type": "markdown",
   "metadata": {},
   "source": [
    "## El bucle While\n",
    "\n",
    "El **bucle While** en Python, al igual que el for, sirve para ejecutar repetidas veces un bloque de código. La sintaxis es:\n",
    "\n",
    "<code>**while** _condicion_:  \n",
    "    _primera_línea_del_bloque_  \n",
    "    _segunda_línea_del_bloque_  \n",
    "    ...  \n",
    "    _última_línea_del_bloque_  \n",
    "</code>"
   ]
  },
  {
   "cell_type": "markdown",
   "metadata": {},
   "source": [
    "El intérprete de Python repetirá el bloque indentado dentro del `while` tantas veces como sea necesario, hasta que la condición especificada en el bloque sea verdadera.\n",
    "\n",
    "Cosas a tener en cuenta:\n",
    "\n",
    " - Al menos una de las líneas de codigo dentro del bloque tiene que modificar alguna\n",
    "    de las variables incluidas en la expresión de la condición; en caso contrario, por\n",
    "    mucho que se reitere la ejecución del código, la condición nunca será verdadera y\n",
    "    estariamos en lo que se llama un bucle sin fin.\n",
    "    \n",
    " - Todo lo que se puede hacer con un bucle `for` se puede hacer con un bucle `while`, y viceversa\n",
    " \n",
    " \n",
    "A modo de ejemplo, vaemos el ejercicio anterior de imprimir los cuadrados de los 10 primeros números naturales, pero ahora implementado con un `while`:"
   ]
  },
  {
   "cell_type": "code",
   "execution_count": 13,
   "metadata": {},
   "outputs": [
    {
     "name": "stdout",
     "output_type": "stream",
     "text": [
      "1 1\n",
      "2 4\n",
      "3 9\n",
      "4 16\n",
      "5 25\n",
      "6 36\n",
      "7 49\n",
      "8 64\n",
      "9 81\n",
      "10 100\n"
     ]
    }
   ],
   "source": [
    "num = 1\n",
    "while num < 11:\n",
    "    print(num, num**2)\n",
    "    num = num + 1"
   ]
  },
  {
   "cell_type": "markdown",
   "metadata": {},
   "source": [
    "**Pregunta:** ¿Qué pasaría si la última línea estuviera fuera del `while`, es decir, identado al mismo nivel que este? No ejecutes el código que ver que psas, es un experimento mental."
   ]
  },
  {
   "cell_type": "markdown",
   "metadata": {},
   "source": [
    "**Ejercicio:** Representar en una gráfica las funciones $y=x$, $y=x^2$ e $y=x^3$ usando matplotlib. Calcular los resultados de las funciones en un único bucle for."
   ]
  },
  {
   "cell_type": "code",
   "execution_count": 32,
   "metadata": {},
   "outputs": [
    {
     "data": {
      "text/plain": [
       "[<matplotlib.lines.Line2D at 0x7f8d78727978>]"
      ]
     },
     "execution_count": 32,
     "metadata": {},
     "output_type": "execute_result"
    },
    {
     "data": {
      "image/png": "[encoded data removed]",
      "text/plain": [
       "<matplotlib.figure.Figure at 0x7f8dac7bcfd0>"
      ]
     },
     "metadata": {},
     "output_type": "display_data"
    }
   ],
   "source": [
    "%matplotlib inline\n",
    "\n",
    "from matplotlib import pyplot as plt\n",
    "\n",
    "x = range(7)\n",
    "y1 = []\n",
    "y2 = []\n",
    "y3 = []\n",
    "for value in x:\n",
    "    y1.append(value)\n",
    "    y2.append(value**2)\n",
    "    y3.append(value**3)\n",
    "    \n",
    "plt.plot(x, y1)\n",
    "plt.plot(x, y2)\n",
    "plt.plot(x, y3)    \n"
   ]
  },
  {
   "cell_type": "markdown",
   "metadata": {},
   "source": [
    "## Resumen y comentario\n",
    "\n",
    "- Tanto los bucles `for` como `while` permite ejecutar un fragmento o bloque de código repetidas veces\n",
    "\n",
    "- Ambos formas son igualmente potentes, lo que se puede hacer con una, se puede hacer con la otra\n",
    "\n",
    "- Èn general, el `for` es más cómodo de usar cuando vamos a trabajar con una secuencia ya definida, como una lista, o cuando sabemos de antemano cuantas veces tenemos que repetir el bucle. El `while` se suele utilizar cuando no sabemos a priori cuantes vueltas o iteraciones vamos a tener que hacer."
   ]
  },
  {
   "cell_type": "code",
   "execution_count": 3,
   "metadata": {},
   "outputs": [
    {
     "data": {
      "text/html": [
       "\n",
       "<style>\n",
       ".highlight .hll { background-color: #ffffcc }\n",
       ".highlight  { background: #f8f8f8; }\n",
       ".highlight .c { color: #408080; font-style: italic } /* Comment */\n",
       ".highlight .err { border: 1px solid #FF0000 } /* Error */\n",
       ".highlight .k { color: #008000; font-weight: bold } /* Keyword */\n",
       ".highlight .o { color: #666666 } /* Operator */\n",
       ".highlight .ch { color: #408080; font-style: italic } /* Comment.Hashbang */\n",
       ".highlight .cm { color: #408080; font-style: italic } /* Comment.Multiline */\n",
       ".highlight .cp { color: #BC7A00 } /* Comment.Preproc */\n",
       ".highlight .cpf { color: #408080; font-style: italic } /* Comment.PreprocFile */\n",
       ".highlight .c1 { color: #408080; font-style: italic } /* Comment.Single */\n",
       ".highlight .cs { color: #408080; font-style: italic } /* Comment.Special */\n",
       ".highlight .gd { color: #A00000 } /* Generic.Deleted */\n",
       ".highlight .ge { font-style: italic } /* Generic.Emph */\n",
       ".highlight .gr { color: #FF0000 } /* Generic.Error */\n",
       ".highlight .gh { color: #000080; font-weight: bold } /* Generic.Heading */\n",
       ".highlight .gi { color: #00A000 } /* Generic.Inserted */\n",
       ".highlight .go { color: #888888 } /* Generic.Output */\n",
       ".highlight .gp { color: #000080; font-weight: bold } /* Generic.Prompt */\n",
       ".highlight .gs { font-weight: bold } /* Generic.Strong */\n",
       ".highlight .gu { color: #800080; font-weight: bold } /* Generic.Subheading */\n",
       ".highlight .gt { color: #0044DD } /* Generic.Traceback */\n",
       ".highlight .kc { color: #008000; font-weight: bold } /* Keyword.Constant */\n",
       ".highlight .kd { color: #008000; font-weight: bold } /* Keyword.Declaration */\n",
       ".highlight .kn { color: #008000; font-weight: bold } /* Keyword.Namespace */\n",
       ".highlight .kp { color: #008000 } /* Keyword.Pseudo */\n",
       ".highlight .kr { color: #008000; font-weight: bold } /* Keyword.Reserved */\n",
       ".highlight .kt { color: #B00040 } /* Keyword.Type */\n",
       ".highlight .m { color: #666666 } /* Literal.Number */\n",
       ".highlight .s { color: #BA2121 } /* Literal.String */\n",
       ".highlight .na { color: #7D9029 } /* Name.Attribute */\n",
       ".highlight .nb { color: #008000 } /* Name.Builtin */\n",
       ".highlight .nc { color: #0000FF; font-weight: bold } /* Name.Class */\n",
       ".highlight .no { color: #880000 } /* Name.Constant */\n",
       ".highlight .nd { color: #AA22FF } /* Name.Decorator */\n",
       ".highlight .ni { color: #999999; font-weight: bold } /* Name.Entity */\n",
       ".highlight .ne { color: #D2413A; font-weight: bold } /* Name.Exception */\n",
       ".highlight .nf { color: #0000FF } /* Name.Function */\n",
       ".highlight .nl { color: #A0A000 } /* Name.Label */\n",
       ".highlight .nn { color: #0000FF; font-weight: bold } /* Name.Namespace */\n",
       ".highlight .nt { color: #008000; font-weight: bold } /* Name.Tag */\n",
       ".highlight .nv { color: #19177C } /* Name.Variable */\n",
       ".highlight .ow { color: #AA22FF; font-weight: bold } /* Operator.Word */\n",
       ".highlight .w { color: #bbbbbb } /* Text.Whitespace */\n",
       ".highlight .mb { color: #666666 } /* Literal.Number.Bin */\n",
       ".highlight .mf { color: #666666 } /* Literal.Number.Float */\n",
       ".highlight .mh { color: #666666 } /* Literal.Number.Hex */\n",
       ".highlight .mi { color: #666666 } /* Literal.Number.Integer */\n",
       ".highlight .mo { color: #666666 } /* Literal.Number.Oct */\n",
       ".highlight .sa { color: #BA2121 } /* Literal.String.Affix */\n",
       ".highlight .sb { color: #BA2121 } /* Literal.String.Backtick */\n",
       ".highlight .sc { color: #BA2121 } /* Literal.String.Char */\n",
       ".highlight .dl { color: #BA2121 } /* Literal.String.Delimiter */\n",
       ".highlight .sd { color: #BA2121; font-style: italic } /* Literal.String.Doc */\n",
       ".highlight .s2 { color: #BA2121 } /* Literal.String.Double */\n",
       ".highlight .se { color: #BB6622; font-weight: bold } /* Literal.String.Escape */\n",
       ".highlight .sh { color: #BA2121 } /* Literal.String.Heredoc */\n",
       ".highlight .si { color: #BB6688; font-weight: bold } /* Literal.String.Interpol */\n",
       ".highlight .sx { color: #008000 } /* Literal.String.Other */\n",
       ".highlight .sr { color: #BB6688 } /* Literal.String.Regex */\n",
       ".highlight .s1 { color: #BA2121 } /* Literal.String.Single */\n",
       ".highlight .ss { color: #19177C } /* Literal.String.Symbol */\n",
       ".highlight .bp { color: #008000 } /* Name.Builtin.Pseudo */\n",
       ".highlight .fm { color: #0000FF } /* Name.Function.Magic */\n",
       ".highlight .vc { color: #19177C } /* Name.Variable.Class */\n",
       ".highlight .vg { color: #19177C } /* Name.Variable.Global */\n",
       ".highlight .vi { color: #19177C } /* Name.Variable.Instance */\n",
       ".highlight .vm { color: #19177C } /* Name.Variable.Magic */\n",
       ".highlight .il { color: #666666 } /* Literal.Number.Integer.Long */\n",
       "</style>\n"
      ],
      "text/plain": [
       "<IPython.core.display.HTML object>"
      ]
     },
     "metadata": {},
     "output_type": "display_data"
    },
    {
     "data": {
      "text/html": [
       "<div class=\"highlight\"><pre><span></span><span class=\"k\">SELECT</span> <span class=\"n\">id</span><span class=\"p\">,</span> <span class=\"n\">name</span>\n",
       "  <span class=\"k\">FROM</span> <span class=\"n\">users</span>\n",
       " <span class=\"k\">WHERE</span> <span class=\"n\">name</span> <span class=\"k\">between</span> <span class=\"s1\">&#39;B&#39;</span> <span class=\"k\">AND</span> <span class=\"s1\">&#39;P&#39;</span>\n",
       "<span class=\"k\">LIMIT</span> <span class=\"mi\">50</span>\n",
       "</pre></div>\n"
      ],
      "text/plain": [
       "<IPython.core.display.HTML object>"
      ]
     },
     "metadata": {},
     "output_type": "display_data"
    }
   ],
   "source": [
    "from pygments import highlight\n",
    "from pygments.lexers import SqlLexer\n",
    "from pygments.formatters import HtmlFormatter\n",
    "from IPython.core.display import HTML\n",
    "\n",
    "sql_string = '''\n",
    "SELECT id, name\n",
    "  FROM users\n",
    " WHERE name between 'B' AND 'P'\n",
    "LIMIT 50\n",
    "'''\n",
    "\n",
    "display(HTML(\"\"\"\n",
    "<style>\n",
    "{pygments_css}\n",
    "</style>\n",
    "\"\"\".format(pygments_css=HtmlFormatter().get_style_defs('.highlight'))))\n",
    "display(HTML(data=highlight(sql_string, SqlLexer(), HtmlFormatter())))"
   ]
  },
  {
   "cell_type": "markdown",
   "metadata": {},
   "source": [
    "![Slides](art/slices.svg)"
   ]
  },
  {
   "cell_type": "code",
   "execution_count": 1,
   "metadata": {},
   "outputs": [
    {
     "data": {
      "text/plain": [
       "['el',\n",
       " 'la',\n",
       " 'los',\n",
       " 'las',\n",
       " 'por',\n",
       " 'de',\n",
       " 'del',\n",
       " 'que',\n",
       " 'se',\n",
       " 'y',\n",
       " 'que',\n",
       " 'a',\n",
       " 'ante',\n",
       " 'bajo',\n",
       " 'con',\n",
       " 'contra',\n",
       " 'de',\n",
       " 'desde',\n",
       " 'en',\n",
       " 'entre',\n",
       " 'hacia',\n",
       " 'hasta',\n",
       " 'para',\n",
       " 'por',\n",
       " 'segun',\n",
       " 'sin',\n",
       " 'sobre',\n",
       " 'tras',\n",
       " 'durante',\n",
       " 'mediante']"
      ]
     },
     "execution_count": 1,
     "metadata": {},
     "output_type": "execute_result"
    }
   ],
   "source": [
    "\n",
    "stop_words = '''\n",
    "el la los las por de del que se y que\n",
    "a ante bajo con contra de desde en entre hacia hasta para por segun\n",
    "sin sobre tras durante mediante\n",
    "'''.split()\n",
    "\n",
    "stop_words"
   ]
  },
  {
   "cell_type": "code",
   "execution_count": null,
   "metadata": {},
   "outputs": [],
   "source": []
  }
 ],
 "metadata": {
  "kernelspec": {
   "display_name": "Python 3",
   "language": "python",
   "name": "python3"
  },
  "language_info": {
   "codemirror_mode": {
    "name": "ipython",
    "version": 3
   },
   "file_extension": ".py",
   "mimetype": "text/x-python",
   "name": "python",
   "nbconvert_exporter": "python",
   "pygments_lexer": "ipython3",
   "version": "3.5.2"
  }
 },
 "nbformat": 4,
 "nbformat_minor": 2
}
