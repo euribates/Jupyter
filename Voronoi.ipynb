{
 "cells": [
  {
   "cell_type": "code",
   "execution_count": 6,
   "metadata": {},
   "outputs": [],
   "source": [
    "import sys\n",
    "import random\n",
    "import math\n",
    "\n",
    "\n",
    "size = width, height = 640, 480\n",
    "\n",
    "# Colores\n",
    "\n",
    "black = (0, 0 , 0)\n",
    "white = (255, 255, 255)\n",
    "\n",
    "class Point:\n",
    "\n",
    "    def __init__(self, x=0, y=0, color=white):\n",
    "        self.x = x\n",
    "        self.y = y\n",
    "        self.color = color\n",
    "\n",
    "    @classmethod\n",
    "    def random(self):\n",
    "        x = random.randint(0, width)\n",
    "        y = random.randint(0, width)\n",
    "        color = (\n",
    "            random.randint(0, 255),\n",
    "            random.randint(0, 255),\n",
    "            random.randint(0, 255),\n",
    "            )\n",
    "        return Point(x, y, color)\n",
    "\n",
    "    def move(self):\n",
    "        self.x += random.random() - 0.5\n",
    "        self.y += random.random() - 0.5\n",
    "        return self\n",
    "\n",
    "    def distance(self, x, y):\n",
    "        return math.sqrt(\n",
    "            (self.x - x)**2 + (self.y - y)**2\n",
    "            )\n",
    "    \n",
    "    def __repr__(self):\n",
    "        return 'Point(x={}, y={}, color={})'.format(self.x, self.y, self.color)\n",
    "\n",
    "\n",
    "points = [Point.random() for _ in range(2)]\n",
    "\n",
    "def draw_voronoi(canvas, points):\n",
    "    all_coords = ((x, y) for x in range(width) for y in range(height))\n",
    "    for x, y in all_coords:\n",
    "        \n",
    "        min_dist, centroide = min([(_.distance(x, y), p) for _ in points], key=lambda t: t[0])\n",
    "        canvas.set_at((x, y), centroide.color)\n",
    "        if x == 10 and y == 10:\n",
    "            print('x:', x)\n",
    "            print('y:', y)\n",
    "            print('p:', p)\n",
    "            print('min_dist:', min_dist)\n",
    "            print('centroide:', centroide)"
   ]
  },
  {
   "cell_type": "code",
   "execution_count": 7,
   "metadata": {},
   "outputs": [
    {
     "name": "stdout",
     "output_type": "stream",
     "text": [
      "[Point(x=369, y=388, color=(98, 184, 64)), Point(x=465, y=306, color=(78, 136, 130))]\n"
     ]
    }
   ],
   "source": [
    "print(points)"
   ]
  },
  {
   "cell_type": "code",
   "execution_count": 8,
   "metadata": {},
   "outputs": [
    {
     "data": {
      "text/plain": [
       "Point(x=369, y=388, color=(98, 184, 64))"
      ]
     },
     "execution_count": 8,
     "metadata": {},
     "output_type": "execute_result"
    }
   ],
   "source": [
    "p0 = points[0]\n",
    "p0"
   ]
  },
  {
   "cell_type": "code",
   "execution_count": 10,
   "metadata": {},
   "outputs": [
    {
     "data": {
      "text/plain": [
       "535.4484102133463"
      ]
     },
     "execution_count": 10,
     "metadata": {},
     "output_type": "execute_result"
    }
   ],
   "source": [
    "p0.distance(0, 0)"
   ]
  },
  {
   "cell_type": "code",
   "execution_count": 12,
   "metadata": {},
   "outputs": [
    {
     "data": {
      "text/plain": [
       "5.0"
      ]
     },
     "execution_count": 12,
     "metadata": {},
     "output_type": "execute_result"
    }
   ],
   "source": [
    "p1 = Point(3, 4)\n",
    "p1.distance(0,0)"
   ]
  },
  {
   "cell_type": "code",
   "execution_count": null,
   "metadata": {},
   "outputs": [],
   "source": []
  }
 ],
 "metadata": {
  "kernelspec": {
   "display_name": "Python 3",
   "language": "python",
   "name": "python3"
  },
  "language_info": {
   "codemirror_mode": {
    "name": "ipython",
    "version": 3
   },
   "file_extension": ".py",
   "mimetype": "text/x-python",
   "name": "python",
   "nbconvert_exporter": "python",
   "pygments_lexer": "ipython3",
   "version": "3.5.2"
  }
 },
 "nbformat": 4,
 "nbformat_minor": 2
}
