{
 "cells": [
  {
   "cell_type": "markdown",
   "metadata": {},
   "source": [
    "## Trabajar con ficheros"
   ]
  },
  {
   "cell_type": "markdown",
   "metadata": {},
   "source": [
    "En un sistema informático, toda la información que queramos almacenar de forma permanente acabará almacenado en un archivo o fichero informático. Un fihero informatico tiene un nombre y, normalmente, una extensión que indica el tipo de contenido del archivo. Por ejemplo, los programas en python se suelen guardar con la extensión `.py` para que tanto nosotros como el sistema sepamos que el contenido del fichero debería ser interpretado como código fuente Python. \n",
    "\n",
    "Algunas extensiones normales que podemos encontrar son .jpg, .gif o .png para imágenes, .avi, .mp4 o .mkv para películas, .wav, .ogg o .mp3 para canciones o audio, .txt para ficheros de texto, etc..."
   ]
  },
  {
   "cell_type": "markdown",
   "metadata": {},
   "source": [
    "## Operaciones con ficheros\n",
    "\n"
   ]
  },
  {
   "cell_type": "markdown",
   "metadata": {},
   "source": [
    "Con los ficheros o archivos, un programa puede hacer normalmente dos cosas, o bien escribir contenido al archivo o bien leer el contenido del archivo. Para trabajar con un archivo hay que tener en cuenta tres cosas muy importantes:\n",
    "\n",
    "1.- Antes de poder trabajar con él, tenemos que **abrir** el archivo, llamado a la función `open`. Además, al abrir el archivo tenemos que indicar que tipo de operaciones vamos a realizar: para leer un archivo hay que **abrirlo para lectura**, mientras que si lo que queremos es escribir informacíon al archivo hay que abrirlo en **mode de escritura**.\n",
    "\n",
    "2.- Mientras el fichero esté abierto, podemos leer datos de el -si se abrió\n",
    "    para lectura- o escribir datos en el -si se abrió para escritura-. En el\n",
    "    primer caso usamos el método `read` y en el segundo el método `write`\n",
    "\n",
    "3.- Cuando hayamos acabado de trabajar con él, tenemos que cerrarlo, con el\n",
    "    método `close`. Un archivo abierto consume recursos del sistema, así que\n",
    "    conviene cerrarlo lo más pronto posible.\n",
    "\n"
   ]
  },
  {
   "cell_type": "markdown",
   "metadata": {},
   "source": [
    "## Ejemplo de creación de un archivo"
   ]
  },
  {
   "cell_type": "markdown",
   "metadata": {},
   "source": [
    "Veamos con un ejemplo el mecanismo para crear un archivo. Para empezar, hay que decidirse por un modo: ¿Escritura o lectura? Como vamos a crear un archivo, hay que usar el modo de escritura. El siguiente ejemplo guarda un texto en un archivo, con el nombre `quijote.txt`:\n"
   ]
  },
  {
   "cell_type": "code",
   "execution_count": 1,
   "metadata": {},
   "outputs": [],
   "source": [
    "texto = '''En un lugar de la Mancha, de cuyo nombre\n",
    " no quiero acordarme, no ha mucho tiempo que vivía\n",
    " un hidalgo de los de lanza en astillero, adarga\n",
    " antigua, rocín flaco y galgo corredor. Una olla\n",
    " de algo más vaca que carnero, salpicón las más\n",
    " noches, duelos y quebrantos los sábados, lentejas\n",
    " los viernes, algún palomino de añadidura los\n",
    " domingos, consumían las tres partes de su hacienda.'''\n",
    "    \n",
    "f = open('quijote.txt', 'w')  # w para escribir (write)\n",
    "f.write(texto)\n",
    "f.close()"
   ]
  },
  {
   "cell_type": "code",
   "execution_count": 2,
   "metadata": {},
   "outputs": [
    {
     "name": "stdout",
     "output_type": "stream",
     "text": [
      "-rw-rw-r-- 1 jileon jileon 396 mar 16 14:55 quijote.txt\r\n"
     ]
    }
   ],
   "source": [
    "!ls -la qui*"
   ]
  },
  {
   "cell_type": "markdown",
   "metadata": {},
   "source": [
    "### Ejemplo de lectura de un archivo\n",
    "\n",
    "Ahora que hemos creado un archivo, podemos realizar la operación inversa, leer el contenido del\n",
    "archivo. Para ello abrimos el fichero, ahora en modo lectura, y leemos el contenido en una variable:"
   ]
  },
  {
   "cell_type": "code",
   "execution_count": 3,
   "metadata": {},
   "outputs": [
    {
     "name": "stdout",
     "output_type": "stream",
     "text": [
      "En un lugar de la Mancha, de cuyo nombre\n",
      " no quiero acordarme, no ha mucho tiempo que vivía\n",
      " un hidalgo de los de lanza en astillero, adarga\n",
      " antigua, rocín flaco y galgo corredor. Una olla\n",
      " de algo más vaca que carnero, salpicón las más\n",
      " noches, duelos y quebrantos los sábados, lentejas\n",
      " los viernes, algún palomino de añadidura los\n",
      " domingos, consumían las tres partes de su hacienda.\n"
     ]
    }
   ],
   "source": [
    "f = open('quijote.txt', 'r')  # r para leer (read)\n",
    "a = f.read()\n",
    "f.close()\n",
    "print(a)"
   ]
  },
  {
   "cell_type": "markdown",
   "metadata": {},
   "source": [
    "## Apertura de ficheros con with"
   ]
  },
  {
   "cell_type": "markdown",
   "metadata": {},
   "source": [
    "Un error muy común es olvidarse de cerrar un archivo. Como se ha comentado, un\n",
    "archivo abierto consume recursos del sistema, así que es conveniente\n",
    "cerrarlo lo más pronto posible. Esta es una circustancia muy común en informática: \n",
    "se adquiere un recurso (En este caso, el archivo), se hace uso del mismo y a continuación se cierra o libera. Hay una cierta simetría en estas operaciones, en el sentido\n",
    "de que para cada `open` debería haber, en algún lugar, el `close` correspondiente.\n",
    "\n",
    "Python ha creado una estructura de datos para resolver este problema que se llama `with`. Usando este sistema el cierre del archivo se realiza automáticamente y, por tanto, es imposible que se nos olvide. \n",
    "\n",
    "Por ejemplo, el código anterior se podría reescribir así:"
   ]
  },
  {
   "cell_type": "code",
   "execution_count": 4,
   "metadata": {},
   "outputs": [
    {
     "name": "stdout",
     "output_type": "stream",
     "text": [
      "En un lugar de la Mancha, de cuyo nombre\n",
      " no quiero acordarme, no ha mucho tiempo que vivía\n",
      " un hidalgo de los de lanza en astillero, adarga\n",
      " antigua, rocín flaco y galgo corredor. Una olla\n",
      " de algo más vaca que carnero, salpicón las más\n",
      " noches, duelos y quebrantos los sábados, lentejas\n",
      " los viernes, algún palomino de añadidura los\n",
      " domingos, consumían las tres partes de su hacienda.\n"
     ]
    }
   ],
   "source": [
    "with open('quijote.txt', 'r') as f:\n",
    "    a = f.read()\n",
    "print(a)"
   ]
  },
  {
   "cell_type": "markdown",
   "metadata": {},
   "source": [
    "La sentencia `with` funciona así: Se ejecuta el bloque de código asociado, es decir, ejecuta todas las líneas que vengan a continuación y que estén indentadas. Cuando termine, realiza las operaciones de mantenimiento que corresponda; en este caso, el open de la primera línea informa al sistema que se debe realizar un `close` al terminar.\n",
    "\n",
    "De esta forma el código es más sencillo de leer (Nos ahorramos una línea) y ganamos que el `close` se va a realizar siempre, no se nos puede olvidar, ya que se ejecutará automáticamente."
   ]
  },
  {
   "cell_type": "markdown",
   "metadata": {},
   "source": [
    "## Como se modifica el contenido de un archivo"
   ]
  },
  {
   "cell_type": "markdown",
   "metadata": {},
   "source": [
    "El sistema de archivos está pensado como sistema de almacenamiento, así que solo\n",
    "permite las operaciones de escritura o lectura. Normalmente, para modificar el contenido de un fichero, se lee el contenido en memoria, se modifica y luego se almacena de nuevo.\n",
    "\n",
    "Una excepción a esto son los ficheros de registro o log. En estos ficheros las operaciones\n",
    "son de escritura pero siempre al final del archivo. Para esto se implemente un tercer modo adicional a los que ya habiamos vista; ademas de poder abrir un archivo para lectura (modo `r` de _read_) o para escritura (modo `w` de _write_), también se puede abrir para añadir contenido (mode `a` de _append_), de forma que si escribimos al archivo, lo que escribimos se añadirá al final del archivo, en vez de sustituir el contennido total. Veamoslo con otr ejemplo, esta vez usando ya la sentencia `with` vista anteriormente para ahorrame el `close`."
   ]
  },
  {
   "cell_type": "code",
   "execution_count": 5,
   "metadata": {},
   "outputs": [],
   "source": [
    "parrafo_2 = '''\n",
    "El resto della concluían sayo de velarte, calzas de velludo\n",
    " para las fiestas con sus pantuflos de lo mismo, los días\n",
    " de entre semana se honraba con su vellori de lo más fino.\n",
    " Tenía en su casa una ama que pasaba de los cuarenta, y\n",
    " una sobrina que no llegaba a los veinte, y un mozo de\n",
    " campo y plaza, que así ensillaba el rocín como tomaba\n",
    " la podadera.\n",
    "'''\n",
    "with open('quijote.txt', 'a') as f:\n",
    "    f.write(parrafo_2)"
   ]
  },
  {
   "cell_type": "markdown",
   "metadata": {},
   "source": [
    "Si volvemos a leer el archivo ahora, vemos que el contenido nuevo se ha añadido al contenido inicial:"
   ]
  },
  {
   "cell_type": "code",
   "execution_count": 6,
   "metadata": {},
   "outputs": [
    {
     "name": "stdout",
     "output_type": "stream",
     "text": [
      "En un lugar de la Mancha, de cuyo nombre\n",
      " no quiero acordarme, no ha mucho tiempo que vivía\n",
      " un hidalgo de los de lanza en astillero, adarga\n",
      " antigua, rocín flaco y galgo corredor. Una olla\n",
      " de algo más vaca que carnero, salpicón las más\n",
      " noches, duelos y quebrantos los sábados, lentejas\n",
      " los viernes, algún palomino de añadidura los\n",
      " domingos, consumían las tres partes de su hacienda.\n",
      "El resto della concluían sayo de velarte, calzas de velludo\n",
      " para las fiestas con sus pantuflos de lo mismo, los días\n",
      " de entre semana se honraba con su vellori de lo más fino.\n",
      " Tenía en su casa una ama que pasaba de los cuarenta, y\n",
      " una sobrina que no llegaba a los veinte, y un mozo de\n",
      " campo y plaza, que así ensillaba el rocín como tomaba\n",
      " la podadera.\n",
      "\n"
     ]
    }
   ],
   "source": [
    "with open('quijote.txt', 'r') as f:\n",
    "    print(f.read())"
   ]
  },
  {
   "cell_type": "markdown",
   "metadata": {},
   "source": [
    "### Ejemplo: buscar palabras por rima consonante\n",
    "\n",
    "En el fichero `data/spanish.txt` tenemos una lista de $174848$ palabras\n",
    "en español. Podemos leer esta lista de palabras desde un archivo con el \n",
    "método `read`. Esto nos devolveria una variable de tipo texto con todo el contenido\n",
    "del archivo:"
   ]
  },
  {
   "cell_type": "code",
   "execution_count": 7,
   "metadata": {},
   "outputs": [
    {
     "data": {
      "text/plain": [
       "'a\\nabacá\\nabacera\\nabaceras\\nabaceria\\nabacerias\\nabacero\\nabaceros\\nabacial\\nabaciales\\nabad\\nabadejo\\nabadejos\\nabadenga\\nabadengas\\nabadengo\\nabadengos\\nabades\\nabadesa\\nabadesas\\nabadiato\\nabadiatos\\nabadía\\nabadías\\nabajamiento\\nabajamientos\\nabajeño\\nabajeños\\nabajo\\nabalance\\na'"
      ]
     },
     "execution_count": 7,
     "metadata": {},
     "output_type": "execute_result"
    }
   ],
   "source": [
    "with open('data/spanish.txt') as f:\n",
    "    texto = f.read()\n",
    "texto[0:255]"
   ]
  },
  {
   "cell_type": "markdown",
   "metadata": {},
   "source": [
    "**Nota:** En el texto vemos que hay una marca, representada como `\\n`, que simboliza \n",
    "el salto de línea. \n",
    "\n"
   ]
  },
  {
   "cell_type": "markdown",
   "metadata": {},
   "source": [
    "Para este problema, es más comodo trabajar con una lista de líneas, y es fácil de obtener a partir de este texto con el método `split`. Este metodo de las cadenas de texto acepta como parámetro un caracter, divide el texto en partes usando el caracter pasado como punto de corte, y devulve una lista con cada sección de texto. Con un ejemplo se entiende mejor:"
   ]
  },
  {
   "cell_type": "code",
   "execution_count": 8,
   "metadata": {},
   "outputs": [
    {
     "data": {
      "text/plain": [
       "['ABC', 'DEF', 'GHIJ']"
      ]
     },
     "execution_count": 8,
     "metadata": {},
     "output_type": "execute_result"
    }
   ],
   "source": [
    "s = 'ABC:DEF:GHIJ'\n",
    "l = s.split(':')\n",
    "l"
   ]
  },
  {
   "cell_type": "markdown",
   "metadata": {},
   "source": [
    "Así que si dividimos el texto usando como separador el salto de línea, obtenemos lo que queremos, una lista con todas las palabras del fichero. \n",
    "\n",
    "**Nota: ** este no es el método más eficiente, mirar el apéndice del final"
   ]
  },
  {
   "cell_type": "code",
   "execution_count": 9,
   "metadata": {},
   "outputs": [
    {
     "name": "stdout",
     "output_type": "stream",
     "text": [
      "a\n",
      "abacá\n",
      "abacera\n",
      "abaceras\n",
      "abaceria\n"
     ]
    }
   ],
   "source": [
    "palabras = texto.split('\\n')\n",
    "for palabra in palabras[0:5]:\n",
    "    print(palabra)"
   ]
  },
  {
   "cell_type": "markdown",
   "metadata": {},
   "source": [
    "**Ejercicio**: Listar las palabras que rimen (en rima consonante) con 'rizo'."
   ]
  },
  {
   "cell_type": "code",
   "execution_count": 10,
   "metadata": {},
   "outputs": [
    {
     "name": "stdout",
     "output_type": "stream",
     "text": [
      "atemorizo\n",
      "aterrizo\n",
      "aterrorizo\n",
      "autorizo\n",
      "caballerizo\n",
      "cabrerizo\n",
      "caracterizo\n",
      "caricaturizo\n",
      "cauterizo\n",
      "chorizo\n",
      "cobrizo\n",
      "desautorizo\n",
      "desmilitarizo\n",
      "desvalorizo\n",
      "enterizo\n",
      "erizo\n",
      "exteriorizo\n",
      "familiarizo\n",
      "fronterizo\n",
      "horrorizo\n",
      "insonorizo\n",
      "martirizo\n",
      "motorizo\n",
      "particularizo\n",
      "pasterizo\n",
      "popularizo\n",
      "pulverizo\n",
      "regularizo\n",
      "rizo\n",
      "secularizo\n",
      "temporizo\n",
      "terrizo\n",
      "vaporizo\n",
      "vaquerizo\n",
      "vigorizo\n",
      "vulgarizo\n"
     ]
    }
   ],
   "source": [
    "for palabra in palabras:\n",
    "    if palabra[-4:] == 'rizo':\n",
    "        print(palabra)"
   ]
  },
  {
   "cell_type": "markdown",
   "metadata": {},
   "source": [
    "**Ejercicio:** Lo mismo pero con `erizo`:"
   ]
  },
  {
   "cell_type": "code",
   "execution_count": 11,
   "metadata": {},
   "outputs": [
    {
     "name": "stdout",
     "output_type": "stream",
     "text": [
      "atemorizo\n",
      "aterrizo\n",
      "aterrorizo\n",
      "autorizo\n",
      "caballerizo\n",
      "cabrerizo\n",
      "caracterizo\n",
      "caricaturizo\n",
      "cauterizo\n",
      "chorizo\n",
      "cobrizo\n",
      "desautorizo\n",
      "desmilitarizo\n",
      "desvalorizo\n",
      "enterizo\n",
      "erizo\n",
      "exteriorizo\n",
      "familiarizo\n",
      "fronterizo\n",
      "horrorizo\n",
      "insonorizo\n",
      "martirizo\n",
      "motorizo\n",
      "particularizo\n",
      "pasterizo\n",
      "popularizo\n",
      "pulverizo\n",
      "regularizo\n",
      "rizo\n",
      "secularizo\n",
      "temporizo\n",
      "terrizo\n",
      "vaporizo\n",
      "vaquerizo\n",
      "vigorizo\n",
      "vulgarizo\n"
     ]
    }
   ],
   "source": [
    "for palabra in palabras:\n",
    "    if palabra[-4:] == 'rizo':\n",
    "        print(palabra)"
   ]
  },
  {
   "cell_type": "markdown",
   "metadata": {},
   "source": [
    "**Ejercicio:** Hacer lo mismo, pero usando el método `endswith` de las cadenas de texto."
   ]
  },
  {
   "cell_type": "code",
   "execution_count": 12,
   "metadata": {},
   "outputs": [
    {
     "name": "stdout",
     "output_type": "stream",
     "text": [
      "atemorizo\n",
      "aterrizo\n",
      "aterrorizo\n",
      "autorizo\n",
      "caballerizo\n",
      "cabrerizo\n",
      "caracterizo\n",
      "caricaturizo\n",
      "cauterizo\n",
      "chorizo\n",
      "cobrizo\n",
      "desautorizo\n",
      "desmilitarizo\n",
      "desvalorizo\n",
      "enterizo\n",
      "erizo\n",
      "exteriorizo\n",
      "familiarizo\n",
      "fronterizo\n",
      "horrorizo\n",
      "insonorizo\n",
      "martirizo\n",
      "motorizo\n",
      "particularizo\n",
      "pasterizo\n",
      "popularizo\n",
      "pulverizo\n",
      "regularizo\n",
      "rizo\n",
      "secularizo\n",
      "temporizo\n",
      "terrizo\n",
      "vaporizo\n",
      "vaquerizo\n",
      "vigorizo\n",
      "vulgarizo\n"
     ]
    }
   ],
   "source": [
    "for palabra in palabras:\n",
    "    if palabra.endswith('rizo'):\n",
    "        print(palabra)"
   ]
  },
  {
   "cell_type": "markdown",
   "metadata": {},
   "source": [
    "**Pregunta:** ¿Qué ventaja tendria usar el método `endswith` en vez de comparar usando slices?"
   ]
  },
  {
   "cell_type": "markdown",
   "metadata": {},
   "source": [
    "**Apendice: Para leer un fichero como una lista de líneas de texto**\n",
    "    \n",
    "Normalmente, ala hora de trabajar con un fichero de texto, es \n",
    "más cómodo trabajar con una lista, donde cada elemento de la lista \n",
    "se corresponda con una de las lineas de texto del fichero. En el ejemplo\n",
    "anterior usamos el método `split` para conseguir esto.\n",
    "\n",
    "Afortunadamente, hay un método en el fichero, similar a `read`, pero que \n",
    "hace exactamente lo que queremos: divide el contenido del fichero en partes\n",
    "usando como separador el salto de linea, y devuelve una lista con cada una \n",
    "de las líneas. Este método es `readlines`."
   ]
  },
  {
   "cell_type": "code",
   "execution_count": 13,
   "metadata": {},
   "outputs": [
    {
     "name": "stdout",
     "output_type": "stream",
     "text": [
      "'a\\n'\n",
      "'abacá\\n'\n",
      "'abacera\\n'\n",
      "'abaceras\\n'\n",
      "'abaceria\\n'\n"
     ]
    }
   ],
   "source": [
    "with open('data/spanish.txt', 'r') as f:\n",
    "    words = f.readlines()\n",
    "\n",
    "for w in words[0:5]:\n",
    "    print(repr(w))"
   ]
  },
  {
   "cell_type": "markdown",
   "metadata": {},
   "source": [
    "Tiene la pega de que todas las palabras incluyen el salto de línea del final, que a nosotros no nos sirve para nada, pero es fácil de eliminar usando el metodo `strip`."
   ]
  },
  {
   "cell_type": "code",
   "execution_count": 14,
   "metadata": {},
   "outputs": [
    {
     "name": "stdout",
     "output_type": "stream",
     "text": [
      "'a'\n",
      "'abacá'\n",
      "'abacera'\n",
      "'abaceras'\n",
      "'abaceria'\n"
     ]
    }
   ],
   "source": [
    "with open('data/spanish.txt', 'r') as f:\n",
    "    words = [l.strip() for l in f.readlines()]\n",
    "\n",
    "for w in words[0:5]:\n",
    "    print(repr(w))"
   ]
  },
  {
   "cell_type": "markdown",
   "metadata": {},
   "source": [
    "Tienen la ventaja de que no carga el archivo entero en memoria (que podría ser inmenso) sino que va generando la lista línea a línea, por lo que el tamaño del archivo \n",
    "original no es problema."
   ]
  },
  {
   "cell_type": "code",
   "execution_count": null,
   "metadata": {},
   "outputs": [],
   "source": []
  }
 ],
 "metadata": {
  "kernelspec": {
   "display_name": "Python 3",
   "language": "python",
   "name": "python3"
  },
  "language_info": {
   "codemirror_mode": {
    "name": "ipython",
    "version": 3
   },
   "file_extension": ".py",
   "mimetype": "text/x-python",
   "name": "python",
   "nbconvert_exporter": "python",
   "pygments_lexer": "ipython3",
   "version": "3.5.2"
  }
 },
 "nbformat": 4,
 "nbformat_minor": 2
}
