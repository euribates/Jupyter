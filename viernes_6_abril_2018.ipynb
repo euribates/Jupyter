{
 "cells": [
  {
   "cell_type": "markdown",
   "metadata": {},
   "source": [
    "## Repaso\n",
    "\n",
    "- Tipos de datos\n",
    "  - números (enteros y decimales)\n",
    "  - booleanos (troy y false)\n",
    "  - Textos o cadenas de caracteres\n",
    "- Control de flujo\n",
    "   - if (para tomar decisiones)\n",
    "   - for (para recorrer una secuencia)\n",
    "   - while (para repetir acciones hasta que se cumpla una condicion)\n",
    "- Operaciones con ficheros\n",
    "  - Abrir y cerrar\n",
    "  - Abrir para leer, escribir o añadir\n",
    "  - la sentencia with (Impide que nos olvidemos del close)\n",
    "    "
   ]
  },
  {
   "cell_type": "markdown",
   "metadata": {},
   "source": [
    "## Cosas que podriamos ver hoy\n",
    "\n",
    "- Teoría de color\n",
    "- Ficheros de imágenes de texto\n",
    "- matplot\n",
    "- numpy\n",
    "- jupyter notebook \n",
    "  - Markdown\n",
    "  - Mathjax\n",
    "\n"
   ]
  },
  {
   "cell_type": "code",
   "execution_count": 187,
   "metadata": {},
   "outputs": [],
   "source": [
    "palabras = [\n",
    "    'desmonetizaste', 'operetas', 'tañáis', 'relajaciones', 'carbón', 'preexistencias', 'primogénitas', 'recodos', 'testificarán',\n",
    "    'desempeñarais', 'asir', 'conforman', 'uniformaréis', 'sarrosos', 'devolvías', 'degolladas', 'objetante', 'capitulen', 'empobrecieseis',\n",
    "    'asustéis', 'anteada', 'susurrara', 'vulcanicéis', 'reserva', 'injurié', 'garantizaremos', 'fracturaré', 'carambolas', 'aturdirá',\n",
    "    'delegó', 'amparas', 'instaras', 'fascinaciones', 'menorquina', 'adoptas', 'convinieseis', 'beata', 'galesa', 'reproducidos', 'cubrirían',\n",
    "    'conspirarais', 'ostensivo', 'emplazaría', 'descabecemos', 'ostentaré','ataste', 'recelaremos', 'impeler', 'magnificarais', 'encargaban',\n",
    "    'despabila', 'injurias', 'borrarías', 'huyeseis', 'fructificará', 'sobrecarga', 'recompenses', 'encarguen', 'biselarían', 'parabólicas',\n",
    "    'cargases', 'arrepintió', 'demostraron', 'cuarteladas', 'brevedad', 'hiel', 'decanté', 'fantástica', 'cremación', 'lactarias', 'desganaban',\n",
    "    'supusieran', 'coagularás', 'calafateados', 'imitador', 'aplaudías', 'rasarán', 'cosquillearas', 'hidrófila', 'pestañean', 'reelectos',\n",
    "    'preocuparé', 'caucásicas', 'prorrogamos', 'prevenidamente', 'acriminará', 'subsanáramos', 'satisfarías', 'cubrirías', 'embauláis', 'conste',\n",
    "    'inmoderado', 'gutural', 'rabotada', 'rellenada', 'favorezcamos', 'persianos', 'decorasteis', 'enfurecerías', 'trasegase', 'condicionases', 'colaboremos', \n",
    "    'desenchufase', 'bizcaríais', 'suspensivas', 'fulminemos', 'personábamos', 'fiáis', 'sigilases', 'homologarais', 'substrajese', 'conoceré',\n",
    "    'aprovisionará', 'cargabais', 'substraían', 'endeudes', 'desobedecerás', 'recuperativas', 'vienesa', 'retardaseis', 'cromaréis', 'envidíes',\n",
    "    'haríais', 'solidificaría', 'quincallero', 'queridas', 'quemarais', 'quebradiza', 'quitada', 'chachareo', 'jorobaste', 'hortelano', 'enlucidos', 'digne', 'apisonan', 'registrarán', 'enfriabas', 'demencia', 'detuvierais', 'maúllos',\n",
    "    'elongaciones', 'volatilizaremos', 'cataréis', 'desautorizar', 'liquidación', 'notificará', 'debatiésemos', 'esparzan', 'pintarías', 'charlaremos',\n",
    "    'canicie', 'extraeríais', 'humillarás', 'transfundirían', 'cabalgarían', 'terrores', 'infando', 'disputo', 'diera', 'abominara', 'antecederás', 'aguardé',\n",
    "    'enajenaríamos', 'regenerativas', 'whisky', 'secuestraseis', 'arengaríamos', 'proyectaré', 'resaltase', 'protegía', 'conciliaría', 'coriácea', 'frieron', 'bombáceos',\n",
    "    'notificado', 'básico', 'primeramente', 'kilogramo','confluente', 'desacreditáis', 'reanimara', 'talado', 'recubriré', 'luches', 'indicasen', 'lugares', 'obsequiáis',\n",
    "    'enfermizos', 'analice', 'bazas', 'individualizas', 'kurda', 'rastrillaseis', 'avalaste', 'discurríamos', 'ablandativas', 'entrecortarán', 'requebrara',\n",
    "    'igualaréis', 'dones', 'arrugases', 'reguladora', 'plegarías', 'disgregaseis', 'compite', 'seríais', 'imperitos', 'insensibilizarais', 'remes',\n",
    "    'subrogase', 'inscribiera', 'eternizaseis', 'fosforeras', 'fotografían', 'descubran', 'descartaré', 'anadease', 'desengrasaste', 'hablé', 'inmigrados',\n",
    "    'anticipáis', 'reconoceré', 'acaezco', 'xenofobia', 'kilogramos', 'agobiaríais', 'personificasen', 'practicarías', 'rasparéis', 'rasparíais', 'repugnen', 'rescataréis',\n",
    "    'desobstruyeses', 'anadeásemos', 'ñu', 'perdurases', 'confortaron', 'acentuar', 'merecerías', 'enunciación', 'traspiés', 'demueles', 'vigilaríais',\n",
    "    'avicultura', 'sanguinarios', 'pasmara', 'enrabiar', 'zutano', 'abroqueláramos', 'recaidas', 'adiposo', 'sinvergüenzas', 'cuidaban', 'zoológicas', 'hederías',\n",
    "    'enciclopedia', 'hospedaban', 'láureo', 'regalado', 'tósigos', 'entreabras', 'atrocidades', 'bloqueas', 'extensibles',\n",
    "    'contrataría', 'dispersaban', 'concentraron']\n"
   ]
  },
  {
   "cell_type": "markdown",
   "metadata": {},
   "source": [
    "## Ejercicio 1: encontrar las palabras qe terminen en 'anja':\n",
    "\n",
    "Buscar en la lista de palabras que hay almacenadas en la variable `palabras`, aquellas\n",
    "que terminen en `anja`."
   ]
  },
  {
   "cell_type": "code",
   "execution_count": 212,
   "metadata": {},
   "outputs": [
    {
     "name": "stdout",
     "output_type": "stream",
     "text": [
      "franja\n",
      "granja\n",
      "naranja\n",
      "zanja\n"
     ]
    }
   ],
   "source": [
    "for p in palabras:\n",
    "    if p[-4:] == 'anja':\n",
    "        print(p)"
   ]
  },
  {
   "cell_type": "markdown",
   "metadata": {},
   "source": [
    "De forma alternativa, se pocrían haber usado los métodos `endwith` y `startswith`. Se lee mejor y es un código menos propenso a errores."
   ]
  },
  {
   "cell_type": "code",
   "execution_count": 220,
   "metadata": {},
   "outputs": [
    {
     "name": "stdout",
     "output_type": "stream",
     "text": [
      "franja\n",
      "granja\n",
      "naranja\n",
      "zanja\n"
     ]
    }
   ],
   "source": [
    "for p in palabras:\n",
    "    if p.endswith('anja'):\n",
    "        print(p)"
   ]
  },
  {
   "cell_type": "markdown",
   "metadata": {},
   "source": [
    "## Ejercicio 2:\n",
    "\n",
    "Buscar en la lista de palabras que hay almacenadas en la variable `palabras`, aquellas\n",
    "que contengan la secuencia de caracteres `ano` (¡Ja, ha dicho ano!):"
   ]
  },
  {
   "cell_type": "code",
   "execution_count": 217,
   "metadata": {},
   "outputs": [
    {
     "ename": "SyntaxError",
     "evalue": "invalid syntax (<ipython-input-217-dd108ce15c04>, line 2)",
     "output_type": "error",
     "traceback": [
      "\u001b[0;36m  File \u001b[0;32m\"<ipython-input-217-dd108ce15c04>\"\u001b[0;36m, line \u001b[0;32m2\u001b[0m\n\u001b[0;31m    if ...\u001b[0m\n\u001b[0m          ^\u001b[0m\n\u001b[0;31mSyntaxError\u001b[0m\u001b[0;31m:\u001b[0m invalid syntax\n"
     ]
    }
   ],
   "source": [
    "for p in palabras:\n",
    "    if ..."
   ]
  },
  {
   "cell_type": "markdown",
   "metadata": {},
   "source": [
    "## Ejercicio 3: Encontrar las palabras que tengan todas las vocales:"
   ]
  },
  {
   "cell_type": "code",
   "execution_count": 214,
   "metadata": {},
   "outputs": [],
   "source": [
    "for p in palabras:\n",
    "    ..."
   ]
  },
  {
   "cell_type": "markdown",
   "metadata": {},
   "source": [
    "## Funciones\n",
    "\n",
    "Una función no es más que un fragmento de código que queremos reutilizar. Para ello le damos un **nombre** que nos sirva para identificarla. También definimos unos nombres para las variables que servirán para pasar información a la función, si es que se le pasa alguna. Estas variables se llaman **parámetros** de la función.\n",
    "\n",
    "Veamos con un ejemplo, una función que nos da el perímetro de una circuferencia, pasándole el radio de la misma:"
   ]
  },
  {
   "cell_type": "code",
   "execution_count": 222,
   "metadata": {},
   "outputs": [],
   "source": [
    "import math\n",
    "\n",
    "def perimetro(r):\n",
    "    \"\"\"Devuelve el perímetro de una circunferencia de radio r.\n",
    "    \"\"\"\n",
    "    return 2 * math.pi * r"
   ]
  },
  {
   "cell_type": "markdown",
   "metadata": {},
   "source": [
    "la palabra reservada `def` nos permite definir funciones. Después del def viene el nombre que le queremos dar a la función y luego, entre paréntesis, el parámetro o parámetros de entrada de la función, separados por comas. Si no hubiera ningún paŕametro, aún así hemos de incluir los paréntesis. Finalmente, viene el signo de dos puntos.\n",
    "\n",
    "Todo el código que aparezca a continuación, indentado a un nivel mayor que la palabra `def`, forma parte del cuerpo o bloque de la función. Ahora podemos llamar o invocar a esta función desde cualquier parte de nuestro programa, simplemente usando su nombre seguido de los parámetros, entre paréntesis. Por ejemplo, el siguiente código imprime el resultado de calcular el perímetro de las circunferencia de radio 1 a 6:"
   ]
  },
  {
   "cell_type": "code",
   "execution_count": 225,
   "metadata": {},
   "outputs": [
    {
     "name": "stdout",
     "output_type": "stream",
     "text": [
      "Radio 1, Perímetro 6.283185307179586\n",
      "Radio 2, Perímetro 12.566370614359172\n",
      "Radio 3, Perímetro 18.84955592153876\n",
      "Radio 4, Perímetro 25.132741228718345\n",
      "Radio 5, Perímetro 31.41592653589793\n",
      "Radio 6, Perímetro 37.69911184307752\n"
     ]
    }
   ],
   "source": [
    "for radio in range(1, 7):\n",
    "    print('Radio {}, Perímetro {}'.format(radio, perimetro(radio)))"
   ]
  },
  {
   "cell_type": "markdown",
   "metadata": {},
   "source": [
    "La primera línea dentro de la definición de la función puede ser, opcionalmente, una cadena de texto. Este texto no tiene ningún efecto sobre el código, por lo que se puede considerar como un comentario, pero internamente ese texto se convierte en la documentación interna de la función. Es esta documentación interna, llamada `docstring`, la que muestra la función `help()`, ya que puede ser accedida en tiempo de ejecución. Es muy recomendable incluir este tipo de documentación, especificando al menos los parámetros que acepta y el resultado que devuelve.\n",
    "\n",
    "La sentencia `return` permite especificar el valor o valores que devuelve la función (Si no se especifica ningún valor de retorno, la función retornará None).\n",
    "\n",
    "El paso de parámetros también es interesante, y ofrece posibilidades en Python que no todos los lenguajes soportan.\n",
    "\n",
    "La forma habitual de asignación de parámetros es por posición, es decir, cuando llamemos a una funcion definida con varios parámetros, el primer dato que pongamos tras los paréntesis ocupará el lugar del primer parámetro, el segundo valor ocupará el segundo parámetro y así sucesivamente. En estos casos, hay que pasar tantos valores como parámetros se hayan definido en la función.\n",
    "\n",
    "Python soporta también el uso de parámetros por defecto, el paso de parámetros por nombre y el paso de argumentos en número variable."
   ]
  },
  {
   "cell_type": "markdown",
   "metadata": {},
   "source": [
    "## Ejercicio: Buscar todas las palabras en la lista `palabras`  que contengan todas las vocales\n",
    "\n",
    "Usa una función para simplificar la condición que debe\n",
    "cumplir cada palabra."
   ]
  },
  {
   "cell_type": "code",
   "execution_count": 229,
   "metadata": {},
   "outputs": [],
   "source": [
    "def tiene_todas_las_vocales(s):\n",
    "    ...\n",
    "\n",
    "for palabra in palabras:\n",
    "    if tiene_todas_las_vocales(palabra):\n",
    "        print(palabra)"
   ]
  },
  {
   "cell_type": "code",
   "execution_count": 203,
   "metadata": {},
   "outputs": [
    {
     "data": {
      "text/plain": [
       "(array([  1.,   2.,  21.,  27.,  80.,  44.,  63.,  17.,  11.,   1.]),\n",
       " array([  2. ,   3.5,   5. ,   6.5,   8. ,   9.5,  11. ,  12.5,  14. ,\n",
       "         15.5,  17. ]),\n",
       " <a list of 10 Patch objects>)"
      ]
     },
     "execution_count": 203,
     "metadata": {},
     "output_type": "execute_result"
    },
    {
     "data": {
      "image/png": "[encoded data removed]",
      "text/plain": [
       "<matplotlib.figure.Figure at 0x7f541d5e9208>"
      ]
     },
     "metadata": {},
     "output_type": "display_data"
    }
   ],
   "source": [
    "longitudes = [len(x) for x in palabras]\n",
    "plt.hist(longitudes)"
   ]
  },
  {
   "cell_type": "code",
   "execution_count": 219,
   "metadata": {},
   "outputs": [
    {
     "name": "stdout",
     "output_type": "stream",
     "text": [
      "jerezano\n",
      "jerezanos\n"
     ]
    }
   ],
   "source": [
    "for palabra in palabras:\n",
    "    if palabra[0] == 'j' and 'ano' in palabra:\n",
    "        print(palabra)"
   ]
  },
  {
   "cell_type": "code",
   "execution_count": 63,
   "metadata": {
    "scrolled": true
   },
   "outputs": [
    {
     "name": "stdout",
     "output_type": "stream",
     "text": [
      "menorquina\n",
      "cosquillearas\n",
      "desautorizar\n"
     ]
    }
   ],
   "source": [
    "vocales = set('aeiuo')\n",
    "for palabra in palabras:\n",
    "    if vocales.issubset(set(palabra)):\n",
    "        print(palabra)"
   ]
  },
  {
   "cell_type": "code",
   "execution_count": null,
   "metadata": {},
   "outputs": [],
   "source": []
  },
  {
   "cell_type": "code",
   "execution_count": null,
   "metadata": {},
   "outputs": [],
   "source": []
  },
  {
   "cell_type": "code",
   "execution_count": 62,
   "metadata": {},
   "outputs": [
    {
     "data": {
      "text/plain": [
       "True"
      ]
     },
     "execution_count": 62,
     "metadata": {},
     "output_type": "execute_result"
    }
   ],
   "source": [
    "set('aeiou').issubset('murcielago')"
   ]
  },
  {
   "cell_type": "code",
   "execution_count": 128,
   "metadata": {},
   "outputs": [
    {
     "name": "stdout",
     "output_type": "stream",
     "text": [
      "Hay 174846 palabras cargadas\n"
     ]
    }
   ],
   "source": [
    "def load_words():\n",
    "    palabras = []\n",
    "    with open('data/spanish.txt') as f:\n",
    "        for palabra in f.readlines():\n",
    "            if palabra.strip():\n",
    "                palabras.append(palabra.strip())\n",
    "    return palabras\n",
    "\n",
    "words = load_words()\n",
    "print('Hay {} palabras cargadas'.format(len(words)))"
   ]
  },
  {
   "cell_type": "code",
   "execution_count": 186,
   "metadata": {},
   "outputs": [
    {
     "data": {
      "text/plain": [
       "['w', 'whisky', 'wat', 'whiskies', 'whiski']"
      ]
     },
     "execution_count": 186,
     "metadata": {},
     "output_type": "execute_result"
    }
   ],
   "source": [
    "import random\n",
    "\n",
    "random.sample([p for p in words if p[0]=='w'], 5)"
   ]
  },
  {
   "cell_type": "code",
   "execution_count": null,
   "metadata": {},
   "outputs": [],
   "source": []
  },
  {
   "cell_type": "markdown",
   "metadata": {},
   "source": [
    "### Matplotlib (Gráficas)"
   ]
  },
  {
   "cell_type": "code",
   "execution_count": null,
   "metadata": {},
   "outputs": [],
   "source": []
  },
  {
   "cell_type": "code",
   "execution_count": 7,
   "metadata": {},
   "outputs": [],
   "source": [
    "%matplotlib inline\n",
    "import math\n",
    "from matplotlib import pyplot as plt"
   ]
  },
  {
   "cell_type": "code",
   "execution_count": 11,
   "metadata": {},
   "outputs": [
    {
     "data": {
      "text/plain": [
       "[<matplotlib.lines.Line2D at 0x7f542071f2e8>]"
      ]
     },
     "execution_count": 11,
     "metadata": {},
     "output_type": "execute_result"
    },
    {
     "data": {
      "image/png": "[encoded data removed]",
      "text/plain": [
       "<matplotlib.figure.Figure at 0x7f5420770828>"
      ]
     },
     "metadata": {},
     "output_type": "display_data"
    }
   ],
   "source": [
    "x = []\n",
    "y = []\n",
    "for i in range(-200, 201):\n",
    "    x.append(i)\n",
    "    y.append(math.sin(i*math.pi/180.))\n",
    "\n",
    "plt.plot(x, y)    "
   ]
  },
  {
   "cell_type": "code",
   "execution_count": 196,
   "metadata": {},
   "outputs": [
    {
     "data": {
      "image/png": "[encoded data removed]",
      "text/plain": [
       "<matplotlib.figure.Figure at 0x7f541db596a0>"
      ]
     },
     "metadata": {},
     "output_type": "display_data"
    }
   ],
   "source": [
    "#!/usr/bin/env python\n",
    "import numpy as np\n",
    "import matplotlib.mlab as mlab\n",
    "import matplotlib.pyplot as plt\n",
    "\n",
    "mu, sigma = 100, 15\n",
    "x = mu + sigma*np.random.randn(10000)\n",
    "\n",
    "# the histogram of the data\n",
    "n, bins, patches = plt.hist(x, 50, normed=1, facecolor='green', alpha=0.75)\n",
    "\n",
    "# add a 'best fit' line\n",
    "y = mlab.normpdf( bins, mu, sigma)\n",
    "l = plt.plot(bins, y, 'r--', linewidth=1)\n",
    "\n",
    "plt.xlabel('Smarts')\n",
    "plt.ylabel('Probability')\n",
    "plt.title(r'$\\mathrm{Histogram\\ of\\ IQ:}\\ \\mu=100,\\ \\sigma=15$')\n",
    "plt.axis([40, 160, 0, 0.03])\n",
    "plt.grid(True)\n",
    "\n",
    "plt.show()"
   ]
  },
  {
   "cell_type": "code",
   "execution_count": 197,
   "metadata": {},
   "outputs": [
    {
     "data": {
      "text/plain": [
       "array([ 101.124431  ,   97.07001967,  108.74212029, ...,  103.06642794,\n",
       "        105.42287898,  108.27483134])"
      ]
     },
     "execution_count": 197,
     "metadata": {},
     "output_type": "execute_result"
    }
   ],
   "source": [
    "x"
   ]
  },
  {
   "cell_type": "code",
   "execution_count": 201,
   "metadata": {},
   "outputs": [
    {
     "data": {
      "text/plain": [
       "(array([  1.,   2.,   1.,   0.,  10.,   0.,   0.,   6.,   0.,   1.]),\n",
       " array([ 0. ,  0.7,  1.4,  2.1,  2.8,  3.5,  4.2,  4.9,  5.6,  6.3,  7. ]),\n",
       " <a list of 10 Patch objects>)"
      ]
     },
     "execution_count": 201,
     "metadata": {},
     "output_type": "execute_result"
    },
    {
     "data": {
      "image/png": "[encoded data removed]",
      "text/plain": [
       "<matplotlib.figure.Figure at 0x7f541d80d710>"
      ]
     },
     "metadata": {},
     "output_type": "display_data"
    }
   ],
   "source": [
    "plt.hist(['300', '2', '3', '3', '4','4','4','4', '5','5','5','5','5','5','6','6','6','6','7','7','8',])"
   ]
  },
  {
   "cell_type": "code",
   "execution_count": null,
   "metadata": {},
   "outputs": [],
   "source": []
  }
 ],
 "metadata": {
  "kernelspec": {
   "display_name": "Python 3",
   "language": "python",
   "name": "python3"
  },
  "language_info": {
   "codemirror_mode": {
    "name": "ipython",
    "version": 3
   },
   "file_extension": ".py",
   "mimetype": "text/x-python",
   "name": "python",
   "nbconvert_exporter": "python",
   "pygments_lexer": "ipython3",
   "version": "3.5.2"
  }
 },
 "nbformat": 4,
 "nbformat_minor": 2
}
