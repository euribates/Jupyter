{
 "cells": [
  {
   "cell_type": "markdown",
   "metadata": {},
   "source": [
    "## La sentencia break\n",
    "\n",
    "La sentencia `break` es una orden para salir inmediatemente del bucle, pasando a continuación a ejecutar la primera línea despues del bloque de código, es decir, la siguiente linea que este indentada al mismo ni9vel que la sentencia `while` o `for`. Se usa habitualmente cuando estamos recorriendo una estructura en busca de algo; una vez que lo hemos encontrado, no tiene sentido sequir ejecutnado el bucle.\n",
    "\n",
    "Por ejemplo, supongamos que queremos buscar el primer número par dentro de la lista [5, 27, 7, 189, 14, 21, 2]:"
   ]
  },
  {
   "cell_type": "code",
   "execution_count": 2,
   "metadata": {},
   "outputs": [
    {
     "name": "stdout",
     "output_type": "stream",
     "text": [
      "14\n"
     ]
    }
   ],
   "source": [
    "lista_numeros = [5, 27, 7, 189, 14, 21, 2]\n",
    "for num in lista_numeros:\n",
    "    if num % 2 == 0:\n",
    "        print(num)\n",
    "        break\n",
    "    "
   ]
  },
  {
   "cell_type": "markdown",
   "metadata": {},
   "source": [
    "Otro ejemplo, con un bucle aparentemente infinito pero del que podemos salir con la sentencia break: Encontrar el primer numero entero que, elevado a si mismo, sea mayor que un millón:\n"
   ]
  },
  {
   "cell_type": "code",
   "execution_count": 6,
   "metadata": {},
   "outputs": [
    {
     "name": "stdout",
     "output_type": "stream",
     "text": [
      "8 16777216\n"
     ]
    }
   ],
   "source": [
    "i = 1\n",
    "while True:\n",
    "    if i**i > 1000000:\n",
    "        break\n",
    "    i += 1\n",
    "print(i, i**i)"
   ]
  },
  {
   "cell_type": "code",
   "execution_count": null,
   "metadata": {},
   "outputs": [],
   "source": []
  }
 ],
 "metadata": {
  "kernelspec": {
   "display_name": "Python 3",
   "language": "python",
   "name": "python3"
  },
  "language_info": {
   "codemirror_mode": {
    "name": "ipython",
    "version": 3
   },
   "file_extension": ".py",
   "mimetype": "text/x-python",
   "name": "python",
   "nbconvert_exporter": "python",
   "pygments_lexer": "ipython3",
   "version": "3.5.2"
  }
 },
 "nbformat": 4,
 "nbformat_minor": 2
}
