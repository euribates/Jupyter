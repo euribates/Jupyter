{
 "cells": [
  {
   "cell_type": "markdown",
   "metadata": {},
   "source": [
    "## Strings o cadenas de texto"
   ]
  },
  {
   "cell_type": "markdown",
   "metadata": {},
   "source": [
    "Hasta ahora hemos usado variables de un mismo tipo, calores numéricos. Pero hay más tipos de datos, en esta sección vamos a introducir las cadenas de texto o _strings_. Este tipo de datos se usa para almacenar texto. El texto se considera como una secuencia o _encadenamiento_ de varias letras o caracteres sucesivos, de ahí lo de cadenas de texto.\n",
    "\n",
    "Para crear una variable de texto, la hemos igual que con las variables numéricas, asignamos un valor a un nombre."
   ]
  },
  {
   "cell_type": "code",
   "execution_count": 4,
   "metadata": {},
   "outputs": [
    {
     "data": {
      "text/plain": [
       "'Hola'"
      ]
     },
     "execution_count": 4,
     "metadata": {},
     "output_type": "execute_result"
    }
   ],
   "source": [
    "a = 'Hola'\n",
    "a"
   ]
  },
  {
   "cell_type": "markdown",
   "metadata": {},
   "source": [
    "### Delimitadores de texto\n",
    "\n",
    "El ordenador necesita saber donde empiza y termina la cadena de texto con total exactitud, pera eso se usan las comillas. Distintos lenguajes usan diostintas convenciones, pero en python hay cuatro formas de marcar el principio y el fin de una cadena de texto:\n",
    "\n",
    "- Comillas simples: '\n",
    "\n",
    "- Comillas dobles: \"\n",
    "\n",
    "- Triples comillas simples: '''\n",
    "\n",
    "- Tripes comillas dobles: \"\"\"\n",
    "\n",
    "Es decir, que las siguientes declaraciones de variables son todas validas y equivalentes entre si, ya que todos crean la misma cadena de texto:"
   ]
  },
  {
   "cell_type": "code",
   "execution_count": 9,
   "metadata": {},
   "outputs": [
    {
     "data": {
      "text/plain": [
       "('hola', 'hola', 'hola', 'hola')"
      ]
     },
     "execution_count": 9,
     "metadata": {},
     "output_type": "execute_result"
    }
   ],
   "source": [
    "a = 'hola'\n",
    "b = \"hola\"\n",
    "c = '''hola'''\n",
    "d = \"\"\"hola\"\"\"\n",
    "a, b, c, d"
   ]
  },
  {
   "cell_type": "markdown",
   "metadata": {},
   "source": [
    "Obviamente, no podemos mezclar las marcas de principio y final, es decir, si hemos empezado la cadena de texto con triples comillas simples, tenemos que terminarla con triples comillas simples:"
   ]
  },
  {
   "cell_type": "code",
   "execution_count": 15,
   "metadata": {},
   "outputs": [
    {
     "ename": "SyntaxError",
     "evalue": "EOF while scanning triple-quoted string literal (<ipython-input-15-a707ef5f416f>, line 1)",
     "output_type": "error",
     "traceback": [
      "\u001b[0;36m  File \u001b[0;32m\"<ipython-input-15-a707ef5f416f>\"\u001b[0;36m, line \u001b[0;32m1\u001b[0m\n\u001b[0;31m    a = '''¡Yabba dabba doo!\"\"\"  # No funciona\u001b[0m\n\u001b[0m                                              ^\u001b[0m\n\u001b[0;31mSyntaxError\u001b[0m\u001b[0;31m:\u001b[0m EOF while scanning triple-quoted string literal\n"
     ]
    }
   ],
   "source": [
    "a = '''¡Yabba dabba doo!\"\"\"  # No funciona"
   ]
  },
  {
   "cell_type": "markdown",
   "metadata": {},
   "source": [
    "¿Para qué queremos tantas formas distintas de espresar las cadenas de texto, si todas dan el mismo resultado? Pues básicamente por comodidad, para resolver el problema de como incluir comillas _dentro de la propia cadena de texto_.\n",
    "\n",
    "Por ejemplo si queremos trabajar con el texto en inglés _My Taylor is rich and my mother's in the kitchen_, y usáremos el delimitador de comillas simple, el ordenador no lo entenderá, por ambiguo: ¿Dónde termina la cedena, después de _mother_ o después de _kitchen_?"
   ]
  },
  {
   "cell_type": "code",
   "execution_count": 16,
   "metadata": {},
   "outputs": [
    {
     "ename": "SyntaxError",
     "evalue": "invalid syntax (<ipython-input-16-a3836b481a81>, line 1)",
     "output_type": "error",
     "traceback": [
      "\u001b[0;36m  File \u001b[0;32m\"<ipython-input-16-a3836b481a81>\"\u001b[0;36m, line \u001b[0;32m1\u001b[0m\n\u001b[0;31m    a = 'My Taylor is rich and my mother's in the kitchen'\u001b[0m\n\u001b[0m                                         ^\u001b[0m\n\u001b[0;31mSyntaxError\u001b[0m\u001b[0;31m:\u001b[0m invalid syntax\n"
     ]
    }
   ],
   "source": [
    "a = 'My Taylor is rich and my mother's in the kitchen'"
   ]
  },
  {
   "cell_type": "markdown",
   "metadata": {},
   "source": [
    "Podemos resolver este problema de forma muy sencilla usando como delimitador cualquiera de los tros tres formatos, ya que hay no ahora no hay ambigüedad."
   ]
  },
  {
   "cell_type": "code",
   "execution_count": 13,
   "metadata": {},
   "outputs": [
    {
     "data": {
      "text/plain": [
       "(\"My Taylor is rich and my mother's in the kitchen\",\n",
       " \"My Taylor is rich and my mother's in the kitchen\",\n",
       " \"My Taylor is rich and my mother's in the kitchen\")"
      ]
     },
     "execution_count": 13,
     "metadata": {},
     "output_type": "execute_result"
    }
   ],
   "source": [
    "a = \"My Taylor is rich and my mother's in the kitchen\"\n",
    "b = \"\"\"My Taylor is rich and my mother's in the kitchen\"\"\"\n",
    "c = '''My Taylor is rich and my mother's in the kitchen'''\n",
    "\n",
    "a, b, c"
   ]
  },
  {
   "cell_type": "markdown",
   "metadata": {},
   "source": [
    "¿Y si tenemos un día malo y tenemos que trabajar con una cadena de texto que contienes comillas simples, comillas dobles, triples comillas simples y triples comillas dobles? En primer lugar: no compre lotería hoy. En segundo, hay una forma de incluir determinados caracteres de forma literal, es decir, sin considerar el significado especial que tienen. Este concepto se llama **escapar** el significado del caracter. En este caso, queremos _escapar_ la comilla dentro de la frase para que no signifique \"Y la cedena de texto termina aquí\", sino que valga por su significado normal, \"comilla simple\". Para escapar un caracter de su significado especial se usa el caracter \"\\\" o barra invertida."
   ]
  },
  {
   "cell_type": "code",
   "execution_count": 17,
   "metadata": {},
   "outputs": [
    {
     "data": {
      "text/plain": [
       "\"My Taylor is rich and my mother's in the kitchen\""
      ]
     },
     "execution_count": 17,
     "metadata": {},
     "output_type": "execute_result"
    }
   ],
   "source": [
    "a = 'My Taylor is rich and my mother\\'s in the kitchen'\n",
    "a"
   ]
  },
  {
   "cell_type": "markdown",
   "metadata": {},
   "source": [
    "Como hemos _escapado_ la sedunda comillas simple, esta ya no tiene el significado de \"fin de cadena de texto\", sino que vale por lo que es, una comillas simple normal, y desaparece la ambigüedad.\n",
    "\n",
    "### Otros caracteres especiales\n",
    "\n",
    "Otros caracteres especiales que se pueden escapar son, por ejemplo, la letra n minúscula. Si la usamos sin escapar, el significado es, obviamente, `n`, pero si la escapamos, es decir, si la precedemos con una barra invertida, su significado pasa a \"salta a la línea siguiente\". POdemos ver el resultado usando la función `print`:"
   ]
  },
  {
   "cell_type": "code",
   "execution_count": 19,
   "metadata": {},
   "outputs": [
    {
     "name": "stdout",
     "output_type": "stream",
     "text": [
      "esta es la primera línea\n",
      "Esta es la segunda línea\n"
     ]
    }
   ],
   "source": [
    "s = 'esta es la primera línea\\nEsta es la segunda línea'\n",
    "print(s)"
   ]
  },
  {
   "cell_type": "code",
   "execution_count": 20,
   "metadata": {},
   "outputs": [],
   "source": [
    "### Codificación de textos"
   ]
  },
  {
   "cell_type": "markdown",
   "metadata": {},
   "source": [
    "Como el ordenador solo sabe de números, los textos se almacenan codificando cada letra, caracter o símbolo como un núnero determinado. La codificación más usada hoy en día es [UFT-8](https://es.wikipedia.org/wiki/UTF-8), que es una extensión de la codificación ASCII, que era el estándar por defecto desde los años 60 del pasado siglo. \n",
    "\n",
    "La principal limitacion del ASCII es que inicialmente solo codificaba sobre el centenar de caractgeres, mientras que con utf-8 se pueden codificar todos los caracteres reconocidos por [UNICODE](https://es.wikipedia.org/wiki/Unicode), que actualmente está en torno a los 136000 símbolos.\n",
    "\n",
    "Por ejemplo, la codificación del símbolo A Mayúscula ('A') es el númnero 65. Hay una función que nos permite saber el código asociado con cada letra o simbolo, `ord`:"
   ]
  },
  {
   "cell_type": "code",
   "execution_count": 5,
   "metadata": {},
   "outputs": [
    {
     "data": {
      "text/plain": [
       "65"
      ]
     },
     "execution_count": 5,
     "metadata": {},
     "output_type": "execute_result"
    }
   ],
   "source": [
    "ord('A')"
   ]
  },
  {
   "cell_type": "markdown",
   "metadata": {},
   "source": [
    "**Pregunta**: ¡Cual será el código de la letra B Mayúscula? ¿Y de la zeta minúscula?"
   ]
  },
  {
   "cell_type": "code",
   "execution_count": 7,
   "metadata": {},
   "outputs": [
    {
     "data": {
      "text/plain": [
       "122"
      ]
     },
     "execution_count": 7,
     "metadata": {},
     "output_type": "execute_result"
    }
   ],
   "source": []
  },
  {
   "cell_type": "markdown",
   "metadata": {},
   "source": [
    "es \t&#26376;"
   ]
  },
  {
   "cell_type": "markdown",
   "metadata": {},
   "source": [
    "Existe otra función que realiza la operación contraria, a partir de un número, nos devuelve el caracter correspondiente: `chr`. Por ejemplo, podemos obtener una letra A mayúscula con `chr(65)`:"
   ]
  },
  {
   "cell_type": "code",
   "execution_count": 21,
   "metadata": {},
   "outputs": [
    {
     "name": "stdout",
     "output_type": "stream",
     "text": [
      "A\n"
     ]
    }
   ],
   "source": [
    "print(chr(65))"
   ]
  },
  {
   "cell_type": "markdown",
   "metadata": {},
   "source": [
    "**Ejercicio:** El caracter chino Yué (Luna), que se muestra a continuación, tiene el número unicode **26376**, cómo podemos imprimirlo es este notebook:"
   ]
  },
  {
   "cell_type": "markdown",
   "metadata": {},
   "source": [
    "![símbolo Han Yué: Luna](./art/Han-Moon.png)"
   ]
  },
  {
   "cell_type": "code",
   "execution_count": 28,
   "metadata": {},
   "outputs": [
    {
     "ename": "TypeError",
     "evalue": "chr() takes exactly one argument (0 given)",
     "output_type": "error",
     "traceback": [
      "\u001b[0;31m---------------------------------------------------------------------------\u001b[0m",
      "\u001b[0;31mTypeError\u001b[0m                                 Traceback (most recent call last)",
      "\u001b[0;32m<ipython-input-28-88f53bfba3c3>\u001b[0m in \u001b[0;36m<module>\u001b[0;34m()\u001b[0m\n\u001b[0;32m----> 1\u001b[0;31m \u001b[0mprint\u001b[0m\u001b[0;34m(\u001b[0m\u001b[0mchr\u001b[0m\u001b[0;34m(\u001b[0m\u001b[0;34m)\u001b[0m\u001b[0;34m)\u001b[0m\u001b[0;34m\u001b[0m\u001b[0m\n\u001b[0m",
      "\u001b[0;31mTypeError\u001b[0m: chr() takes exactly one argument (0 given)"
     ]
    }
   ],
   "source": [
    "print(chr())"
   ]
  },
  {
   "cell_type": "markdown",
   "metadata": {},
   "source": [
    "### Operaciones con cadenas de texto"
   ]
  },
  {
   "cell_type": "markdown",
   "metadata": {},
   "source": [
    "Como hemos visto, las cadenas de texto son internamente una serie de números. Como tales, tienen mucho en común con las listas que vimos anteriormente; de hecho tanto las listas como las cadenas de texto son consideradas *secuencias* (Hay otros tipos de datos que también son secuencias, como las _tuplas_, las veremos más adelanten). Lo bueno de esto es que la mayoría de las operaciones que vimos en las listas se pueden realizar también con las cadenas de textos."
   ]
  },
  {
   "cell_type": "markdown",
   "metadata": {},
   "source": [
    " ### Acceso mediante índices"
   ]
  },
  {
   "cell_type": "markdown",
   "metadata": {},
   "source": [
    "Podemos acceder a una letra o símbolo en concreto usando el índice entre corchetes (recuerden que los índices siempre empiezan por cero, no por uno):"
   ]
  },
  {
   "cell_type": "code",
   "execution_count": 6,
   "metadata": {},
   "outputs": [
    {
     "name": "stdout",
     "output_type": "stream",
     "text": [
      "y\n"
     ]
    }
   ],
   "source": [
    "s = 'Luke, yo soy tu padre'\n",
    "coma = s[6]\n",
    "print(coma)"
   ]
  },
  {
   "cell_type": "code",
   "execution_count": 1,
   "metadata": {},
   "outputs": [
    {
     "name": "stdout",
     "output_type": "stream",
     "text": [
      "yo soy\n"
     ]
    }
   ],
   "source": [
    "s = 'Luke, yo soy tu padre'\n",
    "sujeto = s[6:8]\n",
    "verbo = s[9:12]\n",
    "print(sujeto, verbo)"
   ]
  },
  {
   "cell_type": "markdown",
   "metadata": {},
   "source": [
    "### Recorrer cadenas de fextos con for\n",
    "\n",
    "Como vimos antes, el `for` en Python es una estructura de control especializada en trabajar sobre secuencias. Como las cadenas de texto son secuencias, for es perfectamente capaz de _iterar_ sobre ellas, es decir, repetir la ejecución de una secuencia de codígo para cada uno de los elementos de la secuencia:"
   ]
  },
  {
   "cell_type": "code",
   "execution_count": 8,
   "metadata": {},
   "outputs": [
    {
     "name": "stdout",
     "output_type": "stream",
     "text": [
      "¡\n",
      "Y\n",
      "a\n",
      "b\n",
      "b\n",
      "a\n",
      " \n",
      "d\n",
      "a\n",
      "b\n",
      "b\n",
      "a\n",
      " \n",
      "d\n",
      "o\n",
      "o\n",
      "!\n"
     ]
    }
   ],
   "source": [
    "saludo = '¡Yabba dabba doo!'\n",
    "for caracter in saludo:\n",
    "    print(caracter)"
   ]
  },
  {
   "cell_type": "markdown",
   "metadata": {},
   "source": [
    "**Ejercicio:** Dada una cedena de texto, vamos a imprimir todos los códigos numéricos que la representan internamente:"
   ]
  },
  {
   "cell_type": "code",
   "execution_count": 9,
   "metadata": {},
   "outputs": [],
   "source": [
    "s = '¡Yabba dabba doo!'\n",
    "for caracter in saludo:\n",
    "    ..."
   ]
  },
  {
   "cell_type": "markdown",
   "metadata": {},
   "source": [
    "### Operaciones de slicing\n",
    "\n",
    "Todas las operaciones de _slicing_ o rebanadas que vimos para las listas, sirven también para los textos. Por ejemplo, podemos extraer una subcadena de texto a partir de una mayor:"
   ]
  },
  {
   "cell_type": "markdown",
   "metadata": {},
   "source": [
    "Igual que con las listas, podemos omitir el primer valor o el segundo, o los dos. Se asume entonces que nos referimos al principio de la cadena de texto si omitimos el primero, y al final si omitimos el segunddo:"
   ]
  },
  {
   "cell_type": "code",
   "execution_count": 5,
   "metadata": {},
   "outputs": [
    {
     "name": "stdout",
     "output_type": "stream",
     "text": [
      "Luke tu padre\n"
     ]
    }
   ],
   "source": [
    "s = 'Luke, yo soy tu padre'\n",
    "luke = s[:4]\n",
    "determinante = s[-8:]\n",
    "print(luke, determinante)"
   ]
  },
  {
   "cell_type": "markdown",
   "metadata": {},
   "source": [
    "Cuando vimos las operaciones de slicing en las listas, no explicamos que se puede usar un tercer valor, que se usaría como valor de paso oe salto en la secuencia. Es decir, que la rodaja [1:5] nos da los elementos en las segunda, tercera, cuarta y quinta posición posición (Es decir, los índices 1,2,3 y 4):"
   ]
  },
  {
   "cell_type": "code",
   "execution_count": 10,
   "metadata": {},
   "outputs": [
    {
     "name": "stdout",
     "output_type": "stream",
     "text": [
      "bcde\n"
     ]
    }
   ],
   "source": [
    "s = 'abcdefghijkl'\n",
    "print(s[1:5])"
   ]
  },
  {
   "cell_type": "markdown",
   "metadata": {},
   "source": [
    "Pero si añadimos un tercer valor, se usara como valor de salto, por ejemplo `[1:5:2]` nos dará los elementos en las posiciones segunda y cuarta (Índices 1 y 3 (es decir, 1+2))."
   ]
  },
  {
   "cell_type": "code",
   "execution_count": 11,
   "metadata": {},
   "outputs": [
    {
     "name": "stdout",
     "output_type": "stream",
     "text": [
      "bd\n"
     ]
    }
   ],
   "source": [
    "s = 'abcdefghijkl'\n",
    "print(s[1:5:2])"
   ]
  },
  {
   "cell_type": "code",
   "execution_count": null,
   "metadata": {},
   "outputs": [],
   "source": [
    "Evidentemente, `[1:8:1]` es igual a `[1:8]`"
   ]
  },
  {
   "cell_type": "markdown",
   "metadata": {},
   "source": [
    "### Operador in\n",
    "\n",
    "El operador `in` puede ser usado con cadenas de texto igual que con las listas. La expresión \n",
    "se puede usar para saber si una determinada secuencia de caracteres se encuantra incluida dentro de otra, normalmente más grande.\n"
   ]
  },
  {
   "cell_type": "code",
   "execution_count": 4,
   "metadata": {},
   "outputs": [
    {
     "name": "stdout",
     "output_type": "stream",
     "text": [
      "True\n"
     ]
    }
   ],
   "source": [
    "voltaire = '''No estoy de acuerdo con lo que dices, \n",
    "pero hasta con la vida defenderé el derecho \n",
    "que tienes de decir lo que piensas.\n",
    "'''\n",
    "print('pero' in voltaire)\n"
   ]
  },
  {
   "cell_type": "code",
   "execution_count": 5,
   "metadata": {},
   "outputs": [
    {
     "name": "stdout",
     "output_type": "stream",
     "text": [
      "False\n"
     ]
    }
   ],
   "source": [
    "print('acuerdo' not in voltaire)"
   ]
  },
  {
   "cell_type": "markdown",
   "metadata": {},
   "source": [
    "### Otros métodos útiles\n",
    "\n",
    "- El método `startswith` nos sirve para saber si una cadena de textos empieza de una determinada subcadena.\n",
    "\n",
    "- El método `endswith` nos sirve para saber si una cadena de textos empieza con una determinada subcadena.\n",
    "\n",
    "- El método `upper` nos sirve para saber convertir una cadena de texto en otra\n",
    "  igual excepto porque todas las letras están en mayúsculas.\n",
    "  \n",
    "- El método `lower` nos sirve para saber convertir una cadena de texto en otra\n",
    "  igual excepto porque todas las letras están en minúsculas.\n",
    "  \n",
    "\n",
    "  \n"
   ]
  },
  {
   "cell_type": "code",
   "execution_count": 12,
   "metadata": {},
   "outputs": [
    {
     "name": "stdout",
     "output_type": "stream",
     "text": [
      "True\n",
      "False\n",
      "hola\n",
      "HOLA\n"
     ]
    }
   ],
   "source": [
    "cita_groucho = 'Nunca olvido una cara. Pero en su caso, haré gustoso una excepción'\n",
    "print(cita_groucho.startswith('Nunca'))\n",
    "print(cita_groucho.endswith('excepción.'))\n",
    "print('Hola'.lower())\n",
    "print('Hola'.upper())"
   ]
  },
  {
   "cell_type": "markdown",
   "metadata": {},
   "source": [
    "Tanto `upper` como `lower`, al igual que, por lo general, cualquier otro método que altere el contenido de la cadena de texto, no hacen ningún cambio en el valor original sino que devuelven una nueva cadena de texto modificada."
   ]
  },
  {
   "cell_type": "markdown",
   "metadata": {},
   "source": [
    "### Otros métodos `isX`\n",
    "\n",
    "los métodos que empiezan con `is` devuelven valores lógicos o booleanos, indicando si la cadena de texto correspondiente cumple o no ciertas características. Algunos de estos mñetodos son los siguientes:\n",
    "\n",
    "- El método `isupper` nos devuelve verdadero (`True`) si la cadena de texto\n",
    "  sobre la que se aplica tienen todas las letras en mayúsculas.\n",
    "  \n",
    "- De forma análoga, `islower` devuelve verdadero si la cadena de texto\n",
    "  sobre la que se aplica tienen todas las letras en minúsculas.\n",
    "\n",
    "- `isalpha()` devuelve verdadero si la cadena de texto contiene solo letras, sin ningún espacio.\n",
    "\n",
    "- `isalnum()` devuelve verdadero si la cadena consta solo de letras y/o números, sin ningún espacio.\n",
    "\n",
    "- `isdecimal()` devuelve verdadero si la cadena consta solo de dígitos, y no esta vacia.\n"
   ]
  },
  {
   "cell_type": "code",
   "execution_count": 27,
   "metadata": {},
   "outputs": [
    {
     "name": "stdout",
     "output_type": "stream",
     "text": [
      "\"abc\" son todo minúsculas: True\n",
      "\"ABC\" son todo mayúsculas: True\n",
      "\"hola\" son solo letras: True\n",
      "\"hola3\" son letras y números: True\n",
      "\"2343\" sólo contiene dígitos: True\n"
     ]
    }
   ],
   "source": [
    "print('\"abc\" son todo minúsculas:', 'abc'.islower())\n",
    "print('\"ABC\" son todo mayúsculas:', 'ABC'.isupper())\n",
    "print('\"hola\" son solo letras:', 'hola'.isalpha())\n",
    "print('\"hola3\" son letras y números:', 'hola3'.isalnum())\n",
    "print('\"2343\" sólo contiene dígitos:', '2343'.isdecimal())"
   ]
  },
  {
   "cell_type": "markdown",
   "metadata": {},
   "source": [
    "### Los métodos join y split\n",
    "\n",
    "Falta"
   ]
  },
  {
   "cell_type": "code",
   "execution_count": null,
   "metadata": {},
   "outputs": [],
   "source": []
  }
 ],
 "metadata": {
  "kernelspec": {
   "display_name": "Python 3",
   "language": "python",
   "name": "python3"
  },
  "language_info": {
   "codemirror_mode": {
    "name": "ipython",
    "version": 3
   },
   "file_extension": ".py",
   "mimetype": "text/x-python",
   "name": "python",
   "nbconvert_exporter": "python",
   "pygments_lexer": "ipython3",
   "version": "3.5.2"
  }
 },
 "nbformat": 4,
 "nbformat_minor": 2
}
