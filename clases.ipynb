{
 "cells": [
  {
   "cell_type": "markdown",
   "metadata": {},
   "source": [
    "# Clases (Programación orientada a objetos)"
   ]
  },
  {
   "cell_type": "markdown",
   "metadata": {},
   "source": [
    "## Objetos y Clases en POO\n",
    "\n",
    "Las **clases** definen unas propiedades mediante unas varibles internas\n",
    "(que se denominan generalmente **atributos**) y las capacidades y\n",
    "comportamiento mediante funciones también internas (que se denominan\n",
    "genralmente **métodos**) \n",
    "\n",
    "Un **objeto** es una variable\n",
    "creada a partir de una clase, o **instanciada**, y representa un caso\n",
    "particular dentro del conjunto de posibles instancias de una clase (de la misma\n",
    "forma que podemos considerar al número 7 como una instancia particular de la\n",
    "clase \"Números Enteros\"), y el gato \"Romeo\" (en foto adjunta) es una instancia,\n",
    "o caso cocreto, de la clase \"Gatos\".\n",
    "\n",
    "![El gato Romeo](./art/gato.jpg)\n",
    "\n",
    "Las clases se definen en Python con la palabra reservada `class`. En\n",
    "teoría no hace falta nada más para crear una clase que su nombre; así,\n",
    "la clase más sencilla que podemos pensar es:"
   ]
  },
  {
   "cell_type": "code",
   "execution_count": 7,
   "metadata": {},
   "outputs": [],
   "source": [
    "class X:\n",
    "    pass"
   ]
  },
  {
   "cell_type": "markdown",
   "metadata": {},
   "source": [
    "y, aunque sea poco útil, funciona. Podemos\n",
    "instanciar un objeto a partir de esta clase, simplemente hay que\n",
    "usar el nombre de la clase como si fuera una función (El convenio\n",
    "es usar nombres en [CamelCase](https://es.wikipedia.org/wiki/CamelCase) para las clases y minúsculas para las variables, modulos y\n",
    "paquetes):"
   ]
  },
  {
   "cell_type": "code",
   "execution_count": 8,
   "metadata": {},
   "outputs": [
    {
     "name": "stdout",
     "output_type": "stream",
     "text": [
      "<__main__.X object at 0xb443f0ac>\n"
     ]
    }
   ],
   "source": [
    "x = X()\n",
    "print(x)"
   ]
  },
  {
   "cell_type": "markdown",
   "metadata": {},
   "source": [
    "Podemos asignar dinámicamente atributos. Por ejemplo, imaginemos\n",
    "que necesitamos una nueva clase, que nos permita almacenar\n",
    "coordenadas geográficas. Podiamos crear atributos `latitud`\n",
    "y `longitud` dinámicamente en el objeto `x` creado anteriormente:"
   ]
  },
  {
   "cell_type": "code",
   "execution_count": 9,
   "metadata": {},
   "outputs": [
    {
     "name": "stdout",
     "output_type": "stream",
     "text": [
      "28.4779 -16.3118\n"
     ]
    }
   ],
   "source": [
    "x.latitud = 28.4779\n",
    "x.longitud = -16.3118\n",
    "print(x.latitud, x.longitud)"
   ]
  },
  {
   "cell_type": "markdown",
   "metadata": {},
   "source": [
    "Pero esto no es ni elegante, ni cómodo, ni *pitónico*. En la mayor parte de los\n",
    "lenguajes orientados a objetos es obligatorio definir los atributos que\n",
    "puede tener un objeto. En Python no es necesario, pero sí es conveniente\n",
    "tener centralizado la creación y asignación de estos atributos. Para\n",
    "eso podemos definir un método con un nombre especial, `__init__`, que\n",
    "es invocado inmediatemente después de creado el objeto (por lo que\n",
    "no es técnicamente el constructor, sino más bien inicializador, pero\n",
    "mucha gente se refiere a esta función como el constructor). Ya puestos,\n",
    "vamos a darle a nuestra clase un nuevo nombre y un poco más de empaque:"
   ]
  },
  {
   "cell_type": "code",
   "execution_count": 10,
   "metadata": {},
   "outputs": [
    {
     "name": "stdout",
     "output_type": "stream",
     "text": [
      "28.4779 -16.3118\n"
     ]
    }
   ],
   "source": [
    "class Point:\n",
    "\n",
    "    def __init__(self, lat, lng):\n",
    "        self.latitud = lat\n",
    "        self.longitud = lng\n",
    "\n",
    "        \n",
    "x = Point(28.4779, -16.3118)\n",
    "print(x.latitud, x.longitud)"
   ]
  },
  {
   "cell_type": "markdown",
   "metadata": {},
   "source": [
    "Un poco por intuición, podemos suponer lo que hace Python\n",
    "cuando se crea la variable `x` a partir de la clase `Point` (a partir\n",
    "de ahora, *instanciar*). En primer lugar se crea el objeto.\n",
    "Inmediatamente a continuación, como hemos visto, se llama al\n",
    "inicializador, y parece que tiene sentido suponer que los dos parámetros\n",
    "que usamos al crear al objeto son los mismos valores que se pasan\n",
    "al método inicializador con los nombres `lat` y `lng`, pero\n",
    "¿De dónde sale el primer parámetro, `self`? ¿Y qué representa?\n",
    "\n",
    "**Nota**: Para programadores de C++, Java, C#\n",
    "\n",
    "> En C++, Java o C# acceden a este mismo objeto propio\n",
    "> usando la variable *mágica* `this`, y muchas veces ni\n",
    "> se utiliza porque se considera implícita. En Python se prefirió esta\n",
    "> forma por considerarla más explicita. De igual manera, los\n",
    "> atributos dentro de la función tienen que venir precedidos por el\n",
    "> `self.`, no hay alias mágicos para los atributos de la\n",
    "> instancia. En este caso, para evitar la ambigüedad.\n",
    "\n",
    "Empezemos por la segunda pregunta: `self` representa al propio\n",
    "objeto recién creado. Además, podemos adelantar que este primer\n",
    "parámetro es lo que diferencia a las funciones que ya conocíamos\n",
    "de los métodos; un método siempre tiene como primer parámetro\n",
    "la instancia sobre la que está siendo ejecutado.\n",
    "\n",
    "**Nota de implmentación**: Cuando definimos un método (en este caso `__init__`, pero vale para\n",
    "cualquiera), se generan en realidad dos versiones del mismo. La\n",
    "versión que se asocia a la clase, y la versión que se asocia\n",
    "al objeto. Podemos verlo usando la función `id`, que nos muestra\n",
    "las identidades de los objetos, o la funcion `is`:"
   ]
  },
  {
   "cell_type": "code",
   "execution_count": 11,
   "metadata": {},
   "outputs": [
    {
     "name": "stdout",
     "output_type": "stream",
     "text": [
      "3024807084 3051684236\n"
     ]
    },
    {
     "data": {
      "text/plain": [
       "False"
      ]
     },
     "execution_count": 11,
     "metadata": {},
     "output_type": "execute_result"
    }
   ],
   "source": [
    "class Point:\n",
    "    def __init__(self, lat, lng):\n",
    "        self.latitud = lat\n",
    "        self.longitud = lng\n",
    "\n",
    "x = Point(28.4779, -16.3118)\n",
    "print(id(Point.__init__), id(x.__init__))\n",
    "Point.__init__ is x.__init__"
   ]
  },
  {
   "cell_type": "markdown",
   "metadata": {},
   "source": [
    "Es más, si vemos la representacion de ambas funciones (usando la función [`repr`](https://docs.python.org/3/library/functions.html#repr), ya vemos que son distintas::"
   ]
  },
  {
   "cell_type": "code",
   "execution_count": 12,
   "metadata": {},
   "outputs": [
    {
     "name": "stdout",
     "output_type": "stream",
     "text": [
      "<function Point.__init__ at 0xb44ae4ac>\n",
      "<bound method Point.__init__ of <__main__.Point object at 0xb444db6c>>\n"
     ]
    }
   ],
   "source": [
    "print(repr(Point.__init__))\n",
    "print(repr(x.__init__))"
   ]
  },
  {
   "cell_type": "markdown",
   "metadata": {},
   "source": [
    "Una de ellas, la correspondiente a la clase `Point` se describe\n",
    "como *unbound method* (método no vinculado o libre), mientras\n",
    "que la correspondiente a la instancia se describe\n",
    "como *bound method* (método vinculado o ligado). ¿Que significa\n",
    "esto? Veamoslo con calma:\n",
    "\n",
    "Cuando se intenta acceder a la función `__init__` desde la instancia, la\n",
    "clase prepara otra version especial de `__init__`, una en la que el\n",
    "primer parámetro ya ha sido \"rellenado\", por así decirlo, con la\n",
    "propia instancia, y es éste el que se vincula a la instancia. De ahí\n",
    "que se pase de un método libre (el de la clase, que acepta tres\n",
    "parámetros) a un método vinculado (En la que el primer parámetro ya\n",
    "esta definido y acepta, por tanto, solo dos). Esta es la\n",
    "única diferencia entre los dos métodos.\n",
    "\n",
    "Quizá ayude verlo con otro método más normal. Definamos un método que\n",
    "nos indique si un determinado punto está por encima o por debajo del\n",
    "Ecuador. Nuestro código queda así:"
   ]
  },
  {
   "cell_type": "code",
   "execution_count": 13,
   "metadata": {},
   "outputs": [],
   "source": [
    "class Point:\n",
    "    def __init__(self, lat, lng):\n",
    "        self.latitud = lat\n",
    "        self.longitud = lng\n",
    "\n",
    "    def esta_en_hemisferio_sur(self):\n",
    "        return self.latitud < 0 "
   ]
  },
  {
   "cell_type": "markdown",
   "metadata": {},
   "source": [
    "Si usamos esta definición, vemos que podemos invocar cada una de\n",
    "las funciones, la de la clase y la de la instancia, si tenemos\n",
    "el cuidado de pasarle a cada una de ellas los parámetros que\n",
    "necesita:"
   ]
  },
  {
   "cell_type": "code",
   "execution_count": 14,
   "metadata": {},
   "outputs": [
    {
     "name": "stdout",
     "output_type": "stream",
     "text": [
      "x Está en el hemisferio sur (bound): False\n",
      "x Está en el hemisferio sur (unbound) False\n"
     ]
    }
   ],
   "source": [
    "x = Point(28.4779, -16.3118)\n",
    "print('x Está en el hemisferio sur (bound):', x.esta_en_hemisferio_sur())\n",
    "print('x Está en el hemisferio sur (unbound)', Point.esta_en_hemisferio_sur(x))"
   ]
  },
  {
   "cell_type": "markdown",
   "metadata": {},
   "source": [
    "En resumen, cuando definimos métodos para una clase, tenemos que\n",
    "**reservar el primer parámetro para el propio objeto**.  A la hora de\n",
    "llamar al método desde la instancia, los engranajes internos de Python\n",
    "ya se ocupan de poner el valor correcto como primer parámetro. La\n",
    "tradición y la costumbre marcan que este primer parámetro se llame\n",
    "`self`, pero en realidad no existe ninguna obligación de hacerlo\n",
    "impuesta por el lenguaje. Esta convención, sin embargo, es de las más\n",
    "respetadas dentro de la comunidad, y es poco recomendable usar \n",
    "otra."
   ]
  },
  {
   "cell_type": "markdown",
   "metadata": {},
   "source": [
    "### Métodos y/o atributos privados\n",
    "\n",
    "En Python no existe el concepto de métodos o atributos privados. En\n",
    "vez de eso, existe una convención de uso, por la cual si un atributo o\n",
    "método empieza con el carácter subrayado, ha de entenderse que es de\n",
    "uso interno, que no deberías jugar con él a no ser que sepas muy bien\n",
    "lo que estás haciendo, y que si en un futuro tu código deja de\n",
    "funcionar porque ese atributo o método ha desaparecido, no puedes\n",
    "culpar a nadie más que a ti mismo. En resumen, se supone que todos\n",
    "somos adultos responsables. Aunque parezca una locura, funciona."
   ]
  },
  {
   "cell_type": "markdown",
   "metadata": {},
   "source": [
    "## Métodos mágicos\n"
   ]
  },
  {
   "cell_type": "markdown",
   "metadata": {},
   "source": [
    "## Polimorfismo"
   ]
  },
  {
   "cell_type": "markdown",
   "metadata": {},
   "source": [
    "### Herencia de clases\n",
    "\n",
    "Con esto tenemos un sistema bastante potente, una forma de agrupar en\n",
    "una sola entidad la estructura de datos y el código asociado  con la\n",
    "misma, así que podemos tener nuestros propios tipos de datos. Pero en\n",
    "el mundo OOP (*Object Oriented Programming*), para poder hablar de clases y objetos  con propiedad\n",
    "es necesario que haya algún tipo de herencia. La herencia nos permite\n",
    "definir una clase refinando o modificando otra (herencia simple) u\n",
    "otras (herencia múltiple). Veamos el caso de la herencia simple para\n",
    "empezar.\n",
    "\n",
    "Si decimos que una clase `A` **deriva** o **hereda** de una clase `B` (o\n",
    "también que la clase `B` es una **superclase** de `A`), lo que queremos\n",
    "decir es que la clase `A` dispondrá de todos los atributos y métodos de\n",
    "la clase `B`, de entrada, aunque luego puede añadir más atributos o\n",
    "métodos y modificar (o incluso borrar, pero está muy mal visto) los\n",
    "atributos o métodos que ha heredado.\n",
    "\n",
    "La forma de expresar esta herencia en Python es:"
   ]
  },
  {
   "cell_type": "code",
   "execution_count": 15,
   "metadata": {},
   "outputs": [],
   "source": [
    "class B:\n",
    "    pass\n",
    "\n",
    "class A(B):\n",
    "    pass"
   ]
  },
  {
   "cell_type": "markdown",
   "metadata": {},
   "source": [
    "En este caso, la clase `A` hereda o deriva de de `B`.\n",
    "\n",
    "Como los objetos instanciados de `A` tienen los mismos atributos y\n",
    "métodos que `B`, pueden (o quizá deben, ya que nada lo impide\n",
    "excepto el sentido común) ser usados en cualquier sitio donde se use\n",
    "un objeto  instaciado de `B`. Esto implica que hay una relación entre `A` y `B`\n",
    "del tipo *es un tipo de*, es decir, donde `B` es una\n",
    "generalidad de `A`, o quiza `A` sea una particularidad de `B`,\n",
    "depende del punto de vista. \n",
    "\n",
    "En otras palabras,  todo objeto `a` instanciado de `A` debería ser\n",
    "también un `B` (pero no  necesariamente al revés).\n",
    "\n",
    "¿Para que sirve la herencia? Por encima de todo, para reducir el\n",
    "tamaño del código evitando repeticiones. Si organizamos las herencias\n",
    "correctamente en jerarquías, de más genéricas a más específicas,\n",
    "podemos compatibilizar el código común de las primeras con el más\n",
    "específico de las últimas. Además, y no es un beneficio baladí,\n",
    "simplifica los usos de los objetos instanciados, de forma que podemos\n",
    "tratarlos a todos como si fueran del mismo tipo, aún siendo\n",
    "diferentes.\n",
    "\n",
    "En la herencia múltiple, una clase puede heredar de más de una clase\n",
    "base. El problema en estos casos es que puede haber conflictos si se\n",
    "definen, en ramas distintas, un mismo método o atributo (llamado\n",
    "herencia en diamante). En python hay un sistema de ordenación de las\n",
    "clases, relativamente complicado, pero que asegura que no haya\n",
    "ambigüedad con respecto a cual de las dos versiones del atributo o\n",
    "método se va a usar."
   ]
  },
  {
   "cell_type": "markdown",
   "metadata": {},
   "source": [
    "### Sobreescritura o reescritura de métodos\n",
    "\n",
    "En el caso de que la clase modifique uno de los métodos que ha\n",
    "heredado, se dice que ha **reescrito** o **sobreescrito** (*override*)\n",
    "el  método.\n",
    "\n",
    "Como hemos visto, `A` puede sobreescribir un metodo `f` de `B`,\n",
    "pero eso no afecta al resto del código. Si tenemos una lista con\n",
    "objetos de tipo `A` y de tipo `B` mezclados, podemos invocar sin\n",
    "miedo el método `f()` en cada uno de ellos, con la seguridad de que\n",
    "en cada caso se invocará al método adecuado. Esta capacidad se llama\n",
    "**polimorfismo** (del griego *múltiples formas*. Quizá el nombre no sea\n",
    "el más adecuado, porque más que muchas formas, es más la misma forma, con\n",
    "diferentes contenidos).\n",
    "\n",
    "En el ejemplo de la lista de objetos derivados de `A` y\n",
    "`B`, si no tuvieramos herencia (y polimorfismo) tendríamos que\n",
    "implementar un `if` para poder distinguir entre los dos tipos, y\n",
    "luego llamar a la versión correspondiente de cada método `f`.\n",
    "además,  tendremos que revisar  la sentencia `if` si se nos ocurre\n",
    "incluir una nueva clase `C`.\n",
    "\n",
    "¿Que pasa si la clase `A` sobreescribe un método de `B`, pero aún\n",
    "así ha de invocarlo? En realidad es un caso muy común, en el que la\n",
    "clase `A` quiere hacer lo mismo que la clase `B` y *un poquito\n",
    "más*. Hay una función `super` que nos ayuda a\n",
    "invocar el código de la clase (o clases) de la que derivamos:"
   ]
  },
  {
   "cell_type": "code",
   "execution_count": 16,
   "metadata": {},
   "outputs": [
    {
     "name": "stdout",
     "output_type": "stream",
     "text": [
      "Llamando a f en clase B\n",
      "Llamando a f en clase A\n"
     ]
    }
   ],
   "source": [
    "class B:\n",
    "    def f(self):\n",
    "        print('Llamando a f en clase B')\n",
    "        \n",
    "class A(B):\n",
    "    def f(self):\n",
    "        super().f()\n",
    "        print('Llamando a f en clase A')\n",
    "        \n",
    "a = A()\n",
    "a.f()"
   ]
  },
  {
   "cell_type": "markdown",
   "metadata": {},
   "source": [
    "    >>> class A(B):\n",
    "    ...     def f(self, arg):\n",
    "    ...         super(A, self).f(arg)\n",
    "    ...\n",
    "    >>>"
   ]
  },
  {
   "cell_type": "markdown",
   "metadata": {},
   "source": [
    "En Python 2.7 también podemos usar `super`, aunque la sintaxis es un poquito \n",
    "más rebuscada, hay que llamar a super con dos argumentos:\n",
    "\n",
    " - La clase en la que estamos definiendo el método\n",
    " - La instancia, es decir, el parámetro self "
   ]
  },
  {
   "cell_type": "code",
   "execution_count": 17,
   "metadata": {},
   "outputs": [
    {
     "name": "stdout",
     "output_type": "stream",
     "text": [
      "Llamando a f en clase B\n",
      "Llamando a f en clase A\n"
     ]
    }
   ],
   "source": [
    "class B:\n",
    "    def f(self):\n",
    "        print('Llamando a f en clase B')\n",
    "        \n",
    "class A(B):\n",
    "    def f(self):\n",
    "        super(A, self).f()\n",
    "        print('Llamando a f en clase A')\n",
    "        \n",
    "a = A()\n",
    "a.f()"
   ]
  },
  {
   "cell_type": "markdown",
   "metadata": {},
   "source": [
    "Esta sintaxis más rebuscada también funciona en Python 3, así que si queremos podemos\n",
    "usarla para tener código que funcione igual en las dos ramas. Si sabemos que nuestro\n",
    "programa solo va a ejecutarse en Python 3 podemos usar la sintaxis más sencilla."
   ]
  },
  {
   "cell_type": "markdown",
   "metadata": {},
   "source": [
    "### Funciones útiles para tratar con objetos y clases\n",
    "\n",
    "Si tenemos un objeto y queremos saber si es una instancia de  una\n",
    "clase en particular, o de alguna de sus subclases , podemos usar la función `isinstance(objeto, clase)`, que nos devolverá verdadero si es así. Si queremos\n",
    "saber si una clase deriva de otra podemos usar\n",
    "la funcion `issubclass(clase, clase)`:"
   ]
  },
  {
   "cell_type": "code",
   "execution_count": 18,
   "metadata": {},
   "outputs": [],
   "source": [
    "class B:\n",
    "    pass\n",
    "        \n",
    "class A(B):\n",
    "    pass\n",
    "\n",
    "a = A()\n",
    "b = B()\n",
    "assert isinstance(a, A) == True\n",
    "assert isinstance(b, B) == True  \n",
    "assert isinstance(a, B) == True  # A es un subtipo de B\n",
    "assert isinstance(b, A) == False  # todos los a son tipos de b, pero no al reves\n",
    "assert issubclass(A, B) == True\n"
   ]
  },
  {
   "cell_type": "markdown",
   "metadata": {},
   "source": [
    "### Sobrecarga de operadores\n",
    "\n",
    "Se puede, como en C++,\n",
    "sobreescribir los operadores (operadores aritméticos, acceso por\n",
    "índices, etc...) mediante una sintaxis especial.\n",
    "\n",
    "Los métodos y atributos que empiezan y acaban con un doble signo de\n",
    "subrayado tiene por lo general un significado especial. En algunos\n",
    "casos es para ocultarlos  o para marcarlos para uso privado, pero\n",
    "en otros son para usos especiales y tienen significados particulares.\n",
    "\n",
    "Por ejemplo, si en nuestra clase definimos un método `__len__`,\n",
    "podemos hacer que las instancias de esa clase puedan ser usadas con la\n",
    "función `len()`:"
   ]
  },
  {
   "cell_type": "code",
   "execution_count": 19,
   "metadata": {},
   "outputs": [
    {
     "name": "stdout",
     "output_type": "stream",
     "text": [
      "7\n"
     ]
    }
   ],
   "source": [
    "class A:\n",
    "    def __len__(self):\n",
    "        return 7 # por la cara\n",
    "\n",
    "a = A()\n",
    "print(len(a))"
   ]
  },
  {
   "cell_type": "markdown",
   "metadata": {},
   "source": [
    "De igual manera, si a esta clase le añadimos los métodos\n",
    "`__setitem__` y `__getitem__` podemos hacer que se comporte como\n",
    "si fuera una contenedor accesible mediante las operaciones de índices.\n",
    "\n",
    "El siguiente código muestra  una clase que puede ser accedida como si\n",
    "fuera una lista; si accedemos a las posiciones 0 a la 6 devuelve una\n",
    "descripción del número en texto (tiene problemas para recordar el 6),\n",
    "pero si el índice cae fuera de rango, devuelve una descripción\n",
    "genérica: `Muchos`. Si intentamos modificar sus valores, no da\n",
    "error, porque hemos definido el método de  asignacion correspondiente,\n",
    "`__setitem__`, pero como éste no hace nada (la sentencia `pass`,\n",
    "como su nombre indica, no es muy activa), los intentos de modificarlo\n",
    "son inútiles:"
   ]
  },
  {
   "cell_type": "code",
   "execution_count": 20,
   "metadata": {},
   "outputs": [],
   "source": [
    "class A:\n",
    "    _Tabla = {\n",
    "        0: 'ninguno',  1: 'uno',     2: 'dos',\n",
    "        3: 'tres',     4: 'cuatro',  5: 'cinco',\n",
    "        6: 'umm... seis',\n",
    "    }\n",
    "    \n",
    "    def __len__(self):\n",
    "        return 7 # por la cara\n",
    "\n",
    "    def __getitem__(self, index):\n",
    "        if 0 <= index < 7:\n",
    "            return self._Tabla[index]\n",
    "        else:\n",
    "            return 'Un montón'\n",
    "\n",
    "    def __setitem__(self, index, value):\n",
    "        pass\n",
    "\n",
    "a = A()\n",
    "assert a[3] == 'tres'\n",
    "assert a[25] == 'Un montón'\n",
    "a[4] = 'IV'\n",
    "assert a[4] == 'cuatro'"
   ]
  },
  {
   "cell_type": "markdown",
   "metadata": {},
   "source": [
    "**Ejercicio**\n",
    "\n",
    "> 1) Modifica la clase A para que pueda llegar a 7.\n",
    ">\n",
    "> 2) Modifica la clase para que si se intenta modificar el valor, de un error, no como hasta\n",
    "ahora que no hace nada."
   ]
  },
  {
   "cell_type": "markdown",
   "metadata": {},
   "source": [
    "Podemos sobrecargar también operadores algebráicos; por ejemplo,\n",
    "supongamos que queremos escribir un módulo de álgebra lineal y que\n",
    "definimos la clase `Vector`; podemos hacer que estos vectores\n",
    "puedan sumarse o restarse con los operadores `+` y `-`:"
   ]
  },
  {
   "cell_type": "code",
   "execution_count": 21,
   "metadata": {},
   "outputs": [
    {
     "name": "stdout",
     "output_type": "stream",
     "text": [
      "Suma: Vector(9, 36)\n",
      "Resta: Vector(-5, 32)\n"
     ]
    }
   ],
   "source": [
    "class Vector:\n",
    "    def __init__(self, x, y):\n",
    "        self.x = x\n",
    "        self.y = y\n",
    "\n",
    "    def __str__(self):\n",
    "        return 'Vector({0}, {1})'.format(self.x, self.y)\n",
    "\n",
    "    def __add__(self, other):\n",
    "        return Vector(self.x + other.x, self.y + other.y)\n",
    "\n",
    "    def __sub__(self, other):\n",
    "        return Vector(self.x - other.x, self.y - other.y)\n",
    "\n",
    "v1 = Vector(2,34)\n",
    "v2 = Vector(7, 2)\n",
    "print('Suma:', v1 + v2)\n",
    "print('Resta:', v1 - v2)"
   ]
  },
  {
   "cell_type": "markdown",
   "metadata": {},
   "source": [
    "Podríamos crear un método para sumar un vector a otro, o una función\n",
    "independiente para sumar vectores, algo como esto::\n",
    "\n",
    "```python\n",
    "v1 = Vector(2, 3)\n",
    "v2 = Vector(-4, 2)\n",
    "v3 = suma_vector(v1, v2)\n",
    "```\n",
    "\n",
    "Pero es claramente mejor, más legible y bonito, poder hacer:"
   ]
  },
  {
   "cell_type": "code",
   "execution_count": 22,
   "metadata": {},
   "outputs": [
    {
     "name": "stdout",
     "output_type": "stream",
     "text": [
      "Vector(-2, 5)\n"
     ]
    }
   ],
   "source": [
    "v1 = Vector(2, 3)\n",
    "v2 = Vector(-4, 2)\n",
    "v3 = v1 + v2\n",
    "print(v3)"
   ]
  },
  {
   "cell_type": "markdown",
   "metadata": {},
   "source": [
    "Para eso definimos los métodos especiales `__add__` y `__sub__`,\n",
    "con lo cual podemos definir el comportamiento cuando se sumen o resten\n",
    "dos instancias  de nuesta clase:\n",
    "\n",
    "Existen muchos métodos especiales; si definimos el método `__str__`,\n",
    "por ejemplo, será llamado cada vez que Python necesite convertir la\n",
    "instancia en una cadena de texto (Por ejemplo, para imprimirla por\n",
    "pantalla, o usando la función `str`). El resultado de este método,\n",
    "por supuesto, debe ser string. En el apartado \n",
    "[*Special method Names*](https://docs.python.org/3/reference/datamodel.html#special-method-names)\n",
    "dentro del apartado decicado a *Data Model*."
   ]
  }
 ],
 "metadata": {
  "kernelspec": {
   "display_name": "Python 3",
   "language": "python",
   "name": "python3"
  },
  "language_info": {
   "codemirror_mode": {
    "name": "ipython",
    "version": 3
   },
   "file_extension": ".py",
   "mimetype": "text/x-python",
   "name": "python",
   "nbconvert_exporter": "python",
   "pygments_lexer": "ipython3",
   "version": "3.5.2"
  }
 },
 "nbformat": 4,
 "nbformat_minor": 2
}
