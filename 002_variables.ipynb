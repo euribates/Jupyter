{
 "cells": [
  {
   "cell_type": "markdown",
   "metadata": {},
   "source": [
    "## Variables"
   ]
  },
  {
   "cell_type": "markdown",
   "metadata": {},
   "source": [
    "### Variables\n",
    "\n",
    "Las variables nos permiten darle nombre a valores. Por ahora solo hemos trabajado con números, pero podemos darle nombre a cualquier otro tipo de datos  (que veremos más adelante) y tambien a cualquier estructura de datos (que también veremos más adelante). La forma de crearlas es asignando un valor a un nombre con el signo `=`.\n",
    "\n",
    "**Nota**: El signo `=` no debe entenderse como el operador matemático de igualdad, sino que se debe entender como _asigna el valor de la derecha con el nombre de la izquierda_"
   ]
  },
  {
   "cell_type": "code",
   "execution_count": 39,
   "metadata": {},
   "outputs": [
    {
     "data": {
      "text/plain": [
       "47"
      ]
     },
     "execution_count": 39,
     "metadata": {},
     "output_type": "execute_result"
    }
   ],
   "source": [
    "a = 23\n",
    "b = 24\n",
    "a+b"
   ]
  },
  {
   "cell_type": "markdown",
   "metadata": {},
   "source": [
    "**Ejercicio**: Crear una variable `c` que almacene el resultado de la suma de las variables `a` y `b`"
   ]
  },
  {
   "cell_type": "code",
   "execution_count": null,
   "metadata": {},
   "outputs": [],
   "source": []
  },
  {
   "cell_type": "markdown",
   "metadata": {},
   "source": [
    "Las variables, como indica su nombre, pueden ver modificados sus valores, por ejemplo, el siguiente programa, que en el lenguaje matemático sería un error, es perfectamente válido: "
   ]
  },
  {
   "cell_type": "code",
   "execution_count": 1,
   "metadata": {},
   "outputs": [
    {
     "data": {
      "text/plain": [
       "6.2"
      ]
     },
     "execution_count": 1,
     "metadata": {},
     "output_type": "execute_result"
    }
   ],
   "source": [
    "a = 5.2\n",
    "a = a + 1\n",
    "a"
   ]
  },
  {
   "cell_type": "markdown",
   "metadata": {},
   "source": [
    "### Los nombres de las variables\n",
    "\n",
    "Los nombres de las variables están sujetos a ciertas reglas:\n",
    "\n",
    "- Los nombres son una **combinacion de letras, números y algunos caracteres especiales** como `_`, pero los nombres válidos **no pueden empezar por un número**, asi que `ala7` y `abc123z` son nombres válidos, pero `77a` no.\n",
    "\n",
    "- En los nombres de variables, **las mayúsculas son consideradas letras diferentes de las minúsculas**, así que la variable `a` es una variable diferente de `A`.\n",
    "\n",
    "- Los nombres **no pueden contener espacios**. Se puede usar el caracter especial `_`, asi que `alfa_34` es un nombre de  variable perfectamente válido.\n",
    "\n",
    "- **Algunos nombres están prohibidos**, porque el lenguaje Python los utiliza y, por tanto, se reserva su uso. Por ejemplo, `and`, `not` y `for` son todas **palabras reservadas** y no pueden ser utilizadas como nombres de variables. En la versión 3.6 de Python se han reservado 33 palabras, que podemos consultar aquí: [Python 3.6 keywords](https://docs.python.org/3/reference/lexical_analysis.html#index-13)\n",
    "\n",
    "- Desde Python 3, se pueden usar como nombre de variables más letras: Por ejemplo, vocales con acentos como `á`, la u con diéresis, `ü`, se puede usar la letra `ñ`, incluso podemos usar letras griegas como `θ`. No aconsejo su uso, al contrario, recomiendo quedarnos con el subconjunto de las letras habituales, de la `a` a la `z` más los digitos y elcaracter `_`."
   ]
  },
  {
   "cell_type": "code",
   "execution_count": 4,
   "metadata": {},
   "outputs": [
    {
     "data": {
      "text/plain": [
       "2018"
      ]
     },
     "execution_count": 4,
     "metadata": {},
     "output_type": "execute_result"
    }
   ],
   "source": [
    "año = 2018\n",
    "año"
   ]
  },
  {
   "cell_type": "markdown",
   "metadata": {},
   "source": [
    "Aparte de las palabras rservadas, Python usa una convención para indicar que dererminados nombres de varaibles son especiales, y esta convención es usar nombres que empiezan y acaban con dos signos `_`. Por ejemplo, hay una variable especial llamada `__name__`. \n",
    "\n",
    "Ejercicio: ¿Cual es el valor de `__name__`?"
   ]
  },
  {
   "cell_type": "code",
   "execution_count": 1,
   "metadata": {},
   "outputs": [
    {
     "data": {
      "text/plain": [
       "'__main__'"
      ]
     },
     "execution_count": 1,
     "metadata": {},
     "output_type": "execute_result"
    }
   ],
   "source": [
    "__name__"
   ]
  },
  {
   "cell_type": "markdown",
   "metadata": {},
   "source": [
    "### Resumen y comentarios\n",
    "\n",
    "- Las variables nos permiten asignar nombres a valores\n",
    "\n",
    "- En algunos ejemplos Hemos puesto expresiones o variables como `a` en la última línea. Jupyter muestra el resultado de evaluar la última línea de la celda.\n",
    "\n",
    "- Las variables pueden almacenar cualquier tipo de dato (por ahora solo números, pero en realidad cualquier tipo de datos de los que veremos más adelante)\n",
    "\n",
    "- Algunas nombres de variables están reservados o tienen significados especiales."
   ]
  },
  {
   "cell_type": "code",
   "execution_count": null,
   "metadata": {},
   "outputs": [],
   "source": []
  }
 ],
 "metadata": {
  "kernelspec": {
   "display_name": "Python 3",
   "language": "python",
   "name": "python3"
  },
  "language_info": {
   "codemirror_mode": {
    "name": "ipython",
    "version": 3
   },
   "file_extension": ".py",
   "mimetype": "text/x-python",
   "name": "python",
   "nbconvert_exporter": "python",
   "pygments_lexer": "ipython3",
   "version": "3.5.2"
  }
 },
 "nbformat": 4,
 "nbformat_minor": 2
}
