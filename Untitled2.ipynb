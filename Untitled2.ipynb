{
 "cells": [
  {
   "cell_type": "code",
   "execution_count": null,
   "metadata": {},
   "outputs": [],
   "source": [
    "C antando la Cigarra \n",
    "pasó el verano entero, que fielmente prometo\n",
    "sin hacer provisiones pagaros con ganancias,\n",
    "allá para el invierno; por el nombre que tengo.\n",
    "los fríos la obligaron\n",
    "a guardar el silencio La codiciosa hormiga\n",
    "y a acogerse al abrigo respondió con denuedo,\n",
    "de su estrecho aposento. ocultando a la espalda\n",
    "Viose desproveída las llaves del granero:\n",
    "del precioso sustento: ¡Yo prestar lo que gano\n",
    "sin mosca, sin gusano, con un trabajo inmenso!\n",
    "sin trigo, sin centeno. Dime, pues, holgazana,\n",
    "Habitaba la Hormiga ¿qué has hecho en el buen\n",
    "tiempo?\n",
    "allí tabique en medio,\n",
    "y con mil expresiones\n",
    "de atención y respeto\n",
    "la dijo: Doña Hormiga,\n",
    "pues que en vuestro granero\n",
    "sobran las provisiones\n",
    "para vuestro alimento,\n",
    "prestad alguna cosa\n",
    "con que viva este invierno\n",
    "Yo, dijo la Cigarra,\n",
    "a todo pasajero\n",
    "cantaba alegremente,\n",
    "sin cesar ni un momento.\n",
    "¡Hola! ¿conque cantabas\n",
    "cuando yo andaba al remo?\n",
    "Pues ahora, que yo como,\n",
    "baila, pese a tu cuerpo.\n",
    "esta triste cigarra,\n",
    "que alegre en otro tiempo,\n",
    "nunca conoció el daño,\n",
    "nunca supo temerlo."
   ]
  }
 ],
 "metadata": {
  "kernelspec": {
   "display_name": "Python 3",
   "language": "python",
   "name": "python3"
  },
  "language_info": {
   "codemirror_mode": {
    "name": "ipython",
    "version": 3
   },
   "file_extension": ".py",
   "mimetype": "text/x-python",
   "name": "python",
   "nbconvert_exporter": "python",
   "pygments_lexer": "ipython3",
   "version": "3.5.2"
  }
 },
 "nbformat": 4,
 "nbformat_minor": 2
}
