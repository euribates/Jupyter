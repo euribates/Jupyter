{
 "cells": [
  {
   "cell_type": "markdown",
   "metadata": {
    "deletable": true,
    "editable": true
   },
   "source": [
    "## Diccionarios"
   ]
  },
  {
   "cell_type": "markdown",
   "metadata": {
    "deletable": true,
    "editable": true
   },
   "source": [
    "Los diccionarios son quizá la estructura de datos más potente de\n",
    "Python. Si solo pudiéramos quedarnos con una, esta sería la\n",
    "prefererida de muchos.\n",
    "\n",
    "Los dicionarios reciben también nombres como *hashes*, *memorias asociativas* o\n",
    "*arrays asociativos* en otros lenguajes. Es una estructura que nos\n",
    "permite almacenar valores, como lo es también una lista o una tupla,\n",
    "pero a diferencia de ellas, los valores que podemos usar para indexar\n",
    "-es decir, para acceder a los valores almacenados- no están limitados\n",
    "a un rango de números. Se accede a los contenidos de los diccionarios\n",
    "con claves o *keys*, que definimos nosotros a nuestro criterio. La\n",
    "única condición que debe tener un valor para poder ser usado\n",
    "como clave es que tiene que ser __inmutable__. Las cadenas de texto, como\n",
    "valores inmutables que son, resultan ideales para ser usadas como\n",
    "claves, pero también podemos usar enteros, tuplas (siempre y cuando\n",
    "contengan, a su vez, valores inmutables), números complejos,\n",
    "etc...\n",
    "\n",
    "Las listas y los propios diccionarios, al ser mutables, no  pueden ser\n",
    "usadas como claves, pero sí ser almacenadas como valores dentro del diccionario.\n",
    "\n",
    "La mejor manera de pensar en los diccionarios en como un montón de\n",
    "parejas `<clave>:<valor>`, donde las claves son únicas dentro del\n",
    "diccionario, y los valores pueden ser cualquier cosa. Podemos crear un\n",
    "diccionario vacío usando solo las llaves: `{}`. Si queremos\n",
    "inicializarlo con contenido, se añaden parejas con el formato\n",
    "`clave:valor`, separadas por comas, dentro de  las llaves."
   ]
  },
  {
   "cell_type": "markdown",
   "metadata": {},
   "source": [
    "Veamos un ejemplo para ver la diferecia entre una lista y un diccionario: \n",
    "Supongamos que queremos escribir una función que nos devuelve los nombres\n",
    "de los números, es decir, que si le paso el número $3$, la función me devuelva \n",
    "la cadena de texto `tres`. Para simplificar el problema, vamos a suponer que\n",
    "solo necesitamos que lo haga para los numeros del $0$ al $10$.\n",
    "\n",
    "Una solución perfectamente válida seria tener almacenado el nombre de cada número\n",
    "en una lista, de forma que en la posición de cada índice se euncuentre el texto\n",
    "que queremos:"
   ]
  },
  {
   "cell_type": "code",
   "execution_count": 13,
   "metadata": {},
   "outputs": [
    {
     "name": "stdout",
     "output_type": "stream",
     "text": [
      "0 -> cero\n",
      "1 -> uno\n",
      "2 -> dos\n",
      "3 -> tres\n",
      "4 -> cuatro\n",
      "5 -> cinco\n",
      "6 -> seis\n",
      "7 -> siete\n",
      "8 -> ocho\n",
      "9 -> nueve\n",
      "10 -> diez\n"
     ]
    }
   ],
   "source": [
    "def numero_a_nombre(n):\n",
    "    assert 0 <= n <= 10, \"El número debe estar comprendido entre 0 y diez\"\n",
    "    lista_numeros = ['cero', 'uno', 'dos', 'tres', 'cuatro', 'cinco', 'seis', 'siete', 'ocho', 'nueve', 'diez']\n",
    "    return lista_numeros[n]\n",
    "\n",
    "assert numero_a_nombre(3) == 'tres'\n",
    "\n",
    "for i in range(11):\n",
    "    print(i, '->', numero_a_nombre(i))"
   ]
  },
  {
   "cell_type": "markdown",
   "metadata": {},
   "source": [
    "Pero, ¿qué pasa si el problema que queremos resolver es exactamente el contrario?\n",
    "Queremos que, pasándole el nombre del número, en formna de cadena de caracteres,\n",
    "nos devuelva el número del mes, es decir, que si le paso a la función la cadena\n",
    "de texto `tres` me devuelva el número 3."
   ]
  },
  {
   "cell_type": "markdown",
   "metadata": {},
   "source": [
    "Si solo tenemos listas, podriamos realizar la búsqueda del texto dentro de la lista de nombres de números y, si lo encuentra,\n",
    "devolver ese índice, algo como esto:"
   ]
  },
  {
   "cell_type": "code",
   "execution_count": 15,
   "metadata": {},
   "outputs": [],
   "source": [
    "def nombre_a_numero(s):\n",
    "    lista_numeros = ['cero', 'uno', 'dos', 'tres', 'cuatro', 'cinco', 'seis', 'siete', 'ocho', 'nueve', 'diez']\n",
    "    assert s in lista_numeros\n",
    "    indice = 0\n",
    "    nombre = lista_numeros[indice]\n",
    "    while nombre != s:\n",
    "        indice = indice + 1\n",
    "        nombre = lista_numeros[indice]\n",
    "    return indice\n",
    "        \n",
    "assert nombre_a_numero('tres') == 3"
   ]
  },
  {
   "cell_type": "markdown",
   "metadata": {},
   "source": [
    "Con diccionarios, sin embargo, es mucho más sencillo. Las listas solo nos dejan usar números como \n",
    "claves para almacenar y recuperar cosas, pero el diccionario\n",
    "puede usar como cualquier valor, siempre que sea inmutable, y las cadenas de\n",
    "texto son inmutablles, así que la versión `nombre_a_numero` que usa diccionario\n",
    "es mucho más sencilla:"
   ]
  },
  {
   "cell_type": "code",
   "execution_count": 19,
   "metadata": {},
   "outputs": [
    {
     "name": "stdout",
     "output_type": "stream",
     "text": [
      "cero --> 0\n",
      "cero --> 0\n",
      "siete --> 7\n"
     ]
    }
   ],
   "source": [
    "def nombre_a_numero(s):\n",
    "    dict_numeros = {\n",
    "        'cero': 0, 'uno': 1, 'dos': 2, 'tres': 3, 'cuatro': 4, 'cinco': 5,\n",
    "        'seis': 6, 'siete': 7, 'ocho': 8, 'nueve': 9, 'diez': 10,\n",
    "    }\n",
    "    return dict_numeros[s]\n",
    "\n",
    "assert nombre_a_numero('tres') == 3\n",
    "for nombre in 'cero cero siete'.split():\n",
    "    print(nombre, '-->', nombre_a_numero(nombre))"
   ]
  },
  {
   "cell_type": "code",
   "execution_count": null,
   "metadata": {},
   "outputs": [],
   "source": [
    "**Ejercicio**: En el siguiente diccionario\n",
    "    "
   ]
  },
  {
   "cell_type": "markdown",
   "metadata": {
    "deletable": true,
    "editable": true
   },
   "source": [
    "Veamos otro ejemplo clásico, un diccionario que nos permite pasar de nombres\n",
    "de meses al número del mes:"
   ]
  },
  {
   "cell_type": "code",
   "execution_count": 26,
   "metadata": {
    "collapsed": false,
    "deletable": true,
    "editable": true
   },
   "outputs": [
    {
     "name": "stdout",
     "output_type": "stream",
     "text": [
      "el mes de enero es el número 10\n"
     ]
    }
   ],
   "source": [
    "d = {\n",
    "   'enero': 1,\n",
    "   'febrero': 2,\n",
    "   'marzo': 3,\n",
    "   'abril': 4,\n",
    "   'mayo': 5,\n",
    "   'junio': 6,\n",
    "   'julio': 7,\n",
    "   'agosto': 8,\n",
    "   'septiembre': 9,\n",
    "   'octubre': 10,\n",
    "   'noviembre': 11,\n",
    "   'diciembre': 12,\n",
    "   }\n",
    "print('el mes de {} es el número {}'.format('enero', d['octubre']))"
   ]
  },
  {
   "cell_type": "markdown",
   "metadata": {
    "deletable": true,
    "editable": true
   },
   "source": [
    "La función `len()` también funciona con los diccionarios, y devuelve, por supuesto, el\n",
    "número de claves/valores almacenados en el diccionario:"
   ]
  },
  {
   "cell_type": "code",
   "execution_count": 27,
   "metadata": {
    "collapsed": false,
    "deletable": true,
    "editable": true
   },
   "outputs": [
    {
     "name": "stdout",
     "output_type": "stream",
     "text": [
      "12\n"
     ]
    }
   ],
   "source": [
    "print(len(d))"
   ]
  },
  {
   "cell_type": "markdown",
   "metadata": {
    "deletable": true,
    "editable": true
   },
   "source": [
    "Las operaciones más habituales con un diccionario son\n",
    "almacenar un valor con una determinada clave, o recuperar un valor a partir\n",
    "de la clave:"
   ]
  },
  {
   "cell_type": "code",
   "execution_count": 6,
   "metadata": {
    "collapsed": false,
    "deletable": true,
    "editable": true
   },
   "outputs": [
    {
     "name": "stdout",
     "output_type": "stream",
     "text": [
      "Mundo\n"
     ]
    }
   ],
   "source": [
    "d = {}\n",
    "d['hola'] = 'Mundo'\n",
    "print(d['hola'])"
   ]
  },
  {
   "cell_type": "markdown",
   "metadata": {
    "deletable": true,
    "editable": true
   },
   "source": [
    "Si se asigna un valor usando una clave que ya existe, se\n",
    "sobreescribe el valor nuevo y el antiguo, si no queda nada que lo\n",
    "referencie, desaparecerá. Si intentamos obtener un valor usando\n",
    "una clave que no existe en el diccionario, obtendremos un\n",
    "error de tipo `KeyError`.\n",
    "\n",
    "Un método de uso habitual en los diccionarios es `keys()`, que\n",
    "devuelve una lista de todas las claves. Según la definición del lenguaje actual, las\n",
    "claves se devuelven en un orden sin determinar, lo\n",
    "que significa, en la práctica, que debemos asumir un orden aleatorio. Tambien podemos\n",
    "determinar si una determinada clave existe en un diccionario usando la\n",
    "palabra reservada `in`. Siguiendo con el ejemplo de los meses:"
   ]
  },
  {
   "cell_type": "code",
   "execution_count": 29,
   "metadata": {
    "collapsed": false,
    "deletable": true,
    "editable": true
   },
   "outputs": [
    {
     "name": "stdout",
     "output_type": "stream",
     "text": [
      "dict_keys(['marzo', 'julio', 'abril', 'agosto', 'junio', 'enero', 'octubre', 'febrero', 'septiembre', 'mayo', 'noviembre', 'diciembre'])\n"
     ]
    }
   ],
   "source": [
    "d = {\n",
    "    'enero': 1,    'febrero': 2,    'marzo': 3,\n",
    "    'abril': 4,    'mayo': 5,       'junio': 6,\n",
    "    'julio': 7,    'agosto': 8,     'septiembre': 9,\n",
    "    'octubre': 10, 'noviembre': 11, 'diciembre': 12,\n",
    "   }\n",
    "assert 'octubre' in d\n",
    "assert 'OCTUBRE' not in d\n",
    "print(d.keys())"
   ]
  },
  {
   "cell_type": "markdown",
   "metadata": {
    "deletable": true,
    "editable": true
   },
   "source": [
    "> **Nota**: Hay una clase derivada del diccionario estandar, llamada `OrderedDict`, definida\n",
    "en el módulo de la librería estándar [collections](https://docs.python.org/2/library/collections.html), que recuerda\n",
    "el orden en que fueron insertados los valores, de forma que iterar por el mismo o llamar a `keys()` \n",
    "devuelve las claves en ese mismo orden. En la versión canónica de Python 3.6 sobre C, los diccionarios\n",
    "estándar son, de facto, diccionarios ordenados, pero es una característica de implementación; en el\n",
    "estándar del lenguaje los diccionarios siguen considerándose como no ordenados. Es posible que esto cambie\n",
    "en un futuro, pero por el momento lo más seguro es considerar los diccionarios como si no tuvieran \n",
    "orden ninguno, y usar `OrderedDict` en caso de que tengamos la necesidad de mantener las claves ordenadas.\n"
   ]
  },
  {
   "cell_type": "code",
   "execution_count": 7,
   "metadata": {
    "collapsed": false,
    "deletable": true,
    "editable": true
   },
   "outputs": [
    {
     "name": "stdout",
     "output_type": "stream",
     "text": [
      "a\n",
      "b\n",
      "c\n"
     ]
    }
   ],
   "source": [
    "from collections import OrderedDict\n",
    "\n",
    "d = OrderedDict()\n",
    "d['a'] = 1\n",
    "d['b'] = 2\n",
    "d['c'] = 3\n",
    "for k in d:\n",
    "    print(k)"
   ]
  },
  {
   "cell_type": "markdown",
   "metadata": {
    "deletable": true,
    "editable": true
   },
   "source": [
    "Hay una función, `dict` que nos permite construir diccionarios estándar\n",
    "de dos formas diferentes: o bien indicándole una secuencia\n",
    "de parejas \"clave, valor\" (por ejemplo, una lista de 2-tuplas):"
   ]
  },
  {
   "cell_type": "code",
   "execution_count": 8,
   "metadata": {
    "collapsed": false,
    "deletable": true,
    "editable": true
   },
   "outputs": [
    {
     "name": "stdout",
     "output_type": "stream",
     "text": [
      "1922\n"
     ]
    }
   ],
   "source": [
    "b = dict([\n",
    "    ('Jack Kirby', 1917),\n",
    "    ('Stan Lee', 1922),\n",
    "    ('Steve Ditko', 1927)\n",
    "    ])\n",
    "print(b['Stan Lee'])"
   ]
  },
  {
   "cell_type": "markdown",
   "metadata": {
    "deletable": true,
    "editable": true
   },
   "source": [
    "O, si las claves son simples cadenas de texto, sin espacios, etc...\n",
    "puede ser más sencillo especificarlas mediante parámetros con nombre:"
   ]
  },
  {
   "cell_type": "code",
   "execution_count": 9,
   "metadata": {
    "collapsed": false,
    "deletable": true,
    "editable": true
   },
   "outputs": [
    {
     "name": "stdout",
     "output_type": "stream",
     "text": [
      "{'Hg': 89, 'H': 1, 'Fe': 26, 'Pb': 82, 'Au': 79, 'Ag': 47, 'Cu': 29}\n"
     ]
    }
   ],
   "source": [
    "n = dict(Au=79, Ag=47, Cu=29, Pb=82, Hg=89, Fe=26, H=1)\n",
    "print(n)"
   ]
  },
  {
   "cell_type": "markdown",
   "metadata": {
    "deletable": true,
    "editable": true
   },
   "source": [
    "Algunos de los métodos más importantes de los diccionarios son los\n",
    "siguientes:\n",
    "\n",
    "- **`clear()`**\n",
    "\n",
    "    Vacía el diccionario.\n",
    "\n",
    "\n",
    "- **`get(key, [default_value])` -> item**\n",
    "\n",
    "    Si `key` está en el diccionario, devuelve\n",
    "    el valor correspondiente. Si no está, devuelve\n",
    "    `default_value` si se ha especificado, o\n",
    "    `None` si no.\n",
    "\n",
    "\n",
    "- **`items()` -> Lista de tuplas**\n",
    "\n",
    "    Devuelve una lista de duplas o 2-tuplas, donde cada dupla\n",
    "    está constituida por una pareja \"clave, valor\" de\n",
    "    cada entrada del diccionario.\n",
    "\n",
    "\n",
    "- **`keys()` -> Lista**\n",
    "\n",
    "    Devuelve una lista de todas las claves usadas en el\n",
    "    diccionario.\n",
    "\n",
    "\n",
    "- **`pop(key, [default_value])` -> item**\n",
    "\n",
    "    Devuelve el valor almacenado con la clave `key`, y borra la\n",
    "    entrada del diccionario. Si `key` no está en el\n",
    "    diccionario, devuelve el valor `default_value` si se ha\n",
    "    especificado, si no, eleva la excepcion `KeyError`.\n",
    "\n",
    "\n",
    "- **`setdefault(key, [default_value])` -> item**\n",
    "\n",
    "    Si `key` es una clave ya en el diccionario, simplemente\n",
    "    devuelve el valor que le corresponde. Si no existía, almacena\n",
    "    `[default_value]` en la clave `key` y devuelve\n",
    "    `[default_value]`. Nunca he podido comprender por qué no se\n",
    "    llama `getdefault`.\n",
    "\n",
    "\n",
    "- **`update(d)`**\n",
    "\n",
    "    Actualiza el diccionario con los valores de `d`, que puede\n",
    "    ser o bien otro diccionario, o un iterable que devuelve\n",
    "    2-tuplas, o bien parámetros por nombre.\n",
    "\n",
    "\n",
    "- **`values()` -> List**\n",
    "\n",
    "    Devuelve todos los valores almacenados en el diccionario."
   ]
  }
 ],
 "metadata": {
  "kernelspec": {
   "display_name": "Python 3",
   "language": "python",
   "name": "python3"
  },
  "language_info": {
   "codemirror_mode": {
    "name": "ipython",
    "version": 3
   },
   "file_extension": ".py",
   "mimetype": "text/x-python",
   "name": "python",
   "nbconvert_exporter": "python",
   "pygments_lexer": "ipython3",
   "version": "3.5.2"
  }
 },
 "nbformat": 4,
 "nbformat_minor": 2
}
