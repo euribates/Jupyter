{
 "cells": [
  {
   "cell_type": "markdown",
   "metadata": {},
   "source": [
    "## Gramáticas de Lindenmayer\n",
    "\n",
    "Los [**sistemas de Lindenmayer**](https://es.wikipedia.org/wiki/Sistema-L), o **Sistemas-L** (L-systems), porporcionan una técnica\n",
    "muy potente para la generación de imágenes fractales. Lindenmayer usó los sistemas-L\n",
    "para describir el comportamiento de celulas vegetales y para modelar el proceso\n",
    "de crecimiento de una planta.\n",
    "\n",
    "Un sistema-L es un sistema de reescritura, y formalmente son un tipo \n",
    "de gramática. Consiste en un conjunto de **símbolos** o alfabeto\n",
    "(que poedemos representar con caracteres o cadenas de texto), un\n",
    "conjunto de **reglas de producción** que pueden expandir cada símbolo\n",
    "por una cadena más larga de símbolos, un **axioma**, que es un símbolo o\n",
    "cadena de símbolos inicial, y algún mecanismo para convertir las cadenas\n",
    "generadas en forma de estructuras geométricas.\n",
    "\n",
    "### Un ejemplo sencilla\n",
    "\n",
    "Para ver un ejemplo sencillo, veamos el sistema-L original que usó Lindenmayer\n",
    "para modelar el crecimiento de un alga. En este sistema trabajamos con\n",
    "solo dos símbolos, `A` y `B`. Las reglas son solo dos:\n",
    "\n",
    "- Cuando encontremos `A`, cambiarlo por `AB` (`A -> AB`)\n",
    "- Cuando encontremos `B`, reemplazarlo con A (`B -> A`)\n",
    "\n",
    "El axioma o estado inicial es `A`.\n",
    "\n",
    "Aplicando la primera regla generamos\n",
    "`AB` y terminamos esta iteración. Empezamos ahora con `AB`. De nuevo,\n",
    "sustituimos `A` por `AB`, pasamos al segundo caracter, `B`, y lo reemplazamos\n",
    "por `A` siguiendo la segunda regla, con lo que el resultado final es\n",
    "`ABA`. En la tercera iteración, se obtiene la cadena de texto `ABAAB`, en \n",
    "la cuarta `ABAABABA`, y así sucesivamente.\n",
    "\n",
    "Vamos a hacer una primera aproximación para generar sucesivas iteraciones:"
   ]
  },
  {
   "cell_type": "code",
   "execution_count": 14,
   "metadata": {},
   "outputs": [
    {
     "name": "stdout",
     "output_type": "stream",
     "text": [
      "Generación: 0 Status: A 1\n",
      "Generación: 1 Status: AB 2\n",
      "Generación: 2 Status: ABA 3\n",
      "Generación: 3 Status: ABAAB 5\n",
      "Generación: 4 Status: ABAABABA 8\n",
      "Generación: 4 Status: ABAABABAABAAB 13\n"
     ]
    }
   ],
   "source": [
    "# Definamos las reglas\n",
    "\n",
    "def rule1(c):\n",
    "    if c == 'A':\n",
    "        return 'AB'\n",
    "\n",
    "def rule2(c):\n",
    "    if c == 'B':\n",
    "        return 'A'\n",
    "\n",
    "rules = set([rule1, rule2])\n",
    " \n",
    "# El axima o estado inicial\n",
    "    \n",
    "initial = 'A'\n",
    "\n",
    "# La función que pasa de una cadena de simbolos a la siguiente\n",
    "\n",
    "def next(s):\n",
    "    result = []\n",
    "    for c in s:\n",
    "        for rule in rules:\n",
    "            new_item = rule(c)\n",
    "            if new_item is not None:\n",
    "                result.append(new_item)\n",
    "    return ''.join(result)\n",
    "\n",
    "status = initial\n",
    "for i in range(5):\n",
    "    print('Generación:', i, 'Status:', status, len(status))\n",
    "    status = next(status)\n",
    "print('Generación:', i, 'Status:', status, len(status))\n",
    "    "
   ]
  },
  {
   "cell_type": "markdown",
   "metadata": {},
   "source": [
    "**Nota:** La longitud de cada una de estas cadenas consecutivas es 1, 2, 3, 5,\n",
    "8... ¿Le recuerda algo? Pista: Añadir otro uno antes de la secuencia."
   ]
  },
  {
   "cell_type": "markdown",
   "metadata": {},
   "source": [
    "## Un ejemplo más complejo\n",
    "\n",
    "Podemos extender este sistema básico con algunas simbolos, que podemos interpretar\n",
    "como instrucciones, como por ejemplo, `-` para indicar `gira hacia la izquierda en un determinado ángulo` \n",
    "y `+` para indicar giro a la derecha. `F` podría significar `Sigue adelante`.\n",
    "\n",
    "Estas instrucciones pueden ser representadas de forma muy fácil usando\n",
    "gráficos de tipo tortuga. Por ejemplo, la [Curva de Hilbert](https://es.wikipedia.org/wiki/Curva_de_Hilbert)\n",
    "puede dibujarse mediante las siguientes reglas:\n",
    "\n",
    "A -> − B F + A F A + F B −\n",
    "\n",
    "B -> + A F − B F B − F A +\n"
   ]
  },
  {
   "cell_type": "code",
   "execution_count": null,
   "metadata": {},
   "outputs": [],
   "source": []
  }
 ],
 "metadata": {
  "kernelspec": {
   "display_name": "Python 3",
   "language": "python",
   "name": "python3"
  },
  "language_info": {
   "codemirror_mode": {
    "name": "ipython",
    "version": 3
   },
   "file_extension": ".py",
   "mimetype": "text/x-python",
   "name": "python",
   "nbconvert_exporter": "python",
   "pygments_lexer": "ipython3",
   "version": "3.5.2"
  }
 },
 "nbformat": 4,
 "nbformat_minor": 2
}
