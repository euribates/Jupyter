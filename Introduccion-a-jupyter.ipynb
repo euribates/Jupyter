{
 "cells": [
  {
   "cell_type": "markdown",
   "metadata": {
    "slideshow": {
     "slide_type": "slide"
    }
   },
   "source": [
    "## Introducción a Jupyter"
   ]
  },
  {
   "cell_type": "markdown",
   "metadata": {
    "slideshow": {
     "slide_type": "slide"
    }
   },
   "source": [
    "### Antes conocido como iPython Notebook"
   ]
  },
  {
   "cell_type": "markdown",
   "metadata": {},
   "source": [
    "Jupyter en un entorno de trabajo que nos permite generar documentos\n",
    "conocidos como **notebooks**. Estos notebooks estan constituidos por\n",
    "una mezcla de código ejecutable, texto enriquecido, gráficas e imágenes y resultados.\n",
    "En el siguiente artículo presentaremos brevemente su historia, veremos sus\n",
    "\n",
    "Antes se le conocía como iPython Notebook, nombre que refleja la evolución de este\n",
    "sistema en el tiempo. Todo empezó con la creación de **iPython**, una consola extendida del python tradicional. Esta consola permitía hacer todo lo que la consola\n",
    "de python tradicional, y muchas cosas más. Veremos añgunos ejemplos durante\n",
    "la presentación.\n",
    "\n",
    "Sobre iPython se construyó un sistema de creación de **notebooks**, usando la misma\n",
    "tecnología usada en la web: tenemos una aplicación cliente y un servidor, la aplicación cliente nos permite mezclar en un solo documento, el notebook, texto enriquecido, código ejecutable (inicialmente en python), presentacion de resultdos como tablas, imágenes, gráficas y formulas matemáticas con [Latex](https://es.wikipedia.org/wiki/LaTeX).\n",
    "\n",
    "Al haber realizado una separación tan clara entre la parte cliente y el servidor (nucleo\n",
    "o **kernel** en la nomenclatura de Jupyter), se vio que con relativamente poco\n",
    "trabajo se podía seperarar totalemente el concepto del notebook de la implementación en Python, es decir, que mediante el proceso de definir claramente la interfaz de comunicaciones\n",
    "entre el notebook y el kernel, podiamos cambiar el kernel, es decir, que podiamos ejecutar no solo python, sino cualquier lenguaje que pudiera implementar esa interfaz.\n",
    "\n",
    "Los resultados no puedieron ser más rápidos, ya que rápidamente se implementaron\n",
    "numerosos kernels. Dado que iPython notebook era usado sobre todo en entornos científicos\n",
    "y muy especialmente en los nuevos campos de **Big Data**, **Minería de datos** y **Machine Learning**, se eligió el nuevo nombre **Jupyter** para representar que es un producto independiente, vinculado a Python pero de ninguna forma limitado a este. Jupyter se formo combinando los nombres de tres lenguajes ampliamente utilizados en la comunidad científica: **Julia**, **Python** y **R**.\n",
    "\n",
    "A continuación veremos una explicación en mayor detalle de iPython por un lado, el concepto de notebook por otro, y luego veremos algunos ejemplos sencillos de las capacidades del sistema. Para finalizar, mencionaremos algunas de las posibilidad de Jupyter que no podremos tratar aqui con el detalle que se merecen, por limitaciones de tiempo, pero que conviene al menos saber que existe."
   ]
  },
  {
   "cell_type": "markdown",
   "metadata": {},
   "source": [
    "#### Primer ejercio: Arrancar Jupyter\n",
    "\n",
    "Vamos a abrir una terminal y teclearemos:\n",
    "    \n",
    "    jupyter notebook\n",
    "    \n",
    "Veremos que, tras una pausa más o menos breve, se abrirá el navegador, con la interfaz\n",
    "de administración inicial, el **dashboard**, incluyendo un listado de los contenidos del directorio\n",
    "donde hayamos arrancado el entorno.\n",
    "\n"
   ]
  },
  {
   "cell_type": "markdown",
   "metadata": {},
   "source": [
    "Desde este panel de mando o *dashboard* podemos crear nuevos notebooks, o abrir alguno de los ya existente. Tambien podemos arrastar y soltar notebooks en formato `.ipynb` o código python `.py` y se añadirán an contenido del directorio. Si añadimos contenidos al sistema\n",
    "de fichero, usando directamente el sistema operativo, esos cambios se verán reflejados\n",
    "automáticamente.\n",
    " \n",
    "También podríams haber  abierto directamente un fichero `.ipynb`, sin tener que\n",
    "pasar por el *dashboard*, incluyendo el nombre del fichero a continuación en el comando\n",
    "con el que arrancamos Jupyter, por ejemplo, para abrir directamente el\n",
    "documento `Introduccion-a-jupyter.ipynb`, ejecutariamos:\n",
    "\n",
    "    jupyter notebook Introduccion-a-jupyter.ipynb\n",
    "   \n",
    "Incluso podriamos no indicar la extensión `ipynb`; si no la incluimos\n",
    "Jupyter la asumirá por defecto.\n",
    "  \n",
    "Una vez dentro de un notebook, siempre tendremos la opción de ir al menu **File** para\n",
    "crear un nuevo notebook o abrir otro de los ya existentes.\n"
   ]
  },
  {
   "cell_type": "markdown",
   "metadata": {
    "slideshow": {
     "slide_type": "slide"
    }
   },
   "source": [
    "### ¿Qué es iPython?\n",
    "\n",
    "iPython es un interprete de Python aumentado. Es decir, que puede hacer todo lo que puede hacer el interprete de python normal, y más cosas. Algunas de esas cosas son, entre otros:\n",
    "    \n",
    "    - Coloreado de sintaxis\n",
    "    - Acceso a comandos del sistema operativo\n",
    "    - Comandos \"mágicos\"\n",
    "    - Autocompletado de código\n",
    "    - Introspección\n",
    "    - Mejores ayudas, documentación más accesible\n",
    "    - Mejoras en debugging"
   ]
  },
  {
   "cell_type": "code",
   "execution_count": 2,
   "metadata": {
    "collapsed": false
   },
   "outputs": [
    {
     "data": {
      "application/json": {
       "cell": {
        "!": "OSMagics",
        "HTML": "Other",
        "SVG": "Other",
        "bash": "Other",
        "capture": "ExecutionMagics",
        "debug": "ExecutionMagics",
        "file": "Other",
        "html": "DisplayMagics",
        "javascript": "DisplayMagics",
        "js": "DisplayMagics",
        "latex": "DisplayMagics",
        "perl": "Other",
        "prun": "ExecutionMagics",
        "pypy": "Other",
        "python": "Other",
        "python2": "Other",
        "python3": "Other",
        "ruby": "Other",
        "script": "ScriptMagics",
        "sh": "Other",
        "svg": "DisplayMagics",
        "sx": "OSMagics",
        "system": "OSMagics",
        "time": "ExecutionMagics",
        "timeit": "ExecutionMagics",
        "writefile": "OSMagics"
       },
       "line": {
        "alias": "OSMagics",
        "alias_magic": "BasicMagics",
        "autocall": "AutoMagics",
        "automagic": "AutoMagics",
        "autosave": "KernelMagics",
        "bookmark": "OSMagics",
        "cat": "Other",
        "cd": "OSMagics",
        "clear": "KernelMagics",
        "colors": "BasicMagics",
        "config": "ConfigMagics",
        "connect_info": "KernelMagics",
        "cp": "Other",
        "debug": "ExecutionMagics",
        "dhist": "OSMagics",
        "dirs": "OSMagics",
        "doctest_mode": "BasicMagics",
        "ed": "Other",
        "edit": "KernelMagics",
        "env": "OSMagics",
        "gui": "BasicMagics",
        "hist": "Other",
        "history": "HistoryMagics",
        "killbgscripts": "ScriptMagics",
        "ldir": "Other",
        "less": "KernelMagics",
        "lf": "Other",
        "lk": "Other",
        "ll": "Other",
        "load": "CodeMagics",
        "load_ext": "ExtensionMagics",
        "loadpy": "CodeMagics",
        "logoff": "LoggingMagics",
        "logon": "LoggingMagics",
        "logstart": "LoggingMagics",
        "logstate": "LoggingMagics",
        "logstop": "LoggingMagics",
        "ls": "Other",
        "lsmagic": "BasicMagics",
        "lx": "Other",
        "macro": "ExecutionMagics",
        "magic": "BasicMagics",
        "man": "KernelMagics",
        "matplotlib": "PylabMagics",
        "mkdir": "Other",
        "more": "KernelMagics",
        "mv": "Other",
        "notebook": "BasicMagics",
        "page": "BasicMagics",
        "pastebin": "CodeMagics",
        "pdb": "ExecutionMagics",
        "pdef": "NamespaceMagics",
        "pdoc": "NamespaceMagics",
        "pfile": "NamespaceMagics",
        "pinfo": "NamespaceMagics",
        "pinfo2": "NamespaceMagics",
        "popd": "OSMagics",
        "pprint": "BasicMagics",
        "precision": "BasicMagics",
        "profile": "BasicMagics",
        "prun": "ExecutionMagics",
        "psearch": "NamespaceMagics",
        "psource": "NamespaceMagics",
        "pushd": "OSMagics",
        "pwd": "OSMagics",
        "pycat": "OSMagics",
        "pylab": "PylabMagics",
        "qtconsole": "KernelMagics",
        "quickref": "BasicMagics",
        "recall": "HistoryMagics",
        "rehashx": "OSMagics",
        "reload_ext": "ExtensionMagics",
        "rep": "Other",
        "rerun": "HistoryMagics",
        "reset": "NamespaceMagics",
        "reset_selective": "NamespaceMagics",
        "rm": "Other",
        "rmdir": "Other",
        "run": "ExecutionMagics",
        "save": "CodeMagics",
        "sc": "OSMagics",
        "set_env": "OSMagics",
        "store": "StoreMagics",
        "sx": "OSMagics",
        "system": "OSMagics",
        "tb": "ExecutionMagics",
        "time": "ExecutionMagics",
        "timeit": "ExecutionMagics",
        "unalias": "OSMagics",
        "unload_ext": "ExtensionMagics",
        "who": "NamespaceMagics",
        "who_ls": "NamespaceMagics",
        "whos": "NamespaceMagics",
        "xdel": "NamespaceMagics",
        "xmode": "BasicMagics"
       }
      },
      "text/plain": [
       "Available line magics:\n",
       "%alias  %alias_magic  %autocall  %automagic  %autosave  %bookmark  %cat  %cd  %clear  %colors  %config  %connect_info  %cp  %debug  %dhist  %dirs  %doctest_mode  %ed  %edit  %env  %gui  %hist  %history  %killbgscripts  %ldir  %less  %lf  %lk  %ll  %load  %load_ext  %loadpy  %logoff  %logon  %logstart  %logstate  %logstop  %ls  %lsmagic  %lx  %macro  %magic  %man  %matplotlib  %mkdir  %more  %mv  %notebook  %page  %pastebin  %pdb  %pdef  %pdoc  %pfile  %pinfo  %pinfo2  %popd  %pprint  %precision  %profile  %prun  %psearch  %psource  %pushd  %pwd  %pycat  %pylab  %qtconsole  %quickref  %recall  %rehashx  %reload_ext  %rep  %rerun  %reset  %reset_selective  %rm  %rmdir  %run  %save  %sc  %set_env  %store  %sx  %system  %tb  %time  %timeit  %unalias  %unload_ext  %who  %who_ls  %whos  %xdel  %xmode\n",
       "\n",
       "Available cell magics:\n",
       "%%!  %%HTML  %%SVG  %%bash  %%capture  %%debug  %%file  %%html  %%javascript  %%js  %%latex  %%perl  %%prun  %%pypy  %%python  %%python2  %%python3  %%ruby  %%script  %%sh  %%svg  %%sx  %%system  %%time  %%timeit  %%writefile\n",
       "\n",
       "Automagic is ON, % prefix IS NOT needed for line magics."
      ]
     },
     "execution_count": 2,
     "metadata": {},
     "output_type": "execute_result"
    }
   ],
   "source": [
    "%lsmagic%"
   ]
  },
  {
   "cell_type": "markdown",
   "metadata": {},
   "source": [
    "### Primer ejercicio - Celdas de texto\n",
    "\n",
    "Podemos user **markdown** para realizar formato \n",
    "sencillo\n",
    "\n",
    "- **Negritas** e *itálicas*\n",
    "- Enlaces: [Python Canarias](http://www.pythoncanarias.es/)\n",
    "- nombres de variables: `iPython`\n",
    "\n",
    "O directamente HTML:\n",
    "\n",
    "<table>\n",
    "<tr><th>A</th><th>B</th></tr>\n",
    "<tr><td>1</td><td>2</td></tr>\n",
    "<tr><td>3</td><td>4</td></tr>\n",
    "</table>\n",
    "\n",
    "<img src=\"./img/clark-kent.png\">"
   ]
  },
  {
   "cell_type": "code",
   "execution_count": null,
   "metadata": {
    "collapsed": true
   },
   "outputs": [],
   "source": []
  }
 ],
 "metadata": {
  "celltoolbar": "Slideshow",
  "kernelspec": {
   "display_name": "Python 3",
   "language": "python",
   "name": "python3"
  },
  "language_info": {
   "codemirror_mode": {
    "name": "ipython",
    "version": 3
   },
   "file_extension": ".py",
   "mimetype": "text/x-python",
   "name": "python",
   "nbconvert_exporter": "python",
   "pygments_lexer": "ipython3",
   "version": "3.6.0"
  }
 },
 "nbformat": 4,
 "nbformat_minor": 2
}
