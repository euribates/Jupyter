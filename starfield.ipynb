{
 "cells": [
  {
   "cell_type": "markdown",
   "metadata": {},
   "source": [
    "## Starfield"
   ]
  },
  {
   "cell_type": "markdown",
   "metadata": {},
   "source": [
    "Hagamos primero los _imports_ necesarios:"
   ]
  },
  {
   "cell_type": "code",
   "execution_count": 5,
   "metadata": {},
   "outputs": [],
   "source": [
    "import pygame\n",
    "import random\n",
    "import time"
   ]
  },
  {
   "cell_type": "markdown",
   "metadata": {},
   "source": [
    "Y definamos algunas de las constantes que vamos a usar: El tamaño de la\n",
    "pantalla y algunos colores básicos:"
   ]
  },
  {
   "cell_type": "code",
   "execution_count": 18,
   "metadata": {},
   "outputs": [],
   "source": [
    "# Tamaño de pantalla\n",
    "\n",
    "SIZE = WIDTH, HEIGHT = 800, 640\n",
    "\n",
    "# Colores\n",
    "BLACK = (0, 0, 0)\n",
    "WHITE = (255, 255, 255)\n",
    "RED = (255, 0, 0)\n",
    "GREEN = (0, 255, 0)\n",
    "BLUE = (0, 0, 255)\n",
    "YELLOW = (0, 255, 255)\n",
    "\n",
    "# Velocidad del juego\n",
    "FPS = 30\n"
   ]
  },
  {
   "cell_type": "markdown",
   "metadata": {},
   "source": [
    "### La clase Star"
   ]
  },
  {
   "cell_type": "markdown",
   "metadata": {},
   "source": [
    "Partamos de la defición de la clase Star que hicimos el otro día. Solo tiene\n",
    "una pequeña modificación, no se le pasa ningún parámetro (Antes se le pasaba \n",
    "las coordenadas x e y, ahora se calcula una posición al azar en el procedimiento\n",
    "especial de inicialización, `__init__`):"
   ]
  },
  {
   "cell_type": "code",
   "execution_count": 19,
   "metadata": {},
   "outputs": [],
   "source": [
    "class Star:\n",
    "    \n",
    "    def __init__(self):\n",
    "        self.x = random.randrange(0, WIDTH)\n",
    "        self.y = random.randrange(0, HEIGHT)\n",
    "        \n",
    "    def left(self):\n",
    "        self.x = self.x + 1\n",
    "        \n",
    "    def right(self):\n",
    "        self.x = self.x + 1\n",
    "\n",
    "    def up(self):\n",
    "        self.y = self.y - 1\n",
    "        \n",
    "    def down(self):\n",
    "        self.y = self.y - 1\n"
   ]
  },
  {
   "cell_type": "markdown",
   "metadata": {},
   "source": [
    "### El bucle principal del juego"
   ]
  },
  {
   "cell_type": "markdown",
   "metadata": {},
   "source": [
    "El cuerpo principal de la animación, como lo dejamos el último día, con las estrellas moviendose hacia\n",
    "la izquierda:"
   ]
  },
  {
   "cell_type": "code",
   "execution_count": 21,
   "metadata": {},
   "outputs": [],
   "source": [
    "pygame.init()\n",
    "pygame.display.set_caption(\"Starfield\")\n",
    "screen = pygame.display.set_mode(SIZE, 0, 24)\n",
    "\n",
    "# Parte de inicialización del juego\n",
    "stars = [Star() for _ in range(50)]\n",
    "clock = pygame.time.Clock()    \n",
    "in_game = True  # Indicador lógico para saber cuando debemos terminar el juego\n",
    "\n",
    "while in_game:\n",
    "    # Obtener datos de entrada\n",
    "    for event in pygame.event.get():\n",
    "        if event.type == pygame.QUIT:\n",
    "            in_game = False\n",
    "    # Recalcular el estado del juego, en base al estado actual y a las entradas\n",
    "    for star in stars:\n",
    "        star.left()\n",
    "    # Representamos el nuevo estado\n",
    "    screen.fill(BLACK)\n",
    "    for star in stars:\n",
    "        pygame.draw.circle(screen, WHITE, (star.x, star.y), 2)\n",
    "    pygame.display.update()\n",
    "    clock.tick(FPS)\n",
    "\n",
    "pygame.quit()"
   ]
  },
  {
   "cell_type": "code",
   "execution_count": 22,
   "metadata": {},
   "outputs": [],
   "source": [
    "### Lo que vamos a hacer hoy\n",
    "\n",
    "1) Vamos a introducir un poco de control de ventos, de forma que podamos, con una\n",
    "techa, cambiar el movimiento de las estrellas al que queramos, arriba, abajo, derecha, izqu"
   ]
  },
  {
   "cell_type": "code",
   "execution_count": null,
   "metadata": {},
   "outputs": [],
   "source": []
  }
 ],
 "metadata": {
  "kernelspec": {
   "display_name": "Python 3",
   "language": "python",
   "name": "python3"
  },
  "language_info": {
   "codemirror_mode": {
    "name": "ipython",
    "version": 3
   },
   "file_extension": ".py",
   "mimetype": "text/x-python",
   "name": "python",
   "nbconvert_exporter": "python",
   "pygments_lexer": "ipython3",
   "version": "3.5.2"
  }
 },
 "nbformat": 4,
 "nbformat_minor": 2
}
