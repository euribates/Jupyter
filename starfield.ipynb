{
 "cells": [
  {
   "cell_type": "markdown",
   "metadata": {},
   "source": [
    "## Starfield"
   ]
  },
  {
   "cell_type": "markdown",
   "metadata": {},
   "source": [
    "Hagamos primero los _imports_ necesarios:"
   ]
  },
  {
   "cell_type": "code",
   "execution_count": 61,
   "metadata": {},
   "outputs": [],
   "source": [
    "import pygame\n",
    "import random\n",
    "import time"
   ]
  },
  {
   "cell_type": "markdown",
   "metadata": {},
   "source": [
    "Y definamos algunas de las constantes que vamos a usar: El tamaño de la\n",
    "pantalla y algunos colores básicos:"
   ]
  },
  {
   "cell_type": "code",
   "execution_count": 62,
   "metadata": {},
   "outputs": [],
   "source": [
    "# Tamaño de pantalla\n",
    "\n",
    "SIZE = WIDTH, HEIGHT = 800, 640\n",
    "\n",
    "# Colores\n",
    "BLACK = (0, 0, 0)\n",
    "WHITE = (255, 255, 255)\n",
    "RED = (255, 0, 0)\n",
    "GREEN = (0, 255, 0)\n",
    "BLUE = (0, 0, 255)\n",
    "YELLOW = (0, 255, 255)\n",
    "\n",
    "# Velocidad del juego\n",
    "FPS = 30\n"
   ]
  },
  {
   "cell_type": "markdown",
   "metadata": {},
   "source": [
    "### La clase Star"
   ]
  },
  {
   "cell_type": "markdown",
   "metadata": {},
   "source": [
    "Partamos de la defición de la clase Star que hicimos el otro día. Solo tiene\n",
    "una pequeña modificación, no se le pasa ningún parámetro (Antes se le pasaba \n",
    "las coordenadas x e y, ahora se calcula una posición al azar en el procedimiento\n",
    "especial de inicialización, `__init__`):"
   ]
  },
  {
   "cell_type": "code",
   "execution_count": 63,
   "metadata": {},
   "outputs": [],
   "source": [
    "class Star:\n",
    "    \n",
    "    def __init__(self):\n",
    "        self.x = random.randrange(0, WIDTH)\n",
    "        self.y = random.randrange(0, HEIGHT)\n",
    "        \n",
    "    def left(self):\n",
    "        self.x = self.x + 1\n",
    "        \n",
    "    def right(self):\n",
    "        self.x = self.x + 1\n",
    "\n",
    "    def up(self):\n",
    "        self.y = self.y - 1\n",
    "        \n",
    "    def down(self):\n",
    "        self.y = self.y + 1\n"
   ]
  },
  {
   "cell_type": "markdown",
   "metadata": {},
   "source": [
    "### El bucle principal del juego"
   ]
  },
  {
   "cell_type": "markdown",
   "metadata": {},
   "source": [
    "El cuerpo principal de la animación, como lo dejamos el último día, con las estrellas moviendose hacia\n",
    "la izquierda, y con una pequeña modificación:"
   ]
  },
  {
   "cell_type": "code",
   "execution_count": 64,
   "metadata": {},
   "outputs": [],
   "source": [
    "pygame.init()\n",
    "try:\n",
    "    pygame.display.set_caption(\"Starfield\")\n",
    "    screen = pygame.display.set_mode(SIZE, 0, 24)\n",
    "\n",
    "    # Parte de inicialización del juego\n",
    "    stars = [Star() for _ in range(50)]\n",
    "    clock = pygame.time.Clock()    \n",
    "    in_game = True  # Indicador lógico para saber cuando debemos terminar el juego\n",
    "\n",
    "    while in_game:\n",
    "        # Obtener datos de entrada\n",
    "        for event in pygame.event.get():\n",
    "            if event.type == pygame.QUIT:\n",
    "                in_game = False\n",
    "        # Recalcular el estado del juego, en base al estado actual y a las entradas\n",
    "        for star in stars:\n",
    "            star.left()\n",
    "        # Representamos el nuevo estado\n",
    "        screen.fill(BLACK)\n",
    "        for star in stars:\n",
    "            pygame.draw.circle(screen, WHITE, (star.x, star.y), 2)\n",
    "        pygame.display.update()\n",
    "        clock.tick(FPS)\n",
    "finally:\n",
    "    pygame.quit()"
   ]
  },
  {
   "cell_type": "markdown",
   "metadata": {},
   "source": [
    "Como vemos, casi todo el código está incluida ahora en un bloque de\n",
    "control que no habiamos usado hasta ahora; se trata de una sentencia `try` (intentar en Inglés).\n",
    "\n",
    "Usando esta sentencia podemos tratar determinados casos de error. En nuestro\n",
    "caso, usamos una versión muy sencilla del `try`, la combinacion `try` y `finally`.\n",
    "\n",
    "Esta combinación una nos permite definir que, si se produce\n",
    "cualquier tipo de error, se ejecute siempre el bloque que viene a continuacion de la\n",
    "sentencia `finally`. En este caso, si se produce _cualquier tipo de error_ dentro del\n",
    "código del `try`, Python nos garantiza que ejecutará el codigo definido en la sentencia\n",
    "`finally`, que en este caso es simplemente llamar a `pygame.quit()`.\n",
    "\n",
    "De esta forma, la ventana del juego se terminará cerrando siempre, ya sea porque\n",
    "hemos pulsado el botón de salir de la ventana o porque se haya producido cualquier\n",
    "tipo de error en el código dentro del `try`."
   ]
  },
  {
   "cell_type": "markdown",
   "metadata": {},
   "source": [
    "### Lo que vamos a hacer hoy\n",
    "\n",
    "1) Vamos a cambiar la definicion de la clase estrella (`Star`) para \n",
    "cambiar determinados parámetros: Color, tamaño, velocidad...\n",
    "\n",
    "2) Vamos a introducir un poco de control de ventos, de forma que podamos, con una\n",
    "techa, cambiar el movimiento de las estrellas al que queramos, arriba, abajo, derecha, izquierda.\n",
    "\n",
    "3) Vamos a evitar que las estrellas desaparezcan de la pantalla, si una estrella desaparece por un lado\n",
    "de la ventana, debe aparecer por el otro"
   ]
  },
  {
   "cell_type": "markdown",
   "metadata": {},
   "source": [
    "**Ejercicio: Incluir un campo color en la clase `Star`**, de forma que cada estrella tenga un color\n",
    "diferente. Recuerda que los colores son tuplas de tres elementos, con los\n",
    "componentes rojo, verde y azul. Hay que tocar ahora mismo en dos partes del\n",
    "código, en el inicializador (método *mágico* `__init__`) para crear el atributo\n",
    "y en el bucle de pintado de las estrellas, para que tenga en cuenta este nuevo dato."
   ]
  },
  {
   "cell_type": "markdown",
   "metadata": {},
   "source": [
    "Modificar la siguiente celda:"
   ]
  },
  {
   "cell_type": "code",
   "execution_count": 50,
   "metadata": {},
   "outputs": [],
   "source": [
    "class Star:\n",
    "    \n",
    "    def __init__(self):\n",
    "        self.x = random.randrange(0, WIDTH)\n",
    "        self.y = random.randrange(0, HEIGHT)\n",
    "        ## define el color, al azar, aquí\n",
    "        \n",
    "    def left(self):\n",
    "        self.x = self.x + 1\n",
    "        \n",
    "    def right(self):\n",
    "        self.x = self.x + 1\n",
    "\n",
    "    def up(self):\n",
    "        self.y = self.y - 1\n",
    "        \n",
    "    def down(self):\n",
    "        self.y = self.y + 1\n"
   ]
  },
  {
   "cell_type": "markdown",
   "metadata": {},
   "source": [
    "Y prueba ejecutando de nuevo el bucle del programa. Aquí tendras que cambiar una línea\n",
    "para que el programa use el nuevo atributo `color`:"
   ]
  },
  {
   "cell_type": "code",
   "execution_count": 51,
   "metadata": {},
   "outputs": [],
   "source": [
    "pygame.init()\n",
    "try:\n",
    "    pygame.display.set_caption(\"Starfield\")\n",
    "    screen = pygame.display.set_mode(SIZE, 0, 24)\n",
    "\n",
    "    # Parte de inicialización del juego\n",
    "    stars = [Star() for _ in range(50)]\n",
    "    clock = pygame.time.Clock()    \n",
    "    in_game = True  # Indicador lógico para saber cuando debemos terminar el juego\n",
    "\n",
    "    while in_game:\n",
    "        # Obtener datos de entrada\n",
    "        for event in pygame.event.get():\n",
    "            if event.type == pygame.QUIT:\n",
    "                in_game = False\n",
    "        # Recalcular el estado del juego, en base al estado actual y a las entradas\n",
    "        for star in stars:\n",
    "            star.left()\n",
    "        # Representamos el nuevo estado\n",
    "        screen.fill(BLACK)\n",
    "        for star in stars:\n",
    "            pygame.draw.circle(screen, WHITE, (star.x, star.y), 2) # Esta es la línea a cambiar\n",
    "        pygame.display.update()\n",
    "        clock.tick(FPS)\n",
    "finally:\n",
    "    pygame.quit()"
   ]
  },
  {
   "cell_type": "markdown",
   "metadata": {},
   "source": [
    "### Refactorización\n",
    "\n",
    "Según la wikipedia, la refectorizacion de código se define asi:\n",
    "\n",
    "> **Refactorización de código**\n",
    "> En ingeniería del software, el término refactorización se usa a menudo para describir la modificación del código fuente sin cambiar su comportamiento, lo que se conoce informalmente por limpiar el código. La refactorización se realiza a menudo como parte del proceso de desarrollo del software: los desarrolladores alternan la inserción de nuevas funcionalidades y casos de prueba con la refactorización del código para mejorar su consistencia interna y su claridad. Los tests aseguran que la refactorización no cambia el comportamiento del código.\n",
    "\n",
    "Vamos a añadir dos métodos a la clase `Star` que nos facilitaran las modificaciones que vamos a realizar. \n",
    "En primer lugar crearemos un método `update`, que sera llamada por el bucle del juego para que la estrella\n",
    "actualice su estado. En segundo lugar, crearemos un método `draw`, al que le pasaremos la superficie donde queremos\n",
    "que se pinte la estrella, y asi será la propia estrella la que define como se pintará en la pantalla. De esta forma, podemos tener\n",
    "un bucle principal generico, que funcionara para cualquier objeto que tenga un método `update` y `draw` como los descritos."
   ]
  },
  {
   "cell_type": "code",
   "execution_count": 55,
   "metadata": {},
   "outputs": [],
   "source": [
    "class Star:\n",
    "    \n",
    "    def __init__(self):\n",
    "        self.x = random.randrange(0, WIDTH)\n",
    "        self.y = random.randrange(0, HEIGHT)\n",
    "        self.color = (\n",
    "            random.randrange(128, 255),\n",
    "            random.randrange(128, 255),\n",
    "            random.randrange(128, 255),\n",
    "            )\n",
    "        \n",
    "    def left(self):\n",
    "        self.x = self.x + 1\n",
    "        \n",
    "    def right(self):\n",
    "        self.x = self.x + 1\n",
    "\n",
    "    def up(self):\n",
    "        self.y = self.y - 1\n",
    "        \n",
    "    def down(self):\n",
    "        self.y = self.y + 1\n",
    "        \n",
    "    def update(self):\n",
    "        self.left()\n",
    "        \n",
    "    def draw(self, surface):\n",
    "        pygame.draw.circle(surface, self.color, (self.x, self.y), 2)\n",
    "        \n"
   ]
  },
  {
   "cell_type": "markdown",
   "metadata": {},
   "source": [
    "Y ahora podemos definir el bucle principal del juego para que functione con esta clase nueva de\n",
    "estrellas. Además lo haremos como una función para poder llamar al juego cuando sea necesario sin tener\n",
    "que repetir la celda cada vez:"
   ]
  },
  {
   "cell_type": "code",
   "execution_count": 56,
   "metadata": {},
   "outputs": [],
   "source": [
    "def play_game():\n",
    "    pygame.init()\n",
    "    try:\n",
    "        pygame.display.set_caption(\"Starfield 2\")\n",
    "        screen = pygame.display.set_mode(SIZE, 0, 24)\n",
    "        # Parte de inicialización del juego\n",
    "        stars = [Star() for _ in range(50)]\n",
    "        clock = pygame.time.Clock()    \n",
    "        in_game = True  # Indicador lógico para saber cuando debemos terminar el juego\n",
    "\n",
    "        while in_game:\n",
    "        # Obtener datos de entrada\n",
    "            for event in pygame.event.get():\n",
    "                if event.type == pygame.QUIT:\n",
    "                    in_game = False\n",
    "            # Recalcular el estado del juego, en base al estado actual y a las entradas\n",
    "            for star in stars:\n",
    "                star.update()  # pasamos la responsabilidad de actualizar su estado a la estrella\n",
    "            # Representamos el nuevo estado\n",
    "            screen.fill(BLACK)\n",
    "            for star in stars:\n",
    "                star.draw(screen)  # pasamos la responsabilidad de dibujarse a la estrella\n",
    "            pygame.display.update()\n",
    "            clock.tick(FPS)\n",
    "    finally:\n",
    "        pygame.quit()"
   ]
  },
  {
   "cell_type": "markdown",
   "metadata": {},
   "source": [
    "Para llamar a la función, simplemente la llamamos, con `play_game()`:"
   ]
  },
  {
   "cell_type": "code",
   "execution_count": 57,
   "metadata": {},
   "outputs": [],
   "source": [
    "play_game()"
   ]
  },
  {
   "cell_type": "markdown",
   "metadata": {},
   "source": [
    "Algunas cosas a tener en cuenta:\n",
    "    \n",
    "1) El programa sigue funcionando exactamente igual. Es importantante cuando refactorizemos centrarnos\n",
    "  solo en reescribir el código para que sea más optimo o más legible, pero que se comporte\n",
    "  en los demás aspectos igual que antes.\n",
    "\n",
    "2) El programa funciona porque la función `play_game` y los objetos creados a partir\n",
    "  de la clase `Star` tienen un acuerdo o contrato, en este caso que las estrellas\n",
    "  se crean sin necesidad de parámetros, y que cada objeto de tipo estrella tiene unos\n",
    "  métodos llamados `update` y `draw`, definidos de una forma precisa."
   ]
  },
  {
   "cell_type": "markdown",
   "metadata": {},
   "source": [
    "### Ejercicio: Añadir diferentes velocidades a las estrellas\n",
    "\n",
    "> Cambiar la clase Star para añadir un atributo `speed` (Velocidad). De nuevo \n",
    "podemos calcular una velocidad al azar entre 1 y 5 pixels por frame. Habrá que modificar\n",
    "los métodos `left`, `right`, `up` y `down` para que hagan su trabajo teniendo en cuenta\n",
    "este nuevo atributo"
   ]
  },
  {
   "cell_type": "code",
   "execution_count": 65,
   "metadata": {},
   "outputs": [],
   "source": [
    "class Star:\n",
    "    \n",
    "    def __init__(self):\n",
    "        self.x = random.randrange(0, WIDTH)\n",
    "        self.y = random.randrange(0, HEIGHT)\n",
    "        self.color = (\n",
    "            random.randrange(128, 255),\n",
    "            random.randrange(128, 255),\n",
    "            random.randrange(128, 255),\n",
    "            )\n",
    "        self.speed = ...  # Modificar esta línea para calcular una velocidad en el rango 1..5\n",
    "        \n",
    "    def left(self):\n",
    "        self.x = self.x - 1  # También habra que tocar este métodos y usar el nuevo atributo\n",
    "        \n",
    "    def right(self):\n",
    "        self.x = self.x + 1  # ...y este\n",
    "\n",
    "    def up(self):\n",
    "        self.y = self.y - 1  # ...y este\n",
    "        \n",
    "    def down(self):\n",
    "        self.y = self.y + 1  # ...y también este\n",
    "        \n",
    "    def update(self):\n",
    "        self.left()\n",
    "        \n",
    "    def draw(self, surface):\n",
    "        pygame.draw.circle(surface, self.color, (self.x, self.y), 2)\n",
    "        \n"
   ]
  },
  {
   "cell_type": "markdown",
   "metadata": {},
   "source": [
    "Ejecutemos el juego con la nueva definicón de `Star`:"
   ]
  },
  {
   "cell_type": "code",
   "execution_count": 66,
   "metadata": {},
   "outputs": [],
   "source": [
    "play_game()"
   ]
  },
  {
   "cell_type": "markdown",
   "metadata": {},
   "source": [
    "### Ejercicio para casa\n",
    "\n",
    "Añadir un atributo `size` (tamaño en inglés), que sea un número entero entre 1 y 3, de forma\n",
    "que podamos tener estrellas de diferentes tamaños. Pista: hay que modificar el código\n",
    "del método inicializador `__init__` y también el mñetodo `draw`.\n",
    "    "
   ]
  },
  {
   "cell_type": "markdown",
   "metadata": {},
   "source": [
    "### Ejercicio, tratar eventos del teclado para controlar el movimiento de las estrellas"
   ]
  },
  {
   "cell_type": "code",
   "execution_count": null,
   "metadata": {},
   "outputs": [],
   "source": [
    "Primero, veamos un poco más de los enventos, que ahora mismo solo estamnos tratando los\n",
    "eventos de salida. Vamos a hacer un programa pygame que nos muestre todos los eventos\n",
    "que llegan en realidad:"
   ]
  },
  {
   "cell_type": "code",
   "execution_count": null,
   "metadata": {},
   "outputs": [],
   "source": [
    "pygame.init()\n",
    "try:\n",
    "    pygame.display.set_caption(\"Eventos\")\n",
    "    screen = pygame.display.set_mode(SIZE, 0, 24)\n",
    "    # Parte de inicialización del juego\n",
    "    font = pygame.font.Font('Hack-Regular.ttf', 18)\n",
    "    lista_eventos = []\n",
    "    clock = pygame.time.Clock()    \n",
    "    in_game = True  # Indicador lógico para saber cuando debemos terminar el juego\n",
    "    while in_game:\n",
    "    # Obtener datos de entrada\n",
    "        for event in pygame.event.get():\n",
    "            lista_eventos.append(str(event))\n",
    "            if event.type == pygame.QUIT:\n",
    "                in_game = False\n",
    "        screen.fill(BLACK)\n",
    "        line = 0\n",
    "        for texto in lista_eventos:\n",
    "            s = font.render(texto, True, WHITE, BLACK)\n",
    "            pos = (12, line*20)\n",
    "            screen.blit(s, pos)\n",
    "            line += 1\n",
    "        pygame.display.update()\n",
    "        clock.tick(FPS)\n",
    "finally:\n",
    "    pygame.quit()"
   ]
  },
  {
   "cell_type": "code",
   "execution_count": null,
   "metadata": {},
   "outputs": [],
   "source": []
  }
 ],
 "metadata": {
  "kernelspec": {
   "display_name": "Python 3",
   "language": "python",
   "name": "python3"
  },
  "language_info": {
   "codemirror_mode": {
    "name": "ipython",
    "version": 3
   },
   "file_extension": ".py",
   "mimetype": "text/x-python",
   "name": "python",
   "nbconvert_exporter": "python",
   "pygments_lexer": "ipython3",
   "version": "3.5.2"
  }
 },
 "nbformat": 4,
 "nbformat_minor": 2
}
