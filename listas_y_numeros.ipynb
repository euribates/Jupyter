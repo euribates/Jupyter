{
 "cells": [
  {
   "cell_type": "markdown",
   "metadata": {},
   "source": [
    "## Listas y números"
   ]
  },
  {
   "cell_type": "markdown",
   "metadata": {},
   "source": [
    "### Tipos de datos: números"
   ]
  },
  {
   "cell_type": "markdown",
   "metadata": {},
   "source": [
    "En python, como en cualquier otro lenguajes, tenemos distintos tipos de datos. Uno de los tipos de datos más usados son los números. Esto nos permite usar Python directamente como si fuera una calculadora, ya que podemos operar con estos números  con todas las operaciones habituales: sumar, dividir, etc..."
   ]
  },
  {
   "cell_type": "markdown",
   "metadata": {},
   "source": [
    "Por ejemplo, al ejecutar la siguiente expresión, la salida será el resultado de las sumas y restas indicadas:"
   ]
  },
  {
   "cell_type": "code",
   "execution_count": 6,
   "metadata": {},
   "outputs": [
    {
     "data": {
      "text/plain": [
       "145"
      ]
     },
     "execution_count": 6,
     "metadata": {},
     "output_type": "execute_result"
    }
   ],
   "source": [
    "123 + 34 - 12"
   ]
  },
  {
   "cell_type": "markdown",
   "metadata": {},
   "source": [
    "Para multiplicar se usa el caracter `*` y para dividir la barra `/`. Podemos agrupas las operaciones con paréntesis. Para elevar un número a otro, se usa el operador `**`, es decir $9^2$ es `9**2`."
   ]
  },
  {
   "cell_type": "markdown",
   "metadata": {},
   "source": [
    "**Ejercicio**: Calcular la media aritmética de los números 13, 490 y 32.2"
   ]
  },
  {
   "cell_type": "code",
   "execution_count": null,
   "metadata": {},
   "outputs": [],
   "source": []
  },
  {
   "cell_type": "markdown",
   "metadata": {},
   "source": [
    "Además, tenemos los operadores `//` que nos dan el resultado de la divisón entera, y el operador módulo `%`, que nos da el resto de la division:"
   ]
  },
  {
   "cell_type": "code",
   "execution_count": 34,
   "metadata": {},
   "outputs": [
    {
     "data": {
      "text/plain": [
       "3"
      ]
     },
     "execution_count": 34,
     "metadata": {},
     "output_type": "execute_result"
    }
   ],
   "source": [
    "17 // 5"
   ]
  },
  {
   "cell_type": "code",
   "execution_count": 35,
   "metadata": {},
   "outputs": [
    {
     "data": {
      "text/plain": [
       "2"
      ]
     },
     "execution_count": 35,
     "metadata": {},
     "output_type": "execute_result"
    }
   ],
   "source": [
    "17 % 5"
   ]
  },
  {
   "cell_type": "markdown",
   "metadata": {},
   "source": [
    "Algunas cosas a considerar\n",
    "\n",
    "- Python distingue internamente entre números enteros y numeros reales. Esto es por temas de representación interna, a nuestros efectos, nos da igual la diferencia. Si python necesita convertir un número entero a real por la razón que sea, realizará este cambio automáticamente.\n",
    "\n",
    "- El orden de las operaciones es el habitual, las multiplicaciones y las divisiones tienen precedencia sobre sumas y restas, la exponenciacion y raices tienen precedencia sobre divisiones y multiplicaciones, etc... Podemos usar los paréntesis para que las operaciones se realicen en el orden que queremos"
   ]
  },
  {
   "cell_type": "markdown",
   "metadata": {},
   "source": [
    "### Variables\n",
    "\n",
    "Las variables nos permiten darle nombre a valores. Por ahora solo hemos trabajado con números, pero podemos darle nombre a cualquier otro tipo de datos  (que veremos más adelante) y tambien a cualquier estructura de datos (que también veremos más adelante). La forma de crearlas es asignando un valor a un nombre con el signo `=`."
   ]
  },
  {
   "cell_type": "code",
   "execution_count": 39,
   "metadata": {},
   "outputs": [
    {
     "data": {
      "text/plain": [
       "47"
      ]
     },
     "execution_count": 39,
     "metadata": {},
     "output_type": "execute_result"
    }
   ],
   "source": [
    "a = 23\n",
    "b = 24\n",
    "a+b"
   ]
  },
  {
   "cell_type": "markdown",
   "metadata": {},
   "source": [
    "**Ejercicio**: Crear una variable `c` que almacene el resultado de la suma de las variables `a` y `b`"
   ]
  },
  {
   "cell_type": "code",
   "execution_count": null,
   "metadata": {},
   "outputs": [],
   "source": []
  },
  {
   "cell_type": "markdown",
   "metadata": {},
   "source": [
    "Las variables, como indica su nombre, pueden ver modificados sus valores, por ejemplo, el siguiente programa, aunque parece un error matemático, es perfectamente válido: "
   ]
  },
  {
   "cell_type": "code",
   "execution_count": 3,
   "metadata": {},
   "outputs": [
    {
     "data": {
      "text/plain": [
       "6.2"
      ]
     },
     "execution_count": 3,
     "metadata": {},
     "output_type": "execute_result"
    }
   ],
   "source": [
    "a = 5.2\n",
    "a = a + 1\n",
    "a"
   ]
  },
  {
   "cell_type": "markdown",
   "metadata": {},
   "source": [
    "Algunas cosas a considerar:\n",
    "\n",
    "- Hemos puesto la variable `a` en la última línea. Jupyter muestra el resultado de evaluar la ultima línea de la celda\n",
    "\n",
    "- Las variables pueden almacenar cualquier tipo de dato"
   ]
  },
  {
   "cell_type": "markdown",
   "metadata": {},
   "source": [
    "#### Los nombres de las variables\n",
    "\n",
    "Los nombres de las variables están sujetos a ciertas reglas:\n",
    "\n",
    "- Los nombres son una **combinacion de letras, números y algunos caracteres especiales** como `_`, pero los nombres válidos **no pueden empezar por un número**, asi que `ala7` y `abc123z` son nombres válidos, pero `77a` no.\n",
    "\n",
    "- En los nombres de variables, **las mayúsculas son consideradas letras diferentes de las minúsculas**, así que la variable `a` es una variable diferente de `A`.\n",
    "\n",
    "- Los nombres **no pueden contener espacios**. Se puede usar el caracter especial `_`, asi que `alfa_34` es un nombre de  variable perfectamente válido.\n",
    "\n",
    "- **Algunos nombres están prohibidos**, porque el lenguaje Python los utiliza y, por tanto, se reserva su uso. Por ejemplo, `and`, `not` y `for` son todas **palabras reservadas** y no pueden ser utilizadas como nombres de variables. En la versión 3.6 de Python se han reservado 33 palabras, que podemos consultar aquí: [Python 3.6 keywords](https://docs.python.org/3/reference/lexical_analysis.html#index-13)\n",
    "\n",
    "- Desde Python 3, se pueden usar como nombre de variables más letras: Por ejemplo, vocales con acentos como `á`, la u con diéresis, `ü`, se puede usar la letra `ñ`, incluso podemos usar letras griegas como `θ`. No aconsejo su uso, al contrario, recomiendo quedarnos con el subconjunto de las letras habituales, de la `a` a la `z` más los digitos y elcaracter `_`."
   ]
  },
  {
   "cell_type": "code",
   "execution_count": 4,
   "metadata": {},
   "outputs": [
    {
     "data": {
      "text/plain": [
       "2018"
      ]
     },
     "execution_count": 4,
     "metadata": {},
     "output_type": "execute_result"
    }
   ],
   "source": [
    "año = 2018\n",
    "año"
   ]
  },
  {
   "cell_type": "markdown",
   "metadata": {},
   "source": [
    "Aparte de las palabras rservadas, Python usa una convención para indicar que dererminados nombres de varaibles son especiales, y esta convención es usar nombres que empiezan y acaban con dos signos `_`. Por ejemplo, hay una variable especial llamada `__name__`. \n",
    "\n",
    "Ejercicio: ¿Cual es el valor de `__name__`?"
   ]
  },
  {
   "cell_type": "code",
   "execution_count": 1,
   "metadata": {},
   "outputs": [
    {
     "data": {
      "text/plain": [
       "'__main__'"
      ]
     },
     "execution_count": 1,
     "metadata": {},
     "output_type": "execute_result"
    }
   ],
   "source": [
    "__name__"
   ]
  },
  {
   "cell_type": "markdown",
   "metadata": {},
   "source": [
    "## Estructuras de datos\n",
    "\n",
    "### Listas\n",
    "\n",
    "Hemos visto por ahora un solo tipo de datos, los números. Hay más tipos de datos que veremos más adelante, pero Python, como todos los lenguajes, tiene también formas de organizar o agrupar varios datos en una estructura mayor, son las llamadas **estructuras de datos**. \n",
    "\n",
    "Una de las más simples en Python son las **listas**. Una lista de números es simplemente una secuencia de datos (en nestro caso, números), donde se almacena un valor distinto en cada posicion, siendo la primera posición el 0. \n",
    "\n",
    "¿Cómo creamos una lista? Una forma es por enumeración, la sintaxis es: abrimos corchetes (`[`), a continuacion escribimos cada valor en el orden que deseamos, seprandolosp or comas, y acabmos la lista con otro corchete (`]`):"
   ]
  },
  {
   "cell_type": "code",
   "execution_count": 11,
   "metadata": {},
   "outputs": [
    {
     "data": {
      "text/plain": [
       "[32, 44, 59, 62]"
      ]
     },
     "execution_count": 11,
     "metadata": {},
     "output_type": "execute_result"
    }
   ],
   "source": [
    "l = [32, 44, 59, 62]\n",
    "l"
   ]
  },
  {
   "cell_type": "markdown",
   "metadata": {},
   "source": [
    "Otra forma de crear una lista es a partir de los valores de otra. Python tiene una sintaxis muy cómoda para esto llamada **comprensión de listas** que nos permite obtener una lista a partir de los valores, filtrados y/o modificaodos de otra. La sintaxis general es como sigue:\n",
    "\n",
    "  [ _expresion_ **for** _variable_ **in** _lista_original_ ]\n",
    "    \n",
    "o\n",
    "\n",
    "  [ _expresion_ **for** _variable_ in _lista_orginal_ **if** _condicion_ ]\n",
    "\n",
    "Veámoslo con un ejemplo. Supongamos que tenemos una lista con los diez primeros números naturales:"
   ]
  },
  {
   "cell_type": "code",
   "execution_count": 30,
   "metadata": {},
   "outputs": [],
   "source": [
    "naturales = [1, 2, 3, 4, 5, 6, 7, 8, 9, 10]"
   ]
  },
  {
   "cell_type": "markdown",
   "metadata": {},
   "source": [
    "Si quisieramos obtener una lista con los cuadrados de los numeros naturáles, podemos hacer:"
   ]
  },
  {
   "cell_type": "code",
   "execution_count": 32,
   "metadata": {},
   "outputs": [
    {
     "data": {
      "text/plain": [
       "[1, 4, 9, 16, 25, 36, 49, 64, 81, 100]"
      ]
     },
     "execution_count": 32,
     "metadata": {},
     "output_type": "execute_result"
    }
   ],
   "source": [
    "cuadrados = [x**2 for x in naturales]\n",
    "cuadrados"
   ]
  },
  {
   "cell_type": "markdown",
   "metadata": {},
   "source": [
    "Por otro lado, si quisieramos obtener una lista solo con los numeros pares (es decir, aquellos cuyo resto de dividir por 2 sea cero), podriamos hacerlo de la siguiente manera:"
   ]
  },
  {
   "cell_type": "code",
   "execution_count": 36,
   "metadata": {},
   "outputs": [
    {
     "data": {
      "text/plain": [
       "[2, 4, 6, 8, 10]"
      ]
     },
     "execution_count": 36,
     "metadata": {},
     "output_type": "execute_result"
    }
   ],
   "source": [
    "pares = [x for x in naturales if x % 2 == 0]\n",
    "pares"
   ]
  },
  {
   "cell_type": "markdown",
   "metadata": {},
   "source": [
    "**Ejercicio:** Obtener la lista de los cuadrados de los numeros pares del 1 al 10"
   ]
  },
  {
   "cell_type": "code",
   "execution_count": 39,
   "metadata": {},
   "outputs": [
    {
     "data": {
      "text/plain": [
       "Ellipsis"
      ]
     },
     "execution_count": 39,
     "metadata": {},
     "output_type": "execute_result"
    }
   ],
   "source": [
    "pares_cuadrados = ...\n",
    "pares_cuadrados"
   ]
  },
  {
   "cell_type": "markdown",
   "metadata": {},
   "source": [
    "Hay muchas cosas más que se pueden hacer con las listas, como por ejemplo añádir nuevos valores, ordenar, etc... Iremos viendo más posibilidades más adelante"
   ]
  },
  {
   "cell_type": "markdown",
   "metadata": {},
   "source": [
    "Lo bueno de las listas es que podemos tratar varios datos como una sola variable. En el ejemplo que veiamos antes, con el nombre de `l` podemos acceder a cuatro datos. Podemos acceder al primer valor de la lista mediante la posición o el **índice** cero, para ello usamos el nombre de la variable, abrimos corchete, el índice o posicion del dato y cerramos corchetes:"
   ]
  },
  {
   "cell_type": "code",
   "execution_count": 2,
   "metadata": {},
   "outputs": [
    {
     "data": {
      "text/plain": [
       "32"
      ]
     },
     "execution_count": 2,
     "metadata": {},
     "output_type": "execute_result"
    }
   ],
   "source": [
    "l = [32, 44, 59, 62]\n",
    "l[0]"
   ]
  },
  {
   "cell_type": "markdown",
   "metadata": {},
   "source": [
    "**Ejercicio:** ¿Cuál es el valor del segundo elemento? ¿Y del último?"
   ]
  },
  {
   "cell_type": "code",
   "execution_count": null,
   "metadata": {},
   "outputs": [],
   "source": []
  },
  {
   "cell_type": "markdown",
   "metadata": {},
   "source": [
    "Podemos usar índices negativos, en ese caso, empezamos a contar por el final de la lista y contamos hacia atras. Así que el último valor de la lista l tambien se puede obtener con `l[-1]`."
   ]
  },
  {
   "cell_type": "code",
   "execution_count": 16,
   "metadata": {},
   "outputs": [
    {
     "data": {
      "text/plain": [
       "62"
      ]
     },
     "execution_count": 16,
     "metadata": {},
     "output_type": "execute_result"
    }
   ],
   "source": [
    "l[-1]"
   ]
  },
  {
   "cell_type": "markdown",
   "metadata": {},
   "source": [
    "El penúltimo con `l[-2]`, al entepenúltimo con `l[-3] etc..."
   ]
  },
  {
   "cell_type": "code",
   "execution_count": 22,
   "metadata": {},
   "outputs": [
    {
     "data": {
      "text/plain": [
       "59"
      ]
     },
     "execution_count": 22,
     "metadata": {},
     "output_type": "execute_result"
    }
   ],
   "source": [
    "l[-2]"
   ]
  },
  {
   "cell_type": "markdown",
   "metadata": {},
   "source": [
    "#### Slicing o rodajas\n",
    "\n",
    "También podemos usar una sintaxis para obtener una sublista, usando la sintaxis:\n",
    "    \n",
    "    [<primer indice>:<segundo índice>]\n",
    "    \n",
    "Es decir, podemos obtener a partir de la lista l anterior una sublista que contiene sólo el segundo y tercer elemento:"
   ]
  },
  {
   "cell_type": "code",
   "execution_count": 23,
   "metadata": {},
   "outputs": [
    {
     "data": {
      "text/plain": [
       "[44, 59]"
      ]
     },
     "execution_count": 23,
     "metadata": {},
     "output_type": "execute_result"
    }
   ],
   "source": [
    "l[1:3]"
   ]
  },
  {
   "cell_type": "markdown",
   "metadata": {},
   "source": [
    "Con las rodajas tambien podemos usar números negativos. Además, si no ponemos uno de los índices, estos toman unos valores por omisión que son lógicos: si omitimos el primer índice, se considera _desde el principio_, si se omite el segundo, se entiende como _hasta el final_. Se entiende mejor con estos ejemplos:"
   ]
  },
  {
   "cell_type": "code",
   "execution_count": 24,
   "metadata": {},
   "outputs": [
    {
     "data": {
      "text/plain": [
       "[32, 44, 59]"
      ]
     },
     "execution_count": 24,
     "metadata": {},
     "output_type": "execute_result"
    }
   ],
   "source": [
    "l[:3]  # Desde el principio hasta el tercer elemento"
   ]
  },
  {
   "cell_type": "code",
   "execution_count": 20,
   "metadata": {},
   "outputs": [
    {
     "data": {
      "text/plain": [
       "[62]"
      ]
     },
     "execution_count": 20,
     "metadata": {},
     "output_type": "execute_result"
    }
   ],
   "source": [
    "l[3:]  # Desde el tercer elemento hasta el final"
   ]
  },
  {
   "cell_type": "markdown",
   "metadata": {},
   "source": [
    "### Representaciones de funciones con matplotlib"
   ]
  },
  {
   "cell_type": "markdown",
   "metadata": {},
   "source": [
    "Con las listas de numeros y las operaciones que tenemos podemos representar nuestras primeras funcionesm matemáticas. Para ello necesitamos recurrir a unas ibrerias externas. estás librerias se denominan **módulos** en Python, y para poder utilizarlas, han de ser importadas primero. En este caso vamos a importar de la libreria matplotlib un módulo que nos ervira para graficar valores:"
   ]
  },
  {
   "cell_type": "code",
   "execution_count": 41,
   "metadata": {},
   "outputs": [],
   "source": [
    "%matplotlib inline\n",
    "\n",
    "from matplotlib import pyplot as plt"
   ]
  },
  {
   "cell_type": "markdown",
   "metadata": {},
   "source": [
    "Vamos a reprsentar la función $y=x^2$. Para ello, creamos una lista con los valores que queremos para $x$:"
   ]
  },
  {
   "cell_type": "code",
   "execution_count": 43,
   "metadata": {},
   "outputs": [],
   "source": [
    "x = [0, 1, 2, 3, 4, 5, 6, 7, 8, 9, 10, 11, 12, 13, 14, 15, 16, 17, 18]"
   ]
  },
  {
   "cell_type": "markdown",
   "metadata": {},
   "source": [
    "Ahora, usando la comprensión de listas, podemos obtener los valores correspondientes de $y$:"
   ]
  },
  {
   "cell_type": "code",
   "execution_count": 45,
   "metadata": {},
   "outputs": [],
   "source": [
    "y = [ v**2 for v in x]"
   ]
  },
  {
   "cell_type": "markdown",
   "metadata": {},
   "source": [
    "Ahora podemos representar estos valores con la llamada a la función `plot`.\n",
    "\n",
    "Veremos más sobre funciones más adelante, pero por ahora basta con saber que las funciones nos permiten\n",
    "realizar operaciones con determinados valores que se la pasan entre paréntesis; estos valores reciben el nombre de **parámetros**. Una función puede tener un solo parámetro, varios, o ninguno. Si son varios se separarán con comas. Si no se la pasa ningún parámetro a la función, aún y así tendrá que incluir los paréntsis.\n",
    "\n",
    "A La función `plot` se le pueden pasar dos parametros, los valores x e y que debe representar:"
   ]
  },
  {
   "cell_type": "code",
   "execution_count": 47,
   "metadata": {},
   "outputs": [
    {
     "data": {
      "text/plain": [
       "[<matplotlib.lines.Line2D at 0x7fc190f2f630>]"
      ]
     },
     "execution_count": 47,
     "metadata": {},
     "output_type": "execute_result"
    },
    {
     "data": {
      "image/png": "[encoded data removed]",
      "text/plain": [
       "<matplotlib.figure.Figure at 0x7fc193032cc0>"
      ]
     },
     "metadata": {},
     "output_type": "display_data"
    }
   ],
   "source": [
    "plt.plot(x, y)"
   ]
  },
  {
   "cell_type": "markdown",
   "metadata": {},
   "source": [
    "En python varias funciones matemśticas están definidas en un módulo aparte llamado `math`. Algunas de estas funciones son `sqrt` (Raiz cuadrada), `sin`, (seno), `cos` (coseno), `tan` (tangente), etc... \n",
    "\n",
    "Como se comentó antes, para poder usar estas funciones tenemos que **importar** el módulo `math`:"
   ]
  },
  {
   "cell_type": "code",
   "execution_count": 78,
   "metadata": {},
   "outputs": [],
   "source": [
    "import math"
   ]
  },
  {
   "cell_type": "markdown",
   "metadata": {},
   "source": [
    "Y vamos a usar la función `math.sin` para realizar el siguiente\n",
    "\n",
    "**Ejercicio:** Representar la función $y=x \\cdot sin(x)$\n",
    "\n",
    "Nota: la función math.sin trabaja con radianes, si consideramos que x son grados hay que multiplicar por $\\pi$ y dividir\n",
    "por 180. Afortudnadamente, el módulo `math` incorpora el valor de $\\pi$ en la variable $pi$."
   ]
  },
  {
   "cell_type": "code",
   "execution_count": 79,
   "metadata": {},
   "outputs": [
    {
     "data": {
      "text/plain": [
       "[<matplotlib.lines.Line2D at 0x7fc1904b06d8>]"
      ]
     },
     "execution_count": 79,
     "metadata": {},
     "output_type": "execute_result"
    },
    {
     "data": {
      "image/png": "[encoded data removed]",
      "text/plain": [
       "<matplotlib.figure.Figure at 0x7fc1904e7080>"
      ]
     },
     "metadata": {},
     "output_type": "display_data"
    }
   ],
   "source": [
    "x = [0, 1, 2, 3, 4, 5, 6, 7, 8, 9, 10, 11, 12, 13, 14, 15, 16, 17, 18]\n",
    "y = [ math.sin(v*math.pi/180.)*v for v in x ]\n",
    "plt.plot(x, y)"
   ]
  },
  {
   "cell_type": "markdown",
   "metadata": {},
   "source": [
    "¿Como podemos realizar el calculo para más valores de x? Expresar a mano la lista de numeros hasta el 1000 sería muy tedioso. Para eso (y para más cosas) se inventó la función `range`: Si le pasamos un número $n$, nos devuelve una secuencia de $n$ numeros consecutivos, empezando desde el cero y llegando hasta $n-1$. Podemos convertir esta secuencia en una lista con la función `list`:"
   ]
  },
  {
   "cell_type": "code",
   "execution_count": 84,
   "metadata": {},
   "outputs": [
    {
     "data": {
      "text/plain": [
       "[0, 1, 2, 3, 4, 5, 6, 7, 8, 9, 10]"
      ]
     },
     "execution_count": 84,
     "metadata": {},
     "output_type": "execute_result"
    }
   ],
   "source": [
    "l = list(range(11))\n",
    "l"
   ]
  },
  {
   "cell_type": "code",
   "execution_count": 85,
   "metadata": {},
   "outputs": [
    {
     "data": {
      "text/plain": [
       "[<matplotlib.lines.Line2D at 0x7fc1902f7588>]"
      ]
     },
     "execution_count": 85,
     "metadata": {},
     "output_type": "execute_result"
    },
    {
     "data": {
      "image/png": "[encoded data removed]",
      "text/plain": [
       "<matplotlib.figure.Figure at 0x7fc1902bd978>"
      ]
     },
     "metadata": {},
     "output_type": "display_data"
    }
   ],
   "source": [
    "x = list(range(1001))\n",
    "y = [ math.sin(v*math.pi/180.)*v for v in x ]\n",
    "plt.plot(x, y)"
   ]
  },
  {
   "cell_type": "markdown",
   "metadata": {},
   "source": [
    "Para poder representar valores en el rango -1000..1000, podemos usar `range` con dos parámetros. En este caso, se devuelve una secuencia que va desde el primer valor hasta el último, excluyéndose este del resultado, es decir que `range(n, m)` devuelve el rango $n..m-1$."
   ]
  },
  {
   "cell_type": "code",
   "execution_count": 87,
   "metadata": {},
   "outputs": [
    {
     "data": {
      "text/plain": [
       "[<matplotlib.lines.Line2D at 0x7fc1901dcda0>]"
      ]
     },
     "execution_count": 87,
     "metadata": {},
     "output_type": "execute_result"
    },
    {
     "data": {
      "image/png": "[encoded data removed]",
      "text/plain": [
       "<matplotlib.figure.Figure at 0x7fc190214208>"
      ]
     },
     "metadata": {},
     "output_type": "display_data"
    }
   ],
   "source": [
    "x = list(range(-1000, 1001))\n",
    "y = [ math.sin(v*math.pi/180.)*v for v in x ]\n",
    "plt.plot(x, y)"
   ]
  },
  {
   "cell_type": "markdown",
   "metadata": {},
   "source": [
    "## Estructuras de control\n",
    "\n",
    "### El bucle for\n",
    "\n"
   ]
  },
  {
   "cell_type": "markdown",
   "metadata": {},
   "source": [
    "Por ahora nuestros programas han sido todos lineales: Una serie de instrucciones que se ejecutan una detras de la otra. Las estructuras de control nos permiten cambiar esto de varias formas, por ejemplo, podemos hacer que una serie de instrucciones se repita varias veces, o podemos hacer que distintas partes del código se ejecute en diferentes condiciones. \n",
    "\n",
    "La primra estructura de control que veremos es el **bucle for**, que nos permite realizar una serie de instrucciones varias veces. Los bucles for están muy vinculados a las secuecias como las listas, porque funcionan repitiendo unas determinadas instrucciones _para cada elemento de la secuencia_. Su forma general es:\n",
    "\n",
    "      **for** _variable_ **in** _secuencia_:\n",
    "            _instruccion 1_\n",
    "            _instruccion 2_\n",
    "            _etc..._\n",
    "    \n",
    "\n",
    "Por ejemplo, podemos calcular la suma de los numeros en una lisrta:"
   ]
  },
  {
   "cell_type": "code",
   "execution_count": 3,
   "metadata": {},
   "outputs": [
    {
     "data": {
      "text/html": [
       "\n",
       "<style>\n",
       ".highlight .hll { background-color: #ffffcc }\n",
       ".highlight  { background: #f8f8f8; }\n",
       ".highlight .c { color: #408080; font-style: italic } /* Comment */\n",
       ".highlight .err { border: 1px solid #FF0000 } /* Error */\n",
       ".highlight .k { color: #008000; font-weight: bold } /* Keyword */\n",
       ".highlight .o { color: #666666 } /* Operator */\n",
       ".highlight .ch { color: #408080; font-style: italic } /* Comment.Hashbang */\n",
       ".highlight .cm { color: #408080; font-style: italic } /* Comment.Multiline */\n",
       ".highlight .cp { color: #BC7A00 } /* Comment.Preproc */\n",
       ".highlight .cpf { color: #408080; font-style: italic } /* Comment.PreprocFile */\n",
       ".highlight .c1 { color: #408080; font-style: italic } /* Comment.Single */\n",
       ".highlight .cs { color: #408080; font-style: italic } /* Comment.Special */\n",
       ".highlight .gd { color: #A00000 } /* Generic.Deleted */\n",
       ".highlight .ge { font-style: italic } /* Generic.Emph */\n",
       ".highlight .gr { color: #FF0000 } /* Generic.Error */\n",
       ".highlight .gh { color: #000080; font-weight: bold } /* Generic.Heading */\n",
       ".highlight .gi { color: #00A000 } /* Generic.Inserted */\n",
       ".highlight .go { color: #888888 } /* Generic.Output */\n",
       ".highlight .gp { color: #000080; font-weight: bold } /* Generic.Prompt */\n",
       ".highlight .gs { font-weight: bold } /* Generic.Strong */\n",
       ".highlight .gu { color: #800080; font-weight: bold } /* Generic.Subheading */\n",
       ".highlight .gt { color: #0044DD } /* Generic.Traceback */\n",
       ".highlight .kc { color: #008000; font-weight: bold } /* Keyword.Constant */\n",
       ".highlight .kd { color: #008000; font-weight: bold } /* Keyword.Declaration */\n",
       ".highlight .kn { color: #008000; font-weight: bold } /* Keyword.Namespace */\n",
       ".highlight .kp { color: #008000 } /* Keyword.Pseudo */\n",
       ".highlight .kr { color: #008000; font-weight: bold } /* Keyword.Reserved */\n",
       ".highlight .kt { color: #B00040 } /* Keyword.Type */\n",
       ".highlight .m { color: #666666 } /* Literal.Number */\n",
       ".highlight .s { color: #BA2121 } /* Literal.String */\n",
       ".highlight .na { color: #7D9029 } /* Name.Attribute */\n",
       ".highlight .nb { color: #008000 } /* Name.Builtin */\n",
       ".highlight .nc { color: #0000FF; font-weight: bold } /* Name.Class */\n",
       ".highlight .no { color: #880000 } /* Name.Constant */\n",
       ".highlight .nd { color: #AA22FF } /* Name.Decorator */\n",
       ".highlight .ni { color: #999999; font-weight: bold } /* Name.Entity */\n",
       ".highlight .ne { color: #D2413A; font-weight: bold } /* Name.Exception */\n",
       ".highlight .nf { color: #0000FF } /* Name.Function */\n",
       ".highlight .nl { color: #A0A000 } /* Name.Label */\n",
       ".highlight .nn { color: #0000FF; font-weight: bold } /* Name.Namespace */\n",
       ".highlight .nt { color: #008000; font-weight: bold } /* Name.Tag */\n",
       ".highlight .nv { color: #19177C } /* Name.Variable */\n",
       ".highlight .ow { color: #AA22FF; font-weight: bold } /* Operator.Word */\n",
       ".highlight .w { color: #bbbbbb } /* Text.Whitespace */\n",
       ".highlight .mb { color: #666666 } /* Literal.Number.Bin */\n",
       ".highlight .mf { color: #666666 } /* Literal.Number.Float */\n",
       ".highlight .mh { color: #666666 } /* Literal.Number.Hex */\n",
       ".highlight .mi { color: #666666 } /* Literal.Number.Integer */\n",
       ".highlight .mo { color: #666666 } /* Literal.Number.Oct */\n",
       ".highlight .sa { color: #BA2121 } /* Literal.String.Affix */\n",
       ".highlight .sb { color: #BA2121 } /* Literal.String.Backtick */\n",
       ".highlight .sc { color: #BA2121 } /* Literal.String.Char */\n",
       ".highlight .dl { color: #BA2121 } /* Literal.String.Delimiter */\n",
       ".highlight .sd { color: #BA2121; font-style: italic } /* Literal.String.Doc */\n",
       ".highlight .s2 { color: #BA2121 } /* Literal.String.Double */\n",
       ".highlight .se { color: #BB6622; font-weight: bold } /* Literal.String.Escape */\n",
       ".highlight .sh { color: #BA2121 } /* Literal.String.Heredoc */\n",
       ".highlight .si { color: #BB6688; font-weight: bold } /* Literal.String.Interpol */\n",
       ".highlight .sx { color: #008000 } /* Literal.String.Other */\n",
       ".highlight .sr { color: #BB6688 } /* Literal.String.Regex */\n",
       ".highlight .s1 { color: #BA2121 } /* Literal.String.Single */\n",
       ".highlight .ss { color: #19177C } /* Literal.String.Symbol */\n",
       ".highlight .bp { color: #008000 } /* Name.Builtin.Pseudo */\n",
       ".highlight .fm { color: #0000FF } /* Name.Function.Magic */\n",
       ".highlight .vc { color: #19177C } /* Name.Variable.Class */\n",
       ".highlight .vg { color: #19177C } /* Name.Variable.Global */\n",
       ".highlight .vi { color: #19177C } /* Name.Variable.Instance */\n",
       ".highlight .vm { color: #19177C } /* Name.Variable.Magic */\n",
       ".highlight .il { color: #666666 } /* Literal.Number.Integer.Long */\n",
       "</style>\n"
      ],
      "text/plain": [
       "<IPython.core.display.HTML object>"
      ]
     },
     "metadata": {},
     "output_type": "display_data"
    },
    {
     "data": {
      "text/html": [
       "<div class=\"highlight\"><pre><span></span><span class=\"k\">SELECT</span> <span class=\"n\">id</span><span class=\"p\">,</span> <span class=\"n\">name</span>\n",
       "  <span class=\"k\">FROM</span> <span class=\"n\">users</span>\n",
       " <span class=\"k\">WHERE</span> <span class=\"n\">name</span> <span class=\"k\">between</span> <span class=\"s1\">&#39;B&#39;</span> <span class=\"k\">AND</span> <span class=\"s1\">&#39;P&#39;</span>\n",
       "<span class=\"k\">LIMIT</span> <span class=\"mi\">50</span>\n",
       "</pre></div>\n"
      ],
      "text/plain": [
       "<IPython.core.display.HTML object>"
      ]
     },
     "metadata": {},
     "output_type": "display_data"
    }
   ],
   "source": [
    "from pygments import highlight\n",
    "from pygments.lexers import SqlLexer\n",
    "from pygments.formatters import HtmlFormatter\n",
    "from IPython.core.display import HTML\n",
    "\n",
    "sql_string = '''\n",
    "SELECT id, name\n",
    "  FROM users\n",
    " WHERE name between 'B' AND 'P'\n",
    "LIMIT 50\n",
    "'''\n",
    "\n",
    "display(HTML(\"\"\"\n",
    "<style>\n",
    "{pygments_css}\n",
    "</style>\n",
    "\"\"\".format(pygments_css=HtmlFormatter().get_style_defs('.highlight'))))\n",
    "display(HTML(data=highlight(sql_string, SqlLexer(), HtmlFormatter())))"
   ]
  },
  {
   "cell_type": "markdown",
   "metadata": {},
   "source": [
    "![Slides](art/slices.svg)"
   ]
  },
  {
   "cell_type": "code",
   "execution_count": 1,
   "metadata": {},
   "outputs": [
    {
     "data": {
      "text/plain": [
       "['el',\n",
       " 'la',\n",
       " 'los',\n",
       " 'las',\n",
       " 'por',\n",
       " 'de',\n",
       " 'del',\n",
       " 'que',\n",
       " 'se',\n",
       " 'y',\n",
       " 'que',\n",
       " 'a',\n",
       " 'ante',\n",
       " 'bajo',\n",
       " 'con',\n",
       " 'contra',\n",
       " 'de',\n",
       " 'desde',\n",
       " 'en',\n",
       " 'entre',\n",
       " 'hacia',\n",
       " 'hasta',\n",
       " 'para',\n",
       " 'por',\n",
       " 'segun',\n",
       " 'sin',\n",
       " 'sobre',\n",
       " 'tras',\n",
       " 'durante',\n",
       " 'mediante']"
      ]
     },
     "execution_count": 1,
     "metadata": {},
     "output_type": "execute_result"
    }
   ],
   "source": [
    "\n",
    "stop_words = '''\n",
    "el la los las por de del que se y que\n",
    "a ante bajo con contra de desde en entre hacia hasta para por segun\n",
    "sin sobre tras durante mediante\n",
    "'''.split()\n",
    "\n",
    "stop_words"
   ]
  },
  {
   "cell_type": "code",
   "execution_count": null,
   "metadata": {},
   "outputs": [],
   "source": []
  }
 ],
 "metadata": {
  "kernelspec": {
   "display_name": "Python 3",
   "language": "python",
   "name": "python3"
  },
  "language_info": {
   "codemirror_mode": {
    "name": "ipython",
    "version": 3
   },
   "file_extension": ".py",
   "mimetype": "text/x-python",
   "name": "python",
   "nbconvert_exporter": "python",
   "pygments_lexer": "ipython3",
   "version": "3.5.2"
  }
 },
 "nbformat": 4,
 "nbformat_minor": 2
}
